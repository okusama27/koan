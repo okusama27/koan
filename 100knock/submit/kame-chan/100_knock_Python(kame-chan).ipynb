{
 "cells": [
  {
   "cell_type": "markdown",
   "metadata": {
    "id": "2-YYpD4Nhhxd"
   },
   "source": [
    "# データサイエンス100本ノック（構造化データ加工編） - Python\n",
    "# for Google Colab"
   ]
  },
  {
   "cell_type": "markdown",
   "metadata": {
    "id": "wbvQn19ghhxe"
   },
   "source": [
    "## 【注意】オリジナル版との変更点\n",
    "1. Google Colab ではDockerを使えないので、2020.06.18時点の 100knocks-preprocess/docker/work/data にあるCSVファイルをPostgreSQLから入手する代わりに使います。\n",
    "2. オリジナルのCSVデータ, geocode.csvの'latitude'列名の初めにスペースが入っていたため、それを削除しました。\n",
    "\n",
    "   オリジナル(100knocks-preprocess ver.1.0): ' latitude' --> 'latitude'\n",
    "   \n",
    "\n",
    "4. オリジナルの解答を元に、必要のないlibraryはimportせず、そして必要なlibraryをAzureNotebookでインストールするように最初のセルを改変してあります。\n",
    "5. また、SQLではなく上記CSVからデータを読み込むように'はじめに'の最初のセルを改変してあります。"
   ]
  },
  {
   "cell_type": "markdown",
   "metadata": {
    "id": "qseL89kEhhxg"
   },
   "source": [
    "## はじめに\n",
    "- 初めに以下のセルを実行してください\n",
    "- 必要なライブラリのインポートと~~データベース（PostgreSQL）~~ 100knocks-preprocess/docker/work/data にあるCSVファイルからのデータ読み込みを行います。geocode.csvに変更を加えたため、またgit cloneをするとColabの簡便さを損なうため、noguhiro2002のgithubレポジトリから直接読み込みます。\n",
    "- pandas等、利用が想定されるライブラリは以下セルでインポートしています\n",
    "- その他利用したいライブラリがあれば適宜インストールしてください（\"!pip install ライブラリ名\"でインストールも可能)\n",
    "- オリジナルの解答例を元に、必要なライブラリーをpipでインストールします。\n",
    "- 処理は複数回に分けても構いません\n",
    "- 名前、住所等はダミーデータであり、実在するものではありません"
   ]
  },
  {
   "cell_type": "code",
   "execution_count": 180,
   "metadata": {
    "colab": {
     "base_uri": "https://localhost:8080/",
     "height": 248
    },
    "executionInfo": {
     "elapsed": 9751,
     "status": "ok",
     "timestamp": 1603003209336,
     "user": {
      "displayName": "Ohmura Kameko",
      "photoUrl": "https://lh3.googleusercontent.com/a-/AOh14GgExU0PVzY4tFSVHIVpSTmpKsEAjIZd7RIX--Mm5g=s64",
      "userId": "10791134844177295636"
     },
     "user_tz": -540
    },
    "id": "k_rQuDF8hhxg",
    "outputId": "e946c407-618f-4689-c60e-744e1ae7dcfa"
   },
   "outputs": [
    {
     "name": "stderr",
     "output_type": "stream",
     "text": [
      "/mnt/c/git/koan/100knock/submit/kame-chan/env/lib/python3.8/site-packages/IPython/core/interactiveshell.py:3146: DtypeWarning: Columns (4) have mixed types.Specify dtype option on import or set low_memory=False.\n",
      "  has_raised = await self.run_ast_nodes(code_ast.body, cell_name,\n"
     ]
    }
   ],
   "source": [
    "# pipでオリジナルの解答に必要なライブラリーをインストール\n",
    "#!pip install --upgrade pip\n",
    "#!pip install -U pandas numpy scikit-learn imbalanced-learn\n",
    "\n",
    "# pipでオリジナルの解答に必要なライブラリーをインポート\n",
    "import os\n",
    "import pandas as pd\n",
    "import numpy as np\n",
    "from datetime import datetime, date\n",
    "from dateutil.relativedelta import relativedelta\n",
    "import math\n",
    "from sklearn import preprocessing\n",
    "from sklearn.model_selection import train_test_split\n",
    "#from imblearn.under_sampling import RandomUnderSampler\n",
    "\n",
    "\n",
    "# データを github/noguhiro2002/100knocks-preprocess/work/data フォルダよりDataframe形式でRead\n",
    "# df_customer = pd.read_csv('https://raw.githubusercontent.com/The-Japan-DataScientist-Society/100knocks-preprocess/master/docker/work/data/customer.csv')\n",
    "# df_category = pd.read_csv('https://raw.githubusercontent.com/The-Japan-DataScientist-Society/100knocks-preprocess/master/docker/work/data/category.csv')\n",
    "# df_product = pd.read_csv('https://raw.githubusercontent.com/The-Japan-DataScientist-Society/100knocks-preprocess/master/docker/work/data/product.csv')\n",
    "# df_receipt = pd.read_csv('https://raw.githubusercontent.com/The-Japan-DataScientist-Society/100knocks-preprocess/master/docker/work/data/receipt.csv')\n",
    "# df_store = pd.read_csv('https://raw.githubusercontent.com/The-Japan-DataScientist-Society/100knocks-preprocess/master/docker/work/data/store.csv')\n",
    "# df_geocode = pd.read_csv('https://raw.githubusercontent.com/noguhiro2002/100knocks-preprocess_ForColab-AzureNotebook/master/data/geocode.csv')\n",
    "df_customer = pd.read_csv(\"data/customer.csv\")\n",
    "df_category = pd.read_csv(\"data/category.csv\")\n",
    "df_product = pd.read_csv(\"data/product.csv\")\n",
    "df_receipt = pd.read_csv(\"data/receipt.csv\")\n",
    "df_store = pd.read_csv(\"data/store.csv\")\n",
    "df_geocode = pd.read_csv(\"data/geocode.csv\")\n"
   ]
  },
  {
   "cell_type": "markdown",
   "metadata": {
    "id": "EMvNeX6Qhhxk"
   },
   "source": [
    "# 演習問題"
   ]
  },
  {
   "cell_type": "markdown",
   "metadata": {
    "id": "Jxn_3ISi0LNb"
   },
   "source": [
    "## P001"
   ]
  },
  {
   "cell_type": "markdown",
   "metadata": {
    "id": "r244WHrjhhxk"
   },
   "source": [
    "---\n",
    "> P-001: レシート明細のデータフレーム（df_receipt）から全項目の先頭10件を表示し、どのようなデータを保有しているか目視で確認せよ。"
   ]
  },
  {
   "cell_type": "code",
   "execution_count": 2,
   "metadata": {
    "colab": {
     "base_uri": "https://localhost:8080/",
     "height": 352
    },
    "executionInfo": {
     "elapsed": 614,
     "status": "ok",
     "timestamp": 1602918638913,
     "user": {
      "displayName": "Ohmura Kameko",
      "photoUrl": "https://lh3.googleusercontent.com/a-/AOh14GgExU0PVzY4tFSVHIVpSTmpKsEAjIZd7RIX--Mm5g=s64",
      "userId": "10791134844177295636"
     },
     "user_tz": -540
    },
    "id": "RrcFPQjUhhxk",
    "outputId": "b9a85f07-e377-49c8-b515-8ed95dc44feb"
   },
   "outputs": [
    {
     "data": {
      "text/html": [
       "<div>\n",
       "<style scoped>\n",
       "    .dataframe tbody tr th:only-of-type {\n",
       "        vertical-align: middle;\n",
       "    }\n",
       "\n",
       "    .dataframe tbody tr th {\n",
       "        vertical-align: top;\n",
       "    }\n",
       "\n",
       "    .dataframe thead th {\n",
       "        text-align: right;\n",
       "    }\n",
       "</style>\n",
       "<table border=\"1\" class=\"dataframe\">\n",
       "  <thead>\n",
       "    <tr style=\"text-align: right;\">\n",
       "      <th></th>\n",
       "      <th>sales_ymd</th>\n",
       "      <th>sales_epoch</th>\n",
       "      <th>store_cd</th>\n",
       "      <th>receipt_no</th>\n",
       "      <th>receipt_sub_no</th>\n",
       "      <th>customer_id</th>\n",
       "      <th>product_cd</th>\n",
       "      <th>quantity</th>\n",
       "      <th>amount</th>\n",
       "    </tr>\n",
       "  </thead>\n",
       "  <tbody>\n",
       "    <tr>\n",
       "      <th>0</th>\n",
       "      <td>20181103</td>\n",
       "      <td>1541203200</td>\n",
       "      <td>S14006</td>\n",
       "      <td>112</td>\n",
       "      <td>1</td>\n",
       "      <td>CS006214000001</td>\n",
       "      <td>P070305012</td>\n",
       "      <td>1</td>\n",
       "      <td>158</td>\n",
       "    </tr>\n",
       "    <tr>\n",
       "      <th>1</th>\n",
       "      <td>20181118</td>\n",
       "      <td>1542499200</td>\n",
       "      <td>S13008</td>\n",
       "      <td>1132</td>\n",
       "      <td>2</td>\n",
       "      <td>CS008415000097</td>\n",
       "      <td>P070701017</td>\n",
       "      <td>1</td>\n",
       "      <td>81</td>\n",
       "    </tr>\n",
       "    <tr>\n",
       "      <th>2</th>\n",
       "      <td>20170712</td>\n",
       "      <td>1499817600</td>\n",
       "      <td>S14028</td>\n",
       "      <td>1102</td>\n",
       "      <td>1</td>\n",
       "      <td>CS028414000014</td>\n",
       "      <td>P060101005</td>\n",
       "      <td>1</td>\n",
       "      <td>170</td>\n",
       "    </tr>\n",
       "    <tr>\n",
       "      <th>3</th>\n",
       "      <td>20190205</td>\n",
       "      <td>1549324800</td>\n",
       "      <td>S14042</td>\n",
       "      <td>1132</td>\n",
       "      <td>1</td>\n",
       "      <td>ZZ000000000000</td>\n",
       "      <td>P050301001</td>\n",
       "      <td>1</td>\n",
       "      <td>25</td>\n",
       "    </tr>\n",
       "    <tr>\n",
       "      <th>4</th>\n",
       "      <td>20180821</td>\n",
       "      <td>1534809600</td>\n",
       "      <td>S14025</td>\n",
       "      <td>1102</td>\n",
       "      <td>2</td>\n",
       "      <td>CS025415000050</td>\n",
       "      <td>P060102007</td>\n",
       "      <td>1</td>\n",
       "      <td>90</td>\n",
       "    </tr>\n",
       "    <tr>\n",
       "      <th>5</th>\n",
       "      <td>20190605</td>\n",
       "      <td>1559692800</td>\n",
       "      <td>S13003</td>\n",
       "      <td>1112</td>\n",
       "      <td>1</td>\n",
       "      <td>CS003515000195</td>\n",
       "      <td>P050102002</td>\n",
       "      <td>1</td>\n",
       "      <td>138</td>\n",
       "    </tr>\n",
       "    <tr>\n",
       "      <th>6</th>\n",
       "      <td>20181205</td>\n",
       "      <td>1543968000</td>\n",
       "      <td>S14024</td>\n",
       "      <td>1102</td>\n",
       "      <td>2</td>\n",
       "      <td>CS024514000042</td>\n",
       "      <td>P080101005</td>\n",
       "      <td>1</td>\n",
       "      <td>30</td>\n",
       "    </tr>\n",
       "    <tr>\n",
       "      <th>7</th>\n",
       "      <td>20190922</td>\n",
       "      <td>1569110400</td>\n",
       "      <td>S14040</td>\n",
       "      <td>1102</td>\n",
       "      <td>1</td>\n",
       "      <td>CS040415000178</td>\n",
       "      <td>P070501004</td>\n",
       "      <td>1</td>\n",
       "      <td>128</td>\n",
       "    </tr>\n",
       "    <tr>\n",
       "      <th>8</th>\n",
       "      <td>20170504</td>\n",
       "      <td>1493856000</td>\n",
       "      <td>S13020</td>\n",
       "      <td>1112</td>\n",
       "      <td>2</td>\n",
       "      <td>ZZ000000000000</td>\n",
       "      <td>P071302010</td>\n",
       "      <td>1</td>\n",
       "      <td>770</td>\n",
       "    </tr>\n",
       "    <tr>\n",
       "      <th>9</th>\n",
       "      <td>20191010</td>\n",
       "      <td>1570665600</td>\n",
       "      <td>S14027</td>\n",
       "      <td>1102</td>\n",
       "      <td>1</td>\n",
       "      <td>CS027514000015</td>\n",
       "      <td>P071101003</td>\n",
       "      <td>1</td>\n",
       "      <td>680</td>\n",
       "    </tr>\n",
       "  </tbody>\n",
       "</table>\n",
       "</div>"
      ],
      "text/plain": [
       "   sales_ymd  sales_epoch store_cd  receipt_no  receipt_sub_no  \\\n",
       "0   20181103   1541203200   S14006         112               1   \n",
       "1   20181118   1542499200   S13008        1132               2   \n",
       "2   20170712   1499817600   S14028        1102               1   \n",
       "3   20190205   1549324800   S14042        1132               1   \n",
       "4   20180821   1534809600   S14025        1102               2   \n",
       "5   20190605   1559692800   S13003        1112               1   \n",
       "6   20181205   1543968000   S14024        1102               2   \n",
       "7   20190922   1569110400   S14040        1102               1   \n",
       "8   20170504   1493856000   S13020        1112               2   \n",
       "9   20191010   1570665600   S14027        1102               1   \n",
       "\n",
       "      customer_id  product_cd  quantity  amount  \n",
       "0  CS006214000001  P070305012         1     158  \n",
       "1  CS008415000097  P070701017         1      81  \n",
       "2  CS028414000014  P060101005         1     170  \n",
       "3  ZZ000000000000  P050301001         1      25  \n",
       "4  CS025415000050  P060102007         1      90  \n",
       "5  CS003515000195  P050102002         1     138  \n",
       "6  CS024514000042  P080101005         1      30  \n",
       "7  CS040415000178  P070501004         1     128  \n",
       "8  ZZ000000000000  P071302010         1     770  \n",
       "9  CS027514000015  P071101003         1     680  "
      ]
     },
     "execution_count": 2,
     "metadata": {},
     "output_type": "execute_result"
    }
   ],
   "source": [
    "df_receipt.head(10)"
   ]
  },
  {
   "cell_type": "markdown",
   "metadata": {
    "id": "k_LbfHRj0N5v"
   },
   "source": [
    "## P002"
   ]
  },
  {
   "cell_type": "markdown",
   "metadata": {
    "id": "us1AbdWfhhxm"
   },
   "source": [
    "---\n",
    "> P-002: レシート明細のデータフレーム（df_receipt）から売上日（sales_ymd）、顧客ID（customer_id）、商品コード（product_cd）、売上金額（amount）の順に列を指定し、10件表示させよ。"
   ]
  },
  {
   "cell_type": "code",
   "execution_count": 3,
   "metadata": {
    "colab": {
     "base_uri": "https://localhost:8080/",
     "height": 352
    },
    "executionInfo": {
     "elapsed": 2069,
     "status": "ok",
     "timestamp": 1602918847672,
     "user": {
      "displayName": "Ohmura Kameko",
      "photoUrl": "https://lh3.googleusercontent.com/a-/AOh14GgExU0PVzY4tFSVHIVpSTmpKsEAjIZd7RIX--Mm5g=s64",
      "userId": "10791134844177295636"
     },
     "user_tz": -540
    },
    "id": "AwaINHByhhxm",
    "outputId": "8bce9947-0b72-4c2e-a458-c2b290ffc4a6"
   },
   "outputs": [
    {
     "data": {
      "text/html": [
       "<div>\n",
       "<style scoped>\n",
       "    .dataframe tbody tr th:only-of-type {\n",
       "        vertical-align: middle;\n",
       "    }\n",
       "\n",
       "    .dataframe tbody tr th {\n",
       "        vertical-align: top;\n",
       "    }\n",
       "\n",
       "    .dataframe thead th {\n",
       "        text-align: right;\n",
       "    }\n",
       "</style>\n",
       "<table border=\"1\" class=\"dataframe\">\n",
       "  <thead>\n",
       "    <tr style=\"text-align: right;\">\n",
       "      <th></th>\n",
       "      <th>sales_ymd</th>\n",
       "      <th>customer_id</th>\n",
       "      <th>product_cd</th>\n",
       "      <th>amount</th>\n",
       "    </tr>\n",
       "  </thead>\n",
       "  <tbody>\n",
       "    <tr>\n",
       "      <th>0</th>\n",
       "      <td>20181103</td>\n",
       "      <td>CS006214000001</td>\n",
       "      <td>P070305012</td>\n",
       "      <td>158</td>\n",
       "    </tr>\n",
       "    <tr>\n",
       "      <th>1</th>\n",
       "      <td>20181118</td>\n",
       "      <td>CS008415000097</td>\n",
       "      <td>P070701017</td>\n",
       "      <td>81</td>\n",
       "    </tr>\n",
       "    <tr>\n",
       "      <th>2</th>\n",
       "      <td>20170712</td>\n",
       "      <td>CS028414000014</td>\n",
       "      <td>P060101005</td>\n",
       "      <td>170</td>\n",
       "    </tr>\n",
       "    <tr>\n",
       "      <th>3</th>\n",
       "      <td>20190205</td>\n",
       "      <td>ZZ000000000000</td>\n",
       "      <td>P050301001</td>\n",
       "      <td>25</td>\n",
       "    </tr>\n",
       "    <tr>\n",
       "      <th>4</th>\n",
       "      <td>20180821</td>\n",
       "      <td>CS025415000050</td>\n",
       "      <td>P060102007</td>\n",
       "      <td>90</td>\n",
       "    </tr>\n",
       "    <tr>\n",
       "      <th>5</th>\n",
       "      <td>20190605</td>\n",
       "      <td>CS003515000195</td>\n",
       "      <td>P050102002</td>\n",
       "      <td>138</td>\n",
       "    </tr>\n",
       "    <tr>\n",
       "      <th>6</th>\n",
       "      <td>20181205</td>\n",
       "      <td>CS024514000042</td>\n",
       "      <td>P080101005</td>\n",
       "      <td>30</td>\n",
       "    </tr>\n",
       "    <tr>\n",
       "      <th>7</th>\n",
       "      <td>20190922</td>\n",
       "      <td>CS040415000178</td>\n",
       "      <td>P070501004</td>\n",
       "      <td>128</td>\n",
       "    </tr>\n",
       "    <tr>\n",
       "      <th>8</th>\n",
       "      <td>20170504</td>\n",
       "      <td>ZZ000000000000</td>\n",
       "      <td>P071302010</td>\n",
       "      <td>770</td>\n",
       "    </tr>\n",
       "    <tr>\n",
       "      <th>9</th>\n",
       "      <td>20191010</td>\n",
       "      <td>CS027514000015</td>\n",
       "      <td>P071101003</td>\n",
       "      <td>680</td>\n",
       "    </tr>\n",
       "  </tbody>\n",
       "</table>\n",
       "</div>"
      ],
      "text/plain": [
       "   sales_ymd     customer_id  product_cd  amount\n",
       "0   20181103  CS006214000001  P070305012     158\n",
       "1   20181118  CS008415000097  P070701017      81\n",
       "2   20170712  CS028414000014  P060101005     170\n",
       "3   20190205  ZZ000000000000  P050301001      25\n",
       "4   20180821  CS025415000050  P060102007      90\n",
       "5   20190605  CS003515000195  P050102002     138\n",
       "6   20181205  CS024514000042  P080101005      30\n",
       "7   20190922  CS040415000178  P070501004     128\n",
       "8   20170504  ZZ000000000000  P071302010     770\n",
       "9   20191010  CS027514000015  P071101003     680"
      ]
     },
     "execution_count": 3,
     "metadata": {},
     "output_type": "execute_result"
    }
   ],
   "source": [
    "df_receiptP002 = df_receipt[['sales_ymd', 'customer_id', 'product_cd', 'amount']]\n",
    "df_receiptP002.head(10)"
   ]
  },
  {
   "cell_type": "markdown",
   "metadata": {
    "id": "NQa-fBN60PK1"
   },
   "source": [
    "## P003"
   ]
  },
  {
   "cell_type": "markdown",
   "metadata": {
    "id": "_yPcu6bkhhxo"
   },
   "source": [
    "---\n",
    "> P-003: レシート明細のデータフレーム（df_receipt）から売上日（sales_ymd）、顧客ID（customer_id）、商品コード（product_cd）、売上金額（amount）の順に列を指定し、10件表示させよ。ただし、sales_ymdはsales_dateに項目名を変更しながら抽出すること。"
   ]
  },
  {
   "cell_type": "code",
   "execution_count": 4,
   "metadata": {
    "colab": {
     "base_uri": "https://localhost:8080/"
    },
    "executionInfo": {
     "elapsed": 4212,
     "status": "ok",
     "timestamp": 1602918849832,
     "user": {
      "displayName": "Ohmura Kameko",
      "photoUrl": "https://lh3.googleusercontent.com/a-/AOh14GgExU0PVzY4tFSVHIVpSTmpKsEAjIZd7RIX--Mm5g=s64",
      "userId": "10791134844177295636"
     },
     "user_tz": -540
    },
    "id": "ZKVA9bCRhhxp",
    "outputId": "ccf970b8-4ca5-48cd-b676-40c72d0cb1b7"
   },
   "outputs": [
    {
     "data": {
      "text/html": [
       "<div>\n",
       "<style scoped>\n",
       "    .dataframe tbody tr th:only-of-type {\n",
       "        vertical-align: middle;\n",
       "    }\n",
       "\n",
       "    .dataframe tbody tr th {\n",
       "        vertical-align: top;\n",
       "    }\n",
       "\n",
       "    .dataframe thead th {\n",
       "        text-align: right;\n",
       "    }\n",
       "</style>\n",
       "<table border=\"1\" class=\"dataframe\">\n",
       "  <thead>\n",
       "    <tr style=\"text-align: right;\">\n",
       "      <th></th>\n",
       "      <th>sales_date</th>\n",
       "      <th>customer_id</th>\n",
       "      <th>product_cd</th>\n",
       "      <th>amount</th>\n",
       "    </tr>\n",
       "  </thead>\n",
       "  <tbody>\n",
       "    <tr>\n",
       "      <th>0</th>\n",
       "      <td>20181103</td>\n",
       "      <td>CS006214000001</td>\n",
       "      <td>P070305012</td>\n",
       "      <td>158</td>\n",
       "    </tr>\n",
       "    <tr>\n",
       "      <th>1</th>\n",
       "      <td>20181118</td>\n",
       "      <td>CS008415000097</td>\n",
       "      <td>P070701017</td>\n",
       "      <td>81</td>\n",
       "    </tr>\n",
       "    <tr>\n",
       "      <th>2</th>\n",
       "      <td>20170712</td>\n",
       "      <td>CS028414000014</td>\n",
       "      <td>P060101005</td>\n",
       "      <td>170</td>\n",
       "    </tr>\n",
       "    <tr>\n",
       "      <th>3</th>\n",
       "      <td>20190205</td>\n",
       "      <td>ZZ000000000000</td>\n",
       "      <td>P050301001</td>\n",
       "      <td>25</td>\n",
       "    </tr>\n",
       "    <tr>\n",
       "      <th>4</th>\n",
       "      <td>20180821</td>\n",
       "      <td>CS025415000050</td>\n",
       "      <td>P060102007</td>\n",
       "      <td>90</td>\n",
       "    </tr>\n",
       "    <tr>\n",
       "      <th>5</th>\n",
       "      <td>20190605</td>\n",
       "      <td>CS003515000195</td>\n",
       "      <td>P050102002</td>\n",
       "      <td>138</td>\n",
       "    </tr>\n",
       "    <tr>\n",
       "      <th>6</th>\n",
       "      <td>20181205</td>\n",
       "      <td>CS024514000042</td>\n",
       "      <td>P080101005</td>\n",
       "      <td>30</td>\n",
       "    </tr>\n",
       "    <tr>\n",
       "      <th>7</th>\n",
       "      <td>20190922</td>\n",
       "      <td>CS040415000178</td>\n",
       "      <td>P070501004</td>\n",
       "      <td>128</td>\n",
       "    </tr>\n",
       "    <tr>\n",
       "      <th>8</th>\n",
       "      <td>20170504</td>\n",
       "      <td>ZZ000000000000</td>\n",
       "      <td>P071302010</td>\n",
       "      <td>770</td>\n",
       "    </tr>\n",
       "    <tr>\n",
       "      <th>9</th>\n",
       "      <td>20191010</td>\n",
       "      <td>CS027514000015</td>\n",
       "      <td>P071101003</td>\n",
       "      <td>680</td>\n",
       "    </tr>\n",
       "  </tbody>\n",
       "</table>\n",
       "</div>"
      ],
      "text/plain": [
       "   sales_date     customer_id  product_cd  amount\n",
       "0    20181103  CS006214000001  P070305012     158\n",
       "1    20181118  CS008415000097  P070701017      81\n",
       "2    20170712  CS028414000014  P060101005     170\n",
       "3    20190205  ZZ000000000000  P050301001      25\n",
       "4    20180821  CS025415000050  P060102007      90\n",
       "5    20190605  CS003515000195  P050102002     138\n",
       "6    20181205  CS024514000042  P080101005      30\n",
       "7    20190922  CS040415000178  P070501004     128\n",
       "8    20170504  ZZ000000000000  P071302010     770\n",
       "9    20191010  CS027514000015  P071101003     680"
      ]
     },
     "execution_count": 4,
     "metadata": {},
     "output_type": "execute_result"
    }
   ],
   "source": [
    "df_receiptP003 = df_receiptP002.rename(columns={'sales_ymd': 'sales_date'})\n",
    "df_receiptP003.head(10)"
   ]
  },
  {
   "cell_type": "markdown",
   "metadata": {
    "id": "51b3TkYFzxLd"
   },
   "source": [
    "## P004"
   ]
  },
  {
   "cell_type": "markdown",
   "metadata": {
    "id": "dHcdbLoehhxq"
   },
   "source": [
    "---\n",
    "> P-004: レシート明細のデータフレーム（df_receipt）から売上日（sales_ymd）、顧客ID（customer_id）、商品コード（product_cd）、売上金額（amount）の順に列を指定し、以下の条件を満たすデータを抽出せよ。\n",
    "> - 顧客ID（customer_id）が\"CS018205000001\""
   ]
  },
  {
   "cell_type": "code",
   "execution_count": 5,
   "metadata": {
    "colab": {
     "base_uri": "https://localhost:8080/",
     "height": 412
    },
    "executionInfo": {
     "elapsed": 4205,
     "status": "ok",
     "timestamp": 1602918849834,
     "user": {
      "displayName": "Ohmura Kameko",
      "photoUrl": "https://lh3.googleusercontent.com/a-/AOh14GgExU0PVzY4tFSVHIVpSTmpKsEAjIZd7RIX--Mm5g=s64",
      "userId": "10791134844177295636"
     },
     "user_tz": -540
    },
    "id": "Fqp5Qdmkhhxr",
    "outputId": "9d3e0795-fd1e-45c3-ea63-0362f967770b"
   },
   "outputs": [
    {
     "data": {
      "text/html": [
       "<div>\n",
       "<style scoped>\n",
       "    .dataframe tbody tr th:only-of-type {\n",
       "        vertical-align: middle;\n",
       "    }\n",
       "\n",
       "    .dataframe tbody tr th {\n",
       "        vertical-align: top;\n",
       "    }\n",
       "\n",
       "    .dataframe thead th {\n",
       "        text-align: right;\n",
       "    }\n",
       "</style>\n",
       "<table border=\"1\" class=\"dataframe\">\n",
       "  <thead>\n",
       "    <tr style=\"text-align: right;\">\n",
       "      <th></th>\n",
       "      <th>sales_ymd</th>\n",
       "      <th>customer_id</th>\n",
       "      <th>product_cd</th>\n",
       "      <th>amount</th>\n",
       "    </tr>\n",
       "  </thead>\n",
       "  <tbody>\n",
       "    <tr>\n",
       "      <th>36</th>\n",
       "      <td>20180911</td>\n",
       "      <td>CS018205000001</td>\n",
       "      <td>P071401012</td>\n",
       "      <td>2200</td>\n",
       "    </tr>\n",
       "    <tr>\n",
       "      <th>9843</th>\n",
       "      <td>20180414</td>\n",
       "      <td>CS018205000001</td>\n",
       "      <td>P060104007</td>\n",
       "      <td>600</td>\n",
       "    </tr>\n",
       "    <tr>\n",
       "      <th>21110</th>\n",
       "      <td>20170614</td>\n",
       "      <td>CS018205000001</td>\n",
       "      <td>P050206001</td>\n",
       "      <td>990</td>\n",
       "    </tr>\n",
       "    <tr>\n",
       "      <th>27673</th>\n",
       "      <td>20170614</td>\n",
       "      <td>CS018205000001</td>\n",
       "      <td>P060702015</td>\n",
       "      <td>108</td>\n",
       "    </tr>\n",
       "    <tr>\n",
       "      <th>27840</th>\n",
       "      <td>20190216</td>\n",
       "      <td>CS018205000001</td>\n",
       "      <td>P071005024</td>\n",
       "      <td>102</td>\n",
       "    </tr>\n",
       "    <tr>\n",
       "      <th>28757</th>\n",
       "      <td>20180414</td>\n",
       "      <td>CS018205000001</td>\n",
       "      <td>P071101002</td>\n",
       "      <td>278</td>\n",
       "    </tr>\n",
       "    <tr>\n",
       "      <th>39256</th>\n",
       "      <td>20190226</td>\n",
       "      <td>CS018205000001</td>\n",
       "      <td>P070902035</td>\n",
       "      <td>168</td>\n",
       "    </tr>\n",
       "    <tr>\n",
       "      <th>58121</th>\n",
       "      <td>20190924</td>\n",
       "      <td>CS018205000001</td>\n",
       "      <td>P060805001</td>\n",
       "      <td>495</td>\n",
       "    </tr>\n",
       "    <tr>\n",
       "      <th>68117</th>\n",
       "      <td>20190226</td>\n",
       "      <td>CS018205000001</td>\n",
       "      <td>P071401020</td>\n",
       "      <td>2200</td>\n",
       "    </tr>\n",
       "    <tr>\n",
       "      <th>72254</th>\n",
       "      <td>20180911</td>\n",
       "      <td>CS018205000001</td>\n",
       "      <td>P071401005</td>\n",
       "      <td>1100</td>\n",
       "    </tr>\n",
       "    <tr>\n",
       "      <th>88508</th>\n",
       "      <td>20190216</td>\n",
       "      <td>CS018205000001</td>\n",
       "      <td>P040101002</td>\n",
       "      <td>218</td>\n",
       "    </tr>\n",
       "    <tr>\n",
       "      <th>91525</th>\n",
       "      <td>20190924</td>\n",
       "      <td>CS018205000001</td>\n",
       "      <td>P091503001</td>\n",
       "      <td>280</td>\n",
       "    </tr>\n",
       "  </tbody>\n",
       "</table>\n",
       "</div>"
      ],
      "text/plain": [
       "       sales_ymd     customer_id  product_cd  amount\n",
       "36      20180911  CS018205000001  P071401012    2200\n",
       "9843    20180414  CS018205000001  P060104007     600\n",
       "21110   20170614  CS018205000001  P050206001     990\n",
       "27673   20170614  CS018205000001  P060702015     108\n",
       "27840   20190216  CS018205000001  P071005024     102\n",
       "28757   20180414  CS018205000001  P071101002     278\n",
       "39256   20190226  CS018205000001  P070902035     168\n",
       "58121   20190924  CS018205000001  P060805001     495\n",
       "68117   20190226  CS018205000001  P071401020    2200\n",
       "72254   20180911  CS018205000001  P071401005    1100\n",
       "88508   20190216  CS018205000001  P040101002     218\n",
       "91525   20190924  CS018205000001  P091503001     280"
      ]
     },
     "execution_count": 5,
     "metadata": {},
     "output_type": "execute_result"
    }
   ],
   "source": [
    "df_receiptP004 = df_receiptP002[df_receiptP002['customer_id'] == 'CS018205000001']\n",
    "df_receiptP004"
   ]
  },
  {
   "cell_type": "markdown",
   "metadata": {
    "id": "k9hIWsOUz5SQ"
   },
   "source": [
    "## P005"
   ]
  },
  {
   "cell_type": "markdown",
   "metadata": {
    "id": "nvI5Comzhhxt"
   },
   "source": [
    "---\n",
    "> P-005: レシート明細のデータフレーム（df_receipt）から売上日（sales_ymd）、顧客ID（customer_id）、商品コード（product_cd）、売上金額（amount）の順に列を指定し、以下の条件を満たすデータを抽出せよ。\n",
    "> - 顧客ID（customer_id）が\"CS018205000001\"\n",
    "> - 売上金額（amount）が1,000以上"
   ]
  },
  {
   "cell_type": "code",
   "execution_count": 6,
   "metadata": {
    "colab": {
     "base_uri": "https://localhost:8080/",
     "height": 139
    },
    "executionInfo": {
     "elapsed": 4191,
     "status": "ok",
     "timestamp": 1602918849836,
     "user": {
      "displayName": "Ohmura Kameko",
      "photoUrl": "https://lh3.googleusercontent.com/a-/AOh14GgExU0PVzY4tFSVHIVpSTmpKsEAjIZd7RIX--Mm5g=s64",
      "userId": "10791134844177295636"
     },
     "user_tz": -540
    },
    "id": "jZDWoB_Bhhxv",
    "outputId": "e3bf2e96-4ee5-4c87-9a83-25cd557b01f5"
   },
   "outputs": [
    {
     "data": {
      "text/html": [
       "<div>\n",
       "<style scoped>\n",
       "    .dataframe tbody tr th:only-of-type {\n",
       "        vertical-align: middle;\n",
       "    }\n",
       "\n",
       "    .dataframe tbody tr th {\n",
       "        vertical-align: top;\n",
       "    }\n",
       "\n",
       "    .dataframe thead th {\n",
       "        text-align: right;\n",
       "    }\n",
       "</style>\n",
       "<table border=\"1\" class=\"dataframe\">\n",
       "  <thead>\n",
       "    <tr style=\"text-align: right;\">\n",
       "      <th></th>\n",
       "      <th>sales_ymd</th>\n",
       "      <th>customer_id</th>\n",
       "      <th>product_cd</th>\n",
       "      <th>amount</th>\n",
       "    </tr>\n",
       "  </thead>\n",
       "  <tbody>\n",
       "    <tr>\n",
       "      <th>36</th>\n",
       "      <td>20180911</td>\n",
       "      <td>CS018205000001</td>\n",
       "      <td>P071401012</td>\n",
       "      <td>2200</td>\n",
       "    </tr>\n",
       "    <tr>\n",
       "      <th>68117</th>\n",
       "      <td>20190226</td>\n",
       "      <td>CS018205000001</td>\n",
       "      <td>P071401020</td>\n",
       "      <td>2200</td>\n",
       "    </tr>\n",
       "    <tr>\n",
       "      <th>72254</th>\n",
       "      <td>20180911</td>\n",
       "      <td>CS018205000001</td>\n",
       "      <td>P071401005</td>\n",
       "      <td>1100</td>\n",
       "    </tr>\n",
       "  </tbody>\n",
       "</table>\n",
       "</div>"
      ],
      "text/plain": [
       "       sales_ymd     customer_id  product_cd  amount\n",
       "36      20180911  CS018205000001  P071401012    2200\n",
       "68117   20190226  CS018205000001  P071401020    2200\n",
       "72254   20180911  CS018205000001  P071401005    1100"
      ]
     },
     "execution_count": 6,
     "metadata": {},
     "output_type": "execute_result"
    }
   ],
   "source": [
    "df_receiptP005 = df_receiptP002[(df_receiptP002['customer_id'] == 'CS018205000001') & (df_receiptP002['amount'] >= 1000)]\n",
    "df_receiptP005"
   ]
  },
  {
   "cell_type": "markdown",
   "metadata": {
    "id": "6p07n8xpz8EQ"
   },
   "source": [
    "## P006"
   ]
  },
  {
   "cell_type": "markdown",
   "metadata": {
    "id": "-Dz6spPThhxx"
   },
   "source": [
    "---\n",
    "> P-006: レシート明細データフレーム「df_receipt」から売上日（sales_ymd）、顧客ID（customer_id）、商品コード（product_cd）、売上数量（quantity）、売上金額（amount）の順に列を指定し、以下の条件を満たすデータを抽出せよ。\n",
    "> - 顧客ID（customer_id）が\"CS018205000001\"\n",
    "> - 売上金額（amount）が1,000以上または売上数量（quantity）が5以上"
   ]
  },
  {
   "cell_type": "code",
   "execution_count": 7,
   "metadata": {
    "colab": {
     "base_uri": "https://localhost:8080/",
     "height": 200
    },
    "executionInfo": {
     "elapsed": 4173,
     "status": "ok",
     "timestamp": 1602918849837,
     "user": {
      "displayName": "Ohmura Kameko",
      "photoUrl": "https://lh3.googleusercontent.com/a-/AOh14GgExU0PVzY4tFSVHIVpSTmpKsEAjIZd7RIX--Mm5g=s64",
      "userId": "10791134844177295636"
     },
     "user_tz": -540
    },
    "id": "8IH2MwDUhhxx",
    "outputId": "85a54476-8850-4e56-aa43-092d211a30f7"
   },
   "outputs": [
    {
     "data": {
      "text/html": [
       "<div>\n",
       "<style scoped>\n",
       "    .dataframe tbody tr th:only-of-type {\n",
       "        vertical-align: middle;\n",
       "    }\n",
       "\n",
       "    .dataframe tbody tr th {\n",
       "        vertical-align: top;\n",
       "    }\n",
       "\n",
       "    .dataframe thead th {\n",
       "        text-align: right;\n",
       "    }\n",
       "</style>\n",
       "<table border=\"1\" class=\"dataframe\">\n",
       "  <thead>\n",
       "    <tr style=\"text-align: right;\">\n",
       "      <th></th>\n",
       "      <th>sales_ymd</th>\n",
       "      <th>customer_id</th>\n",
       "      <th>product_cd</th>\n",
       "      <th>quantity</th>\n",
       "      <th>amount</th>\n",
       "    </tr>\n",
       "  </thead>\n",
       "  <tbody>\n",
       "    <tr>\n",
       "      <th>36</th>\n",
       "      <td>20180911</td>\n",
       "      <td>CS018205000001</td>\n",
       "      <td>P071401012</td>\n",
       "      <td>1</td>\n",
       "      <td>2200</td>\n",
       "    </tr>\n",
       "    <tr>\n",
       "      <th>9843</th>\n",
       "      <td>20180414</td>\n",
       "      <td>CS018205000001</td>\n",
       "      <td>P060104007</td>\n",
       "      <td>6</td>\n",
       "      <td>600</td>\n",
       "    </tr>\n",
       "    <tr>\n",
       "      <th>21110</th>\n",
       "      <td>20170614</td>\n",
       "      <td>CS018205000001</td>\n",
       "      <td>P050206001</td>\n",
       "      <td>5</td>\n",
       "      <td>990</td>\n",
       "    </tr>\n",
       "    <tr>\n",
       "      <th>68117</th>\n",
       "      <td>20190226</td>\n",
       "      <td>CS018205000001</td>\n",
       "      <td>P071401020</td>\n",
       "      <td>1</td>\n",
       "      <td>2200</td>\n",
       "    </tr>\n",
       "    <tr>\n",
       "      <th>72254</th>\n",
       "      <td>20180911</td>\n",
       "      <td>CS018205000001</td>\n",
       "      <td>P071401005</td>\n",
       "      <td>1</td>\n",
       "      <td>1100</td>\n",
       "    </tr>\n",
       "  </tbody>\n",
       "</table>\n",
       "</div>"
      ],
      "text/plain": [
       "       sales_ymd     customer_id  product_cd  quantity  amount\n",
       "36      20180911  CS018205000001  P071401012         1    2200\n",
       "9843    20180414  CS018205000001  P060104007         6     600\n",
       "21110   20170614  CS018205000001  P050206001         5     990\n",
       "68117   20190226  CS018205000001  P071401020         1    2200\n",
       "72254   20180911  CS018205000001  P071401005         1    1100"
      ]
     },
     "execution_count": 7,
     "metadata": {},
     "output_type": "execute_result"
    }
   ],
   "source": [
    "df_receiptP006 = df_receipt[['sales_ymd', 'customer_id', 'product_cd', 'quantity', 'amount']]\n",
    "df_receiptP006 = df_receiptP006[(df_receiptP006['customer_id'] == 'CS018205000001') & ((df_receiptP006['amount'] >= 1000) | (df_receiptP006['quantity'] >= 5))]\n",
    "df_receiptP006"
   ]
  },
  {
   "cell_type": "markdown",
   "metadata": {
    "id": "ZO20jX0Pz-L-"
   },
   "source": [
    "## P007"
   ]
  },
  {
   "cell_type": "markdown",
   "metadata": {
    "id": "OjU7Uofzhhxz"
   },
   "source": [
    "---\n",
    "> P-007: レシート明細のデータフレーム（df_receipt）から売上日（sales_ymd）、顧客ID（customer_id）、商品コード（product_cd）、売上金額（amount）の順に列を指定し、以下の条件を満たすデータを抽出せよ。\n",
    "> - 顧客ID（customer_id）が\"CS018205000001\"\n",
    "> - 売上金額（amount）が1,000以上2,000以下"
   ]
  },
  {
   "cell_type": "code",
   "execution_count": 8,
   "metadata": {
    "colab": {
     "base_uri": "https://localhost:8080/",
     "height": 78
    },
    "executionInfo": {
     "elapsed": 4154,
     "status": "ok",
     "timestamp": 1602918849838,
     "user": {
      "displayName": "Ohmura Kameko",
      "photoUrl": "https://lh3.googleusercontent.com/a-/AOh14GgExU0PVzY4tFSVHIVpSTmpKsEAjIZd7RIX--Mm5g=s64",
      "userId": "10791134844177295636"
     },
     "user_tz": -540
    },
    "id": "oywQDpHbhhxz",
    "outputId": "a7c03648-57a8-4f63-b322-7564169e2bb0"
   },
   "outputs": [
    {
     "data": {
      "text/html": [
       "<div>\n",
       "<style scoped>\n",
       "    .dataframe tbody tr th:only-of-type {\n",
       "        vertical-align: middle;\n",
       "    }\n",
       "\n",
       "    .dataframe tbody tr th {\n",
       "        vertical-align: top;\n",
       "    }\n",
       "\n",
       "    .dataframe thead th {\n",
       "        text-align: right;\n",
       "    }\n",
       "</style>\n",
       "<table border=\"1\" class=\"dataframe\">\n",
       "  <thead>\n",
       "    <tr style=\"text-align: right;\">\n",
       "      <th></th>\n",
       "      <th>sales_ymd</th>\n",
       "      <th>customer_id</th>\n",
       "      <th>product_cd</th>\n",
       "      <th>amount</th>\n",
       "    </tr>\n",
       "  </thead>\n",
       "  <tbody>\n",
       "    <tr>\n",
       "      <th>72254</th>\n",
       "      <td>20180911</td>\n",
       "      <td>CS018205000001</td>\n",
       "      <td>P071401005</td>\n",
       "      <td>1100</td>\n",
       "    </tr>\n",
       "  </tbody>\n",
       "</table>\n",
       "</div>"
      ],
      "text/plain": [
       "       sales_ymd     customer_id  product_cd  amount\n",
       "72254   20180911  CS018205000001  P071401005    1100"
      ]
     },
     "execution_count": 8,
     "metadata": {},
     "output_type": "execute_result"
    }
   ],
   "source": [
    "df_receiptP007 = df_receiptP002[(df_receiptP002['customer_id'] == 'CS018205000001') & (df_receiptP002['amount'] >= 1000) & (df_receiptP002['amount'] <= 2000)]\n",
    "df_receiptP007"
   ]
  },
  {
   "cell_type": "markdown",
   "metadata": {
    "id": "DV4nw2Ud0RhG"
   },
   "source": [
    "## P008"
   ]
  },
  {
   "cell_type": "markdown",
   "metadata": {
    "id": "wvvecxrThhx1"
   },
   "source": [
    "---\n",
    "> P-008: レシート明細のデータフレーム（df_receipt）から売上日（sales_ymd）、顧客ID（customer_id）、商品コード（product_cd）、売上金額（amount）の順に列を指定し、以下の条件を満たすデータを抽出せよ。\n",
    "> - 顧客ID（customer_id）が\"CS018205000001\"\n",
    "> - 商品コード（product_cd）が\"P071401019\"以外"
   ]
  },
  {
   "cell_type": "code",
   "execution_count": 9,
   "metadata": {
    "colab": {
     "base_uri": "https://localhost:8080/",
     "height": 412
    },
    "executionInfo": {
     "elapsed": 4779,
     "status": "ok",
     "timestamp": 1602918850478,
     "user": {
      "displayName": "Ohmura Kameko",
      "photoUrl": "https://lh3.googleusercontent.com/a-/AOh14GgExU0PVzY4tFSVHIVpSTmpKsEAjIZd7RIX--Mm5g=s64",
      "userId": "10791134844177295636"
     },
     "user_tz": -540
    },
    "id": "oIKb4uZEhhx1",
    "outputId": "5c651547-e127-4961-bedf-1b220a50c8b6"
   },
   "outputs": [
    {
     "data": {
      "text/html": [
       "<div>\n",
       "<style scoped>\n",
       "    .dataframe tbody tr th:only-of-type {\n",
       "        vertical-align: middle;\n",
       "    }\n",
       "\n",
       "    .dataframe tbody tr th {\n",
       "        vertical-align: top;\n",
       "    }\n",
       "\n",
       "    .dataframe thead th {\n",
       "        text-align: right;\n",
       "    }\n",
       "</style>\n",
       "<table border=\"1\" class=\"dataframe\">\n",
       "  <thead>\n",
       "    <tr style=\"text-align: right;\">\n",
       "      <th></th>\n",
       "      <th>sales_ymd</th>\n",
       "      <th>customer_id</th>\n",
       "      <th>product_cd</th>\n",
       "      <th>amount</th>\n",
       "    </tr>\n",
       "  </thead>\n",
       "  <tbody>\n",
       "    <tr>\n",
       "      <th>36</th>\n",
       "      <td>20180911</td>\n",
       "      <td>CS018205000001</td>\n",
       "      <td>P071401012</td>\n",
       "      <td>2200</td>\n",
       "    </tr>\n",
       "    <tr>\n",
       "      <th>9843</th>\n",
       "      <td>20180414</td>\n",
       "      <td>CS018205000001</td>\n",
       "      <td>P060104007</td>\n",
       "      <td>600</td>\n",
       "    </tr>\n",
       "    <tr>\n",
       "      <th>21110</th>\n",
       "      <td>20170614</td>\n",
       "      <td>CS018205000001</td>\n",
       "      <td>P050206001</td>\n",
       "      <td>990</td>\n",
       "    </tr>\n",
       "    <tr>\n",
       "      <th>27673</th>\n",
       "      <td>20170614</td>\n",
       "      <td>CS018205000001</td>\n",
       "      <td>P060702015</td>\n",
       "      <td>108</td>\n",
       "    </tr>\n",
       "    <tr>\n",
       "      <th>27840</th>\n",
       "      <td>20190216</td>\n",
       "      <td>CS018205000001</td>\n",
       "      <td>P071005024</td>\n",
       "      <td>102</td>\n",
       "    </tr>\n",
       "    <tr>\n",
       "      <th>28757</th>\n",
       "      <td>20180414</td>\n",
       "      <td>CS018205000001</td>\n",
       "      <td>P071101002</td>\n",
       "      <td>278</td>\n",
       "    </tr>\n",
       "    <tr>\n",
       "      <th>39256</th>\n",
       "      <td>20190226</td>\n",
       "      <td>CS018205000001</td>\n",
       "      <td>P070902035</td>\n",
       "      <td>168</td>\n",
       "    </tr>\n",
       "    <tr>\n",
       "      <th>58121</th>\n",
       "      <td>20190924</td>\n",
       "      <td>CS018205000001</td>\n",
       "      <td>P060805001</td>\n",
       "      <td>495</td>\n",
       "    </tr>\n",
       "    <tr>\n",
       "      <th>68117</th>\n",
       "      <td>20190226</td>\n",
       "      <td>CS018205000001</td>\n",
       "      <td>P071401020</td>\n",
       "      <td>2200</td>\n",
       "    </tr>\n",
       "    <tr>\n",
       "      <th>72254</th>\n",
       "      <td>20180911</td>\n",
       "      <td>CS018205000001</td>\n",
       "      <td>P071401005</td>\n",
       "      <td>1100</td>\n",
       "    </tr>\n",
       "    <tr>\n",
       "      <th>88508</th>\n",
       "      <td>20190216</td>\n",
       "      <td>CS018205000001</td>\n",
       "      <td>P040101002</td>\n",
       "      <td>218</td>\n",
       "    </tr>\n",
       "    <tr>\n",
       "      <th>91525</th>\n",
       "      <td>20190924</td>\n",
       "      <td>CS018205000001</td>\n",
       "      <td>P091503001</td>\n",
       "      <td>280</td>\n",
       "    </tr>\n",
       "  </tbody>\n",
       "</table>\n",
       "</div>"
      ],
      "text/plain": [
       "       sales_ymd     customer_id  product_cd  amount\n",
       "36      20180911  CS018205000001  P071401012    2200\n",
       "9843    20180414  CS018205000001  P060104007     600\n",
       "21110   20170614  CS018205000001  P050206001     990\n",
       "27673   20170614  CS018205000001  P060702015     108\n",
       "27840   20190216  CS018205000001  P071005024     102\n",
       "28757   20180414  CS018205000001  P071101002     278\n",
       "39256   20190226  CS018205000001  P070902035     168\n",
       "58121   20190924  CS018205000001  P060805001     495\n",
       "68117   20190226  CS018205000001  P071401020    2200\n",
       "72254   20180911  CS018205000001  P071401005    1100\n",
       "88508   20190216  CS018205000001  P040101002     218\n",
       "91525   20190924  CS018205000001  P091503001     280"
      ]
     },
     "execution_count": 9,
     "metadata": {},
     "output_type": "execute_result"
    }
   ],
   "source": [
    "df_receiptP008 = df_receiptP002[(df_receiptP002['customer_id'] == 'CS018205000001') & ~(df_receiptP002['product_cd']== \"P071401019\")]\n",
    "df_receiptP008"
   ]
  },
  {
   "cell_type": "markdown",
   "metadata": {
    "id": "vqgIBS4M0TPo"
   },
   "source": [
    "## P009"
   ]
  },
  {
   "cell_type": "markdown",
   "metadata": {
    "id": "raZwJrBbhhx3"
   },
   "source": [
    "---\n",
    "> P-009: 以下の処理において、出力結果を変えずにORをANDに書き換えよ。\n",
    "\n",
    "`df_store.query('not(prefecture_cd == \"13\" | floor_area > 900)')`"
   ]
  },
  {
   "cell_type": "code",
   "execution_count": 10,
   "metadata": {
    "colab": {
     "base_uri": "https://localhost:8080/",
     "height": 139
    },
    "executionInfo": {
     "elapsed": 4765,
     "status": "ok",
     "timestamp": 1602918850480,
     "user": {
      "displayName": "Ohmura Kameko",
      "photoUrl": "https://lh3.googleusercontent.com/a-/AOh14GgExU0PVzY4tFSVHIVpSTmpKsEAjIZd7RIX--Mm5g=s64",
      "userId": "10791134844177295636"
     },
     "user_tz": -540
    },
    "id": "Ik77huJ-hhx3",
    "outputId": "18282eab-ff2e-49e7-d376-1bf2f4b9787f"
   },
   "outputs": [
    {
     "data": {
      "text/html": [
       "<div>\n",
       "<style scoped>\n",
       "    .dataframe tbody tr th:only-of-type {\n",
       "        vertical-align: middle;\n",
       "    }\n",
       "\n",
       "    .dataframe tbody tr th {\n",
       "        vertical-align: top;\n",
       "    }\n",
       "\n",
       "    .dataframe thead th {\n",
       "        text-align: right;\n",
       "    }\n",
       "</style>\n",
       "<table border=\"1\" class=\"dataframe\">\n",
       "  <thead>\n",
       "    <tr style=\"text-align: right;\">\n",
       "      <th></th>\n",
       "      <th>store_cd</th>\n",
       "      <th>store_name</th>\n",
       "      <th>prefecture_cd</th>\n",
       "      <th>prefecture</th>\n",
       "      <th>address</th>\n",
       "      <th>address_kana</th>\n",
       "      <th>tel_no</th>\n",
       "      <th>longitude</th>\n",
       "      <th>latitude</th>\n",
       "      <th>floor_area</th>\n",
       "    </tr>\n",
       "  </thead>\n",
       "  <tbody>\n",
       "    <tr>\n",
       "      <th>18</th>\n",
       "      <td>S14046</td>\n",
       "      <td>北山田店</td>\n",
       "      <td>14</td>\n",
       "      <td>神奈川県</td>\n",
       "      <td>神奈川県横浜市都筑区北山田一丁目</td>\n",
       "      <td>カナガワケンヨコハマシツヅキクキタヤマタイッチョウメ</td>\n",
       "      <td>045-123-4049</td>\n",
       "      <td>139.5916</td>\n",
       "      <td>35.56189</td>\n",
       "      <td>831.0</td>\n",
       "    </tr>\n",
       "    <tr>\n",
       "      <th>20</th>\n",
       "      <td>S14011</td>\n",
       "      <td>日吉本町店</td>\n",
       "      <td>14</td>\n",
       "      <td>神奈川県</td>\n",
       "      <td>神奈川県横浜市港北区日吉本町四丁目</td>\n",
       "      <td>カナガワケンヨコハマシコウホククヒヨシホンチョウヨンチョウメ</td>\n",
       "      <td>045-123-4033</td>\n",
       "      <td>139.6316</td>\n",
       "      <td>35.54655</td>\n",
       "      <td>890.0</td>\n",
       "    </tr>\n",
       "    <tr>\n",
       "      <th>38</th>\n",
       "      <td>S12013</td>\n",
       "      <td>習志野店</td>\n",
       "      <td>12</td>\n",
       "      <td>千葉県</td>\n",
       "      <td>千葉県習志野市芝園一丁目</td>\n",
       "      <td>チバケンナラシノシシバゾノイッチョウメ</td>\n",
       "      <td>047-123-4002</td>\n",
       "      <td>140.0220</td>\n",
       "      <td>35.66122</td>\n",
       "      <td>808.0</td>\n",
       "    </tr>\n",
       "  </tbody>\n",
       "</table>\n",
       "</div>"
      ],
      "text/plain": [
       "   store_cd store_name  prefecture_cd prefecture            address  \\\n",
       "18   S14046       北山田店             14       神奈川県   神奈川県横浜市都筑区北山田一丁目   \n",
       "20   S14011      日吉本町店             14       神奈川県  神奈川県横浜市港北区日吉本町四丁目   \n",
       "38   S12013       習志野店             12        千葉県       千葉県習志野市芝園一丁目   \n",
       "\n",
       "                      address_kana        tel_no  longitude  latitude  \\\n",
       "18      カナガワケンヨコハマシツヅキクキタヤマタイッチョウメ  045-123-4049   139.5916  35.56189   \n",
       "20  カナガワケンヨコハマシコウホククヒヨシホンチョウヨンチョウメ  045-123-4033   139.6316  35.54655   \n",
       "38             チバケンナラシノシシバゾノイッチョウメ  047-123-4002   140.0220  35.66122   \n",
       "\n",
       "    floor_area  \n",
       "18       831.0  \n",
       "20       890.0  \n",
       "38       808.0  "
      ]
     },
     "execution_count": 10,
     "metadata": {},
     "output_type": "execute_result"
    }
   ],
   "source": [
    "df_store.query('not(prefecture_cd == \"13\" | floor_area > 900)')"
   ]
  },
  {
   "cell_type": "code",
   "execution_count": 11,
   "metadata": {
    "colab": {
     "base_uri": "https://localhost:8080/",
     "height": 139
    },
    "executionInfo": {
     "elapsed": 4752,
     "status": "ok",
     "timestamp": 1602918850483,
     "user": {
      "displayName": "Ohmura Kameko",
      "photoUrl": "https://lh3.googleusercontent.com/a-/AOh14GgExU0PVzY4tFSVHIVpSTmpKsEAjIZd7RIX--Mm5g=s64",
      "userId": "10791134844177295636"
     },
     "user_tz": -540
    },
    "id": "FYtTShPgvMdt",
    "outputId": "960d02e9-abc3-439d-d9a6-bc7d0d8f6507"
   },
   "outputs": [
    {
     "data": {
      "text/html": [
       "<div>\n",
       "<style scoped>\n",
       "    .dataframe tbody tr th:only-of-type {\n",
       "        vertical-align: middle;\n",
       "    }\n",
       "\n",
       "    .dataframe tbody tr th {\n",
       "        vertical-align: top;\n",
       "    }\n",
       "\n",
       "    .dataframe thead th {\n",
       "        text-align: right;\n",
       "    }\n",
       "</style>\n",
       "<table border=\"1\" class=\"dataframe\">\n",
       "  <thead>\n",
       "    <tr style=\"text-align: right;\">\n",
       "      <th></th>\n",
       "      <th>store_cd</th>\n",
       "      <th>store_name</th>\n",
       "      <th>prefecture_cd</th>\n",
       "      <th>prefecture</th>\n",
       "      <th>address</th>\n",
       "      <th>address_kana</th>\n",
       "      <th>tel_no</th>\n",
       "      <th>longitude</th>\n",
       "      <th>latitude</th>\n",
       "      <th>floor_area</th>\n",
       "    </tr>\n",
       "  </thead>\n",
       "  <tbody>\n",
       "    <tr>\n",
       "      <th>18</th>\n",
       "      <td>S14046</td>\n",
       "      <td>北山田店</td>\n",
       "      <td>14</td>\n",
       "      <td>神奈川県</td>\n",
       "      <td>神奈川県横浜市都筑区北山田一丁目</td>\n",
       "      <td>カナガワケンヨコハマシツヅキクキタヤマタイッチョウメ</td>\n",
       "      <td>045-123-4049</td>\n",
       "      <td>139.5916</td>\n",
       "      <td>35.56189</td>\n",
       "      <td>831.0</td>\n",
       "    </tr>\n",
       "    <tr>\n",
       "      <th>20</th>\n",
       "      <td>S14011</td>\n",
       "      <td>日吉本町店</td>\n",
       "      <td>14</td>\n",
       "      <td>神奈川県</td>\n",
       "      <td>神奈川県横浜市港北区日吉本町四丁目</td>\n",
       "      <td>カナガワケンヨコハマシコウホククヒヨシホンチョウヨンチョウメ</td>\n",
       "      <td>045-123-4033</td>\n",
       "      <td>139.6316</td>\n",
       "      <td>35.54655</td>\n",
       "      <td>890.0</td>\n",
       "    </tr>\n",
       "    <tr>\n",
       "      <th>38</th>\n",
       "      <td>S12013</td>\n",
       "      <td>習志野店</td>\n",
       "      <td>12</td>\n",
       "      <td>千葉県</td>\n",
       "      <td>千葉県習志野市芝園一丁目</td>\n",
       "      <td>チバケンナラシノシシバゾノイッチョウメ</td>\n",
       "      <td>047-123-4002</td>\n",
       "      <td>140.0220</td>\n",
       "      <td>35.66122</td>\n",
       "      <td>808.0</td>\n",
       "    </tr>\n",
       "  </tbody>\n",
       "</table>\n",
       "</div>"
      ],
      "text/plain": [
       "   store_cd store_name  prefecture_cd prefecture            address  \\\n",
       "18   S14046       北山田店             14       神奈川県   神奈川県横浜市都筑区北山田一丁目   \n",
       "20   S14011      日吉本町店             14       神奈川県  神奈川県横浜市港北区日吉本町四丁目   \n",
       "38   S12013       習志野店             12        千葉県       千葉県習志野市芝園一丁目   \n",
       "\n",
       "                      address_kana        tel_no  longitude  latitude  \\\n",
       "18      カナガワケンヨコハマシツヅキクキタヤマタイッチョウメ  045-123-4049   139.5916  35.56189   \n",
       "20  カナガワケンヨコハマシコウホククヒヨシホンチョウヨンチョウメ  045-123-4033   139.6316  35.54655   \n",
       "38             チバケンナラシノシシバゾノイッチョウメ  047-123-4002   140.0220  35.66122   \n",
       "\n",
       "    floor_area  \n",
       "18       831.0  \n",
       "20       890.0  \n",
       "38       808.0  "
      ]
     },
     "execution_count": 11,
     "metadata": {},
     "output_type": "execute_result"
    }
   ],
   "source": [
    "df_store.query('(~(prefecture_cd == \"13\") & ~(floor_area > 900))')"
   ]
  },
  {
   "cell_type": "markdown",
   "metadata": {
    "id": "PFyMbvU00Vnb"
   },
   "source": [
    "## P010"
   ]
  },
  {
   "cell_type": "markdown",
   "metadata": {
    "id": "vyAFAs5Rhhx5"
   },
   "source": [
    "---\n",
    "> P-010: 店舗データフレーム（df_store）から、店舗コード（store_cd）が\"S14\"で始まるものだけ全項目抽出し、10件だけ表示せよ。"
   ]
  },
  {
   "cell_type": "code",
   "execution_count": 12,
   "metadata": {
    "colab": {
     "base_uri": "https://localhost:8080/",
     "height": 352
    },
    "executionInfo": {
     "elapsed": 4737,
     "status": "ok",
     "timestamp": 1602918850484,
     "user": {
      "displayName": "Ohmura Kameko",
      "photoUrl": "https://lh3.googleusercontent.com/a-/AOh14GgExU0PVzY4tFSVHIVpSTmpKsEAjIZd7RIX--Mm5g=s64",
      "userId": "10791134844177295636"
     },
     "user_tz": -540
    },
    "id": "oBmZk9OyvKnl",
    "outputId": "a4251290-6c3e-42c8-ecae-a87624e45a5f"
   },
   "outputs": [
    {
     "data": {
      "text/html": [
       "<div>\n",
       "<style scoped>\n",
       "    .dataframe tbody tr th:only-of-type {\n",
       "        vertical-align: middle;\n",
       "    }\n",
       "\n",
       "    .dataframe tbody tr th {\n",
       "        vertical-align: top;\n",
       "    }\n",
       "\n",
       "    .dataframe thead th {\n",
       "        text-align: right;\n",
       "    }\n",
       "</style>\n",
       "<table border=\"1\" class=\"dataframe\">\n",
       "  <thead>\n",
       "    <tr style=\"text-align: right;\">\n",
       "      <th></th>\n",
       "      <th>store_cd</th>\n",
       "      <th>store_name</th>\n",
       "      <th>prefecture_cd</th>\n",
       "      <th>prefecture</th>\n",
       "      <th>address</th>\n",
       "      <th>address_kana</th>\n",
       "      <th>tel_no</th>\n",
       "      <th>longitude</th>\n",
       "      <th>latitude</th>\n",
       "      <th>floor_area</th>\n",
       "    </tr>\n",
       "  </thead>\n",
       "  <tbody>\n",
       "    <tr>\n",
       "      <th>2</th>\n",
       "      <td>S14010</td>\n",
       "      <td>菊名店</td>\n",
       "      <td>14</td>\n",
       "      <td>神奈川県</td>\n",
       "      <td>神奈川県横浜市港北区菊名一丁目</td>\n",
       "      <td>カナガワケンヨコハマシコウホククキクナイッチョウメ</td>\n",
       "      <td>045-123-4032</td>\n",
       "      <td>139.6326</td>\n",
       "      <td>35.50049</td>\n",
       "      <td>1732.0</td>\n",
       "    </tr>\n",
       "    <tr>\n",
       "      <th>3</th>\n",
       "      <td>S14033</td>\n",
       "      <td>阿久和店</td>\n",
       "      <td>14</td>\n",
       "      <td>神奈川県</td>\n",
       "      <td>神奈川県横浜市瀬谷区阿久和西一丁目</td>\n",
       "      <td>カナガワケンヨコハマシセヤクアクワニシイッチョウメ</td>\n",
       "      <td>045-123-4043</td>\n",
       "      <td>139.4961</td>\n",
       "      <td>35.45918</td>\n",
       "      <td>1495.0</td>\n",
       "    </tr>\n",
       "    <tr>\n",
       "      <th>4</th>\n",
       "      <td>S14036</td>\n",
       "      <td>相模原中央店</td>\n",
       "      <td>14</td>\n",
       "      <td>神奈川県</td>\n",
       "      <td>神奈川県相模原市中央二丁目</td>\n",
       "      <td>カナガワケンサガミハラシチュウオウニチョウメ</td>\n",
       "      <td>042-123-4045</td>\n",
       "      <td>139.3716</td>\n",
       "      <td>35.57327</td>\n",
       "      <td>1679.0</td>\n",
       "    </tr>\n",
       "    <tr>\n",
       "      <th>7</th>\n",
       "      <td>S14040</td>\n",
       "      <td>長津田店</td>\n",
       "      <td>14</td>\n",
       "      <td>神奈川県</td>\n",
       "      <td>神奈川県横浜市緑区長津田みなみ台五丁目</td>\n",
       "      <td>カナガワケンヨコハマシミドリクナガツタミナミダイゴチョウメ</td>\n",
       "      <td>045-123-4046</td>\n",
       "      <td>139.4994</td>\n",
       "      <td>35.52398</td>\n",
       "      <td>1548.0</td>\n",
       "    </tr>\n",
       "    <tr>\n",
       "      <th>9</th>\n",
       "      <td>S14050</td>\n",
       "      <td>阿久和西店</td>\n",
       "      <td>14</td>\n",
       "      <td>神奈川県</td>\n",
       "      <td>神奈川県横浜市瀬谷区阿久和西一丁目</td>\n",
       "      <td>カナガワケンヨコハマシセヤクアクワニシイッチョウメ</td>\n",
       "      <td>045-123-4053</td>\n",
       "      <td>139.4961</td>\n",
       "      <td>35.45918</td>\n",
       "      <td>1830.0</td>\n",
       "    </tr>\n",
       "    <tr>\n",
       "      <th>12</th>\n",
       "      <td>S14028</td>\n",
       "      <td>二ツ橋店</td>\n",
       "      <td>14</td>\n",
       "      <td>神奈川県</td>\n",
       "      <td>神奈川県横浜市瀬谷区二ツ橋町</td>\n",
       "      <td>カナガワケンヨコハマシセヤクフタツバシチョウ</td>\n",
       "      <td>045-123-4042</td>\n",
       "      <td>139.4963</td>\n",
       "      <td>35.46304</td>\n",
       "      <td>1574.0</td>\n",
       "    </tr>\n",
       "    <tr>\n",
       "      <th>16</th>\n",
       "      <td>S14012</td>\n",
       "      <td>本牧和田店</td>\n",
       "      <td>14</td>\n",
       "      <td>神奈川県</td>\n",
       "      <td>神奈川県横浜市中区本牧和田</td>\n",
       "      <td>カナガワケンヨコハマシナカクホンモクワダ</td>\n",
       "      <td>045-123-4034</td>\n",
       "      <td>139.6582</td>\n",
       "      <td>35.42156</td>\n",
       "      <td>1341.0</td>\n",
       "    </tr>\n",
       "    <tr>\n",
       "      <th>18</th>\n",
       "      <td>S14046</td>\n",
       "      <td>北山田店</td>\n",
       "      <td>14</td>\n",
       "      <td>神奈川県</td>\n",
       "      <td>神奈川県横浜市都筑区北山田一丁目</td>\n",
       "      <td>カナガワケンヨコハマシツヅキクキタヤマタイッチョウメ</td>\n",
       "      <td>045-123-4049</td>\n",
       "      <td>139.5916</td>\n",
       "      <td>35.56189</td>\n",
       "      <td>831.0</td>\n",
       "    </tr>\n",
       "    <tr>\n",
       "      <th>19</th>\n",
       "      <td>S14022</td>\n",
       "      <td>逗子店</td>\n",
       "      <td>14</td>\n",
       "      <td>神奈川県</td>\n",
       "      <td>神奈川県逗子市逗子一丁目</td>\n",
       "      <td>カナガワケンズシシズシイッチョウメ</td>\n",
       "      <td>046-123-4036</td>\n",
       "      <td>139.5789</td>\n",
       "      <td>35.29642</td>\n",
       "      <td>1838.0</td>\n",
       "    </tr>\n",
       "    <tr>\n",
       "      <th>20</th>\n",
       "      <td>S14011</td>\n",
       "      <td>日吉本町店</td>\n",
       "      <td>14</td>\n",
       "      <td>神奈川県</td>\n",
       "      <td>神奈川県横浜市港北区日吉本町四丁目</td>\n",
       "      <td>カナガワケンヨコハマシコウホククヒヨシホンチョウヨンチョウメ</td>\n",
       "      <td>045-123-4033</td>\n",
       "      <td>139.6316</td>\n",
       "      <td>35.54655</td>\n",
       "      <td>890.0</td>\n",
       "    </tr>\n",
       "  </tbody>\n",
       "</table>\n",
       "</div>"
      ],
      "text/plain": [
       "   store_cd store_name  prefecture_cd prefecture              address  \\\n",
       "2    S14010        菊名店             14       神奈川県      神奈川県横浜市港北区菊名一丁目   \n",
       "3    S14033       阿久和店             14       神奈川県    神奈川県横浜市瀬谷区阿久和西一丁目   \n",
       "4    S14036     相模原中央店             14       神奈川県        神奈川県相模原市中央二丁目   \n",
       "7    S14040       長津田店             14       神奈川県  神奈川県横浜市緑区長津田みなみ台五丁目   \n",
       "9    S14050      阿久和西店             14       神奈川県    神奈川県横浜市瀬谷区阿久和西一丁目   \n",
       "12   S14028       二ツ橋店             14       神奈川県       神奈川県横浜市瀬谷区二ツ橋町   \n",
       "16   S14012      本牧和田店             14       神奈川県        神奈川県横浜市中区本牧和田   \n",
       "18   S14046       北山田店             14       神奈川県     神奈川県横浜市都筑区北山田一丁目   \n",
       "19   S14022        逗子店             14       神奈川県         神奈川県逗子市逗子一丁目   \n",
       "20   S14011      日吉本町店             14       神奈川県    神奈川県横浜市港北区日吉本町四丁目   \n",
       "\n",
       "                      address_kana        tel_no  longitude  latitude  \\\n",
       "2        カナガワケンヨコハマシコウホククキクナイッチョウメ  045-123-4032   139.6326  35.50049   \n",
       "3        カナガワケンヨコハマシセヤクアクワニシイッチョウメ  045-123-4043   139.4961  35.45918   \n",
       "4           カナガワケンサガミハラシチュウオウニチョウメ  042-123-4045   139.3716  35.57327   \n",
       "7    カナガワケンヨコハマシミドリクナガツタミナミダイゴチョウメ  045-123-4046   139.4994  35.52398   \n",
       "9        カナガワケンヨコハマシセヤクアクワニシイッチョウメ  045-123-4053   139.4961  35.45918   \n",
       "12          カナガワケンヨコハマシセヤクフタツバシチョウ  045-123-4042   139.4963  35.46304   \n",
       "16            カナガワケンヨコハマシナカクホンモクワダ  045-123-4034   139.6582  35.42156   \n",
       "18      カナガワケンヨコハマシツヅキクキタヤマタイッチョウメ  045-123-4049   139.5916  35.56189   \n",
       "19               カナガワケンズシシズシイッチョウメ  046-123-4036   139.5789  35.29642   \n",
       "20  カナガワケンヨコハマシコウホククヒヨシホンチョウヨンチョウメ  045-123-4033   139.6316  35.54655   \n",
       "\n",
       "    floor_area  \n",
       "2       1732.0  \n",
       "3       1495.0  \n",
       "4       1679.0  \n",
       "7       1548.0  \n",
       "9       1830.0  \n",
       "12      1574.0  \n",
       "16      1341.0  \n",
       "18       831.0  \n",
       "19      1838.0  \n",
       "20       890.0  "
      ]
     },
     "execution_count": 12,
     "metadata": {},
     "output_type": "execute_result"
    }
   ],
   "source": [
    "df_storeP010 = df_store[df_store[\"store_cd\"].str.startswith(\"S14\")]\n",
    "df_storeP010.head(10)"
   ]
  },
  {
   "cell_type": "markdown",
   "metadata": {
    "id": "V8neUMJP0Yjh"
   },
   "source": [
    "## P011"
   ]
  },
  {
   "cell_type": "markdown",
   "metadata": {
    "id": "rZOTvgu0hhx7"
   },
   "source": [
    "---\n",
    "> P-011: 顧客データフレーム（df_customer）から顧客ID（customer_id）の末尾が1のものだけ全項目抽出し、10件だけ表示せよ。"
   ]
  },
  {
   "cell_type": "code",
   "execution_count": 13,
   "metadata": {
    "colab": {
     "base_uri": "https://localhost:8080/",
     "height": 352
    },
    "executionInfo": {
     "elapsed": 4721,
     "status": "ok",
     "timestamp": 1602918850485,
     "user": {
      "displayName": "Ohmura Kameko",
      "photoUrl": "https://lh3.googleusercontent.com/a-/AOh14GgExU0PVzY4tFSVHIVpSTmpKsEAjIZd7RIX--Mm5g=s64",
      "userId": "10791134844177295636"
     },
     "user_tz": -540
    },
    "id": "tTJ7JCl_hhx7",
    "outputId": "e582a96f-b32f-4002-c0fa-bcd7e16ff1e4"
   },
   "outputs": [
    {
     "data": {
      "text/html": [
       "<div>\n",
       "<style scoped>\n",
       "    .dataframe tbody tr th:only-of-type {\n",
       "        vertical-align: middle;\n",
       "    }\n",
       "\n",
       "    .dataframe tbody tr th {\n",
       "        vertical-align: top;\n",
       "    }\n",
       "\n",
       "    .dataframe thead th {\n",
       "        text-align: right;\n",
       "    }\n",
       "</style>\n",
       "<table border=\"1\" class=\"dataframe\">\n",
       "  <thead>\n",
       "    <tr style=\"text-align: right;\">\n",
       "      <th></th>\n",
       "      <th>customer_id</th>\n",
       "      <th>customer_name</th>\n",
       "      <th>gender_cd</th>\n",
       "      <th>gender</th>\n",
       "      <th>birth_day</th>\n",
       "      <th>age</th>\n",
       "      <th>postal_cd</th>\n",
       "      <th>address</th>\n",
       "      <th>application_store_cd</th>\n",
       "      <th>application_date</th>\n",
       "      <th>status_cd</th>\n",
       "    </tr>\n",
       "  </thead>\n",
       "  <tbody>\n",
       "    <tr>\n",
       "      <th>1</th>\n",
       "      <td>CS037613000071</td>\n",
       "      <td>六角 雅彦</td>\n",
       "      <td>9</td>\n",
       "      <td>不明</td>\n",
       "      <td>1952-04-01</td>\n",
       "      <td>66</td>\n",
       "      <td>136-0076</td>\n",
       "      <td>東京都江東区南砂**********</td>\n",
       "      <td>S13037</td>\n",
       "      <td>20150414</td>\n",
       "      <td>0-00000000-0</td>\n",
       "    </tr>\n",
       "    <tr>\n",
       "      <th>3</th>\n",
       "      <td>CS028811000001</td>\n",
       "      <td>堀井 かおり</td>\n",
       "      <td>1</td>\n",
       "      <td>女性</td>\n",
       "      <td>1933-03-27</td>\n",
       "      <td>86</td>\n",
       "      <td>245-0016</td>\n",
       "      <td>神奈川県横浜市泉区和泉町**********</td>\n",
       "      <td>S14028</td>\n",
       "      <td>20160115</td>\n",
       "      <td>0-00000000-0</td>\n",
       "    </tr>\n",
       "    <tr>\n",
       "      <th>14</th>\n",
       "      <td>CS040412000191</td>\n",
       "      <td>川井 郁恵</td>\n",
       "      <td>1</td>\n",
       "      <td>女性</td>\n",
       "      <td>1977-01-05</td>\n",
       "      <td>42</td>\n",
       "      <td>226-0021</td>\n",
       "      <td>神奈川県横浜市緑区北八朔町**********</td>\n",
       "      <td>S14040</td>\n",
       "      <td>20151101</td>\n",
       "      <td>1-20091025-4</td>\n",
       "    </tr>\n",
       "    <tr>\n",
       "      <th>31</th>\n",
       "      <td>CS028314000011</td>\n",
       "      <td>小菅 あおい</td>\n",
       "      <td>1</td>\n",
       "      <td>女性</td>\n",
       "      <td>1983-11-26</td>\n",
       "      <td>35</td>\n",
       "      <td>246-0038</td>\n",
       "      <td>神奈川県横浜市瀬谷区宮沢**********</td>\n",
       "      <td>S14028</td>\n",
       "      <td>20151123</td>\n",
       "      <td>1-20080426-5</td>\n",
       "    </tr>\n",
       "    <tr>\n",
       "      <th>56</th>\n",
       "      <td>CS039212000051</td>\n",
       "      <td>藤島 恵梨香</td>\n",
       "      <td>1</td>\n",
       "      <td>女性</td>\n",
       "      <td>1997-02-03</td>\n",
       "      <td>22</td>\n",
       "      <td>166-0001</td>\n",
       "      <td>東京都杉並区阿佐谷北**********</td>\n",
       "      <td>S13039</td>\n",
       "      <td>20171121</td>\n",
       "      <td>1-20100215-4</td>\n",
       "    </tr>\n",
       "    <tr>\n",
       "      <th>59</th>\n",
       "      <td>CS015412000111</td>\n",
       "      <td>松居 奈月</td>\n",
       "      <td>1</td>\n",
       "      <td>女性</td>\n",
       "      <td>1972-10-04</td>\n",
       "      <td>46</td>\n",
       "      <td>136-0071</td>\n",
       "      <td>東京都江東区亀戸**********</td>\n",
       "      <td>S13015</td>\n",
       "      <td>20150629</td>\n",
       "      <td>0-00000000-0</td>\n",
       "    </tr>\n",
       "    <tr>\n",
       "      <th>63</th>\n",
       "      <td>CS004702000041</td>\n",
       "      <td>野島 洋</td>\n",
       "      <td>0</td>\n",
       "      <td>男性</td>\n",
       "      <td>1943-08-24</td>\n",
       "      <td>75</td>\n",
       "      <td>176-0022</td>\n",
       "      <td>東京都練馬区向山**********</td>\n",
       "      <td>S13004</td>\n",
       "      <td>20170218</td>\n",
       "      <td>0-00000000-0</td>\n",
       "    </tr>\n",
       "    <tr>\n",
       "      <th>74</th>\n",
       "      <td>CS041515000001</td>\n",
       "      <td>栗田 千夏</td>\n",
       "      <td>1</td>\n",
       "      <td>女性</td>\n",
       "      <td>1967-01-02</td>\n",
       "      <td>52</td>\n",
       "      <td>206-0001</td>\n",
       "      <td>東京都多摩市和田**********</td>\n",
       "      <td>S13041</td>\n",
       "      <td>20160422</td>\n",
       "      <td>E-20100803-F</td>\n",
       "    </tr>\n",
       "    <tr>\n",
       "      <th>85</th>\n",
       "      <td>CS029313000221</td>\n",
       "      <td>北条 ひかり</td>\n",
       "      <td>1</td>\n",
       "      <td>女性</td>\n",
       "      <td>1987-06-19</td>\n",
       "      <td>31</td>\n",
       "      <td>279-0011</td>\n",
       "      <td>千葉県浦安市美浜**********</td>\n",
       "      <td>S12029</td>\n",
       "      <td>20180810</td>\n",
       "      <td>0-00000000-0</td>\n",
       "    </tr>\n",
       "    <tr>\n",
       "      <th>102</th>\n",
       "      <td>CS034312000071</td>\n",
       "      <td>望月 奈央</td>\n",
       "      <td>1</td>\n",
       "      <td>女性</td>\n",
       "      <td>1980-09-20</td>\n",
       "      <td>38</td>\n",
       "      <td>213-0026</td>\n",
       "      <td>神奈川県川崎市高津区久末**********</td>\n",
       "      <td>S14034</td>\n",
       "      <td>20160106</td>\n",
       "      <td>0-00000000-0</td>\n",
       "    </tr>\n",
       "  </tbody>\n",
       "</table>\n",
       "</div>"
      ],
      "text/plain": [
       "        customer_id customer_name  gender_cd gender   birth_day  age  \\\n",
       "1    CS037613000071         六角 雅彦          9     不明  1952-04-01   66   \n",
       "3    CS028811000001        堀井 かおり          1     女性  1933-03-27   86   \n",
       "14   CS040412000191         川井 郁恵          1     女性  1977-01-05   42   \n",
       "31   CS028314000011        小菅 あおい          1     女性  1983-11-26   35   \n",
       "56   CS039212000051        藤島 恵梨香          1     女性  1997-02-03   22   \n",
       "59   CS015412000111         松居 奈月          1     女性  1972-10-04   46   \n",
       "63   CS004702000041          野島 洋          0     男性  1943-08-24   75   \n",
       "74   CS041515000001         栗田 千夏          1     女性  1967-01-02   52   \n",
       "85   CS029313000221        北条 ひかり          1     女性  1987-06-19   31   \n",
       "102  CS034312000071         望月 奈央          1     女性  1980-09-20   38   \n",
       "\n",
       "    postal_cd                  address application_store_cd  application_date  \\\n",
       "1    136-0076       東京都江東区南砂**********               S13037          20150414   \n",
       "3    245-0016   神奈川県横浜市泉区和泉町**********               S14028          20160115   \n",
       "14   226-0021  神奈川県横浜市緑区北八朔町**********               S14040          20151101   \n",
       "31   246-0038   神奈川県横浜市瀬谷区宮沢**********               S14028          20151123   \n",
       "56   166-0001     東京都杉並区阿佐谷北**********               S13039          20171121   \n",
       "59   136-0071       東京都江東区亀戸**********               S13015          20150629   \n",
       "63   176-0022       東京都練馬区向山**********               S13004          20170218   \n",
       "74   206-0001       東京都多摩市和田**********               S13041          20160422   \n",
       "85   279-0011       千葉県浦安市美浜**********               S12029          20180810   \n",
       "102  213-0026   神奈川県川崎市高津区久末**********               S14034          20160106   \n",
       "\n",
       "        status_cd  \n",
       "1    0-00000000-0  \n",
       "3    0-00000000-0  \n",
       "14   1-20091025-4  \n",
       "31   1-20080426-5  \n",
       "56   1-20100215-4  \n",
       "59   0-00000000-0  \n",
       "63   0-00000000-0  \n",
       "74   E-20100803-F  \n",
       "85   0-00000000-0  \n",
       "102  0-00000000-0  "
      ]
     },
     "execution_count": 13,
     "metadata": {},
     "output_type": "execute_result"
    }
   ],
   "source": [
    "df_customerP011 = df_customer[df_customer[\"customer_id\"].str.endswith(\"1\")]\n",
    "df_customerP011.head(10)"
   ]
  },
  {
   "cell_type": "markdown",
   "metadata": {
    "id": "MktE2OuN0c3u"
   },
   "source": [
    "## P012"
   ]
  },
  {
   "cell_type": "markdown",
   "metadata": {
    "id": "rZR7bxyYhhx9"
   },
   "source": [
    "---\n",
    "> P-012: 店舗データフレーム（df_store）から横浜市の店舗だけ全項目表示せよ。"
   ]
  },
  {
   "cell_type": "code",
   "execution_count": 14,
   "metadata": {
    "colab": {
     "base_uri": "https://localhost:8080/",
     "height": 382
    },
    "executionInfo": {
     "elapsed": 4707,
     "status": "ok",
     "timestamp": 1602918850486,
     "user": {
      "displayName": "Ohmura Kameko",
      "photoUrl": "https://lh3.googleusercontent.com/a-/AOh14GgExU0PVzY4tFSVHIVpSTmpKsEAjIZd7RIX--Mm5g=s64",
      "userId": "10791134844177295636"
     },
     "user_tz": -540
    },
    "id": "Yvqzxpskhhx9",
    "outputId": "9c221159-9347-4deb-bf09-69392046d1b9"
   },
   "outputs": [
    {
     "data": {
      "text/html": [
       "<div>\n",
       "<style scoped>\n",
       "    .dataframe tbody tr th:only-of-type {\n",
       "        vertical-align: middle;\n",
       "    }\n",
       "\n",
       "    .dataframe tbody tr th {\n",
       "        vertical-align: top;\n",
       "    }\n",
       "\n",
       "    .dataframe thead th {\n",
       "        text-align: right;\n",
       "    }\n",
       "</style>\n",
       "<table border=\"1\" class=\"dataframe\">\n",
       "  <thead>\n",
       "    <tr style=\"text-align: right;\">\n",
       "      <th></th>\n",
       "      <th>store_cd</th>\n",
       "      <th>store_name</th>\n",
       "      <th>prefecture_cd</th>\n",
       "      <th>prefecture</th>\n",
       "      <th>address</th>\n",
       "      <th>address_kana</th>\n",
       "      <th>tel_no</th>\n",
       "      <th>longitude</th>\n",
       "      <th>latitude</th>\n",
       "      <th>floor_area</th>\n",
       "    </tr>\n",
       "  </thead>\n",
       "  <tbody>\n",
       "    <tr>\n",
       "      <th>2</th>\n",
       "      <td>S14010</td>\n",
       "      <td>菊名店</td>\n",
       "      <td>14</td>\n",
       "      <td>神奈川県</td>\n",
       "      <td>神奈川県横浜市港北区菊名一丁目</td>\n",
       "      <td>カナガワケンヨコハマシコウホククキクナイッチョウメ</td>\n",
       "      <td>045-123-4032</td>\n",
       "      <td>139.6326</td>\n",
       "      <td>35.50049</td>\n",
       "      <td>1732.0</td>\n",
       "    </tr>\n",
       "    <tr>\n",
       "      <th>3</th>\n",
       "      <td>S14033</td>\n",
       "      <td>阿久和店</td>\n",
       "      <td>14</td>\n",
       "      <td>神奈川県</td>\n",
       "      <td>神奈川県横浜市瀬谷区阿久和西一丁目</td>\n",
       "      <td>カナガワケンヨコハマシセヤクアクワニシイッチョウメ</td>\n",
       "      <td>045-123-4043</td>\n",
       "      <td>139.4961</td>\n",
       "      <td>35.45918</td>\n",
       "      <td>1495.0</td>\n",
       "    </tr>\n",
       "    <tr>\n",
       "      <th>7</th>\n",
       "      <td>S14040</td>\n",
       "      <td>長津田店</td>\n",
       "      <td>14</td>\n",
       "      <td>神奈川県</td>\n",
       "      <td>神奈川県横浜市緑区長津田みなみ台五丁目</td>\n",
       "      <td>カナガワケンヨコハマシミドリクナガツタミナミダイゴチョウメ</td>\n",
       "      <td>045-123-4046</td>\n",
       "      <td>139.4994</td>\n",
       "      <td>35.52398</td>\n",
       "      <td>1548.0</td>\n",
       "    </tr>\n",
       "    <tr>\n",
       "      <th>9</th>\n",
       "      <td>S14050</td>\n",
       "      <td>阿久和西店</td>\n",
       "      <td>14</td>\n",
       "      <td>神奈川県</td>\n",
       "      <td>神奈川県横浜市瀬谷区阿久和西一丁目</td>\n",
       "      <td>カナガワケンヨコハマシセヤクアクワニシイッチョウメ</td>\n",
       "      <td>045-123-4053</td>\n",
       "      <td>139.4961</td>\n",
       "      <td>35.45918</td>\n",
       "      <td>1830.0</td>\n",
       "    </tr>\n",
       "    <tr>\n",
       "      <th>12</th>\n",
       "      <td>S14028</td>\n",
       "      <td>二ツ橋店</td>\n",
       "      <td>14</td>\n",
       "      <td>神奈川県</td>\n",
       "      <td>神奈川県横浜市瀬谷区二ツ橋町</td>\n",
       "      <td>カナガワケンヨコハマシセヤクフタツバシチョウ</td>\n",
       "      <td>045-123-4042</td>\n",
       "      <td>139.4963</td>\n",
       "      <td>35.46304</td>\n",
       "      <td>1574.0</td>\n",
       "    </tr>\n",
       "    <tr>\n",
       "      <th>16</th>\n",
       "      <td>S14012</td>\n",
       "      <td>本牧和田店</td>\n",
       "      <td>14</td>\n",
       "      <td>神奈川県</td>\n",
       "      <td>神奈川県横浜市中区本牧和田</td>\n",
       "      <td>カナガワケンヨコハマシナカクホンモクワダ</td>\n",
       "      <td>045-123-4034</td>\n",
       "      <td>139.6582</td>\n",
       "      <td>35.42156</td>\n",
       "      <td>1341.0</td>\n",
       "    </tr>\n",
       "    <tr>\n",
       "      <th>18</th>\n",
       "      <td>S14046</td>\n",
       "      <td>北山田店</td>\n",
       "      <td>14</td>\n",
       "      <td>神奈川県</td>\n",
       "      <td>神奈川県横浜市都筑区北山田一丁目</td>\n",
       "      <td>カナガワケンヨコハマシツヅキクキタヤマタイッチョウメ</td>\n",
       "      <td>045-123-4049</td>\n",
       "      <td>139.5916</td>\n",
       "      <td>35.56189</td>\n",
       "      <td>831.0</td>\n",
       "    </tr>\n",
       "    <tr>\n",
       "      <th>20</th>\n",
       "      <td>S14011</td>\n",
       "      <td>日吉本町店</td>\n",
       "      <td>14</td>\n",
       "      <td>神奈川県</td>\n",
       "      <td>神奈川県横浜市港北区日吉本町四丁目</td>\n",
       "      <td>カナガワケンヨコハマシコウホククヒヨシホンチョウヨンチョウメ</td>\n",
       "      <td>045-123-4033</td>\n",
       "      <td>139.6316</td>\n",
       "      <td>35.54655</td>\n",
       "      <td>890.0</td>\n",
       "    </tr>\n",
       "    <tr>\n",
       "      <th>26</th>\n",
       "      <td>S14048</td>\n",
       "      <td>中川中央店</td>\n",
       "      <td>14</td>\n",
       "      <td>神奈川県</td>\n",
       "      <td>神奈川県横浜市都筑区中川中央二丁目</td>\n",
       "      <td>カナガワケンヨコハマシツヅキクナカガワチュウオウニチョウメ</td>\n",
       "      <td>045-123-4051</td>\n",
       "      <td>139.5758</td>\n",
       "      <td>35.54912</td>\n",
       "      <td>1657.0</td>\n",
       "    </tr>\n",
       "    <tr>\n",
       "      <th>40</th>\n",
       "      <td>S14042</td>\n",
       "      <td>新山下店</td>\n",
       "      <td>14</td>\n",
       "      <td>神奈川県</td>\n",
       "      <td>神奈川県横浜市中区新山下二丁目</td>\n",
       "      <td>カナガワケンヨコハマシナカクシンヤマシタニチョウメ</td>\n",
       "      <td>045-123-4047</td>\n",
       "      <td>139.6593</td>\n",
       "      <td>35.43894</td>\n",
       "      <td>1044.0</td>\n",
       "    </tr>\n",
       "    <tr>\n",
       "      <th>52</th>\n",
       "      <td>S14006</td>\n",
       "      <td>葛が谷店</td>\n",
       "      <td>14</td>\n",
       "      <td>神奈川県</td>\n",
       "      <td>神奈川県横浜市都筑区葛が谷</td>\n",
       "      <td>カナガワケンヨコハマシツヅキククズガヤ</td>\n",
       "      <td>045-123-4031</td>\n",
       "      <td>139.5633</td>\n",
       "      <td>35.53573</td>\n",
       "      <td>1886.0</td>\n",
       "    </tr>\n",
       "  </tbody>\n",
       "</table>\n",
       "</div>"
      ],
      "text/plain": [
       "   store_cd store_name  prefecture_cd prefecture              address  \\\n",
       "2    S14010        菊名店             14       神奈川県      神奈川県横浜市港北区菊名一丁目   \n",
       "3    S14033       阿久和店             14       神奈川県    神奈川県横浜市瀬谷区阿久和西一丁目   \n",
       "7    S14040       長津田店             14       神奈川県  神奈川県横浜市緑区長津田みなみ台五丁目   \n",
       "9    S14050      阿久和西店             14       神奈川県    神奈川県横浜市瀬谷区阿久和西一丁目   \n",
       "12   S14028       二ツ橋店             14       神奈川県       神奈川県横浜市瀬谷区二ツ橋町   \n",
       "16   S14012      本牧和田店             14       神奈川県        神奈川県横浜市中区本牧和田   \n",
       "18   S14046       北山田店             14       神奈川県     神奈川県横浜市都筑区北山田一丁目   \n",
       "20   S14011      日吉本町店             14       神奈川県    神奈川県横浜市港北区日吉本町四丁目   \n",
       "26   S14048      中川中央店             14       神奈川県    神奈川県横浜市都筑区中川中央二丁目   \n",
       "40   S14042       新山下店             14       神奈川県      神奈川県横浜市中区新山下二丁目   \n",
       "52   S14006       葛が谷店             14       神奈川県        神奈川県横浜市都筑区葛が谷   \n",
       "\n",
       "                      address_kana        tel_no  longitude  latitude  \\\n",
       "2        カナガワケンヨコハマシコウホククキクナイッチョウメ  045-123-4032   139.6326  35.50049   \n",
       "3        カナガワケンヨコハマシセヤクアクワニシイッチョウメ  045-123-4043   139.4961  35.45918   \n",
       "7    カナガワケンヨコハマシミドリクナガツタミナミダイゴチョウメ  045-123-4046   139.4994  35.52398   \n",
       "9        カナガワケンヨコハマシセヤクアクワニシイッチョウメ  045-123-4053   139.4961  35.45918   \n",
       "12          カナガワケンヨコハマシセヤクフタツバシチョウ  045-123-4042   139.4963  35.46304   \n",
       "16            カナガワケンヨコハマシナカクホンモクワダ  045-123-4034   139.6582  35.42156   \n",
       "18      カナガワケンヨコハマシツヅキクキタヤマタイッチョウメ  045-123-4049   139.5916  35.56189   \n",
       "20  カナガワケンヨコハマシコウホククヒヨシホンチョウヨンチョウメ  045-123-4033   139.6316  35.54655   \n",
       "26   カナガワケンヨコハマシツヅキクナカガワチュウオウニチョウメ  045-123-4051   139.5758  35.54912   \n",
       "40       カナガワケンヨコハマシナカクシンヤマシタニチョウメ  045-123-4047   139.6593  35.43894   \n",
       "52             カナガワケンヨコハマシツヅキククズガヤ  045-123-4031   139.5633  35.53573   \n",
       "\n",
       "    floor_area  \n",
       "2       1732.0  \n",
       "3       1495.0  \n",
       "7       1548.0  \n",
       "9       1830.0  \n",
       "12      1574.0  \n",
       "16      1341.0  \n",
       "18       831.0  \n",
       "20       890.0  \n",
       "26      1657.0  \n",
       "40      1044.0  \n",
       "52      1886.0  "
      ]
     },
     "execution_count": 14,
     "metadata": {},
     "output_type": "execute_result"
    }
   ],
   "source": [
    "df_storeP012 = df_store[df_store[\"address\"].str.contains(\"横浜市\")]\n",
    "df_storeP012"
   ]
  },
  {
   "cell_type": "markdown",
   "metadata": {
    "id": "nlXe-xom0aON"
   },
   "source": [
    "## P013"
   ]
  },
  {
   "cell_type": "markdown",
   "metadata": {
    "id": "6J8QsPb9hhx_"
   },
   "source": [
    "---\n",
    "> P-013: 顧客データフレーム（df_customer）から、ステータスコード（status_cd）の先頭がアルファベットのA〜Fで始まるデータを全項目抽出し、10件だけ表示せよ。"
   ]
  },
  {
   "cell_type": "code",
   "execution_count": 15,
   "metadata": {
    "colab": {
     "base_uri": "https://localhost:8080/",
     "height": 352
    },
    "executionInfo": {
     "elapsed": 4693,
     "status": "ok",
     "timestamp": 1602918850487,
     "user": {
      "displayName": "Ohmura Kameko",
      "photoUrl": "https://lh3.googleusercontent.com/a-/AOh14GgExU0PVzY4tFSVHIVpSTmpKsEAjIZd7RIX--Mm5g=s64",
      "userId": "10791134844177295636"
     },
     "user_tz": -540
    },
    "id": "ZBA2t0BThhx_",
    "outputId": "64ac78bd-d723-4748-d1e4-a611294fcdf4"
   },
   "outputs": [
    {
     "data": {
      "text/html": [
       "<div>\n",
       "<style scoped>\n",
       "    .dataframe tbody tr th:only-of-type {\n",
       "        vertical-align: middle;\n",
       "    }\n",
       "\n",
       "    .dataframe tbody tr th {\n",
       "        vertical-align: top;\n",
       "    }\n",
       "\n",
       "    .dataframe thead th {\n",
       "        text-align: right;\n",
       "    }\n",
       "</style>\n",
       "<table border=\"1\" class=\"dataframe\">\n",
       "  <thead>\n",
       "    <tr style=\"text-align: right;\">\n",
       "      <th></th>\n",
       "      <th>customer_id</th>\n",
       "      <th>customer_name</th>\n",
       "      <th>gender_cd</th>\n",
       "      <th>gender</th>\n",
       "      <th>birth_day</th>\n",
       "      <th>age</th>\n",
       "      <th>postal_cd</th>\n",
       "      <th>address</th>\n",
       "      <th>application_store_cd</th>\n",
       "      <th>application_date</th>\n",
       "      <th>status_cd</th>\n",
       "    </tr>\n",
       "  </thead>\n",
       "  <tbody>\n",
       "    <tr>\n",
       "      <th>2</th>\n",
       "      <td>CS031415000172</td>\n",
       "      <td>宇多田 貴美子</td>\n",
       "      <td>1</td>\n",
       "      <td>女性</td>\n",
       "      <td>1976-10-04</td>\n",
       "      <td>42</td>\n",
       "      <td>151-0053</td>\n",
       "      <td>東京都渋谷区代々木**********</td>\n",
       "      <td>S13031</td>\n",
       "      <td>20150529</td>\n",
       "      <td>D-20100325-C</td>\n",
       "    </tr>\n",
       "    <tr>\n",
       "      <th>6</th>\n",
       "      <td>CS015414000103</td>\n",
       "      <td>奥野 陽子</td>\n",
       "      <td>1</td>\n",
       "      <td>女性</td>\n",
       "      <td>1977-08-09</td>\n",
       "      <td>41</td>\n",
       "      <td>136-0073</td>\n",
       "      <td>東京都江東区北砂**********</td>\n",
       "      <td>S13015</td>\n",
       "      <td>20150722</td>\n",
       "      <td>B-20100609-B</td>\n",
       "    </tr>\n",
       "    <tr>\n",
       "      <th>12</th>\n",
       "      <td>CS011215000048</td>\n",
       "      <td>芦田 沙耶</td>\n",
       "      <td>1</td>\n",
       "      <td>女性</td>\n",
       "      <td>1992-02-01</td>\n",
       "      <td>27</td>\n",
       "      <td>223-0062</td>\n",
       "      <td>神奈川県横浜市港北区日吉本町**********</td>\n",
       "      <td>S14011</td>\n",
       "      <td>20150228</td>\n",
       "      <td>C-20100421-9</td>\n",
       "    </tr>\n",
       "    <tr>\n",
       "      <th>15</th>\n",
       "      <td>CS029415000023</td>\n",
       "      <td>梅田 里穂</td>\n",
       "      <td>1</td>\n",
       "      <td>女性</td>\n",
       "      <td>1976-01-17</td>\n",
       "      <td>43</td>\n",
       "      <td>279-0043</td>\n",
       "      <td>千葉県浦安市富士見**********</td>\n",
       "      <td>S12029</td>\n",
       "      <td>20150610</td>\n",
       "      <td>D-20100918-E</td>\n",
       "    </tr>\n",
       "    <tr>\n",
       "      <th>21</th>\n",
       "      <td>CS035415000029</td>\n",
       "      <td>寺沢 真希</td>\n",
       "      <td>9</td>\n",
       "      <td>不明</td>\n",
       "      <td>1977-09-27</td>\n",
       "      <td>41</td>\n",
       "      <td>158-0096</td>\n",
       "      <td>東京都世田谷区玉川台**********</td>\n",
       "      <td>S13035</td>\n",
       "      <td>20141220</td>\n",
       "      <td>F-20101029-F</td>\n",
       "    </tr>\n",
       "    <tr>\n",
       "      <th>32</th>\n",
       "      <td>CS031415000106</td>\n",
       "      <td>宇野 由美子</td>\n",
       "      <td>1</td>\n",
       "      <td>女性</td>\n",
       "      <td>1970-02-26</td>\n",
       "      <td>49</td>\n",
       "      <td>151-0053</td>\n",
       "      <td>東京都渋谷区代々木**********</td>\n",
       "      <td>S13031</td>\n",
       "      <td>20150201</td>\n",
       "      <td>F-20100511-E</td>\n",
       "    </tr>\n",
       "    <tr>\n",
       "      <th>33</th>\n",
       "      <td>CS029215000025</td>\n",
       "      <td>石倉 美帆</td>\n",
       "      <td>1</td>\n",
       "      <td>女性</td>\n",
       "      <td>1993-09-28</td>\n",
       "      <td>25</td>\n",
       "      <td>279-0022</td>\n",
       "      <td>千葉県浦安市今川**********</td>\n",
       "      <td>S12029</td>\n",
       "      <td>20150708</td>\n",
       "      <td>B-20100820-C</td>\n",
       "    </tr>\n",
       "    <tr>\n",
       "      <th>40</th>\n",
       "      <td>CS033605000005</td>\n",
       "      <td>猪股 雄太</td>\n",
       "      <td>0</td>\n",
       "      <td>男性</td>\n",
       "      <td>1955-12-05</td>\n",
       "      <td>63</td>\n",
       "      <td>246-0031</td>\n",
       "      <td>神奈川県横浜市瀬谷区瀬谷**********</td>\n",
       "      <td>S14033</td>\n",
       "      <td>20150425</td>\n",
       "      <td>F-20100917-E</td>\n",
       "    </tr>\n",
       "    <tr>\n",
       "      <th>44</th>\n",
       "      <td>CS033415000229</td>\n",
       "      <td>板垣 菜々美</td>\n",
       "      <td>1</td>\n",
       "      <td>女性</td>\n",
       "      <td>1977-11-07</td>\n",
       "      <td>41</td>\n",
       "      <td>246-0021</td>\n",
       "      <td>神奈川県横浜市瀬谷区二ツ橋町**********</td>\n",
       "      <td>S14033</td>\n",
       "      <td>20150712</td>\n",
       "      <td>F-20100326-E</td>\n",
       "    </tr>\n",
       "    <tr>\n",
       "      <th>53</th>\n",
       "      <td>CS008415000145</td>\n",
       "      <td>黒谷 麻緒</td>\n",
       "      <td>1</td>\n",
       "      <td>女性</td>\n",
       "      <td>1977-06-27</td>\n",
       "      <td>41</td>\n",
       "      <td>157-0067</td>\n",
       "      <td>東京都世田谷区喜多見**********</td>\n",
       "      <td>S13008</td>\n",
       "      <td>20150829</td>\n",
       "      <td>F-20100622-F</td>\n",
       "    </tr>\n",
       "  </tbody>\n",
       "</table>\n",
       "</div>"
      ],
      "text/plain": [
       "       customer_id customer_name  gender_cd gender   birth_day  age postal_cd  \\\n",
       "2   CS031415000172       宇多田 貴美子          1     女性  1976-10-04   42  151-0053   \n",
       "6   CS015414000103         奥野 陽子          1     女性  1977-08-09   41  136-0073   \n",
       "12  CS011215000048         芦田 沙耶          1     女性  1992-02-01   27  223-0062   \n",
       "15  CS029415000023         梅田 里穂          1     女性  1976-01-17   43  279-0043   \n",
       "21  CS035415000029         寺沢 真希          9     不明  1977-09-27   41  158-0096   \n",
       "32  CS031415000106        宇野 由美子          1     女性  1970-02-26   49  151-0053   \n",
       "33  CS029215000025         石倉 美帆          1     女性  1993-09-28   25  279-0022   \n",
       "40  CS033605000005         猪股 雄太          0     男性  1955-12-05   63  246-0031   \n",
       "44  CS033415000229        板垣 菜々美          1     女性  1977-11-07   41  246-0021   \n",
       "53  CS008415000145         黒谷 麻緒          1     女性  1977-06-27   41  157-0067   \n",
       "\n",
       "                     address application_store_cd  application_date  \\\n",
       "2        東京都渋谷区代々木**********               S13031          20150529   \n",
       "6         東京都江東区北砂**********               S13015          20150722   \n",
       "12  神奈川県横浜市港北区日吉本町**********               S14011          20150228   \n",
       "15       千葉県浦安市富士見**********               S12029          20150610   \n",
       "21      東京都世田谷区玉川台**********               S13035          20141220   \n",
       "32       東京都渋谷区代々木**********               S13031          20150201   \n",
       "33        千葉県浦安市今川**********               S12029          20150708   \n",
       "40    神奈川県横浜市瀬谷区瀬谷**********               S14033          20150425   \n",
       "44  神奈川県横浜市瀬谷区二ツ橋町**********               S14033          20150712   \n",
       "53      東京都世田谷区喜多見**********               S13008          20150829   \n",
       "\n",
       "       status_cd  \n",
       "2   D-20100325-C  \n",
       "6   B-20100609-B  \n",
       "12  C-20100421-9  \n",
       "15  D-20100918-E  \n",
       "21  F-20101029-F  \n",
       "32  F-20100511-E  \n",
       "33  B-20100820-C  \n",
       "40  F-20100917-E  \n",
       "44  F-20100326-E  \n",
       "53  F-20100622-F  "
      ]
     },
     "execution_count": 15,
     "metadata": {},
     "output_type": "execute_result"
    }
   ],
   "source": [
    "df_customerP013 = df_customer[df_customer[\"status_cd\"].str.match('[A-F]+.*')]\n",
    "df_customerP013.head(10)"
   ]
  },
  {
   "cell_type": "markdown",
   "metadata": {
    "id": "MrT6L5O00fUp"
   },
   "source": [
    "## P014"
   ]
  },
  {
   "cell_type": "markdown",
   "metadata": {
    "id": "4rPUMBu_hhyB"
   },
   "source": [
    "---\n",
    "> P-014: 顧客データフレーム（df_customer）から、ステータスコード（status_cd）の末尾が数字の1〜9で終わるデータを全項目抽出し、10件だけ表示せよ。"
   ]
  },
  {
   "cell_type": "code",
   "execution_count": 16,
   "metadata": {
    "colab": {
     "base_uri": "https://localhost:8080/",
     "height": 352
    },
    "executionInfo": {
     "elapsed": 4677,
     "status": "ok",
     "timestamp": 1602918850488,
     "user": {
      "displayName": "Ohmura Kameko",
      "photoUrl": "https://lh3.googleusercontent.com/a-/AOh14GgExU0PVzY4tFSVHIVpSTmpKsEAjIZd7RIX--Mm5g=s64",
      "userId": "10791134844177295636"
     },
     "user_tz": -540
    },
    "id": "0U8WSbn1hhyB",
    "outputId": "12799fb6-c442-47be-c764-accc5ad1cb13"
   },
   "outputs": [
    {
     "data": {
      "text/html": [
       "<div>\n",
       "<style scoped>\n",
       "    .dataframe tbody tr th:only-of-type {\n",
       "        vertical-align: middle;\n",
       "    }\n",
       "\n",
       "    .dataframe tbody tr th {\n",
       "        vertical-align: top;\n",
       "    }\n",
       "\n",
       "    .dataframe thead th {\n",
       "        text-align: right;\n",
       "    }\n",
       "</style>\n",
       "<table border=\"1\" class=\"dataframe\">\n",
       "  <thead>\n",
       "    <tr style=\"text-align: right;\">\n",
       "      <th></th>\n",
       "      <th>customer_id</th>\n",
       "      <th>customer_name</th>\n",
       "      <th>gender_cd</th>\n",
       "      <th>gender</th>\n",
       "      <th>birth_day</th>\n",
       "      <th>age</th>\n",
       "      <th>postal_cd</th>\n",
       "      <th>address</th>\n",
       "      <th>application_store_cd</th>\n",
       "      <th>application_date</th>\n",
       "      <th>status_cd</th>\n",
       "    </tr>\n",
       "  </thead>\n",
       "  <tbody>\n",
       "    <tr>\n",
       "      <th>21927</th>\n",
       "      <td>CS020614000011</td>\n",
       "      <td>河内 一徳</td>\n",
       "      <td>9</td>\n",
       "      <td>不明</td>\n",
       "      <td>1954-05-22</td>\n",
       "      <td>64</td>\n",
       "      <td>114-0032</td>\n",
       "      <td>東京都北区中十条**********</td>\n",
       "      <td>S13020</td>\n",
       "      <td>20151212</td>\n",
       "      <td>8-20100802-2</td>\n",
       "    </tr>\n",
       "    <tr>\n",
       "      <th>21930</th>\n",
       "      <td>CS010315000110</td>\n",
       "      <td>梶原 めぐみ</td>\n",
       "      <td>1</td>\n",
       "      <td>女性</td>\n",
       "      <td>1987-03-03</td>\n",
       "      <td>32</td>\n",
       "      <td>222-0026</td>\n",
       "      <td>神奈川県横浜市港北区篠原町**********</td>\n",
       "      <td>S14010</td>\n",
       "      <td>20150520</td>\n",
       "      <td>1-20090424-1</td>\n",
       "    </tr>\n",
       "    <tr>\n",
       "      <th>21932</th>\n",
       "      <td>CS035511000040</td>\n",
       "      <td>仲村 しぼり</td>\n",
       "      <td>1</td>\n",
       "      <td>女性</td>\n",
       "      <td>1959-08-07</td>\n",
       "      <td>59</td>\n",
       "      <td>157-0063</td>\n",
       "      <td>東京都世田谷区粕谷**********</td>\n",
       "      <td>S13035</td>\n",
       "      <td>20151021</td>\n",
       "      <td>2-20100131-4</td>\n",
       "    </tr>\n",
       "    <tr>\n",
       "      <th>21935</th>\n",
       "      <td>CS044415000024</td>\n",
       "      <td>杉野 千佳子</td>\n",
       "      <td>1</td>\n",
       "      <td>女性</td>\n",
       "      <td>1977-06-02</td>\n",
       "      <td>41</td>\n",
       "      <td>144-0052</td>\n",
       "      <td>東京都大田区蒲田**********</td>\n",
       "      <td>S13044</td>\n",
       "      <td>20180519</td>\n",
       "      <td>6-20101016-9</td>\n",
       "    </tr>\n",
       "    <tr>\n",
       "      <th>21937</th>\n",
       "      <td>CS021411000017</td>\n",
       "      <td>筒井 里奈</td>\n",
       "      <td>1</td>\n",
       "      <td>女性</td>\n",
       "      <td>1972-02-06</td>\n",
       "      <td>47</td>\n",
       "      <td>243-0121</td>\n",
       "      <td>神奈川県厚木市七沢**********</td>\n",
       "      <td>S14021</td>\n",
       "      <td>20150209</td>\n",
       "      <td>7-20090515-9</td>\n",
       "    </tr>\n",
       "    <tr>\n",
       "      <th>21943</th>\n",
       "      <td>CS002515000242</td>\n",
       "      <td>加瀬 はるみ</td>\n",
       "      <td>1</td>\n",
       "      <td>女性</td>\n",
       "      <td>1966-06-23</td>\n",
       "      <td>52</td>\n",
       "      <td>184-0015</td>\n",
       "      <td>東京都小金井市貫井北町**********</td>\n",
       "      <td>S13002</td>\n",
       "      <td>20170102</td>\n",
       "      <td>A-20100124-7</td>\n",
       "    </tr>\n",
       "    <tr>\n",
       "      <th>21946</th>\n",
       "      <td>CS034412000010</td>\n",
       "      <td>末永 まひる</td>\n",
       "      <td>1</td>\n",
       "      <td>女性</td>\n",
       "      <td>1971-07-23</td>\n",
       "      <td>47</td>\n",
       "      <td>213-0035</td>\n",
       "      <td>神奈川県川崎市高津区向ケ丘**********</td>\n",
       "      <td>S14034</td>\n",
       "      <td>20150327</td>\n",
       "      <td>3-20090322-5</td>\n",
       "    </tr>\n",
       "    <tr>\n",
       "      <th>21952</th>\n",
       "      <td>CS002513000310</td>\n",
       "      <td>柳田 美嘉</td>\n",
       "      <td>1</td>\n",
       "      <td>女性</td>\n",
       "      <td>1963-09-17</td>\n",
       "      <td>55</td>\n",
       "      <td>187-0022</td>\n",
       "      <td>東京都小平市上水本町**********</td>\n",
       "      <td>S13002</td>\n",
       "      <td>20160911</td>\n",
       "      <td>1-20100711-2</td>\n",
       "    </tr>\n",
       "    <tr>\n",
       "      <th>21955</th>\n",
       "      <td>CS001413000156</td>\n",
       "      <td>上原 恵望子</td>\n",
       "      <td>1</td>\n",
       "      <td>女性</td>\n",
       "      <td>1974-12-10</td>\n",
       "      <td>44</td>\n",
       "      <td>144-0056</td>\n",
       "      <td>東京都大田区西六郷**********</td>\n",
       "      <td>S13001</td>\n",
       "      <td>20150724</td>\n",
       "      <td>1-20080210-1</td>\n",
       "    </tr>\n",
       "    <tr>\n",
       "      <th>21956</th>\n",
       "      <td>CS040314000065</td>\n",
       "      <td>谷川 紗季</td>\n",
       "      <td>1</td>\n",
       "      <td>女性</td>\n",
       "      <td>1987-01-14</td>\n",
       "      <td>32</td>\n",
       "      <td>226-0027</td>\n",
       "      <td>神奈川県横浜市緑区長津田**********</td>\n",
       "      <td>S14040</td>\n",
       "      <td>20150703</td>\n",
       "      <td>1-20090421-4</td>\n",
       "    </tr>\n",
       "  </tbody>\n",
       "</table>\n",
       "</div>"
      ],
      "text/plain": [
       "          customer_id customer_name  gender_cd gender   birth_day  age  \\\n",
       "21927  CS020614000011         河内 一徳          9     不明  1954-05-22   64   \n",
       "21930  CS010315000110        梶原 めぐみ          1     女性  1987-03-03   32   \n",
       "21932  CS035511000040        仲村 しぼり          1     女性  1959-08-07   59   \n",
       "21935  CS044415000024        杉野 千佳子          1     女性  1977-06-02   41   \n",
       "21937  CS021411000017         筒井 里奈          1     女性  1972-02-06   47   \n",
       "21943  CS002515000242        加瀬 はるみ          1     女性  1966-06-23   52   \n",
       "21946  CS034412000010        末永 まひる          1     女性  1971-07-23   47   \n",
       "21952  CS002513000310         柳田 美嘉          1     女性  1963-09-17   55   \n",
       "21955  CS001413000156        上原 恵望子          1     女性  1974-12-10   44   \n",
       "21956  CS040314000065         谷川 紗季          1     女性  1987-01-14   32   \n",
       "\n",
       "      postal_cd                  address application_store_cd  \\\n",
       "21927  114-0032       東京都北区中十条**********               S13020   \n",
       "21930  222-0026  神奈川県横浜市港北区篠原町**********               S14010   \n",
       "21932  157-0063      東京都世田谷区粕谷**********               S13035   \n",
       "21935  144-0052       東京都大田区蒲田**********               S13044   \n",
       "21937  243-0121      神奈川県厚木市七沢**********               S14021   \n",
       "21943  184-0015    東京都小金井市貫井北町**********               S13002   \n",
       "21946  213-0035  神奈川県川崎市高津区向ケ丘**********               S14034   \n",
       "21952  187-0022     東京都小平市上水本町**********               S13002   \n",
       "21955  144-0056      東京都大田区西六郷**********               S13001   \n",
       "21956  226-0027   神奈川県横浜市緑区長津田**********               S14040   \n",
       "\n",
       "       application_date     status_cd  \n",
       "21927          20151212  8-20100802-2  \n",
       "21930          20150520  1-20090424-1  \n",
       "21932          20151021  2-20100131-4  \n",
       "21935          20180519  6-20101016-9  \n",
       "21937          20150209  7-20090515-9  \n",
       "21943          20170102  A-20100124-7  \n",
       "21946          20150327  3-20090322-5  \n",
       "21952          20160911  1-20100711-2  \n",
       "21955          20150724  1-20080210-1  \n",
       "21956          20150703  1-20090421-4  "
      ]
     },
     "execution_count": 16,
     "metadata": {},
     "output_type": "execute_result"
    }
   ],
   "source": [
    "df_customerP014 = df_customer[df_customer[\"status_cd\"].str.match('.*[1-9]+$')]\n",
    "df_customerP014.tail(10)"
   ]
  },
  {
   "cell_type": "code",
   "execution_count": 17,
   "metadata": {
    "colab": {
     "base_uri": "https://localhost:8080/",
     "height": 35
    },
    "executionInfo": {
     "elapsed": 4660,
     "status": "ok",
     "timestamp": 1602918850490,
     "user": {
      "displayName": "Ohmura Kameko",
      "photoUrl": "https://lh3.googleusercontent.com/a-/AOh14GgExU0PVzY4tFSVHIVpSTmpKsEAjIZd7RIX--Mm5g=s64",
      "userId": "10791134844177295636"
     },
     "user_tz": -540
    },
    "id": "9HWMa_2pwk1m",
    "outputId": "b5f0e0a2-dbe1-4ffc-b78a-a0393fce50da"
   },
   "outputs": [
    {
     "data": {
      "text/plain": [
       "4970"
      ]
     },
     "execution_count": 17,
     "metadata": {},
     "output_type": "execute_result"
    }
   ],
   "source": [
    "len(df_customerP014)"
   ]
  },
  {
   "cell_type": "code",
   "execution_count": 18,
   "metadata": {
    "id": "M9K6Xu4IwWyu"
   },
   "outputs": [],
   "source": [
    "str_list = [str(n) for n in list(range(1,10))]\n",
    "str_tuple = tuple(str_list)\n",
    "#str_tuple\n",
    "df_customerP014_2 = df_customer[df_customer['status_cd'].str.endswith(str_tuple)]"
   ]
  },
  {
   "cell_type": "code",
   "execution_count": 19,
   "metadata": {
    "colab": {
     "base_uri": "https://localhost:8080/",
     "height": 35
    },
    "executionInfo": {
     "elapsed": 4633,
     "status": "ok",
     "timestamp": 1602918850493,
     "user": {
      "displayName": "Ohmura Kameko",
      "photoUrl": "https://lh3.googleusercontent.com/a-/AOh14GgExU0PVzY4tFSVHIVpSTmpKsEAjIZd7RIX--Mm5g=s64",
      "userId": "10791134844177295636"
     },
     "user_tz": -540
    },
    "id": "Vrvpli8mwoMF",
    "outputId": "86491b91-65c1-41db-cab0-ee6606c26d75"
   },
   "outputs": [
    {
     "data": {
      "text/plain": [
       "4970"
      ]
     },
     "execution_count": 19,
     "metadata": {},
     "output_type": "execute_result"
    }
   ],
   "source": [
    "len(df_customerP014_2)"
   ]
  },
  {
   "cell_type": "markdown",
   "metadata": {
    "id": "iOdAP69L0g1O"
   },
   "source": [
    "## P015"
   ]
  },
  {
   "cell_type": "markdown",
   "metadata": {
    "id": "0Jx471rjhhyD"
   },
   "source": [
    "---\n",
    "> P-015: 顧客データフレーム（df_customer）から、ステータスコード（status_cd）の先頭がアルファベットのA〜Fで始まり、末尾が数字の1〜9で終わるデータを全項目抽出し、10件だけ表示せよ。"
   ]
  },
  {
   "cell_type": "code",
   "execution_count": 20,
   "metadata": {
    "colab": {
     "base_uri": "https://localhost:8080/",
     "height": 352
    },
    "executionInfo": {
     "elapsed": 4615,
     "status": "ok",
     "timestamp": 1602918850495,
     "user": {
      "displayName": "Ohmura Kameko",
      "photoUrl": "https://lh3.googleusercontent.com/a-/AOh14GgExU0PVzY4tFSVHIVpSTmpKsEAjIZd7RIX--Mm5g=s64",
      "userId": "10791134844177295636"
     },
     "user_tz": -540
    },
    "id": "QuiyjScHhhyD",
    "outputId": "e26dcffd-bd48-4c92-cb8c-33ef2c11e193"
   },
   "outputs": [
    {
     "data": {
      "text/html": [
       "<div>\n",
       "<style scoped>\n",
       "    .dataframe tbody tr th:only-of-type {\n",
       "        vertical-align: middle;\n",
       "    }\n",
       "\n",
       "    .dataframe tbody tr th {\n",
       "        vertical-align: top;\n",
       "    }\n",
       "\n",
       "    .dataframe thead th {\n",
       "        text-align: right;\n",
       "    }\n",
       "</style>\n",
       "<table border=\"1\" class=\"dataframe\">\n",
       "  <thead>\n",
       "    <tr style=\"text-align: right;\">\n",
       "      <th></th>\n",
       "      <th>customer_id</th>\n",
       "      <th>customer_name</th>\n",
       "      <th>gender_cd</th>\n",
       "      <th>gender</th>\n",
       "      <th>birth_day</th>\n",
       "      <th>age</th>\n",
       "      <th>postal_cd</th>\n",
       "      <th>address</th>\n",
       "      <th>application_store_cd</th>\n",
       "      <th>application_date</th>\n",
       "      <th>status_cd</th>\n",
       "    </tr>\n",
       "  </thead>\n",
       "  <tbody>\n",
       "    <tr>\n",
       "      <th>12</th>\n",
       "      <td>CS011215000048</td>\n",
       "      <td>芦田 沙耶</td>\n",
       "      <td>1</td>\n",
       "      <td>女性</td>\n",
       "      <td>1992-02-01</td>\n",
       "      <td>27</td>\n",
       "      <td>223-0062</td>\n",
       "      <td>神奈川県横浜市港北区日吉本町**********</td>\n",
       "      <td>S14011</td>\n",
       "      <td>20150228</td>\n",
       "      <td>C-20100421-9</td>\n",
       "    </tr>\n",
       "    <tr>\n",
       "      <th>68</th>\n",
       "      <td>CS022513000105</td>\n",
       "      <td>島村 貴美子</td>\n",
       "      <td>1</td>\n",
       "      <td>女性</td>\n",
       "      <td>1962-03-12</td>\n",
       "      <td>57</td>\n",
       "      <td>249-0002</td>\n",
       "      <td>神奈川県逗子市山の根**********</td>\n",
       "      <td>S14022</td>\n",
       "      <td>20150320</td>\n",
       "      <td>A-20091115-7</td>\n",
       "    </tr>\n",
       "    <tr>\n",
       "      <th>71</th>\n",
       "      <td>CS001515000096</td>\n",
       "      <td>水野 陽子</td>\n",
       "      <td>9</td>\n",
       "      <td>不明</td>\n",
       "      <td>1960-11-29</td>\n",
       "      <td>58</td>\n",
       "      <td>144-0053</td>\n",
       "      <td>東京都大田区蒲田本町**********</td>\n",
       "      <td>S13001</td>\n",
       "      <td>20150614</td>\n",
       "      <td>A-20100724-7</td>\n",
       "    </tr>\n",
       "    <tr>\n",
       "      <th>122</th>\n",
       "      <td>CS013615000053</td>\n",
       "      <td>西脇 季衣</td>\n",
       "      <td>1</td>\n",
       "      <td>女性</td>\n",
       "      <td>1953-10-18</td>\n",
       "      <td>65</td>\n",
       "      <td>261-0026</td>\n",
       "      <td>千葉県千葉市美浜区幕張西**********</td>\n",
       "      <td>S12013</td>\n",
       "      <td>20150128</td>\n",
       "      <td>B-20100329-6</td>\n",
       "    </tr>\n",
       "    <tr>\n",
       "      <th>144</th>\n",
       "      <td>CS020412000161</td>\n",
       "      <td>小宮 薫</td>\n",
       "      <td>1</td>\n",
       "      <td>女性</td>\n",
       "      <td>1974-05-21</td>\n",
       "      <td>44</td>\n",
       "      <td>174-0042</td>\n",
       "      <td>東京都板橋区東坂下**********</td>\n",
       "      <td>S13020</td>\n",
       "      <td>20150822</td>\n",
       "      <td>B-20081021-3</td>\n",
       "    </tr>\n",
       "    <tr>\n",
       "      <th>178</th>\n",
       "      <td>CS001215000097</td>\n",
       "      <td>竹中 あさみ</td>\n",
       "      <td>1</td>\n",
       "      <td>女性</td>\n",
       "      <td>1990-07-25</td>\n",
       "      <td>28</td>\n",
       "      <td>146-0095</td>\n",
       "      <td>東京都大田区多摩川**********</td>\n",
       "      <td>S13001</td>\n",
       "      <td>20170315</td>\n",
       "      <td>A-20100211-2</td>\n",
       "    </tr>\n",
       "    <tr>\n",
       "      <th>252</th>\n",
       "      <td>CS035212000007</td>\n",
       "      <td>内村 恵梨香</td>\n",
       "      <td>1</td>\n",
       "      <td>女性</td>\n",
       "      <td>1990-12-04</td>\n",
       "      <td>28</td>\n",
       "      <td>152-0023</td>\n",
       "      <td>東京都目黒区八雲**********</td>\n",
       "      <td>S13035</td>\n",
       "      <td>20151013</td>\n",
       "      <td>B-20101018-6</td>\n",
       "    </tr>\n",
       "    <tr>\n",
       "      <th>259</th>\n",
       "      <td>CS002515000386</td>\n",
       "      <td>野田 コウ</td>\n",
       "      <td>1</td>\n",
       "      <td>女性</td>\n",
       "      <td>1963-05-30</td>\n",
       "      <td>55</td>\n",
       "      <td>185-0013</td>\n",
       "      <td>東京都国分寺市西恋ケ窪**********</td>\n",
       "      <td>S13002</td>\n",
       "      <td>20160410</td>\n",
       "      <td>C-20100127-8</td>\n",
       "    </tr>\n",
       "    <tr>\n",
       "      <th>293</th>\n",
       "      <td>CS001615000372</td>\n",
       "      <td>稲垣 寿々花</td>\n",
       "      <td>1</td>\n",
       "      <td>女性</td>\n",
       "      <td>1956-10-29</td>\n",
       "      <td>62</td>\n",
       "      <td>144-0035</td>\n",
       "      <td>東京都大田区南蒲田**********</td>\n",
       "      <td>S13001</td>\n",
       "      <td>20170403</td>\n",
       "      <td>A-20100104-1</td>\n",
       "    </tr>\n",
       "    <tr>\n",
       "      <th>297</th>\n",
       "      <td>CS032512000121</td>\n",
       "      <td>松井 知世</td>\n",
       "      <td>1</td>\n",
       "      <td>女性</td>\n",
       "      <td>1962-09-04</td>\n",
       "      <td>56</td>\n",
       "      <td>210-0011</td>\n",
       "      <td>神奈川県川崎市川崎区富士見**********</td>\n",
       "      <td>S13032</td>\n",
       "      <td>20150727</td>\n",
       "      <td>A-20100103-5</td>\n",
       "    </tr>\n",
       "  </tbody>\n",
       "</table>\n",
       "</div>"
      ],
      "text/plain": [
       "        customer_id customer_name  gender_cd gender   birth_day  age  \\\n",
       "12   CS011215000048         芦田 沙耶          1     女性  1992-02-01   27   \n",
       "68   CS022513000105        島村 貴美子          1     女性  1962-03-12   57   \n",
       "71   CS001515000096         水野 陽子          9     不明  1960-11-29   58   \n",
       "122  CS013615000053         西脇 季衣          1     女性  1953-10-18   65   \n",
       "144  CS020412000161          小宮 薫          1     女性  1974-05-21   44   \n",
       "178  CS001215000097        竹中 あさみ          1     女性  1990-07-25   28   \n",
       "252  CS035212000007        内村 恵梨香          1     女性  1990-12-04   28   \n",
       "259  CS002515000386         野田 コウ          1     女性  1963-05-30   55   \n",
       "293  CS001615000372        稲垣 寿々花          1     女性  1956-10-29   62   \n",
       "297  CS032512000121         松井 知世          1     女性  1962-09-04   56   \n",
       "\n",
       "    postal_cd                   address application_store_cd  \\\n",
       "12   223-0062  神奈川県横浜市港北区日吉本町**********               S14011   \n",
       "68   249-0002      神奈川県逗子市山の根**********               S14022   \n",
       "71   144-0053      東京都大田区蒲田本町**********               S13001   \n",
       "122  261-0026    千葉県千葉市美浜区幕張西**********               S12013   \n",
       "144  174-0042       東京都板橋区東坂下**********               S13020   \n",
       "178  146-0095       東京都大田区多摩川**********               S13001   \n",
       "252  152-0023        東京都目黒区八雲**********               S13035   \n",
       "259  185-0013     東京都国分寺市西恋ケ窪**********               S13002   \n",
       "293  144-0035       東京都大田区南蒲田**********               S13001   \n",
       "297  210-0011   神奈川県川崎市川崎区富士見**********               S13032   \n",
       "\n",
       "     application_date     status_cd  \n",
       "12           20150228  C-20100421-9  \n",
       "68           20150320  A-20091115-7  \n",
       "71           20150614  A-20100724-7  \n",
       "122          20150128  B-20100329-6  \n",
       "144          20150822  B-20081021-3  \n",
       "178          20170315  A-20100211-2  \n",
       "252          20151013  B-20101018-6  \n",
       "259          20160410  C-20100127-8  \n",
       "293          20170403  A-20100104-1  \n",
       "297          20150727  A-20100103-5  "
      ]
     },
     "execution_count": 20,
     "metadata": {},
     "output_type": "execute_result"
    }
   ],
   "source": [
    "# df_customerP015 = df_customer[(df_customer[\"status_cd\"].str.match('[A-F]+.*')) & (df_customer[\"status_cd\"].str.match('.*[1-9]+$'))]\n",
    "df_customerP015 = df_customer[(df_customer[\"status_cd\"].str.match('[A-F]+.*[1-9]+$'))]\n",
    "df_customerP015.head(10)"
   ]
  },
  {
   "cell_type": "markdown",
   "metadata": {
    "id": "nlmJ0Gaf0jA8"
   },
   "source": [
    "## P016"
   ]
  },
  {
   "cell_type": "markdown",
   "metadata": {
    "id": "48UCinEUhhyF"
   },
   "source": [
    "---\n",
    "> P-016: 店舗データフレーム（df_store）から、電話番号（tel_no）が3桁-3桁-4桁のデータを全項目表示せよ。"
   ]
  },
  {
   "cell_type": "code",
   "execution_count": 21,
   "metadata": {
    "colab": {
     "base_uri": "https://localhost:8080/",
     "height": 200
    },
    "executionInfo": {
     "elapsed": 4596,
     "status": "ok",
     "timestamp": 1602918850496,
     "user": {
      "displayName": "Ohmura Kameko",
      "photoUrl": "https://lh3.googleusercontent.com/a-/AOh14GgExU0PVzY4tFSVHIVpSTmpKsEAjIZd7RIX--Mm5g=s64",
      "userId": "10791134844177295636"
     },
     "user_tz": -540
    },
    "id": "SrA3BoD5hhyF",
    "outputId": "0b50372a-4bbf-4237-c97d-7d6bba192880"
   },
   "outputs": [
    {
     "data": {
      "text/html": [
       "<div>\n",
       "<style scoped>\n",
       "    .dataframe tbody tr th:only-of-type {\n",
       "        vertical-align: middle;\n",
       "    }\n",
       "\n",
       "    .dataframe tbody tr th {\n",
       "        vertical-align: top;\n",
       "    }\n",
       "\n",
       "    .dataframe thead th {\n",
       "        text-align: right;\n",
       "    }\n",
       "</style>\n",
       "<table border=\"1\" class=\"dataframe\">\n",
       "  <thead>\n",
       "    <tr style=\"text-align: right;\">\n",
       "      <th></th>\n",
       "      <th>store_cd</th>\n",
       "      <th>store_name</th>\n",
       "      <th>prefecture_cd</th>\n",
       "      <th>prefecture</th>\n",
       "      <th>address</th>\n",
       "      <th>address_kana</th>\n",
       "      <th>tel_no</th>\n",
       "      <th>longitude</th>\n",
       "      <th>latitude</th>\n",
       "      <th>floor_area</th>\n",
       "    </tr>\n",
       "  </thead>\n",
       "  <tbody>\n",
       "    <tr>\n",
       "      <th>0</th>\n",
       "      <td>S12014</td>\n",
       "      <td>千草台店</td>\n",
       "      <td>12</td>\n",
       "      <td>千葉県</td>\n",
       "      <td>千葉県千葉市稲毛区千草台一丁目</td>\n",
       "      <td>チバケンチバシイナゲクチグサダイイッチョウメ</td>\n",
       "      <td>043-123-4003</td>\n",
       "      <td>140.1180</td>\n",
       "      <td>35.63559</td>\n",
       "      <td>1698.0</td>\n",
       "    </tr>\n",
       "    <tr>\n",
       "      <th>1</th>\n",
       "      <td>S13002</td>\n",
       "      <td>国分寺店</td>\n",
       "      <td>13</td>\n",
       "      <td>東京都</td>\n",
       "      <td>東京都国分寺市本多二丁目</td>\n",
       "      <td>トウキョウトコクブンジシホンダニチョウメ</td>\n",
       "      <td>042-123-4008</td>\n",
       "      <td>139.4802</td>\n",
       "      <td>35.70566</td>\n",
       "      <td>1735.0</td>\n",
       "    </tr>\n",
       "    <tr>\n",
       "      <th>2</th>\n",
       "      <td>S14010</td>\n",
       "      <td>菊名店</td>\n",
       "      <td>14</td>\n",
       "      <td>神奈川県</td>\n",
       "      <td>神奈川県横浜市港北区菊名一丁目</td>\n",
       "      <td>カナガワケンヨコハマシコウホククキクナイッチョウメ</td>\n",
       "      <td>045-123-4032</td>\n",
       "      <td>139.6326</td>\n",
       "      <td>35.50049</td>\n",
       "      <td>1732.0</td>\n",
       "    </tr>\n",
       "    <tr>\n",
       "      <th>3</th>\n",
       "      <td>S14033</td>\n",
       "      <td>阿久和店</td>\n",
       "      <td>14</td>\n",
       "      <td>神奈川県</td>\n",
       "      <td>神奈川県横浜市瀬谷区阿久和西一丁目</td>\n",
       "      <td>カナガワケンヨコハマシセヤクアクワニシイッチョウメ</td>\n",
       "      <td>045-123-4043</td>\n",
       "      <td>139.4961</td>\n",
       "      <td>35.45918</td>\n",
       "      <td>1495.0</td>\n",
       "    </tr>\n",
       "    <tr>\n",
       "      <th>4</th>\n",
       "      <td>S14036</td>\n",
       "      <td>相模原中央店</td>\n",
       "      <td>14</td>\n",
       "      <td>神奈川県</td>\n",
       "      <td>神奈川県相模原市中央二丁目</td>\n",
       "      <td>カナガワケンサガミハラシチュウオウニチョウメ</td>\n",
       "      <td>042-123-4045</td>\n",
       "      <td>139.3716</td>\n",
       "      <td>35.57327</td>\n",
       "      <td>1679.0</td>\n",
       "    </tr>\n",
       "  </tbody>\n",
       "</table>\n",
       "</div>"
      ],
      "text/plain": [
       "  store_cd store_name  prefecture_cd prefecture            address  \\\n",
       "0   S12014       千草台店             12        千葉県    千葉県千葉市稲毛区千草台一丁目   \n",
       "1   S13002       国分寺店             13        東京都       東京都国分寺市本多二丁目   \n",
       "2   S14010        菊名店             14       神奈川県    神奈川県横浜市港北区菊名一丁目   \n",
       "3   S14033       阿久和店             14       神奈川県  神奈川県横浜市瀬谷区阿久和西一丁目   \n",
       "4   S14036     相模原中央店             14       神奈川県      神奈川県相模原市中央二丁目   \n",
       "\n",
       "                address_kana        tel_no  longitude  latitude  floor_area  \n",
       "0     チバケンチバシイナゲクチグサダイイッチョウメ  043-123-4003   140.1180  35.63559      1698.0  \n",
       "1       トウキョウトコクブンジシホンダニチョウメ  042-123-4008   139.4802  35.70566      1735.0  \n",
       "2  カナガワケンヨコハマシコウホククキクナイッチョウメ  045-123-4032   139.6326  35.50049      1732.0  \n",
       "3  カナガワケンヨコハマシセヤクアクワニシイッチョウメ  045-123-4043   139.4961  35.45918      1495.0  \n",
       "4     カナガワケンサガミハラシチュウオウニチョウメ  042-123-4045   139.3716  35.57327      1679.0  "
      ]
     },
     "execution_count": 21,
     "metadata": {},
     "output_type": "execute_result"
    }
   ],
   "source": [
    "df_storeP016 = df_store[df_store[\"tel_no\"].str.match(\"^[0-9]{3}-[0-9]{3}-[0-9]{4}$\")]\n",
    "df_storeP016.head()"
   ]
  },
  {
   "cell_type": "markdown",
   "metadata": {
    "id": "auwlNOA00kaq"
   },
   "source": [
    "## P017"
   ]
  },
  {
   "cell_type": "markdown",
   "metadata": {
    "id": "KnSy736bhhyH"
   },
   "source": [
    "---\n",
    "> P-17: 顧客データフレーム（df_customer）を生年月日（birth_day）で高齢順にソートし、先頭10件を全項目表示せよ。"
   ]
  },
  {
   "cell_type": "code",
   "execution_count": 22,
   "metadata": {
    "colab": {
     "base_uri": "https://localhost:8080/",
     "height": 352
    },
    "executionInfo": {
     "elapsed": 4576,
     "status": "ok",
     "timestamp": 1602918850498,
     "user": {
      "displayName": "Ohmura Kameko",
      "photoUrl": "https://lh3.googleusercontent.com/a-/AOh14GgExU0PVzY4tFSVHIVpSTmpKsEAjIZd7RIX--Mm5g=s64",
      "userId": "10791134844177295636"
     },
     "user_tz": -540
    },
    "id": "5gjQipFAhhyH",
    "outputId": "3e64b56e-cd93-49fd-ce63-4ea6372ccb9f"
   },
   "outputs": [
    {
     "data": {
      "text/html": [
       "<div>\n",
       "<style scoped>\n",
       "    .dataframe tbody tr th:only-of-type {\n",
       "        vertical-align: middle;\n",
       "    }\n",
       "\n",
       "    .dataframe tbody tr th {\n",
       "        vertical-align: top;\n",
       "    }\n",
       "\n",
       "    .dataframe thead th {\n",
       "        text-align: right;\n",
       "    }\n",
       "</style>\n",
       "<table border=\"1\" class=\"dataframe\">\n",
       "  <thead>\n",
       "    <tr style=\"text-align: right;\">\n",
       "      <th></th>\n",
       "      <th>customer_id</th>\n",
       "      <th>customer_name</th>\n",
       "      <th>gender_cd</th>\n",
       "      <th>gender</th>\n",
       "      <th>birth_day</th>\n",
       "      <th>age</th>\n",
       "      <th>postal_cd</th>\n",
       "      <th>address</th>\n",
       "      <th>application_store_cd</th>\n",
       "      <th>application_date</th>\n",
       "      <th>status_cd</th>\n",
       "    </tr>\n",
       "  </thead>\n",
       "  <tbody>\n",
       "    <tr>\n",
       "      <th>18817</th>\n",
       "      <td>CS003813000014</td>\n",
       "      <td>村山 菜々美</td>\n",
       "      <td>1</td>\n",
       "      <td>女性</td>\n",
       "      <td>1928-11-26</td>\n",
       "      <td>90</td>\n",
       "      <td>182-0007</td>\n",
       "      <td>東京都調布市菊野台**********</td>\n",
       "      <td>S13003</td>\n",
       "      <td>20160214</td>\n",
       "      <td>0-00000000-0</td>\n",
       "    </tr>\n",
       "    <tr>\n",
       "      <th>12328</th>\n",
       "      <td>CS026813000004</td>\n",
       "      <td>吉村 朝陽</td>\n",
       "      <td>1</td>\n",
       "      <td>女性</td>\n",
       "      <td>1928-12-14</td>\n",
       "      <td>90</td>\n",
       "      <td>251-0043</td>\n",
       "      <td>神奈川県藤沢市辻堂元町**********</td>\n",
       "      <td>S14026</td>\n",
       "      <td>20150723</td>\n",
       "      <td>0-00000000-0</td>\n",
       "    </tr>\n",
       "    <tr>\n",
       "      <th>15682</th>\n",
       "      <td>CS018811000003</td>\n",
       "      <td>熊沢 美里</td>\n",
       "      <td>1</td>\n",
       "      <td>女性</td>\n",
       "      <td>1929-01-07</td>\n",
       "      <td>90</td>\n",
       "      <td>204-0004</td>\n",
       "      <td>東京都清瀬市野塩**********</td>\n",
       "      <td>S13018</td>\n",
       "      <td>20150403</td>\n",
       "      <td>0-00000000-0</td>\n",
       "    </tr>\n",
       "    <tr>\n",
       "      <th>15302</th>\n",
       "      <td>CS027803000004</td>\n",
       "      <td>内村 拓郎</td>\n",
       "      <td>0</td>\n",
       "      <td>男性</td>\n",
       "      <td>1929-01-12</td>\n",
       "      <td>90</td>\n",
       "      <td>251-0031</td>\n",
       "      <td>神奈川県藤沢市鵠沼藤が谷**********</td>\n",
       "      <td>S14027</td>\n",
       "      <td>20151227</td>\n",
       "      <td>0-00000000-0</td>\n",
       "    </tr>\n",
       "    <tr>\n",
       "      <th>1681</th>\n",
       "      <td>CS013801000003</td>\n",
       "      <td>天野 拓郎</td>\n",
       "      <td>0</td>\n",
       "      <td>男性</td>\n",
       "      <td>1929-01-15</td>\n",
       "      <td>90</td>\n",
       "      <td>274-0824</td>\n",
       "      <td>千葉県船橋市前原東**********</td>\n",
       "      <td>S12013</td>\n",
       "      <td>20160120</td>\n",
       "      <td>0-00000000-0</td>\n",
       "    </tr>\n",
       "    <tr>\n",
       "      <th>7511</th>\n",
       "      <td>CS001814000022</td>\n",
       "      <td>鶴田 里穂</td>\n",
       "      <td>1</td>\n",
       "      <td>女性</td>\n",
       "      <td>1929-01-28</td>\n",
       "      <td>90</td>\n",
       "      <td>144-0045</td>\n",
       "      <td>東京都大田区南六郷**********</td>\n",
       "      <td>S13001</td>\n",
       "      <td>20161012</td>\n",
       "      <td>A-20090415-7</td>\n",
       "    </tr>\n",
       "    <tr>\n",
       "      <th>2378</th>\n",
       "      <td>CS016815000002</td>\n",
       "      <td>山元 美紀</td>\n",
       "      <td>1</td>\n",
       "      <td>女性</td>\n",
       "      <td>1929-02-22</td>\n",
       "      <td>90</td>\n",
       "      <td>184-0005</td>\n",
       "      <td>東京都小金井市桜町**********</td>\n",
       "      <td>S13016</td>\n",
       "      <td>20150629</td>\n",
       "      <td>C-20090923-C</td>\n",
       "    </tr>\n",
       "    <tr>\n",
       "      <th>4680</th>\n",
       "      <td>CS009815000003</td>\n",
       "      <td>中田 里穂</td>\n",
       "      <td>1</td>\n",
       "      <td>女性</td>\n",
       "      <td>1929-04-08</td>\n",
       "      <td>89</td>\n",
       "      <td>154-0014</td>\n",
       "      <td>東京都世田谷区新町**********</td>\n",
       "      <td>S13009</td>\n",
       "      <td>20150421</td>\n",
       "      <td>D-20091021-E</td>\n",
       "    </tr>\n",
       "    <tr>\n",
       "      <th>16070</th>\n",
       "      <td>CS005813000015</td>\n",
       "      <td>金谷 恵梨香</td>\n",
       "      <td>1</td>\n",
       "      <td>女性</td>\n",
       "      <td>1929-04-09</td>\n",
       "      <td>89</td>\n",
       "      <td>165-0032</td>\n",
       "      <td>東京都中野区鷺宮**********</td>\n",
       "      <td>S13005</td>\n",
       "      <td>20150506</td>\n",
       "      <td>0-00000000-0</td>\n",
       "    </tr>\n",
       "    <tr>\n",
       "      <th>6305</th>\n",
       "      <td>CS012813000013</td>\n",
       "      <td>宇野 南朋</td>\n",
       "      <td>1</td>\n",
       "      <td>女性</td>\n",
       "      <td>1929-04-09</td>\n",
       "      <td>89</td>\n",
       "      <td>231-0806</td>\n",
       "      <td>神奈川県横浜市中区本牧町**********</td>\n",
       "      <td>S14012</td>\n",
       "      <td>20150712</td>\n",
       "      <td>0-00000000-0</td>\n",
       "    </tr>\n",
       "  </tbody>\n",
       "</table>\n",
       "</div>"
      ],
      "text/plain": [
       "          customer_id customer_name  gender_cd gender   birth_day  age  \\\n",
       "18817  CS003813000014        村山 菜々美          1     女性  1928-11-26   90   \n",
       "12328  CS026813000004         吉村 朝陽          1     女性  1928-12-14   90   \n",
       "15682  CS018811000003         熊沢 美里          1     女性  1929-01-07   90   \n",
       "15302  CS027803000004         内村 拓郎          0     男性  1929-01-12   90   \n",
       "1681   CS013801000003         天野 拓郎          0     男性  1929-01-15   90   \n",
       "7511   CS001814000022         鶴田 里穂          1     女性  1929-01-28   90   \n",
       "2378   CS016815000002         山元 美紀          1     女性  1929-02-22   90   \n",
       "4680   CS009815000003         中田 里穂          1     女性  1929-04-08   89   \n",
       "16070  CS005813000015        金谷 恵梨香          1     女性  1929-04-09   89   \n",
       "6305   CS012813000013         宇野 南朋          1     女性  1929-04-09   89   \n",
       "\n",
       "      postal_cd                 address application_store_cd  \\\n",
       "18817  182-0007     東京都調布市菊野台**********               S13003   \n",
       "12328  251-0043   神奈川県藤沢市辻堂元町**********               S14026   \n",
       "15682  204-0004      東京都清瀬市野塩**********               S13018   \n",
       "15302  251-0031  神奈川県藤沢市鵠沼藤が谷**********               S14027   \n",
       "1681   274-0824     千葉県船橋市前原東**********               S12013   \n",
       "7511   144-0045     東京都大田区南六郷**********               S13001   \n",
       "2378   184-0005     東京都小金井市桜町**********               S13016   \n",
       "4680   154-0014     東京都世田谷区新町**********               S13009   \n",
       "16070  165-0032      東京都中野区鷺宮**********               S13005   \n",
       "6305   231-0806  神奈川県横浜市中区本牧町**********               S14012   \n",
       "\n",
       "       application_date     status_cd  \n",
       "18817          20160214  0-00000000-0  \n",
       "12328          20150723  0-00000000-0  \n",
       "15682          20150403  0-00000000-0  \n",
       "15302          20151227  0-00000000-0  \n",
       "1681           20160120  0-00000000-0  \n",
       "7511           20161012  A-20090415-7  \n",
       "2378           20150629  C-20090923-C  \n",
       "4680           20150421  D-20091021-E  \n",
       "16070          20150506  0-00000000-0  \n",
       "6305           20150712  0-00000000-0  "
      ]
     },
     "execution_count": 22,
     "metadata": {},
     "output_type": "execute_result"
    }
   ],
   "source": [
    "df_customerP017 = df_customer.sort_values(\"birth_day\").head(10)\n",
    "df_customerP017"
   ]
  },
  {
   "cell_type": "markdown",
   "metadata": {
    "id": "nRz6EAno0l8R"
   },
   "source": [
    "## P018"
   ]
  },
  {
   "cell_type": "markdown",
   "metadata": {
    "id": "BDUAeRqshhyI"
   },
   "source": [
    "---\n",
    "> P-18: 顧客データフレーム（df_customer）を生年月日（birth_day）で若い順にソートし、先頭10件を全項目表示せよ。"
   ]
  },
  {
   "cell_type": "code",
   "execution_count": 23,
   "metadata": {
    "colab": {
     "base_uri": "https://localhost:8080/",
     "height": 352
    },
    "executionInfo": {
     "elapsed": 4558,
     "status": "ok",
     "timestamp": 1602918850500,
     "user": {
      "displayName": "Ohmura Kameko",
      "photoUrl": "https://lh3.googleusercontent.com/a-/AOh14GgExU0PVzY4tFSVHIVpSTmpKsEAjIZd7RIX--Mm5g=s64",
      "userId": "10791134844177295636"
     },
     "user_tz": -540
    },
    "id": "AkM5jZ2xhhyJ",
    "outputId": "7c3ab319-4c6c-4d01-9179-dc3d6acd34d5"
   },
   "outputs": [
    {
     "data": {
      "text/html": [
       "<div>\n",
       "<style scoped>\n",
       "    .dataframe tbody tr th:only-of-type {\n",
       "        vertical-align: middle;\n",
       "    }\n",
       "\n",
       "    .dataframe tbody tr th {\n",
       "        vertical-align: top;\n",
       "    }\n",
       "\n",
       "    .dataframe thead th {\n",
       "        text-align: right;\n",
       "    }\n",
       "</style>\n",
       "<table border=\"1\" class=\"dataframe\">\n",
       "  <thead>\n",
       "    <tr style=\"text-align: right;\">\n",
       "      <th></th>\n",
       "      <th>customer_id</th>\n",
       "      <th>customer_name</th>\n",
       "      <th>gender_cd</th>\n",
       "      <th>gender</th>\n",
       "      <th>birth_day</th>\n",
       "      <th>age</th>\n",
       "      <th>postal_cd</th>\n",
       "      <th>address</th>\n",
       "      <th>application_store_cd</th>\n",
       "      <th>application_date</th>\n",
       "      <th>status_cd</th>\n",
       "    </tr>\n",
       "  </thead>\n",
       "  <tbody>\n",
       "    <tr>\n",
       "      <th>15639</th>\n",
       "      <td>CS035114000004</td>\n",
       "      <td>大村 美里</td>\n",
       "      <td>1</td>\n",
       "      <td>女性</td>\n",
       "      <td>2007-11-25</td>\n",
       "      <td>11</td>\n",
       "      <td>156-0053</td>\n",
       "      <td>東京都世田谷区桜**********</td>\n",
       "      <td>S13035</td>\n",
       "      <td>20150619</td>\n",
       "      <td>6-20091205-6</td>\n",
       "    </tr>\n",
       "    <tr>\n",
       "      <th>7468</th>\n",
       "      <td>CS022103000002</td>\n",
       "      <td>福山 はじめ</td>\n",
       "      <td>9</td>\n",
       "      <td>不明</td>\n",
       "      <td>2007-10-02</td>\n",
       "      <td>11</td>\n",
       "      <td>249-0006</td>\n",
       "      <td>神奈川県逗子市逗子**********</td>\n",
       "      <td>S14022</td>\n",
       "      <td>20160909</td>\n",
       "      <td>0-00000000-0</td>\n",
       "    </tr>\n",
       "    <tr>\n",
       "      <th>10745</th>\n",
       "      <td>CS002113000009</td>\n",
       "      <td>柴田 真悠子</td>\n",
       "      <td>1</td>\n",
       "      <td>女性</td>\n",
       "      <td>2007-09-17</td>\n",
       "      <td>11</td>\n",
       "      <td>184-0014</td>\n",
       "      <td>東京都小金井市貫井南町**********</td>\n",
       "      <td>S13002</td>\n",
       "      <td>20160304</td>\n",
       "      <td>0-00000000-0</td>\n",
       "    </tr>\n",
       "    <tr>\n",
       "      <th>19811</th>\n",
       "      <td>CS004115000014</td>\n",
       "      <td>松井 京子</td>\n",
       "      <td>1</td>\n",
       "      <td>女性</td>\n",
       "      <td>2007-08-09</td>\n",
       "      <td>11</td>\n",
       "      <td>165-0031</td>\n",
       "      <td>東京都中野区上鷺宮**********</td>\n",
       "      <td>S13004</td>\n",
       "      <td>20161120</td>\n",
       "      <td>1-20081231-1</td>\n",
       "    </tr>\n",
       "    <tr>\n",
       "      <th>7039</th>\n",
       "      <td>CS002114000010</td>\n",
       "      <td>山内 遥</td>\n",
       "      <td>1</td>\n",
       "      <td>女性</td>\n",
       "      <td>2007-06-03</td>\n",
       "      <td>11</td>\n",
       "      <td>184-0015</td>\n",
       "      <td>東京都小金井市貫井北町**********</td>\n",
       "      <td>S13002</td>\n",
       "      <td>20160920</td>\n",
       "      <td>6-20100510-1</td>\n",
       "    </tr>\n",
       "    <tr>\n",
       "      <th>3670</th>\n",
       "      <td>CS025115000002</td>\n",
       "      <td>小柳 夏希</td>\n",
       "      <td>1</td>\n",
       "      <td>女性</td>\n",
       "      <td>2007-04-18</td>\n",
       "      <td>11</td>\n",
       "      <td>245-0018</td>\n",
       "      <td>神奈川県横浜市泉区上飯田町**********</td>\n",
       "      <td>S14025</td>\n",
       "      <td>20160116</td>\n",
       "      <td>D-20100913-D</td>\n",
       "    </tr>\n",
       "    <tr>\n",
       "      <th>12493</th>\n",
       "      <td>CS002113000025</td>\n",
       "      <td>広末 まなみ</td>\n",
       "      <td>1</td>\n",
       "      <td>女性</td>\n",
       "      <td>2007-03-30</td>\n",
       "      <td>12</td>\n",
       "      <td>184-0015</td>\n",
       "      <td>東京都小金井市貫井北町**********</td>\n",
       "      <td>S13002</td>\n",
       "      <td>20171030</td>\n",
       "      <td>0-00000000-0</td>\n",
       "    </tr>\n",
       "    <tr>\n",
       "      <th>15977</th>\n",
       "      <td>CS033112000003</td>\n",
       "      <td>長野 美紀</td>\n",
       "      <td>1</td>\n",
       "      <td>女性</td>\n",
       "      <td>2007-03-22</td>\n",
       "      <td>12</td>\n",
       "      <td>245-0051</td>\n",
       "      <td>神奈川県横浜市戸塚区名瀬町**********</td>\n",
       "      <td>S14033</td>\n",
       "      <td>20150606</td>\n",
       "      <td>0-00000000-0</td>\n",
       "    </tr>\n",
       "    <tr>\n",
       "      <th>5716</th>\n",
       "      <td>CS007115000006</td>\n",
       "      <td>福岡 瞬</td>\n",
       "      <td>1</td>\n",
       "      <td>女性</td>\n",
       "      <td>2007-03-10</td>\n",
       "      <td>12</td>\n",
       "      <td>285-0845</td>\n",
       "      <td>千葉県佐倉市西志津**********</td>\n",
       "      <td>S12007</td>\n",
       "      <td>20151118</td>\n",
       "      <td>F-20101016-F</td>\n",
       "    </tr>\n",
       "    <tr>\n",
       "      <th>15097</th>\n",
       "      <td>CS014113000008</td>\n",
       "      <td>矢口 莉緒</td>\n",
       "      <td>1</td>\n",
       "      <td>女性</td>\n",
       "      <td>2007-03-05</td>\n",
       "      <td>12</td>\n",
       "      <td>260-0041</td>\n",
       "      <td>千葉県千葉市中央区東千葉**********</td>\n",
       "      <td>S12014</td>\n",
       "      <td>20150622</td>\n",
       "      <td>3-20091108-6</td>\n",
       "    </tr>\n",
       "  </tbody>\n",
       "</table>\n",
       "</div>"
      ],
      "text/plain": [
       "          customer_id customer_name  gender_cd gender   birth_day  age  \\\n",
       "15639  CS035114000004         大村 美里          1     女性  2007-11-25   11   \n",
       "7468   CS022103000002        福山 はじめ          9     不明  2007-10-02   11   \n",
       "10745  CS002113000009        柴田 真悠子          1     女性  2007-09-17   11   \n",
       "19811  CS004115000014         松井 京子          1     女性  2007-08-09   11   \n",
       "7039   CS002114000010          山内 遥          1     女性  2007-06-03   11   \n",
       "3670   CS025115000002         小柳 夏希          1     女性  2007-04-18   11   \n",
       "12493  CS002113000025        広末 まなみ          1     女性  2007-03-30   12   \n",
       "15977  CS033112000003         長野 美紀          1     女性  2007-03-22   12   \n",
       "5716   CS007115000006          福岡 瞬          1     女性  2007-03-10   12   \n",
       "15097  CS014113000008         矢口 莉緒          1     女性  2007-03-05   12   \n",
       "\n",
       "      postal_cd                  address application_store_cd  \\\n",
       "15639  156-0053       東京都世田谷区桜**********               S13035   \n",
       "7468   249-0006      神奈川県逗子市逗子**********               S14022   \n",
       "10745  184-0014    東京都小金井市貫井南町**********               S13002   \n",
       "19811  165-0031      東京都中野区上鷺宮**********               S13004   \n",
       "7039   184-0015    東京都小金井市貫井北町**********               S13002   \n",
       "3670   245-0018  神奈川県横浜市泉区上飯田町**********               S14025   \n",
       "12493  184-0015    東京都小金井市貫井北町**********               S13002   \n",
       "15977  245-0051  神奈川県横浜市戸塚区名瀬町**********               S14033   \n",
       "5716   285-0845      千葉県佐倉市西志津**********               S12007   \n",
       "15097  260-0041   千葉県千葉市中央区東千葉**********               S12014   \n",
       "\n",
       "       application_date     status_cd  \n",
       "15639          20150619  6-20091205-6  \n",
       "7468           20160909  0-00000000-0  \n",
       "10745          20160304  0-00000000-0  \n",
       "19811          20161120  1-20081231-1  \n",
       "7039           20160920  6-20100510-1  \n",
       "3670           20160116  D-20100913-D  \n",
       "12493          20171030  0-00000000-0  \n",
       "15977          20150606  0-00000000-0  \n",
       "5716           20151118  F-20101016-F  \n",
       "15097          20150622  3-20091108-6  "
      ]
     },
     "execution_count": 23,
     "metadata": {},
     "output_type": "execute_result"
    }
   ],
   "source": [
    "df_customerP018 = df_customer.sort_values(\"birth_day\", ascending=False).head(10)\n",
    "df_customerP018"
   ]
  },
  {
   "cell_type": "markdown",
   "metadata": {
    "id": "79BjhFb20n6R"
   },
   "source": [
    "## P019"
   ]
  },
  {
   "cell_type": "markdown",
   "metadata": {
    "id": "jIbxf5DwhhyK"
   },
   "source": [
    "---\n",
    "> P-19: レシート明細データフレーム（df_receipt）に対し、1件あたりの売上金額（amount）が高い順にランクを付与し、先頭10件を抽出せよ。項目は顧客ID（customer_id）、売上金額（amount）、付与したランクを表示させること。なお、売上金額（amount）が等しい場合は同一順位を付与するものとする。"
   ]
  },
  {
   "cell_type": "code",
   "execution_count": 24,
   "metadata": {
    "colab": {
     "base_uri": "https://localhost:8080/",
     "height": 352
    },
    "executionInfo": {
     "elapsed": 5058,
     "status": "ok",
     "timestamp": 1602918851019,
     "user": {
      "displayName": "Ohmura Kameko",
      "photoUrl": "https://lh3.googleusercontent.com/a-/AOh14GgExU0PVzY4tFSVHIVpSTmpKsEAjIZd7RIX--Mm5g=s64",
      "userId": "10791134844177295636"
     },
     "user_tz": -540
    },
    "id": "erXRPeQXhhyL",
    "outputId": "6923abe8-a9bd-4806-e6e8-3a8f853fc0b2"
   },
   "outputs": [
    {
     "data": {
      "text/html": [
       "<div>\n",
       "<style scoped>\n",
       "    .dataframe tbody tr th:only-of-type {\n",
       "        vertical-align: middle;\n",
       "    }\n",
       "\n",
       "    .dataframe tbody tr th {\n",
       "        vertical-align: top;\n",
       "    }\n",
       "\n",
       "    .dataframe thead th {\n",
       "        text-align: right;\n",
       "    }\n",
       "</style>\n",
       "<table border=\"1\" class=\"dataframe\">\n",
       "  <thead>\n",
       "    <tr style=\"text-align: right;\">\n",
       "      <th></th>\n",
       "      <th>sales_ymd</th>\n",
       "      <th>sales_epoch</th>\n",
       "      <th>store_cd</th>\n",
       "      <th>receipt_no</th>\n",
       "      <th>receipt_sub_no</th>\n",
       "      <th>customer_id</th>\n",
       "      <th>product_cd</th>\n",
       "      <th>quantity</th>\n",
       "      <th>amount</th>\n",
       "      <th>rank</th>\n",
       "    </tr>\n",
       "  </thead>\n",
       "  <tbody>\n",
       "    <tr>\n",
       "      <th>1202</th>\n",
       "      <td>20190903</td>\n",
       "      <td>1567468800</td>\n",
       "      <td>S14011</td>\n",
       "      <td>1192</td>\n",
       "      <td>2</td>\n",
       "      <td>CS011415000006</td>\n",
       "      <td>P080104055</td>\n",
       "      <td>1</td>\n",
       "      <td>10925</td>\n",
       "      <td>1.0</td>\n",
       "    </tr>\n",
       "    <tr>\n",
       "      <th>62317</th>\n",
       "      <td>20190304</td>\n",
       "      <td>1551657600</td>\n",
       "      <td>S14046</td>\n",
       "      <td>1152</td>\n",
       "      <td>2</td>\n",
       "      <td>ZZ000000000000</td>\n",
       "      <td>P090302118</td>\n",
       "      <td>1</td>\n",
       "      <td>6800</td>\n",
       "      <td>2.0</td>\n",
       "    </tr>\n",
       "    <tr>\n",
       "      <th>54095</th>\n",
       "      <td>20170921</td>\n",
       "      <td>1505952000</td>\n",
       "      <td>S14028</td>\n",
       "      <td>1192</td>\n",
       "      <td>2</td>\n",
       "      <td>CS028605000002</td>\n",
       "      <td>P090907210</td>\n",
       "      <td>1</td>\n",
       "      <td>5780</td>\n",
       "      <td>3.0</td>\n",
       "    </tr>\n",
       "    <tr>\n",
       "      <th>4632</th>\n",
       "      <td>20170721</td>\n",
       "      <td>1500595200</td>\n",
       "      <td>S13015</td>\n",
       "      <td>1112</td>\n",
       "      <td>1</td>\n",
       "      <td>CS015515000034</td>\n",
       "      <td>P090907208</td>\n",
       "      <td>1</td>\n",
       "      <td>5480</td>\n",
       "      <td>4.0</td>\n",
       "    </tr>\n",
       "    <tr>\n",
       "      <th>72747</th>\n",
       "      <td>20190724</td>\n",
       "      <td>1563926400</td>\n",
       "      <td>S13009</td>\n",
       "      <td>1192</td>\n",
       "      <td>2</td>\n",
       "      <td>ZZ000000000000</td>\n",
       "      <td>P090907209</td>\n",
       "      <td>1</td>\n",
       "      <td>5480</td>\n",
       "      <td>4.0</td>\n",
       "    </tr>\n",
       "    <tr>\n",
       "      <th>10320</th>\n",
       "      <td>20190103</td>\n",
       "      <td>1546473600</td>\n",
       "      <td>S14021</td>\n",
       "      <td>1162</td>\n",
       "      <td>2</td>\n",
       "      <td>ZZ000000000000</td>\n",
       "      <td>P090907208</td>\n",
       "      <td>1</td>\n",
       "      <td>5480</td>\n",
       "      <td>4.0</td>\n",
       "    </tr>\n",
       "    <tr>\n",
       "      <th>97294</th>\n",
       "      <td>20190209</td>\n",
       "      <td>1549670400</td>\n",
       "      <td>S14021</td>\n",
       "      <td>1142</td>\n",
       "      <td>2</td>\n",
       "      <td>CS021515000089</td>\n",
       "      <td>P090907206</td>\n",
       "      <td>1</td>\n",
       "      <td>5440</td>\n",
       "      <td>7.0</td>\n",
       "    </tr>\n",
       "    <tr>\n",
       "      <th>28304</th>\n",
       "      <td>20180621</td>\n",
       "      <td>1529539200</td>\n",
       "      <td>S13004</td>\n",
       "      <td>1172</td>\n",
       "      <td>2</td>\n",
       "      <td>ZZ000000000000</td>\n",
       "      <td>P090907206</td>\n",
       "      <td>1</td>\n",
       "      <td>5440</td>\n",
       "      <td>7.0</td>\n",
       "    </tr>\n",
       "    <tr>\n",
       "      <th>92246</th>\n",
       "      <td>20180212</td>\n",
       "      <td>1518393600</td>\n",
       "      <td>S13009</td>\n",
       "      <td>1142</td>\n",
       "      <td>1</td>\n",
       "      <td>CS009415000038</td>\n",
       "      <td>P071301009</td>\n",
       "      <td>1</td>\n",
       "      <td>5280</td>\n",
       "      <td>9.0</td>\n",
       "    </tr>\n",
       "    <tr>\n",
       "      <th>68553</th>\n",
       "      <td>20181021</td>\n",
       "      <td>1540080000</td>\n",
       "      <td>S14040</td>\n",
       "      <td>1182</td>\n",
       "      <td>2</td>\n",
       "      <td>CS040415000200</td>\n",
       "      <td>P071301009</td>\n",
       "      <td>1</td>\n",
       "      <td>5280</td>\n",
       "      <td>9.0</td>\n",
       "    </tr>\n",
       "  </tbody>\n",
       "</table>\n",
       "</div>"
      ],
      "text/plain": [
       "       sales_ymd  sales_epoch store_cd  receipt_no  receipt_sub_no  \\\n",
       "1202    20190903   1567468800   S14011        1192               2   \n",
       "62317   20190304   1551657600   S14046        1152               2   \n",
       "54095   20170921   1505952000   S14028        1192               2   \n",
       "4632    20170721   1500595200   S13015        1112               1   \n",
       "72747   20190724   1563926400   S13009        1192               2   \n",
       "10320   20190103   1546473600   S14021        1162               2   \n",
       "97294   20190209   1549670400   S14021        1142               2   \n",
       "28304   20180621   1529539200   S13004        1172               2   \n",
       "92246   20180212   1518393600   S13009        1142               1   \n",
       "68553   20181021   1540080000   S14040        1182               2   \n",
       "\n",
       "          customer_id  product_cd  quantity  amount  rank  \n",
       "1202   CS011415000006  P080104055         1   10925   1.0  \n",
       "62317  ZZ000000000000  P090302118         1    6800   2.0  \n",
       "54095  CS028605000002  P090907210         1    5780   3.0  \n",
       "4632   CS015515000034  P090907208         1    5480   4.0  \n",
       "72747  ZZ000000000000  P090907209         1    5480   4.0  \n",
       "10320  ZZ000000000000  P090907208         1    5480   4.0  \n",
       "97294  CS021515000089  P090907206         1    5440   7.0  \n",
       "28304  ZZ000000000000  P090907206         1    5440   7.0  \n",
       "92246  CS009415000038  P071301009         1    5280   9.0  \n",
       "68553  CS040415000200  P071301009         1    5280   9.0  "
      ]
     },
     "execution_count": 24,
     "metadata": {},
     "output_type": "execute_result"
    }
   ],
   "source": [
    "df_receiptP019 = df_receipt.copy()\n",
    "df_receiptP019[\"rank\"] = df_receipt[\"amount\"].rank(method=\"min\", ascending=False)\n",
    "df_receiptP019 = df_receiptP019.sort_values(\"rank\")\n",
    "df_receiptP019.head(10)"
   ]
  },
  {
   "cell_type": "markdown",
   "metadata": {
    "id": "H6Ypz6sB0pfR"
   },
   "source": [
    "## P020"
   ]
  },
  {
   "cell_type": "markdown",
   "metadata": {
    "id": "mhp33yibhhyM"
   },
   "source": [
    "---\n",
    "> P-020: レシート明細データフレーム（df_receipt）に対し、1件あたりの売上金額（amount）が高い順にランクを付与し、先頭10件を抽出せよ。項目は顧客ID（customer_id）、売上金額（amount）、付与したランクを表示させること。なお、売上金額（amount）が等しい場合でも別順位を付与すること。"
   ]
  },
  {
   "cell_type": "code",
   "execution_count": 25,
   "metadata": {
    "colab": {
     "base_uri": "https://localhost:8080/",
     "height": 352
    },
    "executionInfo": {
     "elapsed": 5039,
     "status": "ok",
     "timestamp": 1602918851020,
     "user": {
      "displayName": "Ohmura Kameko",
      "photoUrl": "https://lh3.googleusercontent.com/a-/AOh14GgExU0PVzY4tFSVHIVpSTmpKsEAjIZd7RIX--Mm5g=s64",
      "userId": "10791134844177295636"
     },
     "user_tz": -540
    },
    "id": "Ks8wJ4dghhyM",
    "outputId": "22b3a041-42d0-4433-c38a-4d4861945a72"
   },
   "outputs": [
    {
     "data": {
      "text/html": [
       "<div>\n",
       "<style scoped>\n",
       "    .dataframe tbody tr th:only-of-type {\n",
       "        vertical-align: middle;\n",
       "    }\n",
       "\n",
       "    .dataframe tbody tr th {\n",
       "        vertical-align: top;\n",
       "    }\n",
       "\n",
       "    .dataframe thead th {\n",
       "        text-align: right;\n",
       "    }\n",
       "</style>\n",
       "<table border=\"1\" class=\"dataframe\">\n",
       "  <thead>\n",
       "    <tr style=\"text-align: right;\">\n",
       "      <th></th>\n",
       "      <th>sales_ymd</th>\n",
       "      <th>sales_epoch</th>\n",
       "      <th>store_cd</th>\n",
       "      <th>receipt_no</th>\n",
       "      <th>receipt_sub_no</th>\n",
       "      <th>customer_id</th>\n",
       "      <th>product_cd</th>\n",
       "      <th>quantity</th>\n",
       "      <th>amount</th>\n",
       "      <th>rank</th>\n",
       "    </tr>\n",
       "  </thead>\n",
       "  <tbody>\n",
       "    <tr>\n",
       "      <th>1202</th>\n",
       "      <td>20190903</td>\n",
       "      <td>1567468800</td>\n",
       "      <td>S14011</td>\n",
       "      <td>1192</td>\n",
       "      <td>2</td>\n",
       "      <td>CS011415000006</td>\n",
       "      <td>P080104055</td>\n",
       "      <td>1</td>\n",
       "      <td>10925</td>\n",
       "      <td>1.0</td>\n",
       "    </tr>\n",
       "    <tr>\n",
       "      <th>62317</th>\n",
       "      <td>20190304</td>\n",
       "      <td>1551657600</td>\n",
       "      <td>S14046</td>\n",
       "      <td>1152</td>\n",
       "      <td>2</td>\n",
       "      <td>ZZ000000000000</td>\n",
       "      <td>P090302118</td>\n",
       "      <td>1</td>\n",
       "      <td>6800</td>\n",
       "      <td>2.0</td>\n",
       "    </tr>\n",
       "    <tr>\n",
       "      <th>54095</th>\n",
       "      <td>20170921</td>\n",
       "      <td>1505952000</td>\n",
       "      <td>S14028</td>\n",
       "      <td>1192</td>\n",
       "      <td>2</td>\n",
       "      <td>CS028605000002</td>\n",
       "      <td>P090907210</td>\n",
       "      <td>1</td>\n",
       "      <td>5780</td>\n",
       "      <td>3.0</td>\n",
       "    </tr>\n",
       "    <tr>\n",
       "      <th>4632</th>\n",
       "      <td>20170721</td>\n",
       "      <td>1500595200</td>\n",
       "      <td>S13015</td>\n",
       "      <td>1112</td>\n",
       "      <td>1</td>\n",
       "      <td>CS015515000034</td>\n",
       "      <td>P090907208</td>\n",
       "      <td>1</td>\n",
       "      <td>5480</td>\n",
       "      <td>4.0</td>\n",
       "    </tr>\n",
       "    <tr>\n",
       "      <th>10320</th>\n",
       "      <td>20190103</td>\n",
       "      <td>1546473600</td>\n",
       "      <td>S14021</td>\n",
       "      <td>1162</td>\n",
       "      <td>2</td>\n",
       "      <td>ZZ000000000000</td>\n",
       "      <td>P090907208</td>\n",
       "      <td>1</td>\n",
       "      <td>5480</td>\n",
       "      <td>5.0</td>\n",
       "    </tr>\n",
       "    <tr>\n",
       "      <th>72747</th>\n",
       "      <td>20190724</td>\n",
       "      <td>1563926400</td>\n",
       "      <td>S13009</td>\n",
       "      <td>1192</td>\n",
       "      <td>2</td>\n",
       "      <td>ZZ000000000000</td>\n",
       "      <td>P090907209</td>\n",
       "      <td>1</td>\n",
       "      <td>5480</td>\n",
       "      <td>6.0</td>\n",
       "    </tr>\n",
       "    <tr>\n",
       "      <th>28304</th>\n",
       "      <td>20180621</td>\n",
       "      <td>1529539200</td>\n",
       "      <td>S13004</td>\n",
       "      <td>1172</td>\n",
       "      <td>2</td>\n",
       "      <td>ZZ000000000000</td>\n",
       "      <td>P090907206</td>\n",
       "      <td>1</td>\n",
       "      <td>5440</td>\n",
       "      <td>7.0</td>\n",
       "    </tr>\n",
       "    <tr>\n",
       "      <th>97294</th>\n",
       "      <td>20190209</td>\n",
       "      <td>1549670400</td>\n",
       "      <td>S14021</td>\n",
       "      <td>1142</td>\n",
       "      <td>2</td>\n",
       "      <td>CS021515000089</td>\n",
       "      <td>P090907206</td>\n",
       "      <td>1</td>\n",
       "      <td>5440</td>\n",
       "      <td>8.0</td>\n",
       "    </tr>\n",
       "    <tr>\n",
       "      <th>596</th>\n",
       "      <td>20181219</td>\n",
       "      <td>1545177600</td>\n",
       "      <td>S13015</td>\n",
       "      <td>1132</td>\n",
       "      <td>1</td>\n",
       "      <td>CS015515000083</td>\n",
       "      <td>P071301009</td>\n",
       "      <td>1</td>\n",
       "      <td>5280</td>\n",
       "      <td>9.0</td>\n",
       "    </tr>\n",
       "    <tr>\n",
       "      <th>11275</th>\n",
       "      <td>20180603</td>\n",
       "      <td>1527984000</td>\n",
       "      <td>S13017</td>\n",
       "      <td>1192</td>\n",
       "      <td>1</td>\n",
       "      <td>CS017414000114</td>\n",
       "      <td>P071301009</td>\n",
       "      <td>1</td>\n",
       "      <td>5280</td>\n",
       "      <td>10.0</td>\n",
       "    </tr>\n",
       "  </tbody>\n",
       "</table>\n",
       "</div>"
      ],
      "text/plain": [
       "       sales_ymd  sales_epoch store_cd  receipt_no  receipt_sub_no  \\\n",
       "1202    20190903   1567468800   S14011        1192               2   \n",
       "62317   20190304   1551657600   S14046        1152               2   \n",
       "54095   20170921   1505952000   S14028        1192               2   \n",
       "4632    20170721   1500595200   S13015        1112               1   \n",
       "10320   20190103   1546473600   S14021        1162               2   \n",
       "72747   20190724   1563926400   S13009        1192               2   \n",
       "28304   20180621   1529539200   S13004        1172               2   \n",
       "97294   20190209   1549670400   S14021        1142               2   \n",
       "596     20181219   1545177600   S13015        1132               1   \n",
       "11275   20180603   1527984000   S13017        1192               1   \n",
       "\n",
       "          customer_id  product_cd  quantity  amount  rank  \n",
       "1202   CS011415000006  P080104055         1   10925   1.0  \n",
       "62317  ZZ000000000000  P090302118         1    6800   2.0  \n",
       "54095  CS028605000002  P090907210         1    5780   3.0  \n",
       "4632   CS015515000034  P090907208         1    5480   4.0  \n",
       "10320  ZZ000000000000  P090907208         1    5480   5.0  \n",
       "72747  ZZ000000000000  P090907209         1    5480   6.0  \n",
       "28304  ZZ000000000000  P090907206         1    5440   7.0  \n",
       "97294  CS021515000089  P090907206         1    5440   8.0  \n",
       "596    CS015515000083  P071301009         1    5280   9.0  \n",
       "11275  CS017414000114  P071301009         1    5280  10.0  "
      ]
     },
     "execution_count": 25,
     "metadata": {},
     "output_type": "execute_result"
    }
   ],
   "source": [
    "df_receiptP020 = df_receipt.copy()\n",
    "df_receiptP020[\"rank\"] = df_receipt[\"amount\"].rank(method=\"first\", ascending=False)\n",
    "df_receiptP020 = df_receiptP020.sort_values(\"rank\")\n",
    "df_receiptP020.head(10)"
   ]
  },
  {
   "cell_type": "markdown",
   "metadata": {
    "id": "xHM1FR2l0sJA"
   },
   "source": [
    "## P021"
   ]
  },
  {
   "cell_type": "markdown",
   "metadata": {
    "id": "1lRGtDSphhyQ"
   },
   "source": [
    "---\n",
    "> P-021: レシート明細データフレーム（df_receipt）に対し、件数をカウントせよ。"
   ]
  },
  {
   "cell_type": "code",
   "execution_count": 26,
   "metadata": {
    "colab": {
     "base_uri": "https://localhost:8080/"
    },
    "executionInfo": {
     "elapsed": 5021,
     "status": "ok",
     "timestamp": 1602918851022,
     "user": {
      "displayName": "Ohmura Kameko",
      "photoUrl": "https://lh3.googleusercontent.com/a-/AOh14GgExU0PVzY4tFSVHIVpSTmpKsEAjIZd7RIX--Mm5g=s64",
      "userId": "10791134844177295636"
     },
     "user_tz": -540
    },
    "id": "m-ihL_fVhhyQ",
    "outputId": "53c20746-a760-468c-abb1-01980ef5b99a"
   },
   "outputs": [
    {
     "data": {
      "text/plain": [
       "104681"
      ]
     },
     "execution_count": 26,
     "metadata": {},
     "output_type": "execute_result"
    }
   ],
   "source": [
    "len(df_receipt)"
   ]
  },
  {
   "cell_type": "markdown",
   "metadata": {
    "id": "W0GbSYqJ0twj"
   },
   "source": [
    "## P022"
   ]
  },
  {
   "cell_type": "markdown",
   "metadata": {
    "id": "MkjDW-oyhhyS"
   },
   "source": [
    "---\n",
    "> P-022: レシート明細データフレーム（df_receipt）の顧客ID（customer_id）に対し、ユニーク件数をカウントせよ。"
   ]
  },
  {
   "cell_type": "code",
   "execution_count": 27,
   "metadata": {
    "colab": {
     "base_uri": "https://localhost:8080/"
    },
    "executionInfo": {
     "elapsed": 5008,
     "status": "ok",
     "timestamp": 1602918851023,
     "user": {
      "displayName": "Ohmura Kameko",
      "photoUrl": "https://lh3.googleusercontent.com/a-/AOh14GgExU0PVzY4tFSVHIVpSTmpKsEAjIZd7RIX--Mm5g=s64",
      "userId": "10791134844177295636"
     },
     "user_tz": -540
    },
    "id": "0xSI9r8UhhyS",
    "outputId": "7f1339bb-e725-48b4-f32e-54bb9a990236"
   },
   "outputs": [
    {
     "data": {
      "text/plain": [
       "8307"
      ]
     },
     "execution_count": 27,
     "metadata": {},
     "output_type": "execute_result"
    }
   ],
   "source": [
    "len(df_receipt.groupby([\"customer_id\"]))"
   ]
  },
  {
   "cell_type": "markdown",
   "metadata": {
    "id": "50LDsDRQ0vLF"
   },
   "source": [
    "## P023"
   ]
  },
  {
   "cell_type": "markdown",
   "metadata": {
    "id": "nhAK-Wf5hhyT"
   },
   "source": [
    "---\n",
    "> P-023: レシート明細データフレーム（df_receipt）に対し、店舗コード（store_cd）ごとに売上金額（amount）と売上数量（quantity）を合計せよ。"
   ]
  },
  {
   "cell_type": "code",
   "execution_count": 28,
   "metadata": {
    "colab": {
     "base_uri": "https://localhost:8080/"
    },
    "executionInfo": {
     "elapsed": 4996,
     "status": "ok",
     "timestamp": 1602918851024,
     "user": {
      "displayName": "Ohmura Kameko",
      "photoUrl": "https://lh3.googleusercontent.com/a-/AOh14GgExU0PVzY4tFSVHIVpSTmpKsEAjIZd7RIX--Mm5g=s64",
      "userId": "10791134844177295636"
     },
     "user_tz": -540
    },
    "id": "ZAkUf4-5hhyU",
    "outputId": "e8bc97a8-6874-4393-b60a-0c0400add49a"
   },
   "outputs": [
    {
     "data": {
      "text/html": [
       "<div>\n",
       "<style scoped>\n",
       "    .dataframe tbody tr th:only-of-type {\n",
       "        vertical-align: middle;\n",
       "    }\n",
       "\n",
       "    .dataframe tbody tr th {\n",
       "        vertical-align: top;\n",
       "    }\n",
       "\n",
       "    .dataframe thead th {\n",
       "        text-align: right;\n",
       "    }\n",
       "</style>\n",
       "<table border=\"1\" class=\"dataframe\">\n",
       "  <thead>\n",
       "    <tr style=\"text-align: right;\">\n",
       "      <th></th>\n",
       "      <th>amount</th>\n",
       "      <th>quantity</th>\n",
       "    </tr>\n",
       "    <tr>\n",
       "      <th>store_cd</th>\n",
       "      <th></th>\n",
       "      <th></th>\n",
       "    </tr>\n",
       "  </thead>\n",
       "  <tbody>\n",
       "    <tr>\n",
       "      <th>S12007</th>\n",
       "      <td>638761</td>\n",
       "      <td>2099</td>\n",
       "    </tr>\n",
       "    <tr>\n",
       "      <th>S12013</th>\n",
       "      <td>787513</td>\n",
       "      <td>2425</td>\n",
       "    </tr>\n",
       "    <tr>\n",
       "      <th>S12014</th>\n",
       "      <td>725167</td>\n",
       "      <td>2358</td>\n",
       "    </tr>\n",
       "    <tr>\n",
       "      <th>S12029</th>\n",
       "      <td>794741</td>\n",
       "      <td>2555</td>\n",
       "    </tr>\n",
       "    <tr>\n",
       "      <th>S12030</th>\n",
       "      <td>684402</td>\n",
       "      <td>2403</td>\n",
       "    </tr>\n",
       "  </tbody>\n",
       "</table>\n",
       "</div>"
      ],
      "text/plain": [
       "          amount  quantity\n",
       "store_cd                  \n",
       "S12007    638761      2099\n",
       "S12013    787513      2425\n",
       "S12014    725167      2358\n",
       "S12029    794741      2555\n",
       "S12030    684402      2403"
      ]
     },
     "execution_count": 28,
     "metadata": {},
     "output_type": "execute_result"
    }
   ],
   "source": [
    "df_receiptP023 = df_receipt.groupby(\"store_cd\")[[\"amount\", \"quantity\"]].sum()\n",
    "df_receiptP023.head()"
   ]
  },
  {
   "cell_type": "markdown",
   "metadata": {
    "id": "ke7tKnOy0xaD"
   },
   "source": [
    "## P024"
   ]
  },
  {
   "cell_type": "markdown",
   "metadata": {
    "id": "F4RjuZr_hhyV"
   },
   "source": [
    "---\n",
    "> P-024: レシート明細データフレーム（df_receipt）に対し、顧客ID（customer_id）ごとに最も新しい売上日（sales_ymd）を求め、10件表示せよ。"
   ]
  },
  {
   "cell_type": "code",
   "execution_count": 29,
   "metadata": {
    "colab": {
     "base_uri": "https://localhost:8080/"
    },
    "executionInfo": {
     "elapsed": 4984,
     "status": "ok",
     "timestamp": 1602918851025,
     "user": {
      "displayName": "Ohmura Kameko",
      "photoUrl": "https://lh3.googleusercontent.com/a-/AOh14GgExU0PVzY4tFSVHIVpSTmpKsEAjIZd7RIX--Mm5g=s64",
      "userId": "10791134844177295636"
     },
     "user_tz": -540
    },
    "id": "ir6Oke73hhyV",
    "outputId": "51ca3b39-52ca-4850-e04c-caf0acaaf13d"
   },
   "outputs": [
    {
     "data": {
      "text/html": [
       "<div>\n",
       "<style scoped>\n",
       "    .dataframe tbody tr th:only-of-type {\n",
       "        vertical-align: middle;\n",
       "    }\n",
       "\n",
       "    .dataframe tbody tr th {\n",
       "        vertical-align: top;\n",
       "    }\n",
       "\n",
       "    .dataframe thead th {\n",
       "        text-align: right;\n",
       "    }\n",
       "</style>\n",
       "<table border=\"1\" class=\"dataframe\">\n",
       "  <thead>\n",
       "    <tr style=\"text-align: right;\">\n",
       "      <th></th>\n",
       "      <th>sales_ymd</th>\n",
       "    </tr>\n",
       "    <tr>\n",
       "      <th>customer_id</th>\n",
       "      <th></th>\n",
       "    </tr>\n",
       "  </thead>\n",
       "  <tbody>\n",
       "    <tr>\n",
       "      <th>CS001113000004</th>\n",
       "      <td>20190308</td>\n",
       "    </tr>\n",
       "    <tr>\n",
       "      <th>CS001114000005</th>\n",
       "      <td>20190731</td>\n",
       "    </tr>\n",
       "    <tr>\n",
       "      <th>CS001115000010</th>\n",
       "      <td>20190405</td>\n",
       "    </tr>\n",
       "    <tr>\n",
       "      <th>CS001205000004</th>\n",
       "      <td>20190625</td>\n",
       "    </tr>\n",
       "    <tr>\n",
       "      <th>CS001205000006</th>\n",
       "      <td>20190224</td>\n",
       "    </tr>\n",
       "    <tr>\n",
       "      <th>CS001211000025</th>\n",
       "      <td>20190322</td>\n",
       "    </tr>\n",
       "    <tr>\n",
       "      <th>CS001212000027</th>\n",
       "      <td>20170127</td>\n",
       "    </tr>\n",
       "    <tr>\n",
       "      <th>CS001212000031</th>\n",
       "      <td>20180906</td>\n",
       "    </tr>\n",
       "    <tr>\n",
       "      <th>CS001212000046</th>\n",
       "      <td>20170811</td>\n",
       "    </tr>\n",
       "    <tr>\n",
       "      <th>CS001212000070</th>\n",
       "      <td>20191018</td>\n",
       "    </tr>\n",
       "  </tbody>\n",
       "</table>\n",
       "</div>"
      ],
      "text/plain": [
       "                sales_ymd\n",
       "customer_id              \n",
       "CS001113000004   20190308\n",
       "CS001114000005   20190731\n",
       "CS001115000010   20190405\n",
       "CS001205000004   20190625\n",
       "CS001205000006   20190224\n",
       "CS001211000025   20190322\n",
       "CS001212000027   20170127\n",
       "CS001212000031   20180906\n",
       "CS001212000046   20170811\n",
       "CS001212000070   20191018"
      ]
     },
     "execution_count": 29,
     "metadata": {},
     "output_type": "execute_result"
    }
   ],
   "source": [
    "df_receiptP024 = df_receipt.groupby(\"customer_id\")[[\"sales_ymd\"]].max()\n",
    "df_receiptP024.head(10)"
   ]
  },
  {
   "cell_type": "markdown",
   "metadata": {
    "id": "B14ImkKi0zNo"
   },
   "source": [
    "## P025"
   ]
  },
  {
   "cell_type": "markdown",
   "metadata": {
    "id": "QZlvMM7AhhyX"
   },
   "source": [
    "---\n",
    "> P-025: レシート明細データフレーム（df_receipt）に対し、顧客ID（customer_id）ごとに最も古い売上日（sales_ymd）を求め、10件表示せよ。"
   ]
  },
  {
   "cell_type": "code",
   "execution_count": 30,
   "metadata": {
    "colab": {
     "base_uri": "https://localhost:8080/"
    },
    "executionInfo": {
     "elapsed": 4966,
     "status": "ok",
     "timestamp": 1602918851026,
     "user": {
      "displayName": "Ohmura Kameko",
      "photoUrl": "https://lh3.googleusercontent.com/a-/AOh14GgExU0PVzY4tFSVHIVpSTmpKsEAjIZd7RIX--Mm5g=s64",
      "userId": "10791134844177295636"
     },
     "user_tz": -540
    },
    "id": "MFnLotE_hhyX",
    "outputId": "abeb74b7-ec1e-444f-ceb7-f0e871e604cb"
   },
   "outputs": [
    {
     "data": {
      "text/html": [
       "<div>\n",
       "<style scoped>\n",
       "    .dataframe tbody tr th:only-of-type {\n",
       "        vertical-align: middle;\n",
       "    }\n",
       "\n",
       "    .dataframe tbody tr th {\n",
       "        vertical-align: top;\n",
       "    }\n",
       "\n",
       "    .dataframe thead th {\n",
       "        text-align: right;\n",
       "    }\n",
       "</style>\n",
       "<table border=\"1\" class=\"dataframe\">\n",
       "  <thead>\n",
       "    <tr style=\"text-align: right;\">\n",
       "      <th></th>\n",
       "      <th>sales_ymd</th>\n",
       "    </tr>\n",
       "    <tr>\n",
       "      <th>customer_id</th>\n",
       "      <th></th>\n",
       "    </tr>\n",
       "  </thead>\n",
       "  <tbody>\n",
       "    <tr>\n",
       "      <th>CS001113000004</th>\n",
       "      <td>20190308</td>\n",
       "    </tr>\n",
       "    <tr>\n",
       "      <th>CS001114000005</th>\n",
       "      <td>20180503</td>\n",
       "    </tr>\n",
       "    <tr>\n",
       "      <th>CS001115000010</th>\n",
       "      <td>20171228</td>\n",
       "    </tr>\n",
       "    <tr>\n",
       "      <th>CS001205000004</th>\n",
       "      <td>20170914</td>\n",
       "    </tr>\n",
       "    <tr>\n",
       "      <th>CS001205000006</th>\n",
       "      <td>20180207</td>\n",
       "    </tr>\n",
       "    <tr>\n",
       "      <th>CS001211000025</th>\n",
       "      <td>20190322</td>\n",
       "    </tr>\n",
       "    <tr>\n",
       "      <th>CS001212000027</th>\n",
       "      <td>20170127</td>\n",
       "    </tr>\n",
       "    <tr>\n",
       "      <th>CS001212000031</th>\n",
       "      <td>20180906</td>\n",
       "    </tr>\n",
       "    <tr>\n",
       "      <th>CS001212000046</th>\n",
       "      <td>20170811</td>\n",
       "    </tr>\n",
       "    <tr>\n",
       "      <th>CS001212000070</th>\n",
       "      <td>20191018</td>\n",
       "    </tr>\n",
       "  </tbody>\n",
       "</table>\n",
       "</div>"
      ],
      "text/plain": [
       "                sales_ymd\n",
       "customer_id              \n",
       "CS001113000004   20190308\n",
       "CS001114000005   20180503\n",
       "CS001115000010   20171228\n",
       "CS001205000004   20170914\n",
       "CS001205000006   20180207\n",
       "CS001211000025   20190322\n",
       "CS001212000027   20170127\n",
       "CS001212000031   20180906\n",
       "CS001212000046   20170811\n",
       "CS001212000070   20191018"
      ]
     },
     "execution_count": 30,
     "metadata": {},
     "output_type": "execute_result"
    }
   ],
   "source": [
    "df_receiptP025 = df_receipt.groupby(\"customer_id\")[[\"sales_ymd\"]].min()\n",
    "df_receiptP025.head(10)"
   ]
  },
  {
   "cell_type": "markdown",
   "metadata": {
    "id": "acCywXNV00xw"
   },
   "source": [
    "## P026"
   ]
  },
  {
   "cell_type": "markdown",
   "metadata": {
    "id": "QLeGVwYWhhyZ"
   },
   "source": [
    "---\n",
    "> P-026: レシート明細データフレーム（df_receipt）に対し、顧客ID（customer_id）ごとに最も新しい売上日（sales_ymd）と古い売上日を求め、両者が異なるデータを10件表示せよ。"
   ]
  },
  {
   "cell_type": "code",
   "execution_count": 31,
   "metadata": {
    "colab": {
     "base_uri": "https://localhost:8080/"
    },
    "executionInfo": {
     "elapsed": 4956,
     "status": "ok",
     "timestamp": 1602918851028,
     "user": {
      "displayName": "Ohmura Kameko",
      "photoUrl": "https://lh3.googleusercontent.com/a-/AOh14GgExU0PVzY4tFSVHIVpSTmpKsEAjIZd7RIX--Mm5g=s64",
      "userId": "10791134844177295636"
     },
     "user_tz": -540
    },
    "id": "q68lbEewhhyZ",
    "outputId": "5a995033-5c51-41ad-8ccc-d8c44d6a632b"
   },
   "outputs": [
    {
     "data": {
      "text/html": [
       "<div>\n",
       "<style scoped>\n",
       "    .dataframe tbody tr th:only-of-type {\n",
       "        vertical-align: middle;\n",
       "    }\n",
       "\n",
       "    .dataframe tbody tr th {\n",
       "        vertical-align: top;\n",
       "    }\n",
       "\n",
       "    .dataframe thead th {\n",
       "        text-align: right;\n",
       "    }\n",
       "</style>\n",
       "<table border=\"1\" class=\"dataframe\">\n",
       "  <thead>\n",
       "    <tr style=\"text-align: right;\">\n",
       "      <th></th>\n",
       "      <th>sales_ymd</th>\n",
       "      <th>sales_ymd_min</th>\n",
       "    </tr>\n",
       "    <tr>\n",
       "      <th>customer_id</th>\n",
       "      <th></th>\n",
       "      <th></th>\n",
       "    </tr>\n",
       "  </thead>\n",
       "  <tbody>\n",
       "    <tr>\n",
       "      <th>CS001114000005</th>\n",
       "      <td>20190731</td>\n",
       "      <td>20180503</td>\n",
       "    </tr>\n",
       "    <tr>\n",
       "      <th>CS001115000010</th>\n",
       "      <td>20190405</td>\n",
       "      <td>20171228</td>\n",
       "    </tr>\n",
       "    <tr>\n",
       "      <th>CS001205000004</th>\n",
       "      <td>20190625</td>\n",
       "      <td>20170914</td>\n",
       "    </tr>\n",
       "    <tr>\n",
       "      <th>CS001205000006</th>\n",
       "      <td>20190224</td>\n",
       "      <td>20180207</td>\n",
       "    </tr>\n",
       "    <tr>\n",
       "      <th>CS001214000009</th>\n",
       "      <td>20190902</td>\n",
       "      <td>20170306</td>\n",
       "    </tr>\n",
       "    <tr>\n",
       "      <th>CS001214000017</th>\n",
       "      <td>20191006</td>\n",
       "      <td>20180828</td>\n",
       "    </tr>\n",
       "    <tr>\n",
       "      <th>CS001214000048</th>\n",
       "      <td>20190929</td>\n",
       "      <td>20171109</td>\n",
       "    </tr>\n",
       "    <tr>\n",
       "      <th>CS001214000052</th>\n",
       "      <td>20190617</td>\n",
       "      <td>20180208</td>\n",
       "    </tr>\n",
       "    <tr>\n",
       "      <th>CS001215000005</th>\n",
       "      <td>20181021</td>\n",
       "      <td>20170206</td>\n",
       "    </tr>\n",
       "    <tr>\n",
       "      <th>CS001215000040</th>\n",
       "      <td>20171022</td>\n",
       "      <td>20170214</td>\n",
       "    </tr>\n",
       "  </tbody>\n",
       "</table>\n",
       "</div>"
      ],
      "text/plain": [
       "                sales_ymd  sales_ymd_min\n",
       "customer_id                             \n",
       "CS001114000005   20190731       20180503\n",
       "CS001115000010   20190405       20171228\n",
       "CS001205000004   20190625       20170914\n",
       "CS001205000006   20190224       20180207\n",
       "CS001214000009   20190902       20170306\n",
       "CS001214000017   20191006       20180828\n",
       "CS001214000048   20190929       20171109\n",
       "CS001214000052   20190617       20180208\n",
       "CS001215000005   20181021       20170206\n",
       "CS001215000040   20171022       20170214"
      ]
     },
     "execution_count": 31,
     "metadata": {},
     "output_type": "execute_result"
    }
   ],
   "source": [
    "df_receiptP026 = df_receipt.groupby(\"customer_id\")[[\"sales_ymd\"]].max()\n",
    "df_receiptP026[\"sales_ymd_min\"] = df_receipt.groupby(\"customer_id\")[[\"sales_ymd\"]].min()\n",
    "df_receiptP026[df_receiptP026[\"sales_ymd\"] != df_receiptP026[\"sales_ymd_min\"]].head(10)"
   ]
  },
  {
   "cell_type": "markdown",
   "metadata": {
    "id": "Sn_dxBQW03Z4"
   },
   "source": [
    "## P027"
   ]
  },
  {
   "cell_type": "markdown",
   "metadata": {
    "id": "259M7d7Ohhyb"
   },
   "source": [
    "---\n",
    "> P-027: レシート明細データフレーム（df_receipt）に対し、店舗コード（store_cd）ごとに売上金額（amount）の平均を計算し、降順でTOP5を表示せよ。"
   ]
  },
  {
   "cell_type": "code",
   "execution_count": 32,
   "metadata": {
    "colab": {
     "base_uri": "https://localhost:8080/"
    },
    "executionInfo": {
     "elapsed": 4944,
     "status": "ok",
     "timestamp": 1602918851029,
     "user": {
      "displayName": "Ohmura Kameko",
      "photoUrl": "https://lh3.googleusercontent.com/a-/AOh14GgExU0PVzY4tFSVHIVpSTmpKsEAjIZd7RIX--Mm5g=s64",
      "userId": "10791134844177295636"
     },
     "user_tz": -540
    },
    "id": "i5ehOOaBhhyb",
    "outputId": "6a5b172e-ddcb-4089-eebb-6e0b128ff31b"
   },
   "outputs": [
    {
     "data": {
      "text/html": [
       "<div>\n",
       "<style scoped>\n",
       "    .dataframe tbody tr th:only-of-type {\n",
       "        vertical-align: middle;\n",
       "    }\n",
       "\n",
       "    .dataframe tbody tr th {\n",
       "        vertical-align: top;\n",
       "    }\n",
       "\n",
       "    .dataframe thead th {\n",
       "        text-align: right;\n",
       "    }\n",
       "</style>\n",
       "<table border=\"1\" class=\"dataframe\">\n",
       "  <thead>\n",
       "    <tr style=\"text-align: right;\">\n",
       "      <th></th>\n",
       "      <th>amount</th>\n",
       "    </tr>\n",
       "    <tr>\n",
       "      <th>store_cd</th>\n",
       "      <th></th>\n",
       "    </tr>\n",
       "  </thead>\n",
       "  <tbody>\n",
       "    <tr>\n",
       "      <th>S13052</th>\n",
       "      <td>402.867470</td>\n",
       "    </tr>\n",
       "    <tr>\n",
       "      <th>S13015</th>\n",
       "      <td>351.111960</td>\n",
       "    </tr>\n",
       "    <tr>\n",
       "      <th>S13003</th>\n",
       "      <td>350.915519</td>\n",
       "    </tr>\n",
       "    <tr>\n",
       "      <th>S14010</th>\n",
       "      <td>348.791262</td>\n",
       "    </tr>\n",
       "    <tr>\n",
       "      <th>S13001</th>\n",
       "      <td>348.470386</td>\n",
       "    </tr>\n",
       "  </tbody>\n",
       "</table>\n",
       "</div>"
      ],
      "text/plain": [
       "              amount\n",
       "store_cd            \n",
       "S13052    402.867470\n",
       "S13015    351.111960\n",
       "S13003    350.915519\n",
       "S14010    348.791262\n",
       "S13001    348.470386"
      ]
     },
     "execution_count": 32,
     "metadata": {},
     "output_type": "execute_result"
    }
   ],
   "source": [
    "df_receiptP027 = df_receipt.groupby(\"store_cd\")[[\"amount\"]].mean()\n",
    "df_receiptP027.sort_values(\"amount\", ascending=False).head()"
   ]
  },
  {
   "cell_type": "markdown",
   "metadata": {
    "id": "E53nXlDV0412"
   },
   "source": [
    "## P028"
   ]
  },
  {
   "cell_type": "markdown",
   "metadata": {
    "id": "5oUtacPihhyc"
   },
   "source": [
    "---\n",
    "> P-028: レシート明細データフレーム（df_receipt）に対し、店舗コード（store_cd）ごとに売上金額（amount）の中央値を計算し、降順でTOP5を表示せよ。"
   ]
  },
  {
   "cell_type": "code",
   "execution_count": 33,
   "metadata": {
    "colab": {
     "base_uri": "https://localhost:8080/",
     "height": 230
    },
    "executionInfo": {
     "elapsed": 4931,
     "status": "ok",
     "timestamp": 1602918851031,
     "user": {
      "displayName": "Ohmura Kameko",
      "photoUrl": "https://lh3.googleusercontent.com/a-/AOh14GgExU0PVzY4tFSVHIVpSTmpKsEAjIZd7RIX--Mm5g=s64",
      "userId": "10791134844177295636"
     },
     "user_tz": -540
    },
    "id": "-s9SplCEhhyd",
    "outputId": "120b2ba1-65e5-41e6-f175-dd3f396df73c"
   },
   "outputs": [
    {
     "data": {
      "text/html": [
       "<div>\n",
       "<style scoped>\n",
       "    .dataframe tbody tr th:only-of-type {\n",
       "        vertical-align: middle;\n",
       "    }\n",
       "\n",
       "    .dataframe tbody tr th {\n",
       "        vertical-align: top;\n",
       "    }\n",
       "\n",
       "    .dataframe thead th {\n",
       "        text-align: right;\n",
       "    }\n",
       "</style>\n",
       "<table border=\"1\" class=\"dataframe\">\n",
       "  <thead>\n",
       "    <tr style=\"text-align: right;\">\n",
       "      <th></th>\n",
       "      <th>amount</th>\n",
       "    </tr>\n",
       "    <tr>\n",
       "      <th>store_cd</th>\n",
       "      <th></th>\n",
       "    </tr>\n",
       "  </thead>\n",
       "  <tbody>\n",
       "    <tr>\n",
       "      <th>S13052</th>\n",
       "      <td>190</td>\n",
       "    </tr>\n",
       "    <tr>\n",
       "      <th>S14010</th>\n",
       "      <td>188</td>\n",
       "    </tr>\n",
       "    <tr>\n",
       "      <th>S14050</th>\n",
       "      <td>185</td>\n",
       "    </tr>\n",
       "    <tr>\n",
       "      <th>S14040</th>\n",
       "      <td>180</td>\n",
       "    </tr>\n",
       "    <tr>\n",
       "      <th>S13003</th>\n",
       "      <td>180</td>\n",
       "    </tr>\n",
       "  </tbody>\n",
       "</table>\n",
       "</div>"
      ],
      "text/plain": [
       "          amount\n",
       "store_cd        \n",
       "S13052       190\n",
       "S14010       188\n",
       "S14050       185\n",
       "S14040       180\n",
       "S13003       180"
      ]
     },
     "execution_count": 33,
     "metadata": {},
     "output_type": "execute_result"
    }
   ],
   "source": [
    "df_receiptP028 = df_receipt.groupby(\"store_cd\")[[\"amount\"]].median()\n",
    "df_receiptP028.sort_values(\"amount\", ascending=False).head()"
   ]
  },
  {
   "cell_type": "markdown",
   "metadata": {
    "id": "Bk6z6jF606jd"
   },
   "source": [
    "## P029"
   ]
  },
  {
   "cell_type": "markdown",
   "metadata": {
    "id": "4i4pM4Cmhhye"
   },
   "source": [
    "---\n",
    "> P-029: レシート明細データフレーム（df_receipt）に対し、店舗コード（store_cd）ごとに商品コード（product_cd）の最頻値を求めよ。"
   ]
  },
  {
   "cell_type": "code",
   "execution_count": 34,
   "metadata": {
    "colab": {
     "base_uri": "https://localhost:8080/",
     "height": 141
    },
    "executionInfo": {
     "elapsed": 5358,
     "status": "ok",
     "timestamp": 1602918851470,
     "user": {
      "displayName": "Ohmura Kameko",
      "photoUrl": "https://lh3.googleusercontent.com/a-/AOh14GgExU0PVzY4tFSVHIVpSTmpKsEAjIZd7RIX--Mm5g=s64",
      "userId": "10791134844177295636"
     },
     "user_tz": -540
    },
    "id": "DsX1TXZIhhye",
    "outputId": "35298261-3275-4c83-cc4a-a2dc687333b1"
   },
   "outputs": [
    {
     "data": {
      "text/plain": [
       "store_cd   \n",
       "S12007    0    P060303001\n",
       "S12013    0    P060303001\n",
       "S12014    0    P060303001\n",
       "S12029    0    P060303001\n",
       "S12030    0    P060303001\n",
       "Name: product_cd, dtype: object"
      ]
     },
     "execution_count": 34,
     "metadata": {},
     "output_type": "execute_result"
    }
   ],
   "source": [
    "df_receiptP029 = df_receipt.groupby(\"store_cd\").product_cd.apply(lambda x: x.mode())\n",
    "df_receiptP029.head()"
   ]
  },
  {
   "cell_type": "markdown",
   "metadata": {
    "id": "DlcWX3Mj1ASd"
   },
   "source": [
    "## P030"
   ]
  },
  {
   "cell_type": "markdown",
   "metadata": {
    "id": "DKpNVF4Ahhyg"
   },
   "source": [
    "---\n",
    "> P-030: レシート明細データフレーム（df_receipt）に対し、店舗コード（store_cd）ごとに売上金額（amount）の標本分散を計算し、降順でTOP5を表示せよ。"
   ]
  },
  {
   "cell_type": "code",
   "execution_count": 35,
   "metadata": {
    "colab": {
     "base_uri": "https://localhost:8080/",
     "height": 230
    },
    "executionInfo": {
     "elapsed": 5347,
     "status": "ok",
     "timestamp": 1602918851471,
     "user": {
      "displayName": "Ohmura Kameko",
      "photoUrl": "https://lh3.googleusercontent.com/a-/AOh14GgExU0PVzY4tFSVHIVpSTmpKsEAjIZd7RIX--Mm5g=s64",
      "userId": "10791134844177295636"
     },
     "user_tz": -540
    },
    "id": "YO_oM4BRhhyg",
    "outputId": "5935db86-b930-433d-aae7-46532ab4e8a2"
   },
   "outputs": [
    {
     "data": {
      "text/html": [
       "<div>\n",
       "<style scoped>\n",
       "    .dataframe tbody tr th:only-of-type {\n",
       "        vertical-align: middle;\n",
       "    }\n",
       "\n",
       "    .dataframe tbody tr th {\n",
       "        vertical-align: top;\n",
       "    }\n",
       "\n",
       "    .dataframe thead th {\n",
       "        text-align: right;\n",
       "    }\n",
       "</style>\n",
       "<table border=\"1\" class=\"dataframe\">\n",
       "  <thead>\n",
       "    <tr style=\"text-align: right;\">\n",
       "      <th></th>\n",
       "      <th>amount</th>\n",
       "    </tr>\n",
       "    <tr>\n",
       "      <th>store_cd</th>\n",
       "      <th></th>\n",
       "    </tr>\n",
       "  </thead>\n",
       "  <tbody>\n",
       "    <tr>\n",
       "      <th>S13052</th>\n",
       "      <td>441863.252526</td>\n",
       "    </tr>\n",
       "    <tr>\n",
       "      <th>S14011</th>\n",
       "      <td>306442.242432</td>\n",
       "    </tr>\n",
       "    <tr>\n",
       "      <th>S14034</th>\n",
       "      <td>297068.392740</td>\n",
       "    </tr>\n",
       "    <tr>\n",
       "      <th>S13001</th>\n",
       "      <td>295558.842618</td>\n",
       "    </tr>\n",
       "    <tr>\n",
       "      <th>S13015</th>\n",
       "      <td>295427.197086</td>\n",
       "    </tr>\n",
       "  </tbody>\n",
       "</table>\n",
       "</div>"
      ],
      "text/plain": [
       "                 amount\n",
       "store_cd               \n",
       "S13052    441863.252526\n",
       "S14011    306442.242432\n",
       "S14034    297068.392740\n",
       "S13001    295558.842618\n",
       "S13015    295427.197086"
      ]
     },
     "execution_count": 35,
     "metadata": {},
     "output_type": "execute_result"
    }
   ],
   "source": [
    "df_receiptP030 = df_receipt.groupby(\"store_cd\")[[\"amount\"]].var()\n",
    "df_receiptP030.sort_values(\"amount\", ascending=False).head()"
   ]
  },
  {
   "cell_type": "code",
   "execution_count": 36,
   "metadata": {},
   "outputs": [
    {
     "data": {
      "text/plain": [
       "pandas.core.frame.DataFrame"
      ]
     },
     "execution_count": 36,
     "metadata": {},
     "output_type": "execute_result"
    }
   ],
   "source": [
    "type(df_receiptP030)"
   ]
  },
  {
   "cell_type": "markdown",
   "metadata": {
    "id": "MEnReScf08uo"
   },
   "source": [
    "## P031"
   ]
  },
  {
   "cell_type": "markdown",
   "metadata": {
    "id": "KQUwt_Zghhyi"
   },
   "source": [
    "---\n",
    "> P-031: レシート明細データフレーム（df_receipt）に対し、店舗コード（store_cd）ごとに売上金額（amount）の標本標準偏差を計算し、降順でTOP5を表示せよ。"
   ]
  },
  {
   "cell_type": "code",
   "execution_count": 37,
   "metadata": {
    "colab": {
     "base_uri": "https://localhost:8080/",
     "height": 230
    },
    "executionInfo": {
     "elapsed": 5336,
     "status": "ok",
     "timestamp": 1602918851472,
     "user": {
      "displayName": "Ohmura Kameko",
      "photoUrl": "https://lh3.googleusercontent.com/a-/AOh14GgExU0PVzY4tFSVHIVpSTmpKsEAjIZd7RIX--Mm5g=s64",
      "userId": "10791134844177295636"
     },
     "user_tz": -540
    },
    "id": "7UwDIKcZhhyi",
    "outputId": "0778b6cc-3ab7-4591-eb1b-db1dd09a04ec"
   },
   "outputs": [
    {
     "data": {
      "text/html": [
       "<div>\n",
       "<style scoped>\n",
       "    .dataframe tbody tr th:only-of-type {\n",
       "        vertical-align: middle;\n",
       "    }\n",
       "\n",
       "    .dataframe tbody tr th {\n",
       "        vertical-align: top;\n",
       "    }\n",
       "\n",
       "    .dataframe thead th {\n",
       "        text-align: right;\n",
       "    }\n",
       "</style>\n",
       "<table border=\"1\" class=\"dataframe\">\n",
       "  <thead>\n",
       "    <tr style=\"text-align: right;\">\n",
       "      <th></th>\n",
       "      <th>amount</th>\n",
       "    </tr>\n",
       "    <tr>\n",
       "      <th>store_cd</th>\n",
       "      <th></th>\n",
       "    </tr>\n",
       "  </thead>\n",
       "  <tbody>\n",
       "    <tr>\n",
       "      <th>S13052</th>\n",
       "      <td>664.727954</td>\n",
       "    </tr>\n",
       "    <tr>\n",
       "      <th>S14011</th>\n",
       "      <td>553.572256</td>\n",
       "    </tr>\n",
       "    <tr>\n",
       "      <th>S14034</th>\n",
       "      <td>545.039808</td>\n",
       "    </tr>\n",
       "    <tr>\n",
       "      <th>S13001</th>\n",
       "      <td>543.653237</td>\n",
       "    </tr>\n",
       "    <tr>\n",
       "      <th>S13015</th>\n",
       "      <td>543.532149</td>\n",
       "    </tr>\n",
       "  </tbody>\n",
       "</table>\n",
       "</div>"
      ],
      "text/plain": [
       "              amount\n",
       "store_cd            \n",
       "S13052    664.727954\n",
       "S14011    553.572256\n",
       "S14034    545.039808\n",
       "S13001    543.653237\n",
       "S13015    543.532149"
      ]
     },
     "execution_count": 37,
     "metadata": {},
     "output_type": "execute_result"
    }
   ],
   "source": [
    "df_receiptP031 = df_receipt.groupby(\"store_cd\")[[\"amount\"]].std()\n",
    "df_receiptP031.sort_values(\"amount\", ascending=False).head()"
   ]
  },
  {
   "cell_type": "markdown",
   "metadata": {
    "id": "MAv9s-nt1Bmh"
   },
   "source": [
    "## P032"
   ]
  },
  {
   "cell_type": "markdown",
   "metadata": {
    "id": "DpGB1z1Ehhyj"
   },
   "source": [
    "---\n",
    "> P-032: レシート明細データフレーム（df_receipt）の売上金額（amount）について、25％刻みでパーセンタイル値を求めよ。"
   ]
  },
  {
   "cell_type": "code",
   "execution_count": 38,
   "metadata": {
    "colab": {
     "base_uri": "https://localhost:8080/",
     "height": 124
    },
    "executionInfo": {
     "elapsed": 504,
     "status": "ok",
     "timestamp": 1602919128093,
     "user": {
      "displayName": "Ohmura Kameko",
      "photoUrl": "https://lh3.googleusercontent.com/a-/AOh14GgExU0PVzY4tFSVHIVpSTmpKsEAjIZd7RIX--Mm5g=s64",
      "userId": "10791134844177295636"
     },
     "user_tz": -540
    },
    "id": "JBG97d1yhhyk",
    "outputId": "8af3d311-c507-418e-b76e-e96c62e45512"
   },
   "outputs": [
    {
     "data": {
      "text/plain": [
       "0.00       10.0\n",
       "0.25      102.0\n",
       "0.50      170.0\n",
       "0.75      288.0\n",
       "1.00    10925.0\n",
       "Name: amount, dtype: float64"
      ]
     },
     "execution_count": 38,
     "metadata": {},
     "output_type": "execute_result"
    }
   ],
   "source": [
    "df_receiptP032 = df_receipt[\"amount\"].quantile([0, 0.25, 0.5, 0.75, 1.0])\n",
    "df_receiptP032"
   ]
  },
  {
   "cell_type": "markdown",
   "metadata": {
    "id": "rXeu5rRh1Cs0"
   },
   "source": [
    "## P033"
   ]
  },
  {
   "cell_type": "markdown",
   "metadata": {
    "id": "mYPLc_n4hhyl"
   },
   "source": [
    "---\n",
    "> P-033: レシート明細データフレーム（df_receipt）に対し、店舗コード（store_cd）ごとに売上金額（amount）の平均を計算し、330以上のものを抽出せよ。"
   ]
  },
  {
   "cell_type": "code",
   "execution_count": 39,
   "metadata": {
    "colab": {
     "base_uri": "https://localhost:8080/",
     "height": 473
    },
    "executionInfo": {
     "elapsed": 511,
     "status": "ok",
     "timestamp": 1602919242253,
     "user": {
      "displayName": "Ohmura Kameko",
      "photoUrl": "https://lh3.googleusercontent.com/a-/AOh14GgExU0PVzY4tFSVHIVpSTmpKsEAjIZd7RIX--Mm5g=s64",
      "userId": "10791134844177295636"
     },
     "user_tz": -540
    },
    "id": "mJsrgWhNhhym",
    "outputId": "66ab693c-e24d-4e66-e04e-57989d157a19"
   },
   "outputs": [
    {
     "data": {
      "text/html": [
       "<div>\n",
       "<style scoped>\n",
       "    .dataframe tbody tr th:only-of-type {\n",
       "        vertical-align: middle;\n",
       "    }\n",
       "\n",
       "    .dataframe tbody tr th {\n",
       "        vertical-align: top;\n",
       "    }\n",
       "\n",
       "    .dataframe thead th {\n",
       "        text-align: right;\n",
       "    }\n",
       "</style>\n",
       "<table border=\"1\" class=\"dataframe\">\n",
       "  <thead>\n",
       "    <tr style=\"text-align: right;\">\n",
       "      <th></th>\n",
       "      <th>amount</th>\n",
       "    </tr>\n",
       "    <tr>\n",
       "      <th>store_cd</th>\n",
       "      <th></th>\n",
       "    </tr>\n",
       "  </thead>\n",
       "  <tbody>\n",
       "    <tr>\n",
       "      <th>S12013</th>\n",
       "      <td>330.194130</td>\n",
       "    </tr>\n",
       "    <tr>\n",
       "      <th>S13001</th>\n",
       "      <td>348.470386</td>\n",
       "    </tr>\n",
       "    <tr>\n",
       "      <th>S13003</th>\n",
       "      <td>350.915519</td>\n",
       "    </tr>\n",
       "    <tr>\n",
       "      <th>S13004</th>\n",
       "      <td>330.943949</td>\n",
       "    </tr>\n",
       "    <tr>\n",
       "      <th>S13015</th>\n",
       "      <td>351.111960</td>\n",
       "    </tr>\n",
       "    <tr>\n",
       "      <th>S13019</th>\n",
       "      <td>330.208616</td>\n",
       "    </tr>\n",
       "    <tr>\n",
       "      <th>S13020</th>\n",
       "      <td>337.879932</td>\n",
       "    </tr>\n",
       "    <tr>\n",
       "      <th>S13052</th>\n",
       "      <td>402.867470</td>\n",
       "    </tr>\n",
       "    <tr>\n",
       "      <th>S14010</th>\n",
       "      <td>348.791262</td>\n",
       "    </tr>\n",
       "    <tr>\n",
       "      <th>S14011</th>\n",
       "      <td>335.718333</td>\n",
       "    </tr>\n",
       "    <tr>\n",
       "      <th>S14026</th>\n",
       "      <td>332.340588</td>\n",
       "    </tr>\n",
       "    <tr>\n",
       "      <th>S14045</th>\n",
       "      <td>330.082073</td>\n",
       "    </tr>\n",
       "    <tr>\n",
       "      <th>S14047</th>\n",
       "      <td>330.077073</td>\n",
       "    </tr>\n",
       "  </tbody>\n",
       "</table>\n",
       "</div>"
      ],
      "text/plain": [
       "              amount\n",
       "store_cd            \n",
       "S12013    330.194130\n",
       "S13001    348.470386\n",
       "S13003    350.915519\n",
       "S13004    330.943949\n",
       "S13015    351.111960\n",
       "S13019    330.208616\n",
       "S13020    337.879932\n",
       "S13052    402.867470\n",
       "S14010    348.791262\n",
       "S14011    335.718333\n",
       "S14026    332.340588\n",
       "S14045    330.082073\n",
       "S14047    330.077073"
      ]
     },
     "execution_count": 39,
     "metadata": {},
     "output_type": "execute_result"
    }
   ],
   "source": [
    "df_receiptP033 = df_receipt.groupby(\"store_cd\")[[\"amount\"]].mean()\n",
    "df_receiptP033[df_receiptP033[\"amount\"] >= 330]"
   ]
  },
  {
   "cell_type": "markdown",
   "metadata": {
    "id": "lWDEqUKb1D1s"
   },
   "source": [
    "## P034"
   ]
  },
  {
   "cell_type": "markdown",
   "metadata": {
    "id": "Wraz5peFhhyo"
   },
   "source": [
    "---\n",
    "> P-034: レシート明細データフレーム（df_receipt）に対し、顧客ID（customer_id）ごとに売上金額（amount）を合計して全顧客の平均を求めよ。ただし、顧客IDが\"Z\"から始まるのものは非会員を表すため、除外して計算すること。\n"
   ]
  },
  {
   "cell_type": "code",
   "execution_count": 40,
   "metadata": {
    "colab": {
     "base_uri": "https://localhost:8080/",
     "height": 230
    },
    "executionInfo": {
     "elapsed": 559,
     "status": "ok",
     "timestamp": 1602919846593,
     "user": {
      "displayName": "Ohmura Kameko",
      "photoUrl": "https://lh3.googleusercontent.com/a-/AOh14GgExU0PVzY4tFSVHIVpSTmpKsEAjIZd7RIX--Mm5g=s64",
      "userId": "10791134844177295636"
     },
     "user_tz": -540
    },
    "id": "hYgDnVGjhhyo",
    "outputId": "da8786f1-de8b-4104-9310-fb9cc150a51f"
   },
   "outputs": [
    {
     "data": {
      "text/html": [
       "<div>\n",
       "<style scoped>\n",
       "    .dataframe tbody tr th:only-of-type {\n",
       "        vertical-align: middle;\n",
       "    }\n",
       "\n",
       "    .dataframe tbody tr th {\n",
       "        vertical-align: top;\n",
       "    }\n",
       "\n",
       "    .dataframe thead th {\n",
       "        text-align: right;\n",
       "    }\n",
       "</style>\n",
       "<table border=\"1\" class=\"dataframe\">\n",
       "  <thead>\n",
       "    <tr style=\"text-align: right;\">\n",
       "      <th></th>\n",
       "      <th>amount</th>\n",
       "    </tr>\n",
       "    <tr>\n",
       "      <th>customer_id</th>\n",
       "      <th></th>\n",
       "    </tr>\n",
       "  </thead>\n",
       "  <tbody>\n",
       "    <tr>\n",
       "      <th>CS001113000004</th>\n",
       "      <td>1298</td>\n",
       "    </tr>\n",
       "    <tr>\n",
       "      <th>CS001114000005</th>\n",
       "      <td>626</td>\n",
       "    </tr>\n",
       "    <tr>\n",
       "      <th>CS001115000010</th>\n",
       "      <td>3044</td>\n",
       "    </tr>\n",
       "    <tr>\n",
       "      <th>CS001205000004</th>\n",
       "      <td>1988</td>\n",
       "    </tr>\n",
       "    <tr>\n",
       "      <th>CS001205000006</th>\n",
       "      <td>3337</td>\n",
       "    </tr>\n",
       "  </tbody>\n",
       "</table>\n",
       "</div>"
      ],
      "text/plain": [
       "                amount\n",
       "customer_id           \n",
       "CS001113000004    1298\n",
       "CS001114000005     626\n",
       "CS001115000010    3044\n",
       "CS001205000004    1988\n",
       "CS001205000006    3337"
      ]
     },
     "execution_count": 40,
     "metadata": {},
     "output_type": "execute_result"
    }
   ],
   "source": [
    "df_receiptP034= df_receipt.groupby(\"customer_id\")[[\"amount\"]].sum()\n",
    "df_receiptP034.head()"
   ]
  },
  {
   "cell_type": "code",
   "execution_count": 41,
   "metadata": {
    "colab": {
     "base_uri": "https://localhost:8080/",
     "height": 200
    },
    "executionInfo": {
     "elapsed": 511,
     "status": "ok",
     "timestamp": 1602919852225,
     "user": {
      "displayName": "Ohmura Kameko",
      "photoUrl": "https://lh3.googleusercontent.com/a-/AOh14GgExU0PVzY4tFSVHIVpSTmpKsEAjIZd7RIX--Mm5g=s64",
      "userId": "10791134844177295636"
     },
     "user_tz": -540
    },
    "id": "Mwd_HKpDdU6j",
    "outputId": "28c941be-99f0-483b-ec96-c39529d01b4a"
   },
   "outputs": [
    {
     "data": {
      "text/html": [
       "<div>\n",
       "<style scoped>\n",
       "    .dataframe tbody tr th:only-of-type {\n",
       "        vertical-align: middle;\n",
       "    }\n",
       "\n",
       "    .dataframe tbody tr th {\n",
       "        vertical-align: top;\n",
       "    }\n",
       "\n",
       "    .dataframe thead th {\n",
       "        text-align: right;\n",
       "    }\n",
       "</style>\n",
       "<table border=\"1\" class=\"dataframe\">\n",
       "  <thead>\n",
       "    <tr style=\"text-align: right;\">\n",
       "      <th></th>\n",
       "      <th>customer_id</th>\n",
       "      <th>amount</th>\n",
       "    </tr>\n",
       "  </thead>\n",
       "  <tbody>\n",
       "    <tr>\n",
       "      <th>0</th>\n",
       "      <td>CS001113000004</td>\n",
       "      <td>1298</td>\n",
       "    </tr>\n",
       "    <tr>\n",
       "      <th>1</th>\n",
       "      <td>CS001114000005</td>\n",
       "      <td>626</td>\n",
       "    </tr>\n",
       "    <tr>\n",
       "      <th>2</th>\n",
       "      <td>CS001115000010</td>\n",
       "      <td>3044</td>\n",
       "    </tr>\n",
       "    <tr>\n",
       "      <th>3</th>\n",
       "      <td>CS001205000004</td>\n",
       "      <td>1988</td>\n",
       "    </tr>\n",
       "    <tr>\n",
       "      <th>4</th>\n",
       "      <td>CS001205000006</td>\n",
       "      <td>3337</td>\n",
       "    </tr>\n",
       "  </tbody>\n",
       "</table>\n",
       "</div>"
      ],
      "text/plain": [
       "      customer_id  amount\n",
       "0  CS001113000004    1298\n",
       "1  CS001114000005     626\n",
       "2  CS001115000010    3044\n",
       "3  CS001205000004    1988\n",
       "4  CS001205000006    3337"
      ]
     },
     "execution_count": 41,
     "metadata": {},
     "output_type": "execute_result"
    }
   ],
   "source": [
    "df_receiptP034 = df_receiptP034.reset_index()\n",
    "df_receiptP034 = df_receiptP034[~df_receiptP034[\"customer_id\"].str.startswith(\"Z\")]\n",
    "df_receiptP034.head()"
   ]
  },
  {
   "cell_type": "code",
   "execution_count": 42,
   "metadata": {
    "colab": {
     "base_uri": "https://localhost:8080/",
     "height": 35
    },
    "executionInfo": {
     "elapsed": 497,
     "status": "ok",
     "timestamp": 1602919865308,
     "user": {
      "displayName": "Ohmura Kameko",
      "photoUrl": "https://lh3.googleusercontent.com/a-/AOh14GgExU0PVzY4tFSVHIVpSTmpKsEAjIZd7RIX--Mm5g=s64",
      "userId": "10791134844177295636"
     },
     "user_tz": -540
    },
    "id": "JMZL7BsKcVrX",
    "outputId": "bda75d9c-b660-499b-98ae-befd594d9235"
   },
   "outputs": [
    {
     "data": {
      "text/plain": [
       "2547.742234529256"
      ]
     },
     "execution_count": 42,
     "metadata": {},
     "output_type": "execute_result"
    }
   ],
   "source": [
    "df_receiptP034[\"amount\"].mean()"
   ]
  },
  {
   "cell_type": "markdown",
   "metadata": {
    "id": "1i5vEe3h1EvR"
   },
   "source": [
    "## P035"
   ]
  },
  {
   "cell_type": "markdown",
   "metadata": {
    "id": "h9E9b_yUhhyq"
   },
   "source": [
    "---\n",
    "> P-035: レシート明細データフレーム（df_receipt）に対し、顧客ID（customer_id）ごとに売上金額（amount）を合計して全顧客の平均を求め、平均以上に買い物をしている顧客を抽出せよ。ただし、顧客IDが\"Z\"から始まるのものは非会員を表すため、除外して計算すること。なお、データは10件だけ表示させれば良い。"
   ]
  },
  {
   "cell_type": "code",
   "execution_count": 43,
   "metadata": {
    "colab": {
     "base_uri": "https://localhost:8080/",
     "height": 200
    },
    "executionInfo": {
     "elapsed": 638,
     "status": "ok",
     "timestamp": 1602965896404,
     "user": {
      "displayName": "Ohmura Kameko",
      "photoUrl": "https://lh3.googleusercontent.com/a-/AOh14GgExU0PVzY4tFSVHIVpSTmpKsEAjIZd7RIX--Mm5g=s64",
      "userId": "10791134844177295636"
     },
     "user_tz": -540
    },
    "id": "7lYKkmsohhyq",
    "outputId": "8d9a26b6-e4a2-4cf0-df20-24d1423aa267"
   },
   "outputs": [
    {
     "data": {
      "text/html": [
       "<div>\n",
       "<style scoped>\n",
       "    .dataframe tbody tr th:only-of-type {\n",
       "        vertical-align: middle;\n",
       "    }\n",
       "\n",
       "    .dataframe tbody tr th {\n",
       "        vertical-align: top;\n",
       "    }\n",
       "\n",
       "    .dataframe thead th {\n",
       "        text-align: right;\n",
       "    }\n",
       "</style>\n",
       "<table border=\"1\" class=\"dataframe\">\n",
       "  <thead>\n",
       "    <tr style=\"text-align: right;\">\n",
       "      <th></th>\n",
       "      <th>customer_id</th>\n",
       "      <th>amount</th>\n",
       "    </tr>\n",
       "  </thead>\n",
       "  <tbody>\n",
       "    <tr>\n",
       "      <th>0</th>\n",
       "      <td>CS001113000004</td>\n",
       "      <td>1298</td>\n",
       "    </tr>\n",
       "    <tr>\n",
       "      <th>1</th>\n",
       "      <td>CS001114000005</td>\n",
       "      <td>626</td>\n",
       "    </tr>\n",
       "    <tr>\n",
       "      <th>2</th>\n",
       "      <td>CS001115000010</td>\n",
       "      <td>3044</td>\n",
       "    </tr>\n",
       "    <tr>\n",
       "      <th>3</th>\n",
       "      <td>CS001205000004</td>\n",
       "      <td>1988</td>\n",
       "    </tr>\n",
       "    <tr>\n",
       "      <th>4</th>\n",
       "      <td>CS001205000006</td>\n",
       "      <td>3337</td>\n",
       "    </tr>\n",
       "  </tbody>\n",
       "</table>\n",
       "</div>"
      ],
      "text/plain": [
       "      customer_id  amount\n",
       "0  CS001113000004    1298\n",
       "1  CS001114000005     626\n",
       "2  CS001115000010    3044\n",
       "3  CS001205000004    1988\n",
       "4  CS001205000006    3337"
      ]
     },
     "execution_count": 43,
     "metadata": {},
     "output_type": "execute_result"
    }
   ],
   "source": [
    "df_receiptP035= df_receipt.groupby(\"customer_id\")[[\"amount\"]].sum()\n",
    "df_receiptP035 = df_receiptP035.reset_index()\n",
    "df_receiptP035 = df_receiptP035[~df_receiptP035[\"customer_id\"].str.startswith(\"Z\")]\n",
    "df_receiptP035.head()"
   ]
  },
  {
   "cell_type": "code",
   "execution_count": 44,
   "metadata": {
    "colab": {
     "base_uri": "https://localhost:8080/",
     "height": 35
    },
    "executionInfo": {
     "elapsed": 660,
     "status": "ok",
     "timestamp": 1602965899383,
     "user": {
      "displayName": "Ohmura Kameko",
      "photoUrl": "https://lh3.googleusercontent.com/a-/AOh14GgExU0PVzY4tFSVHIVpSTmpKsEAjIZd7RIX--Mm5g=s64",
      "userId": "10791134844177295636"
     },
     "user_tz": -540
    },
    "id": "qVKtjK_weK5l",
    "outputId": "23001cee-d1a4-47cc-cc8f-7cb7672b7146"
   },
   "outputs": [
    {
     "data": {
      "text/plain": [
       "2547.742234529256"
      ]
     },
     "execution_count": 44,
     "metadata": {},
     "output_type": "execute_result"
    }
   ],
   "source": [
    "mean35 = df_receiptP035[\"amount\"].mean()\n",
    "mean35"
   ]
  },
  {
   "cell_type": "code",
   "execution_count": 45,
   "metadata": {
    "colab": {
     "base_uri": "https://localhost:8080/",
     "height": 352
    },
    "executionInfo": {
     "elapsed": 717,
     "status": "ok",
     "timestamp": 1602965901656,
     "user": {
      "displayName": "Ohmura Kameko",
      "photoUrl": "https://lh3.googleusercontent.com/a-/AOh14GgExU0PVzY4tFSVHIVpSTmpKsEAjIZd7RIX--Mm5g=s64",
      "userId": "10791134844177295636"
     },
     "user_tz": -540
    },
    "id": "Gj906_gFeLFt",
    "outputId": "a1beb0c9-e724-4473-98b2-06ab4aeb9c05"
   },
   "outputs": [
    {
     "data": {
      "text/html": [
       "<div>\n",
       "<style scoped>\n",
       "    .dataframe tbody tr th:only-of-type {\n",
       "        vertical-align: middle;\n",
       "    }\n",
       "\n",
       "    .dataframe tbody tr th {\n",
       "        vertical-align: top;\n",
       "    }\n",
       "\n",
       "    .dataframe thead th {\n",
       "        text-align: right;\n",
       "    }\n",
       "</style>\n",
       "<table border=\"1\" class=\"dataframe\">\n",
       "  <thead>\n",
       "    <tr style=\"text-align: right;\">\n",
       "      <th></th>\n",
       "      <th>customer_id</th>\n",
       "      <th>amount</th>\n",
       "    </tr>\n",
       "  </thead>\n",
       "  <tbody>\n",
       "    <tr>\n",
       "      <th>2</th>\n",
       "      <td>CS001115000010</td>\n",
       "      <td>3044</td>\n",
       "    </tr>\n",
       "    <tr>\n",
       "      <th>4</th>\n",
       "      <td>CS001205000006</td>\n",
       "      <td>3337</td>\n",
       "    </tr>\n",
       "    <tr>\n",
       "      <th>13</th>\n",
       "      <td>CS001214000009</td>\n",
       "      <td>4685</td>\n",
       "    </tr>\n",
       "    <tr>\n",
       "      <th>14</th>\n",
       "      <td>CS001214000017</td>\n",
       "      <td>4132</td>\n",
       "    </tr>\n",
       "    <tr>\n",
       "      <th>17</th>\n",
       "      <td>CS001214000052</td>\n",
       "      <td>5639</td>\n",
       "    </tr>\n",
       "    <tr>\n",
       "      <th>21</th>\n",
       "      <td>CS001215000040</td>\n",
       "      <td>3496</td>\n",
       "    </tr>\n",
       "    <tr>\n",
       "      <th>30</th>\n",
       "      <td>CS001304000006</td>\n",
       "      <td>3726</td>\n",
       "    </tr>\n",
       "    <tr>\n",
       "      <th>32</th>\n",
       "      <td>CS001305000005</td>\n",
       "      <td>3485</td>\n",
       "    </tr>\n",
       "    <tr>\n",
       "      <th>33</th>\n",
       "      <td>CS001305000011</td>\n",
       "      <td>4370</td>\n",
       "    </tr>\n",
       "    <tr>\n",
       "      <th>53</th>\n",
       "      <td>CS001315000180</td>\n",
       "      <td>3300</td>\n",
       "    </tr>\n",
       "  </tbody>\n",
       "</table>\n",
       "</div>"
      ],
      "text/plain": [
       "       customer_id  amount\n",
       "2   CS001115000010    3044\n",
       "4   CS001205000006    3337\n",
       "13  CS001214000009    4685\n",
       "14  CS001214000017    4132\n",
       "17  CS001214000052    5639\n",
       "21  CS001215000040    3496\n",
       "30  CS001304000006    3726\n",
       "32  CS001305000005    3485\n",
       "33  CS001305000011    4370\n",
       "53  CS001315000180    3300"
      ]
     },
     "execution_count": 45,
     "metadata": {},
     "output_type": "execute_result"
    }
   ],
   "source": [
    "df_receiptP035[df_receiptP035[\"amount\"] > mean35].head(10)"
   ]
  },
  {
   "cell_type": "markdown",
   "metadata": {
    "id": "aeIVon051Ngh"
   },
   "source": [
    "## P036"
   ]
  },
  {
   "cell_type": "markdown",
   "metadata": {
    "id": "e4wFXsuLhhys"
   },
   "source": [
    "---\n",
    "> P-036: レシート明細データフレーム（df_receipt）と店舗データフレーム（df_store）を内部結合し、レシート明細データフレームの全項目と店舗データフレームの店舗名（store_name）を10件表示させよ。"
   ]
  },
  {
   "cell_type": "code",
   "execution_count": 46,
   "metadata": {
    "colab": {
     "base_uri": "https://localhost:8080/",
     "height": 200
    },
    "executionInfo": {
     "elapsed": 555,
     "status": "ok",
     "timestamp": 1602920047506,
     "user": {
      "displayName": "Ohmura Kameko",
      "photoUrl": "https://lh3.googleusercontent.com/a-/AOh14GgExU0PVzY4tFSVHIVpSTmpKsEAjIZd7RIX--Mm5g=s64",
      "userId": "10791134844177295636"
     },
     "user_tz": -540
    },
    "id": "n7p7o5sDhhys",
    "outputId": "a8794cfd-d808-4a11-f48c-e09f864f4df9"
   },
   "outputs": [
    {
     "data": {
      "text/html": [
       "<div>\n",
       "<style scoped>\n",
       "    .dataframe tbody tr th:only-of-type {\n",
       "        vertical-align: middle;\n",
       "    }\n",
       "\n",
       "    .dataframe tbody tr th {\n",
       "        vertical-align: top;\n",
       "    }\n",
       "\n",
       "    .dataframe thead th {\n",
       "        text-align: right;\n",
       "    }\n",
       "</style>\n",
       "<table border=\"1\" class=\"dataframe\">\n",
       "  <thead>\n",
       "    <tr style=\"text-align: right;\">\n",
       "      <th></th>\n",
       "      <th>sales_ymd</th>\n",
       "      <th>sales_epoch</th>\n",
       "      <th>store_cd</th>\n",
       "      <th>receipt_no</th>\n",
       "      <th>receipt_sub_no</th>\n",
       "      <th>customer_id</th>\n",
       "      <th>product_cd</th>\n",
       "      <th>quantity</th>\n",
       "      <th>amount</th>\n",
       "    </tr>\n",
       "  </thead>\n",
       "  <tbody>\n",
       "    <tr>\n",
       "      <th>0</th>\n",
       "      <td>20181103</td>\n",
       "      <td>1541203200</td>\n",
       "      <td>S14006</td>\n",
       "      <td>112</td>\n",
       "      <td>1</td>\n",
       "      <td>CS006214000001</td>\n",
       "      <td>P070305012</td>\n",
       "      <td>1</td>\n",
       "      <td>158</td>\n",
       "    </tr>\n",
       "    <tr>\n",
       "      <th>1</th>\n",
       "      <td>20181118</td>\n",
       "      <td>1542499200</td>\n",
       "      <td>S13008</td>\n",
       "      <td>1132</td>\n",
       "      <td>2</td>\n",
       "      <td>CS008415000097</td>\n",
       "      <td>P070701017</td>\n",
       "      <td>1</td>\n",
       "      <td>81</td>\n",
       "    </tr>\n",
       "    <tr>\n",
       "      <th>2</th>\n",
       "      <td>20170712</td>\n",
       "      <td>1499817600</td>\n",
       "      <td>S14028</td>\n",
       "      <td>1102</td>\n",
       "      <td>1</td>\n",
       "      <td>CS028414000014</td>\n",
       "      <td>P060101005</td>\n",
       "      <td>1</td>\n",
       "      <td>170</td>\n",
       "    </tr>\n",
       "    <tr>\n",
       "      <th>3</th>\n",
       "      <td>20190205</td>\n",
       "      <td>1549324800</td>\n",
       "      <td>S14042</td>\n",
       "      <td>1132</td>\n",
       "      <td>1</td>\n",
       "      <td>ZZ000000000000</td>\n",
       "      <td>P050301001</td>\n",
       "      <td>1</td>\n",
       "      <td>25</td>\n",
       "    </tr>\n",
       "    <tr>\n",
       "      <th>4</th>\n",
       "      <td>20180821</td>\n",
       "      <td>1534809600</td>\n",
       "      <td>S14025</td>\n",
       "      <td>1102</td>\n",
       "      <td>2</td>\n",
       "      <td>CS025415000050</td>\n",
       "      <td>P060102007</td>\n",
       "      <td>1</td>\n",
       "      <td>90</td>\n",
       "    </tr>\n",
       "  </tbody>\n",
       "</table>\n",
       "</div>"
      ],
      "text/plain": [
       "   sales_ymd  sales_epoch store_cd  receipt_no  receipt_sub_no  \\\n",
       "0   20181103   1541203200   S14006         112               1   \n",
       "1   20181118   1542499200   S13008        1132               2   \n",
       "2   20170712   1499817600   S14028        1102               1   \n",
       "3   20190205   1549324800   S14042        1132               1   \n",
       "4   20180821   1534809600   S14025        1102               2   \n",
       "\n",
       "      customer_id  product_cd  quantity  amount  \n",
       "0  CS006214000001  P070305012         1     158  \n",
       "1  CS008415000097  P070701017         1      81  \n",
       "2  CS028414000014  P060101005         1     170  \n",
       "3  ZZ000000000000  P050301001         1      25  \n",
       "4  CS025415000050  P060102007         1      90  "
      ]
     },
     "execution_count": 46,
     "metadata": {},
     "output_type": "execute_result"
    }
   ],
   "source": [
    "df_receipt.head()"
   ]
  },
  {
   "cell_type": "code",
   "execution_count": 47,
   "metadata": {
    "colab": {
     "base_uri": "https://localhost:8080/",
     "height": 200
    },
    "executionInfo": {
     "elapsed": 493,
     "status": "ok",
     "timestamp": 1602920064329,
     "user": {
      "displayName": "Ohmura Kameko",
      "photoUrl": "https://lh3.googleusercontent.com/a-/AOh14GgExU0PVzY4tFSVHIVpSTmpKsEAjIZd7RIX--Mm5g=s64",
      "userId": "10791134844177295636"
     },
     "user_tz": -540
    },
    "id": "8wA0xkCbeu-p",
    "outputId": "8b32a938-bc7f-410a-a89c-429e8a806c89"
   },
   "outputs": [
    {
     "data": {
      "text/html": [
       "<div>\n",
       "<style scoped>\n",
       "    .dataframe tbody tr th:only-of-type {\n",
       "        vertical-align: middle;\n",
       "    }\n",
       "\n",
       "    .dataframe tbody tr th {\n",
       "        vertical-align: top;\n",
       "    }\n",
       "\n",
       "    .dataframe thead th {\n",
       "        text-align: right;\n",
       "    }\n",
       "</style>\n",
       "<table border=\"1\" class=\"dataframe\">\n",
       "  <thead>\n",
       "    <tr style=\"text-align: right;\">\n",
       "      <th></th>\n",
       "      <th>store_cd</th>\n",
       "      <th>store_name</th>\n",
       "      <th>prefecture_cd</th>\n",
       "      <th>prefecture</th>\n",
       "      <th>address</th>\n",
       "      <th>address_kana</th>\n",
       "      <th>tel_no</th>\n",
       "      <th>longitude</th>\n",
       "      <th>latitude</th>\n",
       "      <th>floor_area</th>\n",
       "    </tr>\n",
       "  </thead>\n",
       "  <tbody>\n",
       "    <tr>\n",
       "      <th>0</th>\n",
       "      <td>S12014</td>\n",
       "      <td>千草台店</td>\n",
       "      <td>12</td>\n",
       "      <td>千葉県</td>\n",
       "      <td>千葉県千葉市稲毛区千草台一丁目</td>\n",
       "      <td>チバケンチバシイナゲクチグサダイイッチョウメ</td>\n",
       "      <td>043-123-4003</td>\n",
       "      <td>140.1180</td>\n",
       "      <td>35.63559</td>\n",
       "      <td>1698.0</td>\n",
       "    </tr>\n",
       "    <tr>\n",
       "      <th>1</th>\n",
       "      <td>S13002</td>\n",
       "      <td>国分寺店</td>\n",
       "      <td>13</td>\n",
       "      <td>東京都</td>\n",
       "      <td>東京都国分寺市本多二丁目</td>\n",
       "      <td>トウキョウトコクブンジシホンダニチョウメ</td>\n",
       "      <td>042-123-4008</td>\n",
       "      <td>139.4802</td>\n",
       "      <td>35.70566</td>\n",
       "      <td>1735.0</td>\n",
       "    </tr>\n",
       "    <tr>\n",
       "      <th>2</th>\n",
       "      <td>S14010</td>\n",
       "      <td>菊名店</td>\n",
       "      <td>14</td>\n",
       "      <td>神奈川県</td>\n",
       "      <td>神奈川県横浜市港北区菊名一丁目</td>\n",
       "      <td>カナガワケンヨコハマシコウホククキクナイッチョウメ</td>\n",
       "      <td>045-123-4032</td>\n",
       "      <td>139.6326</td>\n",
       "      <td>35.50049</td>\n",
       "      <td>1732.0</td>\n",
       "    </tr>\n",
       "    <tr>\n",
       "      <th>3</th>\n",
       "      <td>S14033</td>\n",
       "      <td>阿久和店</td>\n",
       "      <td>14</td>\n",
       "      <td>神奈川県</td>\n",
       "      <td>神奈川県横浜市瀬谷区阿久和西一丁目</td>\n",
       "      <td>カナガワケンヨコハマシセヤクアクワニシイッチョウメ</td>\n",
       "      <td>045-123-4043</td>\n",
       "      <td>139.4961</td>\n",
       "      <td>35.45918</td>\n",
       "      <td>1495.0</td>\n",
       "    </tr>\n",
       "    <tr>\n",
       "      <th>4</th>\n",
       "      <td>S14036</td>\n",
       "      <td>相模原中央店</td>\n",
       "      <td>14</td>\n",
       "      <td>神奈川県</td>\n",
       "      <td>神奈川県相模原市中央二丁目</td>\n",
       "      <td>カナガワケンサガミハラシチュウオウニチョウメ</td>\n",
       "      <td>042-123-4045</td>\n",
       "      <td>139.3716</td>\n",
       "      <td>35.57327</td>\n",
       "      <td>1679.0</td>\n",
       "    </tr>\n",
       "  </tbody>\n",
       "</table>\n",
       "</div>"
      ],
      "text/plain": [
       "  store_cd store_name  prefecture_cd prefecture            address  \\\n",
       "0   S12014       千草台店             12        千葉県    千葉県千葉市稲毛区千草台一丁目   \n",
       "1   S13002       国分寺店             13        東京都       東京都国分寺市本多二丁目   \n",
       "2   S14010        菊名店             14       神奈川県    神奈川県横浜市港北区菊名一丁目   \n",
       "3   S14033       阿久和店             14       神奈川県  神奈川県横浜市瀬谷区阿久和西一丁目   \n",
       "4   S14036     相模原中央店             14       神奈川県      神奈川県相模原市中央二丁目   \n",
       "\n",
       "                address_kana        tel_no  longitude  latitude  floor_area  \n",
       "0     チバケンチバシイナゲクチグサダイイッチョウメ  043-123-4003   140.1180  35.63559      1698.0  \n",
       "1       トウキョウトコクブンジシホンダニチョウメ  042-123-4008   139.4802  35.70566      1735.0  \n",
       "2  カナガワケンヨコハマシコウホククキクナイッチョウメ  045-123-4032   139.6326  35.50049      1732.0  \n",
       "3  カナガワケンヨコハマシセヤクアクワニシイッチョウメ  045-123-4043   139.4961  35.45918      1495.0  \n",
       "4     カナガワケンサガミハラシチュウオウニチョウメ  042-123-4045   139.3716  35.57327      1679.0  "
      ]
     },
     "execution_count": 47,
     "metadata": {},
     "output_type": "execute_result"
    }
   ],
   "source": [
    "df_store.head()"
   ]
  },
  {
   "cell_type": "code",
   "execution_count": 48,
   "metadata": {
    "colab": {
     "base_uri": "https://localhost:8080/",
     "height": 475
    },
    "executionInfo": {
     "elapsed": 510,
     "status": "ok",
     "timestamp": 1602920361246,
     "user": {
      "displayName": "Ohmura Kameko",
      "photoUrl": "https://lh3.googleusercontent.com/a-/AOh14GgExU0PVzY4tFSVHIVpSTmpKsEAjIZd7RIX--Mm5g=s64",
      "userId": "10791134844177295636"
     },
     "user_tz": -540
    },
    "id": "duxAyNnyevOZ",
    "outputId": "42e4c65e-0217-4a1b-b86f-20c98f6d36f4"
   },
   "outputs": [
    {
     "data": {
      "text/html": [
       "<div>\n",
       "<style scoped>\n",
       "    .dataframe tbody tr th:only-of-type {\n",
       "        vertical-align: middle;\n",
       "    }\n",
       "\n",
       "    .dataframe tbody tr th {\n",
       "        vertical-align: top;\n",
       "    }\n",
       "\n",
       "    .dataframe thead th {\n",
       "        text-align: right;\n",
       "    }\n",
       "</style>\n",
       "<table border=\"1\" class=\"dataframe\">\n",
       "  <thead>\n",
       "    <tr style=\"text-align: right;\">\n",
       "      <th></th>\n",
       "      <th>sales_ymd</th>\n",
       "      <th>sales_epoch</th>\n",
       "      <th>store_cd</th>\n",
       "      <th>receipt_no</th>\n",
       "      <th>receipt_sub_no</th>\n",
       "      <th>customer_id</th>\n",
       "      <th>product_cd</th>\n",
       "      <th>quantity</th>\n",
       "      <th>amount</th>\n",
       "      <th>store_name</th>\n",
       "      <th>prefecture_cd</th>\n",
       "      <th>prefecture</th>\n",
       "      <th>address</th>\n",
       "      <th>address_kana</th>\n",
       "      <th>tel_no</th>\n",
       "      <th>longitude</th>\n",
       "      <th>latitude</th>\n",
       "      <th>floor_area</th>\n",
       "    </tr>\n",
       "  </thead>\n",
       "  <tbody>\n",
       "    <tr>\n",
       "      <th>0</th>\n",
       "      <td>20181103</td>\n",
       "      <td>1541203200</td>\n",
       "      <td>S14006</td>\n",
       "      <td>112</td>\n",
       "      <td>1</td>\n",
       "      <td>CS006214000001</td>\n",
       "      <td>P070305012</td>\n",
       "      <td>1</td>\n",
       "      <td>158</td>\n",
       "      <td>葛が谷店</td>\n",
       "      <td>14</td>\n",
       "      <td>神奈川県</td>\n",
       "      <td>神奈川県横浜市都筑区葛が谷</td>\n",
       "      <td>カナガワケンヨコハマシツヅキククズガヤ</td>\n",
       "      <td>045-123-4031</td>\n",
       "      <td>139.5633</td>\n",
       "      <td>35.53573</td>\n",
       "      <td>1886.0</td>\n",
       "    </tr>\n",
       "    <tr>\n",
       "      <th>1</th>\n",
       "      <td>20181116</td>\n",
       "      <td>1542326400</td>\n",
       "      <td>S14006</td>\n",
       "      <td>112</td>\n",
       "      <td>2</td>\n",
       "      <td>ZZ000000000000</td>\n",
       "      <td>P080401001</td>\n",
       "      <td>1</td>\n",
       "      <td>48</td>\n",
       "      <td>葛が谷店</td>\n",
       "      <td>14</td>\n",
       "      <td>神奈川県</td>\n",
       "      <td>神奈川県横浜市都筑区葛が谷</td>\n",
       "      <td>カナガワケンヨコハマシツヅキククズガヤ</td>\n",
       "      <td>045-123-4031</td>\n",
       "      <td>139.5633</td>\n",
       "      <td>35.53573</td>\n",
       "      <td>1886.0</td>\n",
       "    </tr>\n",
       "    <tr>\n",
       "      <th>2</th>\n",
       "      <td>20170118</td>\n",
       "      <td>1484697600</td>\n",
       "      <td>S14006</td>\n",
       "      <td>1162</td>\n",
       "      <td>1</td>\n",
       "      <td>CS006815000006</td>\n",
       "      <td>P050406035</td>\n",
       "      <td>1</td>\n",
       "      <td>220</td>\n",
       "      <td>葛が谷店</td>\n",
       "      <td>14</td>\n",
       "      <td>神奈川県</td>\n",
       "      <td>神奈川県横浜市都筑区葛が谷</td>\n",
       "      <td>カナガワケンヨコハマシツヅキククズガヤ</td>\n",
       "      <td>045-123-4031</td>\n",
       "      <td>139.5633</td>\n",
       "      <td>35.53573</td>\n",
       "      <td>1886.0</td>\n",
       "    </tr>\n",
       "    <tr>\n",
       "      <th>3</th>\n",
       "      <td>20190524</td>\n",
       "      <td>1558656000</td>\n",
       "      <td>S14006</td>\n",
       "      <td>1192</td>\n",
       "      <td>1</td>\n",
       "      <td>CS006514000034</td>\n",
       "      <td>P060104003</td>\n",
       "      <td>1</td>\n",
       "      <td>80</td>\n",
       "      <td>葛が谷店</td>\n",
       "      <td>14</td>\n",
       "      <td>神奈川県</td>\n",
       "      <td>神奈川県横浜市都筑区葛が谷</td>\n",
       "      <td>カナガワケンヨコハマシツヅキククズガヤ</td>\n",
       "      <td>045-123-4031</td>\n",
       "      <td>139.5633</td>\n",
       "      <td>35.53573</td>\n",
       "      <td>1886.0</td>\n",
       "    </tr>\n",
       "    <tr>\n",
       "      <th>4</th>\n",
       "      <td>20190419</td>\n",
       "      <td>1555632000</td>\n",
       "      <td>S14006</td>\n",
       "      <td>112</td>\n",
       "      <td>2</td>\n",
       "      <td>ZZ000000000000</td>\n",
       "      <td>P060501002</td>\n",
       "      <td>1</td>\n",
       "      <td>148</td>\n",
       "      <td>葛が谷店</td>\n",
       "      <td>14</td>\n",
       "      <td>神奈川県</td>\n",
       "      <td>神奈川県横浜市都筑区葛が谷</td>\n",
       "      <td>カナガワケンヨコハマシツヅキククズガヤ</td>\n",
       "      <td>045-123-4031</td>\n",
       "      <td>139.5633</td>\n",
       "      <td>35.53573</td>\n",
       "      <td>1886.0</td>\n",
       "    </tr>\n",
       "  </tbody>\n",
       "</table>\n",
       "</div>"
      ],
      "text/plain": [
       "   sales_ymd  sales_epoch store_cd  receipt_no  receipt_sub_no  \\\n",
       "0   20181103   1541203200   S14006         112               1   \n",
       "1   20181116   1542326400   S14006         112               2   \n",
       "2   20170118   1484697600   S14006        1162               1   \n",
       "3   20190524   1558656000   S14006        1192               1   \n",
       "4   20190419   1555632000   S14006         112               2   \n",
       "\n",
       "      customer_id  product_cd  quantity  amount store_name  prefecture_cd  \\\n",
       "0  CS006214000001  P070305012         1     158       葛が谷店             14   \n",
       "1  ZZ000000000000  P080401001         1      48       葛が谷店             14   \n",
       "2  CS006815000006  P050406035         1     220       葛が谷店             14   \n",
       "3  CS006514000034  P060104003         1      80       葛が谷店             14   \n",
       "4  ZZ000000000000  P060501002         1     148       葛が谷店             14   \n",
       "\n",
       "  prefecture        address         address_kana        tel_no  longitude  \\\n",
       "0       神奈川県  神奈川県横浜市都筑区葛が谷  カナガワケンヨコハマシツヅキククズガヤ  045-123-4031   139.5633   \n",
       "1       神奈川県  神奈川県横浜市都筑区葛が谷  カナガワケンヨコハマシツヅキククズガヤ  045-123-4031   139.5633   \n",
       "2       神奈川県  神奈川県横浜市都筑区葛が谷  カナガワケンヨコハマシツヅキククズガヤ  045-123-4031   139.5633   \n",
       "3       神奈川県  神奈川県横浜市都筑区葛が谷  カナガワケンヨコハマシツヅキククズガヤ  045-123-4031   139.5633   \n",
       "4       神奈川県  神奈川県横浜市都筑区葛が谷  カナガワケンヨコハマシツヅキククズガヤ  045-123-4031   139.5633   \n",
       "\n",
       "   latitude  floor_area  \n",
       "0  35.53573      1886.0  \n",
       "1  35.53573      1886.0  \n",
       "2  35.53573      1886.0  \n",
       "3  35.53573      1886.0  \n",
       "4  35.53573      1886.0  "
      ]
     },
     "execution_count": 48,
     "metadata": {},
     "output_type": "execute_result"
    }
   ],
   "source": [
    "df36 = pd.merge(df_receipt, df_store, on=\"store_cd\")\n",
    "df36.head()"
   ]
  },
  {
   "cell_type": "code",
   "execution_count": 49,
   "metadata": {
    "colab": {
     "base_uri": "https://localhost:8080/",
     "height": 195
    },
    "executionInfo": {
     "elapsed": 579,
     "status": "ok",
     "timestamp": 1602920412716,
     "user": {
      "displayName": "Ohmura Kameko",
      "photoUrl": "https://lh3.googleusercontent.com/a-/AOh14GgExU0PVzY4tFSVHIVpSTmpKsEAjIZd7RIX--Mm5g=s64",
      "userId": "10791134844177295636"
     },
     "user_tz": -540
    },
    "id": "D7cU1rwJf7rT",
    "outputId": "60e05356-f617-4434-e997-84f0866f08f0"
   },
   "outputs": [
    {
     "data": {
      "text/plain": [
       "['sales_ymd',\n",
       " 'sales_epoch',\n",
       " 'store_cd',\n",
       " 'receipt_no',\n",
       " 'receipt_sub_no',\n",
       " 'customer_id',\n",
       " 'product_cd',\n",
       " 'quantity',\n",
       " 'amount',\n",
       " 'store_name']"
      ]
     },
     "execution_count": 49,
     "metadata": {},
     "output_type": "execute_result"
    }
   ],
   "source": [
    "columns_list36 = list(df_receipt.columns.values) + [\"store_name\"]\n",
    "columns_list36"
   ]
  },
  {
   "cell_type": "code",
   "execution_count": 50,
   "metadata": {
    "colab": {
     "base_uri": "https://localhost:8080/",
     "height": 352
    },
    "executionInfo": {
     "elapsed": 588,
     "status": "ok",
     "timestamp": 1602920427928,
     "user": {
      "displayName": "Ohmura Kameko",
      "photoUrl": "https://lh3.googleusercontent.com/a-/AOh14GgExU0PVzY4tFSVHIVpSTmpKsEAjIZd7RIX--Mm5g=s64",
      "userId": "10791134844177295636"
     },
     "user_tz": -540
    },
    "id": "TV90ww4sevLb",
    "outputId": "368d853d-abf6-4218-df97-76eb8e48247b"
   },
   "outputs": [
    {
     "data": {
      "text/html": [
       "<div>\n",
       "<style scoped>\n",
       "    .dataframe tbody tr th:only-of-type {\n",
       "        vertical-align: middle;\n",
       "    }\n",
       "\n",
       "    .dataframe tbody tr th {\n",
       "        vertical-align: top;\n",
       "    }\n",
       "\n",
       "    .dataframe thead th {\n",
       "        text-align: right;\n",
       "    }\n",
       "</style>\n",
       "<table border=\"1\" class=\"dataframe\">\n",
       "  <thead>\n",
       "    <tr style=\"text-align: right;\">\n",
       "      <th></th>\n",
       "      <th>sales_ymd</th>\n",
       "      <th>sales_epoch</th>\n",
       "      <th>store_cd</th>\n",
       "      <th>receipt_no</th>\n",
       "      <th>receipt_sub_no</th>\n",
       "      <th>customer_id</th>\n",
       "      <th>product_cd</th>\n",
       "      <th>quantity</th>\n",
       "      <th>amount</th>\n",
       "      <th>store_name</th>\n",
       "    </tr>\n",
       "  </thead>\n",
       "  <tbody>\n",
       "    <tr>\n",
       "      <th>0</th>\n",
       "      <td>20181103</td>\n",
       "      <td>1541203200</td>\n",
       "      <td>S14006</td>\n",
       "      <td>112</td>\n",
       "      <td>1</td>\n",
       "      <td>CS006214000001</td>\n",
       "      <td>P070305012</td>\n",
       "      <td>1</td>\n",
       "      <td>158</td>\n",
       "      <td>葛が谷店</td>\n",
       "    </tr>\n",
       "    <tr>\n",
       "      <th>1</th>\n",
       "      <td>20181116</td>\n",
       "      <td>1542326400</td>\n",
       "      <td>S14006</td>\n",
       "      <td>112</td>\n",
       "      <td>2</td>\n",
       "      <td>ZZ000000000000</td>\n",
       "      <td>P080401001</td>\n",
       "      <td>1</td>\n",
       "      <td>48</td>\n",
       "      <td>葛が谷店</td>\n",
       "    </tr>\n",
       "    <tr>\n",
       "      <th>2</th>\n",
       "      <td>20170118</td>\n",
       "      <td>1484697600</td>\n",
       "      <td>S14006</td>\n",
       "      <td>1162</td>\n",
       "      <td>1</td>\n",
       "      <td>CS006815000006</td>\n",
       "      <td>P050406035</td>\n",
       "      <td>1</td>\n",
       "      <td>220</td>\n",
       "      <td>葛が谷店</td>\n",
       "    </tr>\n",
       "    <tr>\n",
       "      <th>3</th>\n",
       "      <td>20190524</td>\n",
       "      <td>1558656000</td>\n",
       "      <td>S14006</td>\n",
       "      <td>1192</td>\n",
       "      <td>1</td>\n",
       "      <td>CS006514000034</td>\n",
       "      <td>P060104003</td>\n",
       "      <td>1</td>\n",
       "      <td>80</td>\n",
       "      <td>葛が谷店</td>\n",
       "    </tr>\n",
       "    <tr>\n",
       "      <th>4</th>\n",
       "      <td>20190419</td>\n",
       "      <td>1555632000</td>\n",
       "      <td>S14006</td>\n",
       "      <td>112</td>\n",
       "      <td>2</td>\n",
       "      <td>ZZ000000000000</td>\n",
       "      <td>P060501002</td>\n",
       "      <td>1</td>\n",
       "      <td>148</td>\n",
       "      <td>葛が谷店</td>\n",
       "    </tr>\n",
       "    <tr>\n",
       "      <th>5</th>\n",
       "      <td>20181119</td>\n",
       "      <td>1542585600</td>\n",
       "      <td>S14006</td>\n",
       "      <td>1152</td>\n",
       "      <td>2</td>\n",
       "      <td>ZZ000000000000</td>\n",
       "      <td>P050701001</td>\n",
       "      <td>1</td>\n",
       "      <td>88</td>\n",
       "      <td>葛が谷店</td>\n",
       "    </tr>\n",
       "    <tr>\n",
       "      <th>6</th>\n",
       "      <td>20171211</td>\n",
       "      <td>1512950400</td>\n",
       "      <td>S14006</td>\n",
       "      <td>1132</td>\n",
       "      <td>2</td>\n",
       "      <td>CS006515000175</td>\n",
       "      <td>P090903001</td>\n",
       "      <td>1</td>\n",
       "      <td>80</td>\n",
       "      <td>葛が谷店</td>\n",
       "    </tr>\n",
       "    <tr>\n",
       "      <th>7</th>\n",
       "      <td>20191021</td>\n",
       "      <td>1571616000</td>\n",
       "      <td>S14006</td>\n",
       "      <td>1112</td>\n",
       "      <td>2</td>\n",
       "      <td>CS006415000221</td>\n",
       "      <td>P040602001</td>\n",
       "      <td>1</td>\n",
       "      <td>405</td>\n",
       "      <td>葛が谷店</td>\n",
       "    </tr>\n",
       "    <tr>\n",
       "      <th>8</th>\n",
       "      <td>20170710</td>\n",
       "      <td>1499644800</td>\n",
       "      <td>S14006</td>\n",
       "      <td>1132</td>\n",
       "      <td>2</td>\n",
       "      <td>CS006411000036</td>\n",
       "      <td>P090301051</td>\n",
       "      <td>1</td>\n",
       "      <td>330</td>\n",
       "      <td>葛が谷店</td>\n",
       "    </tr>\n",
       "    <tr>\n",
       "      <th>9</th>\n",
       "      <td>20190805</td>\n",
       "      <td>1564963200</td>\n",
       "      <td>S14006</td>\n",
       "      <td>112</td>\n",
       "      <td>1</td>\n",
       "      <td>CS006211000012</td>\n",
       "      <td>P050104001</td>\n",
       "      <td>1</td>\n",
       "      <td>115</td>\n",
       "      <td>葛が谷店</td>\n",
       "    </tr>\n",
       "  </tbody>\n",
       "</table>\n",
       "</div>"
      ],
      "text/plain": [
       "   sales_ymd  sales_epoch store_cd  receipt_no  receipt_sub_no  \\\n",
       "0   20181103   1541203200   S14006         112               1   \n",
       "1   20181116   1542326400   S14006         112               2   \n",
       "2   20170118   1484697600   S14006        1162               1   \n",
       "3   20190524   1558656000   S14006        1192               1   \n",
       "4   20190419   1555632000   S14006         112               2   \n",
       "5   20181119   1542585600   S14006        1152               2   \n",
       "6   20171211   1512950400   S14006        1132               2   \n",
       "7   20191021   1571616000   S14006        1112               2   \n",
       "8   20170710   1499644800   S14006        1132               2   \n",
       "9   20190805   1564963200   S14006         112               1   \n",
       "\n",
       "      customer_id  product_cd  quantity  amount store_name  \n",
       "0  CS006214000001  P070305012         1     158       葛が谷店  \n",
       "1  ZZ000000000000  P080401001         1      48       葛が谷店  \n",
       "2  CS006815000006  P050406035         1     220       葛が谷店  \n",
       "3  CS006514000034  P060104003         1      80       葛が谷店  \n",
       "4  ZZ000000000000  P060501002         1     148       葛が谷店  \n",
       "5  ZZ000000000000  P050701001         1      88       葛が谷店  \n",
       "6  CS006515000175  P090903001         1      80       葛が谷店  \n",
       "7  CS006415000221  P040602001         1     405       葛が谷店  \n",
       "8  CS006411000036  P090301051         1     330       葛が谷店  \n",
       "9  CS006211000012  P050104001         1     115       葛が谷店  "
      ]
     },
     "execution_count": 50,
     "metadata": {},
     "output_type": "execute_result"
    }
   ],
   "source": [
    "df36[columns_list36].head(10)"
   ]
  },
  {
   "cell_type": "markdown",
   "metadata": {
    "id": "lrjkKKbJ1O75"
   },
   "source": [
    "## P037"
   ]
  },
  {
   "cell_type": "markdown",
   "metadata": {
    "id": "8TdeNEn_hhyu"
   },
   "source": [
    "---\n",
    "> P-037: 商品データフレーム（df_product）とカテゴリデータフレーム（df_category）を内部結合し、商品データフレームの全項目とカテゴリデータフレームの小区分名（category_small_name）を10件表示させよ。"
   ]
  },
  {
   "cell_type": "code",
   "execution_count": 51,
   "metadata": {
    "colab": {
     "base_uri": "https://localhost:8080/",
     "height": 70
    },
    "executionInfo": {
     "elapsed": 473,
     "status": "ok",
     "timestamp": 1602920507972,
     "user": {
      "displayName": "Ohmura Kameko",
      "photoUrl": "https://lh3.googleusercontent.com/a-/AOh14GgExU0PVzY4tFSVHIVpSTmpKsEAjIZd7RIX--Mm5g=s64",
      "userId": "10791134844177295636"
     },
     "user_tz": -540
    },
    "id": "r71TBknogcGf",
    "outputId": "50600bc3-05b7-4114-f9c6-fefa77cf0b02"
   },
   "outputs": [
    {
     "data": {
      "text/plain": [
       "Index(['product_cd', 'category_major_cd', 'category_medium_cd',\n",
       "       'category_small_cd', 'unit_price', 'unit_cost'],\n",
       "      dtype='object')"
      ]
     },
     "execution_count": 51,
     "metadata": {},
     "output_type": "execute_result"
    }
   ],
   "source": [
    "df_product.columns"
   ]
  },
  {
   "cell_type": "code",
   "execution_count": 52,
   "metadata": {
    "colab": {
     "base_uri": "https://localhost:8080/",
     "height": 70
    },
    "executionInfo": {
     "elapsed": 703,
     "status": "ok",
     "timestamp": 1602920522720,
     "user": {
      "displayName": "Ohmura Kameko",
      "photoUrl": "https://lh3.googleusercontent.com/a-/AOh14GgExU0PVzY4tFSVHIVpSTmpKsEAjIZd7RIX--Mm5g=s64",
      "userId": "10791134844177295636"
     },
     "user_tz": -540
    },
    "id": "Mm7uaEwvgcPZ",
    "outputId": "00fa110a-a346-469b-8e4e-069342d2425a"
   },
   "outputs": [
    {
     "data": {
      "text/plain": [
       "Index(['category_major_cd', 'category_major_name', 'category_medium_cd',\n",
       "       'category_medium_name', 'category_small_cd', 'category_small_name'],\n",
       "      dtype='object')"
      ]
     },
     "execution_count": 52,
     "metadata": {},
     "output_type": "execute_result"
    }
   ],
   "source": [
    "df_category.columns"
   ]
  },
  {
   "cell_type": "code",
   "execution_count": 53,
   "metadata": {
    "colab": {
     "base_uri": "https://localhost:8080/",
     "height": 200
    },
    "executionInfo": {
     "elapsed": 547,
     "status": "ok",
     "timestamp": 1602920830627,
     "user": {
      "displayName": "Ohmura Kameko",
      "photoUrl": "https://lh3.googleusercontent.com/a-/AOh14GgExU0PVzY4tFSVHIVpSTmpKsEAjIZd7RIX--Mm5g=s64",
      "userId": "10791134844177295636"
     },
     "user_tz": -540
    },
    "id": "J20VBcmxhhyu",
    "outputId": "52e0d7e3-9d3e-44a1-fc02-a38cdd53004b"
   },
   "outputs": [
    {
     "data": {
      "text/html": [
       "<div>\n",
       "<style scoped>\n",
       "    .dataframe tbody tr th:only-of-type {\n",
       "        vertical-align: middle;\n",
       "    }\n",
       "\n",
       "    .dataframe tbody tr th {\n",
       "        vertical-align: top;\n",
       "    }\n",
       "\n",
       "    .dataframe thead th {\n",
       "        text-align: right;\n",
       "    }\n",
       "</style>\n",
       "<table border=\"1\" class=\"dataframe\">\n",
       "  <thead>\n",
       "    <tr style=\"text-align: right;\">\n",
       "      <th></th>\n",
       "      <th>product_cd</th>\n",
       "      <th>category_major_cd</th>\n",
       "      <th>category_medium_cd</th>\n",
       "      <th>category_small_cd</th>\n",
       "      <th>unit_price</th>\n",
       "      <th>unit_cost</th>\n",
       "      <th>category_major_name</th>\n",
       "      <th>category_medium_name</th>\n",
       "      <th>category_small_name</th>\n",
       "    </tr>\n",
       "  </thead>\n",
       "  <tbody>\n",
       "    <tr>\n",
       "      <th>0</th>\n",
       "      <td>P040101001</td>\n",
       "      <td>4</td>\n",
       "      <td>401</td>\n",
       "      <td>40101</td>\n",
       "      <td>198.0</td>\n",
       "      <td>149.0</td>\n",
       "      <td>惣菜</td>\n",
       "      <td>御飯類</td>\n",
       "      <td>弁当類</td>\n",
       "    </tr>\n",
       "    <tr>\n",
       "      <th>1</th>\n",
       "      <td>P040101002</td>\n",
       "      <td>4</td>\n",
       "      <td>401</td>\n",
       "      <td>40101</td>\n",
       "      <td>218.0</td>\n",
       "      <td>164.0</td>\n",
       "      <td>惣菜</td>\n",
       "      <td>御飯類</td>\n",
       "      <td>弁当類</td>\n",
       "    </tr>\n",
       "    <tr>\n",
       "      <th>2</th>\n",
       "      <td>P040101003</td>\n",
       "      <td>4</td>\n",
       "      <td>401</td>\n",
       "      <td>40101</td>\n",
       "      <td>230.0</td>\n",
       "      <td>173.0</td>\n",
       "      <td>惣菜</td>\n",
       "      <td>御飯類</td>\n",
       "      <td>弁当類</td>\n",
       "    </tr>\n",
       "    <tr>\n",
       "      <th>3</th>\n",
       "      <td>P040101004</td>\n",
       "      <td>4</td>\n",
       "      <td>401</td>\n",
       "      <td>40101</td>\n",
       "      <td>248.0</td>\n",
       "      <td>186.0</td>\n",
       "      <td>惣菜</td>\n",
       "      <td>御飯類</td>\n",
       "      <td>弁当類</td>\n",
       "    </tr>\n",
       "    <tr>\n",
       "      <th>4</th>\n",
       "      <td>P040101005</td>\n",
       "      <td>4</td>\n",
       "      <td>401</td>\n",
       "      <td>40101</td>\n",
       "      <td>268.0</td>\n",
       "      <td>201.0</td>\n",
       "      <td>惣菜</td>\n",
       "      <td>御飯類</td>\n",
       "      <td>弁当類</td>\n",
       "    </tr>\n",
       "  </tbody>\n",
       "</table>\n",
       "</div>"
      ],
      "text/plain": [
       "   product_cd  category_major_cd  category_medium_cd  category_small_cd  \\\n",
       "0  P040101001                  4                 401              40101   \n",
       "1  P040101002                  4                 401              40101   \n",
       "2  P040101003                  4                 401              40101   \n",
       "3  P040101004                  4                 401              40101   \n",
       "4  P040101005                  4                 401              40101   \n",
       "\n",
       "   unit_price  unit_cost category_major_name category_medium_name  \\\n",
       "0       198.0      149.0                  惣菜                  御飯類   \n",
       "1       218.0      164.0                  惣菜                  御飯類   \n",
       "2       230.0      173.0                  惣菜                  御飯類   \n",
       "3       248.0      186.0                  惣菜                  御飯類   \n",
       "4       268.0      201.0                  惣菜                  御飯類   \n",
       "\n",
       "  category_small_name  \n",
       "0                 弁当類  \n",
       "1                 弁当類  \n",
       "2                 弁当類  \n",
       "3                 弁当類  \n",
       "4                 弁当類  "
      ]
     },
     "execution_count": 53,
     "metadata": {},
     "output_type": "execute_result"
    }
   ],
   "source": [
    "df37 = pd.merge(df_product, df_category, on=[\"category_major_cd\", \"category_medium_cd\", \"category_small_cd\"])\n",
    "df37.head()"
   ]
  },
  {
   "cell_type": "code",
   "execution_count": 54,
   "metadata": {
    "colab": {
     "base_uri": "https://localhost:8080/",
     "height": 141
    },
    "executionInfo": {
     "elapsed": 636,
     "status": "ok",
     "timestamp": 1602920833026,
     "user": {
      "displayName": "Ohmura Kameko",
      "photoUrl": "https://lh3.googleusercontent.com/a-/AOh14GgExU0PVzY4tFSVHIVpSTmpKsEAjIZd7RIX--Mm5g=s64",
      "userId": "10791134844177295636"
     },
     "user_tz": -540
    },
    "id": "j8kz3JMsgu40",
    "outputId": "d1285278-f81e-441f-a092-757420c055f5"
   },
   "outputs": [
    {
     "data": {
      "text/plain": [
       "['product_cd',\n",
       " 'category_major_cd',\n",
       " 'category_medium_cd',\n",
       " 'category_small_cd',\n",
       " 'unit_price',\n",
       " 'unit_cost',\n",
       " 'category_small_name']"
      ]
     },
     "execution_count": 54,
     "metadata": {},
     "output_type": "execute_result"
    }
   ],
   "source": [
    "columns_list37 = list(df_product.columns.values) + [\"category_small_name\"]\n",
    "columns_list37"
   ]
  },
  {
   "cell_type": "code",
   "execution_count": 55,
   "metadata": {
    "colab": {
     "base_uri": "https://localhost:8080/",
     "height": 352
    },
    "executionInfo": {
     "elapsed": 375,
     "status": "ok",
     "timestamp": 1602920833324,
     "user": {
      "displayName": "Ohmura Kameko",
      "photoUrl": "https://lh3.googleusercontent.com/a-/AOh14GgExU0PVzY4tFSVHIVpSTmpKsEAjIZd7RIX--Mm5g=s64",
      "userId": "10791134844177295636"
     },
     "user_tz": -540
    },
    "id": "z9W-3rt5gu_B",
    "outputId": "89f3d4f8-1e10-4794-dd4c-67514edb28df"
   },
   "outputs": [
    {
     "data": {
      "text/html": [
       "<div>\n",
       "<style scoped>\n",
       "    .dataframe tbody tr th:only-of-type {\n",
       "        vertical-align: middle;\n",
       "    }\n",
       "\n",
       "    .dataframe tbody tr th {\n",
       "        vertical-align: top;\n",
       "    }\n",
       "\n",
       "    .dataframe thead th {\n",
       "        text-align: right;\n",
       "    }\n",
       "</style>\n",
       "<table border=\"1\" class=\"dataframe\">\n",
       "  <thead>\n",
       "    <tr style=\"text-align: right;\">\n",
       "      <th></th>\n",
       "      <th>product_cd</th>\n",
       "      <th>category_major_cd</th>\n",
       "      <th>category_medium_cd</th>\n",
       "      <th>category_small_cd</th>\n",
       "      <th>unit_price</th>\n",
       "      <th>unit_cost</th>\n",
       "      <th>category_small_name</th>\n",
       "    </tr>\n",
       "  </thead>\n",
       "  <tbody>\n",
       "    <tr>\n",
       "      <th>0</th>\n",
       "      <td>P040101001</td>\n",
       "      <td>4</td>\n",
       "      <td>401</td>\n",
       "      <td>40101</td>\n",
       "      <td>198.0</td>\n",
       "      <td>149.0</td>\n",
       "      <td>弁当類</td>\n",
       "    </tr>\n",
       "    <tr>\n",
       "      <th>1</th>\n",
       "      <td>P040101002</td>\n",
       "      <td>4</td>\n",
       "      <td>401</td>\n",
       "      <td>40101</td>\n",
       "      <td>218.0</td>\n",
       "      <td>164.0</td>\n",
       "      <td>弁当類</td>\n",
       "    </tr>\n",
       "    <tr>\n",
       "      <th>2</th>\n",
       "      <td>P040101003</td>\n",
       "      <td>4</td>\n",
       "      <td>401</td>\n",
       "      <td>40101</td>\n",
       "      <td>230.0</td>\n",
       "      <td>173.0</td>\n",
       "      <td>弁当類</td>\n",
       "    </tr>\n",
       "    <tr>\n",
       "      <th>3</th>\n",
       "      <td>P040101004</td>\n",
       "      <td>4</td>\n",
       "      <td>401</td>\n",
       "      <td>40101</td>\n",
       "      <td>248.0</td>\n",
       "      <td>186.0</td>\n",
       "      <td>弁当類</td>\n",
       "    </tr>\n",
       "    <tr>\n",
       "      <th>4</th>\n",
       "      <td>P040101005</td>\n",
       "      <td>4</td>\n",
       "      <td>401</td>\n",
       "      <td>40101</td>\n",
       "      <td>268.0</td>\n",
       "      <td>201.0</td>\n",
       "      <td>弁当類</td>\n",
       "    </tr>\n",
       "    <tr>\n",
       "      <th>5</th>\n",
       "      <td>P040101006</td>\n",
       "      <td>4</td>\n",
       "      <td>401</td>\n",
       "      <td>40101</td>\n",
       "      <td>298.0</td>\n",
       "      <td>224.0</td>\n",
       "      <td>弁当類</td>\n",
       "    </tr>\n",
       "    <tr>\n",
       "      <th>6</th>\n",
       "      <td>P040101007</td>\n",
       "      <td>4</td>\n",
       "      <td>401</td>\n",
       "      <td>40101</td>\n",
       "      <td>338.0</td>\n",
       "      <td>254.0</td>\n",
       "      <td>弁当類</td>\n",
       "    </tr>\n",
       "    <tr>\n",
       "      <th>7</th>\n",
       "      <td>P040101008</td>\n",
       "      <td>4</td>\n",
       "      <td>401</td>\n",
       "      <td>40101</td>\n",
       "      <td>420.0</td>\n",
       "      <td>315.0</td>\n",
       "      <td>弁当類</td>\n",
       "    </tr>\n",
       "    <tr>\n",
       "      <th>8</th>\n",
       "      <td>P040101009</td>\n",
       "      <td>4</td>\n",
       "      <td>401</td>\n",
       "      <td>40101</td>\n",
       "      <td>498.0</td>\n",
       "      <td>374.0</td>\n",
       "      <td>弁当類</td>\n",
       "    </tr>\n",
       "    <tr>\n",
       "      <th>9</th>\n",
       "      <td>P040101010</td>\n",
       "      <td>4</td>\n",
       "      <td>401</td>\n",
       "      <td>40101</td>\n",
       "      <td>580.0</td>\n",
       "      <td>435.0</td>\n",
       "      <td>弁当類</td>\n",
       "    </tr>\n",
       "  </tbody>\n",
       "</table>\n",
       "</div>"
      ],
      "text/plain": [
       "   product_cd  category_major_cd  category_medium_cd  category_small_cd  \\\n",
       "0  P040101001                  4                 401              40101   \n",
       "1  P040101002                  4                 401              40101   \n",
       "2  P040101003                  4                 401              40101   \n",
       "3  P040101004                  4                 401              40101   \n",
       "4  P040101005                  4                 401              40101   \n",
       "5  P040101006                  4                 401              40101   \n",
       "6  P040101007                  4                 401              40101   \n",
       "7  P040101008                  4                 401              40101   \n",
       "8  P040101009                  4                 401              40101   \n",
       "9  P040101010                  4                 401              40101   \n",
       "\n",
       "   unit_price  unit_cost category_small_name  \n",
       "0       198.0      149.0                 弁当類  \n",
       "1       218.0      164.0                 弁当類  \n",
       "2       230.0      173.0                 弁当類  \n",
       "3       248.0      186.0                 弁当類  \n",
       "4       268.0      201.0                 弁当類  \n",
       "5       298.0      224.0                 弁当類  \n",
       "6       338.0      254.0                 弁当類  \n",
       "7       420.0      315.0                 弁当類  \n",
       "8       498.0      374.0                 弁当類  \n",
       "9       580.0      435.0                 弁当類  "
      ]
     },
     "execution_count": 55,
     "metadata": {},
     "output_type": "execute_result"
    }
   ],
   "source": [
    "df37[columns_list37].head(10)"
   ]
  },
  {
   "cell_type": "markdown",
   "metadata": {
    "id": "7R_74uE21QM-"
   },
   "source": [
    "## P038"
   ]
  },
  {
   "cell_type": "markdown",
   "metadata": {
    "id": "iNO7ESvWhhyw"
   },
   "source": [
    "---\n",
    "> P-038: 顧客データフレーム（df_customer）とレシート明細データフレーム（df_receipt）から、各顧客ごとの売上金額合計を求めよ。ただし、買い物の実績がない顧客については売上金額を0として表示させること。また、顧客は性別コード（gender_cd）が女性（1）であるものを対象とし、非会員（顧客IDが'Z'から始まるもの）は除外すること。なお、結果は10件だけ表示させれば良い。"
   ]
  },
  {
   "cell_type": "code",
   "execution_count": 56,
   "metadata": {
    "colab": {
     "base_uri": "https://localhost:8080/",
     "height": 200
    },
    "executionInfo": {
     "elapsed": 759,
     "status": "ok",
     "timestamp": 1602965803602,
     "user": {
      "displayName": "Ohmura Kameko",
      "photoUrl": "https://lh3.googleusercontent.com/a-/AOh14GgExU0PVzY4tFSVHIVpSTmpKsEAjIZd7RIX--Mm5g=s64",
      "userId": "10791134844177295636"
     },
     "user_tz": -540
    },
    "id": "hmc6LUaEhhyw",
    "outputId": "5786e1bb-efd2-4f02-a9c2-cb295f121713"
   },
   "outputs": [
    {
     "data": {
      "text/html": [
       "<div>\n",
       "<style scoped>\n",
       "    .dataframe tbody tr th:only-of-type {\n",
       "        vertical-align: middle;\n",
       "    }\n",
       "\n",
       "    .dataframe tbody tr th {\n",
       "        vertical-align: top;\n",
       "    }\n",
       "\n",
       "    .dataframe thead th {\n",
       "        text-align: right;\n",
       "    }\n",
       "</style>\n",
       "<table border=\"1\" class=\"dataframe\">\n",
       "  <thead>\n",
       "    <tr style=\"text-align: right;\">\n",
       "      <th></th>\n",
       "      <th>customer_id</th>\n",
       "      <th>customer_name</th>\n",
       "      <th>gender_cd</th>\n",
       "      <th>gender</th>\n",
       "      <th>birth_day</th>\n",
       "      <th>age</th>\n",
       "      <th>postal_cd</th>\n",
       "      <th>address</th>\n",
       "      <th>application_store_cd</th>\n",
       "      <th>application_date</th>\n",
       "      <th>status_cd</th>\n",
       "    </tr>\n",
       "  </thead>\n",
       "  <tbody>\n",
       "    <tr>\n",
       "      <th>0</th>\n",
       "      <td>CS021313000114</td>\n",
       "      <td>大野 あや子</td>\n",
       "      <td>1</td>\n",
       "      <td>女性</td>\n",
       "      <td>1981-04-29</td>\n",
       "      <td>37</td>\n",
       "      <td>259-1113</td>\n",
       "      <td>神奈川県伊勢原市粟窪**********</td>\n",
       "      <td>S14021</td>\n",
       "      <td>20150905</td>\n",
       "      <td>0-00000000-0</td>\n",
       "    </tr>\n",
       "    <tr>\n",
       "      <th>1</th>\n",
       "      <td>CS037613000071</td>\n",
       "      <td>六角 雅彦</td>\n",
       "      <td>9</td>\n",
       "      <td>不明</td>\n",
       "      <td>1952-04-01</td>\n",
       "      <td>66</td>\n",
       "      <td>136-0076</td>\n",
       "      <td>東京都江東区南砂**********</td>\n",
       "      <td>S13037</td>\n",
       "      <td>20150414</td>\n",
       "      <td>0-00000000-0</td>\n",
       "    </tr>\n",
       "    <tr>\n",
       "      <th>2</th>\n",
       "      <td>CS031415000172</td>\n",
       "      <td>宇多田 貴美子</td>\n",
       "      <td>1</td>\n",
       "      <td>女性</td>\n",
       "      <td>1976-10-04</td>\n",
       "      <td>42</td>\n",
       "      <td>151-0053</td>\n",
       "      <td>東京都渋谷区代々木**********</td>\n",
       "      <td>S13031</td>\n",
       "      <td>20150529</td>\n",
       "      <td>D-20100325-C</td>\n",
       "    </tr>\n",
       "    <tr>\n",
       "      <th>3</th>\n",
       "      <td>CS028811000001</td>\n",
       "      <td>堀井 かおり</td>\n",
       "      <td>1</td>\n",
       "      <td>女性</td>\n",
       "      <td>1933-03-27</td>\n",
       "      <td>86</td>\n",
       "      <td>245-0016</td>\n",
       "      <td>神奈川県横浜市泉区和泉町**********</td>\n",
       "      <td>S14028</td>\n",
       "      <td>20160115</td>\n",
       "      <td>0-00000000-0</td>\n",
       "    </tr>\n",
       "    <tr>\n",
       "      <th>4</th>\n",
       "      <td>CS001215000145</td>\n",
       "      <td>田崎 美紀</td>\n",
       "      <td>1</td>\n",
       "      <td>女性</td>\n",
       "      <td>1995-03-29</td>\n",
       "      <td>24</td>\n",
       "      <td>144-0055</td>\n",
       "      <td>東京都大田区仲六郷**********</td>\n",
       "      <td>S13001</td>\n",
       "      <td>20170605</td>\n",
       "      <td>6-20090929-2</td>\n",
       "    </tr>\n",
       "  </tbody>\n",
       "</table>\n",
       "</div>"
      ],
      "text/plain": [
       "      customer_id customer_name  gender_cd gender   birth_day  age postal_cd  \\\n",
       "0  CS021313000114        大野 あや子          1     女性  1981-04-29   37  259-1113   \n",
       "1  CS037613000071         六角 雅彦          9     不明  1952-04-01   66  136-0076   \n",
       "2  CS031415000172       宇多田 貴美子          1     女性  1976-10-04   42  151-0053   \n",
       "3  CS028811000001        堀井 かおり          1     女性  1933-03-27   86  245-0016   \n",
       "4  CS001215000145         田崎 美紀          1     女性  1995-03-29   24  144-0055   \n",
       "\n",
       "                  address application_store_cd  application_date     status_cd  \n",
       "0    神奈川県伊勢原市粟窪**********               S14021          20150905  0-00000000-0  \n",
       "1      東京都江東区南砂**********               S13037          20150414  0-00000000-0  \n",
       "2     東京都渋谷区代々木**********               S13031          20150529  D-20100325-C  \n",
       "3  神奈川県横浜市泉区和泉町**********               S14028          20160115  0-00000000-0  \n",
       "4     東京都大田区仲六郷**********               S13001          20170605  6-20090929-2  "
      ]
     },
     "execution_count": 56,
     "metadata": {},
     "output_type": "execute_result"
    }
   ],
   "source": [
    "df_customer.head()"
   ]
  },
  {
   "cell_type": "code",
   "execution_count": 57,
   "metadata": {},
   "outputs": [
    {
     "data": {
      "text/html": [
       "<div>\n",
       "<style scoped>\n",
       "    .dataframe tbody tr th:only-of-type {\n",
       "        vertical-align: middle;\n",
       "    }\n",
       "\n",
       "    .dataframe tbody tr th {\n",
       "        vertical-align: top;\n",
       "    }\n",
       "\n",
       "    .dataframe thead th {\n",
       "        text-align: right;\n",
       "    }\n",
       "</style>\n",
       "<table border=\"1\" class=\"dataframe\">\n",
       "  <thead>\n",
       "    <tr style=\"text-align: right;\">\n",
       "      <th></th>\n",
       "      <th>sales_ymd</th>\n",
       "      <th>sales_epoch</th>\n",
       "      <th>store_cd</th>\n",
       "      <th>receipt_no</th>\n",
       "      <th>receipt_sub_no</th>\n",
       "      <th>customer_id</th>\n",
       "      <th>product_cd</th>\n",
       "      <th>quantity</th>\n",
       "      <th>amount</th>\n",
       "    </tr>\n",
       "  </thead>\n",
       "  <tbody>\n",
       "    <tr>\n",
       "      <th>3</th>\n",
       "      <td>20190205</td>\n",
       "      <td>1549324800</td>\n",
       "      <td>S14042</td>\n",
       "      <td>1132</td>\n",
       "      <td>1</td>\n",
       "      <td>ZZ000000000000</td>\n",
       "      <td>P050301001</td>\n",
       "      <td>1</td>\n",
       "      <td>25</td>\n",
       "    </tr>\n",
       "    <tr>\n",
       "      <th>8</th>\n",
       "      <td>20170504</td>\n",
       "      <td>1493856000</td>\n",
       "      <td>S13020</td>\n",
       "      <td>1112</td>\n",
       "      <td>2</td>\n",
       "      <td>ZZ000000000000</td>\n",
       "      <td>P071302010</td>\n",
       "      <td>1</td>\n",
       "      <td>770</td>\n",
       "    </tr>\n",
       "    <tr>\n",
       "      <th>14</th>\n",
       "      <td>20180329</td>\n",
       "      <td>1522281600</td>\n",
       "      <td>S12014</td>\n",
       "      <td>1122</td>\n",
       "      <td>1</td>\n",
       "      <td>ZZ000000000000</td>\n",
       "      <td>P050104001</td>\n",
       "      <td>1</td>\n",
       "      <td>115</td>\n",
       "    </tr>\n",
       "    <tr>\n",
       "      <th>15</th>\n",
       "      <td>20170116</td>\n",
       "      <td>1484524800</td>\n",
       "      <td>S13002</td>\n",
       "      <td>1112</td>\n",
       "      <td>1</td>\n",
       "      <td>ZZ000000000000</td>\n",
       "      <td>P080803001</td>\n",
       "      <td>1</td>\n",
       "      <td>100</td>\n",
       "    </tr>\n",
       "    <tr>\n",
       "      <th>16</th>\n",
       "      <td>20190621</td>\n",
       "      <td>1561075200</td>\n",
       "      <td>S13044</td>\n",
       "      <td>1142</td>\n",
       "      <td>2</td>\n",
       "      <td>ZZ000000000000</td>\n",
       "      <td>P040102001</td>\n",
       "      <td>1</td>\n",
       "      <td>268</td>\n",
       "    </tr>\n",
       "  </tbody>\n",
       "</table>\n",
       "</div>"
      ],
      "text/plain": [
       "    sales_ymd  sales_epoch store_cd  receipt_no  receipt_sub_no  \\\n",
       "3    20190205   1549324800   S14042        1132               1   \n",
       "8    20170504   1493856000   S13020        1112               2   \n",
       "14   20180329   1522281600   S12014        1122               1   \n",
       "15   20170116   1484524800   S13002        1112               1   \n",
       "16   20190621   1561075200   S13044        1142               2   \n",
       "\n",
       "       customer_id  product_cd  quantity  amount  \n",
       "3   ZZ000000000000  P050301001         1      25  \n",
       "8   ZZ000000000000  P071302010         1     770  \n",
       "14  ZZ000000000000  P050104001         1     115  \n",
       "15  ZZ000000000000  P080803001         1     100  \n",
       "16  ZZ000000000000  P040102001         1     268  "
      ]
     },
     "execution_count": 57,
     "metadata": {},
     "output_type": "execute_result"
    }
   ],
   "source": [
    "df_receipt[df_receipt[\"customer_id\"].str.startswith(\"Z\")].head()"
   ]
  },
  {
   "cell_type": "code",
   "execution_count": 58,
   "metadata": {
    "colab": {
     "base_uri": "https://localhost:8080/",
     "height": 200
    },
    "executionInfo": {
     "elapsed": 586,
     "status": "ok",
     "timestamp": 1602965804973,
     "user": {
      "displayName": "Ohmura Kameko",
      "photoUrl": "https://lh3.googleusercontent.com/a-/AOh14GgExU0PVzY4tFSVHIVpSTmpKsEAjIZd7RIX--Mm5g=s64",
      "userId": "10791134844177295636"
     },
     "user_tz": -540
    },
    "id": "4U_X_Moai2M7",
    "outputId": "48f6381b-2d54-48ce-8264-07e9c7df8454"
   },
   "outputs": [
    {
     "data": {
      "text/html": [
       "<div>\n",
       "<style scoped>\n",
       "    .dataframe tbody tr th:only-of-type {\n",
       "        vertical-align: middle;\n",
       "    }\n",
       "\n",
       "    .dataframe tbody tr th {\n",
       "        vertical-align: top;\n",
       "    }\n",
       "\n",
       "    .dataframe thead th {\n",
       "        text-align: right;\n",
       "    }\n",
       "</style>\n",
       "<table border=\"1\" class=\"dataframe\">\n",
       "  <thead>\n",
       "    <tr style=\"text-align: right;\">\n",
       "      <th></th>\n",
       "      <th>sales_ymd</th>\n",
       "      <th>sales_epoch</th>\n",
       "      <th>store_cd</th>\n",
       "      <th>receipt_no</th>\n",
       "      <th>receipt_sub_no</th>\n",
       "      <th>customer_id</th>\n",
       "      <th>product_cd</th>\n",
       "      <th>quantity</th>\n",
       "      <th>amount</th>\n",
       "    </tr>\n",
       "  </thead>\n",
       "  <tbody>\n",
       "    <tr>\n",
       "      <th>0</th>\n",
       "      <td>20181103</td>\n",
       "      <td>1541203200</td>\n",
       "      <td>S14006</td>\n",
       "      <td>112</td>\n",
       "      <td>1</td>\n",
       "      <td>CS006214000001</td>\n",
       "      <td>P070305012</td>\n",
       "      <td>1</td>\n",
       "      <td>158</td>\n",
       "    </tr>\n",
       "    <tr>\n",
       "      <th>1</th>\n",
       "      <td>20181118</td>\n",
       "      <td>1542499200</td>\n",
       "      <td>S13008</td>\n",
       "      <td>1132</td>\n",
       "      <td>2</td>\n",
       "      <td>CS008415000097</td>\n",
       "      <td>P070701017</td>\n",
       "      <td>1</td>\n",
       "      <td>81</td>\n",
       "    </tr>\n",
       "    <tr>\n",
       "      <th>2</th>\n",
       "      <td>20170712</td>\n",
       "      <td>1499817600</td>\n",
       "      <td>S14028</td>\n",
       "      <td>1102</td>\n",
       "      <td>1</td>\n",
       "      <td>CS028414000014</td>\n",
       "      <td>P060101005</td>\n",
       "      <td>1</td>\n",
       "      <td>170</td>\n",
       "    </tr>\n",
       "    <tr>\n",
       "      <th>3</th>\n",
       "      <td>20190205</td>\n",
       "      <td>1549324800</td>\n",
       "      <td>S14042</td>\n",
       "      <td>1132</td>\n",
       "      <td>1</td>\n",
       "      <td>ZZ000000000000</td>\n",
       "      <td>P050301001</td>\n",
       "      <td>1</td>\n",
       "      <td>25</td>\n",
       "    </tr>\n",
       "    <tr>\n",
       "      <th>4</th>\n",
       "      <td>20180821</td>\n",
       "      <td>1534809600</td>\n",
       "      <td>S14025</td>\n",
       "      <td>1102</td>\n",
       "      <td>2</td>\n",
       "      <td>CS025415000050</td>\n",
       "      <td>P060102007</td>\n",
       "      <td>1</td>\n",
       "      <td>90</td>\n",
       "    </tr>\n",
       "  </tbody>\n",
       "</table>\n",
       "</div>"
      ],
      "text/plain": [
       "   sales_ymd  sales_epoch store_cd  receipt_no  receipt_sub_no  \\\n",
       "0   20181103   1541203200   S14006         112               1   \n",
       "1   20181118   1542499200   S13008        1132               2   \n",
       "2   20170712   1499817600   S14028        1102               1   \n",
       "3   20190205   1549324800   S14042        1132               1   \n",
       "4   20180821   1534809600   S14025        1102               2   \n",
       "\n",
       "      customer_id  product_cd  quantity  amount  \n",
       "0  CS006214000001  P070305012         1     158  \n",
       "1  CS008415000097  P070701017         1      81  \n",
       "2  CS028414000014  P060101005         1     170  \n",
       "3  ZZ000000000000  P050301001         1      25  \n",
       "4  CS025415000050  P060102007         1      90  "
      ]
     },
     "execution_count": 58,
     "metadata": {},
     "output_type": "execute_result"
    }
   ],
   "source": [
    "df_receipt.head()"
   ]
  },
  {
   "cell_type": "code",
   "execution_count": 59,
   "metadata": {
    "colab": {
     "base_uri": "https://localhost:8080/",
     "height": 390
    },
    "executionInfo": {
     "elapsed": 816,
     "status": "ok",
     "timestamp": 1603003615041,
     "user": {
      "displayName": "Ohmura Kameko",
      "photoUrl": "https://lh3.googleusercontent.com/a-/AOh14GgExU0PVzY4tFSVHIVpSTmpKsEAjIZd7RIX--Mm5g=s64",
      "userId": "10791134844177295636"
     },
     "user_tz": -540
    },
    "id": "HmQTrCXyi2Jt",
    "outputId": "616d469f-3c9a-477c-a7c3-bb363f81b293"
   },
   "outputs": [
    {
     "data": {
      "text/html": [
       "<div>\n",
       "<style scoped>\n",
       "    .dataframe tbody tr th:only-of-type {\n",
       "        vertical-align: middle;\n",
       "    }\n",
       "\n",
       "    .dataframe tbody tr th {\n",
       "        vertical-align: top;\n",
       "    }\n",
       "\n",
       "    .dataframe thead th {\n",
       "        text-align: right;\n",
       "    }\n",
       "</style>\n",
       "<table border=\"1\" class=\"dataframe\">\n",
       "  <thead>\n",
       "    <tr style=\"text-align: right;\">\n",
       "      <th></th>\n",
       "      <th>sales_ymd</th>\n",
       "      <th>sales_epoch</th>\n",
       "      <th>store_cd</th>\n",
       "      <th>receipt_no</th>\n",
       "      <th>receipt_sub_no</th>\n",
       "      <th>customer_id</th>\n",
       "      <th>product_cd</th>\n",
       "      <th>quantity</th>\n",
       "      <th>amount</th>\n",
       "      <th>customer_name</th>\n",
       "      <th>gender_cd</th>\n",
       "      <th>gender</th>\n",
       "      <th>birth_day</th>\n",
       "      <th>age</th>\n",
       "      <th>postal_cd</th>\n",
       "      <th>address</th>\n",
       "      <th>application_store_cd</th>\n",
       "      <th>application_date</th>\n",
       "      <th>status_cd</th>\n",
       "    </tr>\n",
       "  </thead>\n",
       "  <tbody>\n",
       "    <tr>\n",
       "      <th>0</th>\n",
       "      <td>20181103</td>\n",
       "      <td>1541203200</td>\n",
       "      <td>S14006</td>\n",
       "      <td>112</td>\n",
       "      <td>1</td>\n",
       "      <td>CS006214000001</td>\n",
       "      <td>P070305012</td>\n",
       "      <td>1</td>\n",
       "      <td>158</td>\n",
       "      <td>志水 佳乃</td>\n",
       "      <td>1.0</td>\n",
       "      <td>女性</td>\n",
       "      <td>1996-12-08</td>\n",
       "      <td>22.0</td>\n",
       "      <td>224-0057</td>\n",
       "      <td>神奈川県横浜市都筑区川和町**********</td>\n",
       "      <td>S14006</td>\n",
       "      <td>20150201.0</td>\n",
       "      <td>E-20100908-F</td>\n",
       "    </tr>\n",
       "    <tr>\n",
       "      <th>1</th>\n",
       "      <td>20181118</td>\n",
       "      <td>1542499200</td>\n",
       "      <td>S13008</td>\n",
       "      <td>1132</td>\n",
       "      <td>2</td>\n",
       "      <td>CS008415000097</td>\n",
       "      <td>P070701017</td>\n",
       "      <td>1</td>\n",
       "      <td>81</td>\n",
       "      <td>中田 光</td>\n",
       "      <td>1.0</td>\n",
       "      <td>女性</td>\n",
       "      <td>1971-05-21</td>\n",
       "      <td>47.0</td>\n",
       "      <td>182-0004</td>\n",
       "      <td>東京都調布市入間町**********</td>\n",
       "      <td>S13008</td>\n",
       "      <td>20150322.0</td>\n",
       "      <td>9-20100417-B</td>\n",
       "    </tr>\n",
       "    <tr>\n",
       "      <th>2</th>\n",
       "      <td>20170712</td>\n",
       "      <td>1499817600</td>\n",
       "      <td>S14028</td>\n",
       "      <td>1102</td>\n",
       "      <td>1</td>\n",
       "      <td>CS028414000014</td>\n",
       "      <td>P060101005</td>\n",
       "      <td>1</td>\n",
       "      <td>170</td>\n",
       "      <td>米倉 ヒカル</td>\n",
       "      <td>1.0</td>\n",
       "      <td>女性</td>\n",
       "      <td>1977-02-05</td>\n",
       "      <td>42.0</td>\n",
       "      <td>246-0023</td>\n",
       "      <td>神奈川県横浜市瀬谷区阿久和東**********</td>\n",
       "      <td>S14028</td>\n",
       "      <td>20150711.0</td>\n",
       "      <td>E-20101023-E</td>\n",
       "    </tr>\n",
       "    <tr>\n",
       "      <th>4</th>\n",
       "      <td>20180821</td>\n",
       "      <td>1534809600</td>\n",
       "      <td>S14025</td>\n",
       "      <td>1102</td>\n",
       "      <td>2</td>\n",
       "      <td>CS025415000050</td>\n",
       "      <td>P060102007</td>\n",
       "      <td>1</td>\n",
       "      <td>90</td>\n",
       "      <td>亀井 奈々</td>\n",
       "      <td>1.0</td>\n",
       "      <td>女性</td>\n",
       "      <td>1971-10-25</td>\n",
       "      <td>47.0</td>\n",
       "      <td>242-0024</td>\n",
       "      <td>神奈川県大和市福田**********</td>\n",
       "      <td>S14025</td>\n",
       "      <td>20160131.0</td>\n",
       "      <td>E-20101008-E</td>\n",
       "    </tr>\n",
       "    <tr>\n",
       "      <th>5</th>\n",
       "      <td>20190605</td>\n",
       "      <td>1559692800</td>\n",
       "      <td>S13003</td>\n",
       "      <td>1112</td>\n",
       "      <td>1</td>\n",
       "      <td>CS003515000195</td>\n",
       "      <td>P050102002</td>\n",
       "      <td>1</td>\n",
       "      <td>138</td>\n",
       "      <td>梅村 真奈美</td>\n",
       "      <td>1.0</td>\n",
       "      <td>女性</td>\n",
       "      <td>1963-05-31</td>\n",
       "      <td>55.0</td>\n",
       "      <td>182-0022</td>\n",
       "      <td>東京都調布市国領町**********</td>\n",
       "      <td>S13003</td>\n",
       "      <td>20150306.0</td>\n",
       "      <td>D-20100605-B</td>\n",
       "    </tr>\n",
       "  </tbody>\n",
       "</table>\n",
       "</div>"
      ],
      "text/plain": [
       "   sales_ymd  sales_epoch store_cd  receipt_no  receipt_sub_no  \\\n",
       "0   20181103   1541203200   S14006         112               1   \n",
       "1   20181118   1542499200   S13008        1132               2   \n",
       "2   20170712   1499817600   S14028        1102               1   \n",
       "4   20180821   1534809600   S14025        1102               2   \n",
       "5   20190605   1559692800   S13003        1112               1   \n",
       "\n",
       "      customer_id  product_cd  quantity  amount customer_name  gender_cd  \\\n",
       "0  CS006214000001  P070305012         1     158         志水 佳乃        1.0   \n",
       "1  CS008415000097  P070701017         1      81          中田 光        1.0   \n",
       "2  CS028414000014  P060101005         1     170        米倉 ヒカル        1.0   \n",
       "4  CS025415000050  P060102007         1      90         亀井 奈々        1.0   \n",
       "5  CS003515000195  P050102002         1     138        梅村 真奈美        1.0   \n",
       "\n",
       "  gender   birth_day   age postal_cd                   address  \\\n",
       "0     女性  1996-12-08  22.0  224-0057   神奈川県横浜市都筑区川和町**********   \n",
       "1     女性  1971-05-21  47.0  182-0004       東京都調布市入間町**********   \n",
       "2     女性  1977-02-05  42.0  246-0023  神奈川県横浜市瀬谷区阿久和東**********   \n",
       "4     女性  1971-10-25  47.0  242-0024       神奈川県大和市福田**********   \n",
       "5     女性  1963-05-31  55.0  182-0022       東京都調布市国領町**********   \n",
       "\n",
       "  application_store_cd  application_date     status_cd  \n",
       "0               S14006        20150201.0  E-20100908-F  \n",
       "1               S13008        20150322.0  9-20100417-B  \n",
       "2               S14028        20150711.0  E-20101023-E  \n",
       "4               S14025        20160131.0  E-20101008-E  \n",
       "5               S13003        20150306.0  D-20100605-B  "
      ]
     },
     "execution_count": 59,
     "metadata": {},
     "output_type": "execute_result"
    }
   ],
   "source": [
    "df38= pd.merge(df_receipt, df_customer, on=\"customer_id\", how='left')\n",
    "df38 = df38[(df38[\"gender_cd\"] == 1) & (~df38[\"customer_id\"].str.startswith(\"Z\"))]\n",
    "df38 = df38.fillna({\"amount\": 0})\n",
    "df38.head()"
   ]
  },
  {
   "cell_type": "code",
   "execution_count": 60,
   "metadata": {
    "colab": {
     "base_uri": "https://localhost:8080/",
     "height": 382
    },
    "executionInfo": {
     "elapsed": 1018,
     "status": "ok",
     "timestamp": 1603003630742,
     "user": {
      "displayName": "Ohmura Kameko",
      "photoUrl": "https://lh3.googleusercontent.com/a-/AOh14GgExU0PVzY4tFSVHIVpSTmpKsEAjIZd7RIX--Mm5g=s64",
      "userId": "10791134844177295636"
     },
     "user_tz": -540
    },
    "id": "da5_StP8i2Gy",
    "outputId": "9a7cc821-53c9-4172-8a84-2462a622a473"
   },
   "outputs": [
    {
     "data": {
      "text/html": [
       "<div>\n",
       "<style scoped>\n",
       "    .dataframe tbody tr th:only-of-type {\n",
       "        vertical-align: middle;\n",
       "    }\n",
       "\n",
       "    .dataframe tbody tr th {\n",
       "        vertical-align: top;\n",
       "    }\n",
       "\n",
       "    .dataframe thead th {\n",
       "        text-align: right;\n",
       "    }\n",
       "</style>\n",
       "<table border=\"1\" class=\"dataframe\">\n",
       "  <thead>\n",
       "    <tr style=\"text-align: right;\">\n",
       "      <th></th>\n",
       "      <th>amount</th>\n",
       "    </tr>\n",
       "    <tr>\n",
       "      <th>customer_id</th>\n",
       "      <th></th>\n",
       "    </tr>\n",
       "  </thead>\n",
       "  <tbody>\n",
       "    <tr>\n",
       "      <th>CS001113000004</th>\n",
       "      <td>1298</td>\n",
       "    </tr>\n",
       "    <tr>\n",
       "      <th>CS001114000005</th>\n",
       "      <td>626</td>\n",
       "    </tr>\n",
       "    <tr>\n",
       "      <th>CS001115000010</th>\n",
       "      <td>3044</td>\n",
       "    </tr>\n",
       "    <tr>\n",
       "      <th>CS001211000025</th>\n",
       "      <td>456</td>\n",
       "    </tr>\n",
       "    <tr>\n",
       "      <th>CS001212000027</th>\n",
       "      <td>448</td>\n",
       "    </tr>\n",
       "    <tr>\n",
       "      <th>CS001212000031</th>\n",
       "      <td>296</td>\n",
       "    </tr>\n",
       "    <tr>\n",
       "      <th>CS001212000046</th>\n",
       "      <td>228</td>\n",
       "    </tr>\n",
       "    <tr>\n",
       "      <th>CS001212000070</th>\n",
       "      <td>456</td>\n",
       "    </tr>\n",
       "    <tr>\n",
       "      <th>CS001213000018</th>\n",
       "      <td>243</td>\n",
       "    </tr>\n",
       "    <tr>\n",
       "      <th>CS001213000020</th>\n",
       "      <td>343</td>\n",
       "    </tr>\n",
       "  </tbody>\n",
       "</table>\n",
       "</div>"
      ],
      "text/plain": [
       "                amount\n",
       "customer_id           \n",
       "CS001113000004    1298\n",
       "CS001114000005     626\n",
       "CS001115000010    3044\n",
       "CS001211000025     456\n",
       "CS001212000027     448\n",
       "CS001212000031     296\n",
       "CS001212000046     228\n",
       "CS001212000070     456\n",
       "CS001213000018     243\n",
       "CS001213000020     343"
      ]
     },
     "execution_count": 60,
     "metadata": {},
     "output_type": "execute_result"
    }
   ],
   "source": [
    "df38_sum = df38.groupby(\"customer_id\")[[\"amount\"]].sum()\n",
    "df38_sum.head(10)\n"
   ]
  },
  {
   "cell_type": "markdown",
   "metadata": {},
   "source": [
    "今日はここまで"
   ]
  },
  {
   "cell_type": "markdown",
   "metadata": {},
   "source": [
    "# ↓2020-11-29"
   ]
  },
  {
   "cell_type": "markdown",
   "metadata": {
    "id": "E7NfKK8f1TDG"
   },
   "source": [
    "## P039"
   ]
  },
  {
   "cell_type": "markdown",
   "metadata": {
    "id": "O8FU3doGhhyy"
   },
   "source": [
    "---\n",
    "> P-039: レシート明細データフレーム（df_receipt）から売上日数の多い顧客の上位20件と、売上金額合計の多い顧客の上位20件を抽出し、完全外部結合せよ。ただし、非会員（顧客IDが'Z'から始まるもの）は除外すること。"
   ]
  },
  {
   "cell_type": "code",
   "execution_count": 61,
   "metadata": {
    "executionInfo": {
     "elapsed": 2120,
     "status": "ok",
     "timestamp": 1603003225852,
     "user": {
      "displayName": "Ohmura Kameko",
      "photoUrl": "https://lh3.googleusercontent.com/a-/AOh14GgExU0PVzY4tFSVHIVpSTmpKsEAjIZd7RIX--Mm5g=s64",
      "userId": "10791134844177295636"
     },
     "user_tz": -540
    },
    "id": "hfuHpgpjZyk6"
   },
   "outputs": [],
   "source": [
    "df39 = df_receipt[~df_receipt[\"customer_id\"].str.startswith(\"Z\")]"
   ]
  },
  {
   "cell_type": "code",
   "execution_count": 62,
   "metadata": {
    "colab": {
     "base_uri": "https://localhost:8080/",
     "height": 230
    },
    "executionInfo": {
     "elapsed": 1566,
     "status": "ok",
     "timestamp": 1603003225855,
     "user": {
      "displayName": "Ohmura Kameko",
      "photoUrl": "https://lh3.googleusercontent.com/a-/AOh14GgExU0PVzY4tFSVHIVpSTmpKsEAjIZd7RIX--Mm5g=s64",
      "userId": "10791134844177295636"
     },
     "user_tz": -540
    },
    "id": "Av7SadgPhhyy",
    "outputId": "979721b6-2f4f-452c-e250-799de651087c"
   },
   "outputs": [
    {
     "data": {
      "text/html": [
       "<div>\n",
       "<style scoped>\n",
       "    .dataframe tbody tr th:only-of-type {\n",
       "        vertical-align: middle;\n",
       "    }\n",
       "\n",
       "    .dataframe tbody tr th {\n",
       "        vertical-align: top;\n",
       "    }\n",
       "\n",
       "    .dataframe thead th {\n",
       "        text-align: right;\n",
       "    }\n",
       "</style>\n",
       "<table border=\"1\" class=\"dataframe\">\n",
       "  <thead>\n",
       "    <tr style=\"text-align: right;\">\n",
       "      <th></th>\n",
       "      <th>sales_ymd</th>\n",
       "    </tr>\n",
       "    <tr>\n",
       "      <th>customer_id</th>\n",
       "      <th></th>\n",
       "    </tr>\n",
       "  </thead>\n",
       "  <tbody>\n",
       "    <tr>\n",
       "      <th>CS040214000008</th>\n",
       "      <td>46</td>\n",
       "    </tr>\n",
       "    <tr>\n",
       "      <th>CS015415000185</th>\n",
       "      <td>44</td>\n",
       "    </tr>\n",
       "    <tr>\n",
       "      <th>CS010214000010</th>\n",
       "      <td>44</td>\n",
       "    </tr>\n",
       "    <tr>\n",
       "      <th>CS010214000002</th>\n",
       "      <td>42</td>\n",
       "    </tr>\n",
       "    <tr>\n",
       "      <th>CS028415000007</th>\n",
       "      <td>42</td>\n",
       "    </tr>\n",
       "  </tbody>\n",
       "</table>\n",
       "</div>"
      ],
      "text/plain": [
       "                sales_ymd\n",
       "customer_id              \n",
       "CS040214000008         46\n",
       "CS015415000185         44\n",
       "CS010214000010         44\n",
       "CS010214000002         42\n",
       "CS028415000007         42"
      ]
     },
     "execution_count": 62,
     "metadata": {},
     "output_type": "execute_result"
    }
   ],
   "source": [
    "df39_day = df39.groupby(\"customer_id\")[[\"sales_ymd\"]].count()\n",
    "df39_day = df39_day.sort_values(\"sales_ymd\", ascending=False).head(20)\n",
    "df39_day.head()"
   ]
  },
  {
   "cell_type": "code",
   "execution_count": 63,
   "metadata": {
    "colab": {
     "base_uri": "https://localhost:8080/",
     "height": 230
    },
    "executionInfo": {
     "elapsed": 986,
     "status": "ok",
     "timestamp": 1603003270275,
     "user": {
      "displayName": "Ohmura Kameko",
      "photoUrl": "https://lh3.googleusercontent.com/a-/AOh14GgExU0PVzY4tFSVHIVpSTmpKsEAjIZd7RIX--Mm5g=s64",
      "userId": "10791134844177295636"
     },
     "user_tz": -540
    },
    "id": "QVN8UwYBcBYt",
    "outputId": "0c7fb5df-523f-4938-f44d-f6a4e0435cbe"
   },
   "outputs": [
    {
     "data": {
      "text/html": [
       "<div>\n",
       "<style scoped>\n",
       "    .dataframe tbody tr th:only-of-type {\n",
       "        vertical-align: middle;\n",
       "    }\n",
       "\n",
       "    .dataframe tbody tr th {\n",
       "        vertical-align: top;\n",
       "    }\n",
       "\n",
       "    .dataframe thead th {\n",
       "        text-align: right;\n",
       "    }\n",
       "</style>\n",
       "<table border=\"1\" class=\"dataframe\">\n",
       "  <thead>\n",
       "    <tr style=\"text-align: right;\">\n",
       "      <th></th>\n",
       "      <th>amount</th>\n",
       "    </tr>\n",
       "    <tr>\n",
       "      <th>customer_id</th>\n",
       "      <th></th>\n",
       "    </tr>\n",
       "  </thead>\n",
       "  <tbody>\n",
       "    <tr>\n",
       "      <th>CS017415000097</th>\n",
       "      <td>23086</td>\n",
       "    </tr>\n",
       "    <tr>\n",
       "      <th>CS015415000185</th>\n",
       "      <td>20153</td>\n",
       "    </tr>\n",
       "    <tr>\n",
       "      <th>CS031414000051</th>\n",
       "      <td>19202</td>\n",
       "    </tr>\n",
       "    <tr>\n",
       "      <th>CS028415000007</th>\n",
       "      <td>19127</td>\n",
       "    </tr>\n",
       "    <tr>\n",
       "      <th>CS001605000009</th>\n",
       "      <td>18925</td>\n",
       "    </tr>\n",
       "  </tbody>\n",
       "</table>\n",
       "</div>"
      ],
      "text/plain": [
       "                amount\n",
       "customer_id           \n",
       "CS017415000097   23086\n",
       "CS015415000185   20153\n",
       "CS031414000051   19202\n",
       "CS028415000007   19127\n",
       "CS001605000009   18925"
      ]
     },
     "execution_count": 63,
     "metadata": {},
     "output_type": "execute_result"
    }
   ],
   "source": [
    "df39_pay = df39.groupby(\"customer_id\")[[\"amount\"]].sum()\n",
    "df39_pay = df39_pay.sort_values(\"amount\", ascending=False).head(20)\n",
    "df39_pay.head()"
   ]
  },
  {
   "cell_type": "code",
   "execution_count": 64,
   "metadata": {
    "colab": {
     "base_uri": "https://localhost:8080/",
     "height": 1000
    },
    "executionInfo": {
     "elapsed": 845,
     "status": "ok",
     "timestamp": 1603003729391,
     "user": {
      "displayName": "Ohmura Kameko",
      "photoUrl": "https://lh3.googleusercontent.com/a-/AOh14GgExU0PVzY4tFSVHIVpSTmpKsEAjIZd7RIX--Mm5g=s64",
      "userId": "10791134844177295636"
     },
     "user_tz": -540
    },
    "id": "Cpx6VABIcOtI",
    "outputId": "965edf25-2c87-4915-b941-e01f93f674d6"
   },
   "outputs": [
    {
     "data": {
      "text/html": [
       "<div>\n",
       "<style scoped>\n",
       "    .dataframe tbody tr th:only-of-type {\n",
       "        vertical-align: middle;\n",
       "    }\n",
       "\n",
       "    .dataframe tbody tr th {\n",
       "        vertical-align: top;\n",
       "    }\n",
       "\n",
       "    .dataframe thead th {\n",
       "        text-align: right;\n",
       "    }\n",
       "</style>\n",
       "<table border=\"1\" class=\"dataframe\">\n",
       "  <thead>\n",
       "    <tr style=\"text-align: right;\">\n",
       "      <th></th>\n",
       "      <th>sales_ymd</th>\n",
       "      <th>amount</th>\n",
       "    </tr>\n",
       "    <tr>\n",
       "      <th>customer_id</th>\n",
       "      <th></th>\n",
       "      <th></th>\n",
       "    </tr>\n",
       "  </thead>\n",
       "  <tbody>\n",
       "    <tr>\n",
       "      <th>CS040214000008</th>\n",
       "      <td>46.0</td>\n",
       "      <td>0.0</td>\n",
       "    </tr>\n",
       "    <tr>\n",
       "      <th>CS015415000185</th>\n",
       "      <td>44.0</td>\n",
       "      <td>20153.0</td>\n",
       "    </tr>\n",
       "    <tr>\n",
       "      <th>CS010214000010</th>\n",
       "      <td>44.0</td>\n",
       "      <td>18585.0</td>\n",
       "    </tr>\n",
       "    <tr>\n",
       "      <th>CS010214000002</th>\n",
       "      <td>42.0</td>\n",
       "      <td>0.0</td>\n",
       "    </tr>\n",
       "    <tr>\n",
       "      <th>CS028415000007</th>\n",
       "      <td>42.0</td>\n",
       "      <td>19127.0</td>\n",
       "    </tr>\n",
       "    <tr>\n",
       "      <th>CS007515000107</th>\n",
       "      <td>40.0</td>\n",
       "      <td>0.0</td>\n",
       "    </tr>\n",
       "    <tr>\n",
       "      <th>CS021514000045</th>\n",
       "      <td>40.0</td>\n",
       "      <td>0.0</td>\n",
       "    </tr>\n",
       "    <tr>\n",
       "      <th>CS016415000141</th>\n",
       "      <td>40.0</td>\n",
       "      <td>18372.0</td>\n",
       "    </tr>\n",
       "    <tr>\n",
       "      <th>CS017415000097</th>\n",
       "      <td>40.0</td>\n",
       "      <td>23086.0</td>\n",
       "    </tr>\n",
       "    <tr>\n",
       "      <th>CS022515000226</th>\n",
       "      <td>38.0</td>\n",
       "      <td>0.0</td>\n",
       "    </tr>\n",
       "    <tr>\n",
       "      <th>CS039414000052</th>\n",
       "      <td>38.0</td>\n",
       "      <td>0.0</td>\n",
       "    </tr>\n",
       "    <tr>\n",
       "      <th>CS014214000023</th>\n",
       "      <td>38.0</td>\n",
       "      <td>0.0</td>\n",
       "    </tr>\n",
       "    <tr>\n",
       "      <th>CS031414000073</th>\n",
       "      <td>38.0</td>\n",
       "      <td>0.0</td>\n",
       "    </tr>\n",
       "    <tr>\n",
       "      <th>CS014415000077</th>\n",
       "      <td>38.0</td>\n",
       "      <td>0.0</td>\n",
       "    </tr>\n",
       "    <tr>\n",
       "      <th>CS021515000172</th>\n",
       "      <td>38.0</td>\n",
       "      <td>0.0</td>\n",
       "    </tr>\n",
       "    <tr>\n",
       "      <th>CS032415000209</th>\n",
       "      <td>38.0</td>\n",
       "      <td>0.0</td>\n",
       "    </tr>\n",
       "    <tr>\n",
       "      <th>CS031414000051</th>\n",
       "      <td>38.0</td>\n",
       "      <td>19202.0</td>\n",
       "    </tr>\n",
       "    <tr>\n",
       "      <th>CS021515000056</th>\n",
       "      <td>36.0</td>\n",
       "      <td>0.0</td>\n",
       "    </tr>\n",
       "    <tr>\n",
       "      <th>CS021515000101</th>\n",
       "      <td>36.0</td>\n",
       "      <td>0.0</td>\n",
       "    </tr>\n",
       "    <tr>\n",
       "      <th>CS021515000211</th>\n",
       "      <td>36.0</td>\n",
       "      <td>0.0</td>\n",
       "    </tr>\n",
       "    <tr>\n",
       "      <th>CS001605000009</th>\n",
       "      <td>0.0</td>\n",
       "      <td>18925.0</td>\n",
       "    </tr>\n",
       "    <tr>\n",
       "      <th>CS006515000023</th>\n",
       "      <td>0.0</td>\n",
       "      <td>18372.0</td>\n",
       "    </tr>\n",
       "    <tr>\n",
       "      <th>CS011414000106</th>\n",
       "      <td>0.0</td>\n",
       "      <td>18338.0</td>\n",
       "    </tr>\n",
       "    <tr>\n",
       "      <th>CS038415000104</th>\n",
       "      <td>0.0</td>\n",
       "      <td>17847.0</td>\n",
       "    </tr>\n",
       "    <tr>\n",
       "      <th>CS035414000024</th>\n",
       "      <td>0.0</td>\n",
       "      <td>17615.0</td>\n",
       "    </tr>\n",
       "    <tr>\n",
       "      <th>CS021515000089</th>\n",
       "      <td>0.0</td>\n",
       "      <td>17580.0</td>\n",
       "    </tr>\n",
       "    <tr>\n",
       "      <th>CS032414000072</th>\n",
       "      <td>0.0</td>\n",
       "      <td>16563.0</td>\n",
       "    </tr>\n",
       "    <tr>\n",
       "      <th>CS016415000101</th>\n",
       "      <td>0.0</td>\n",
       "      <td>16348.0</td>\n",
       "    </tr>\n",
       "    <tr>\n",
       "      <th>CS011415000006</th>\n",
       "      <td>0.0</td>\n",
       "      <td>16094.0</td>\n",
       "    </tr>\n",
       "    <tr>\n",
       "      <th>CS034415000047</th>\n",
       "      <td>0.0</td>\n",
       "      <td>16083.0</td>\n",
       "    </tr>\n",
       "    <tr>\n",
       "      <th>CS007514000094</th>\n",
       "      <td>0.0</td>\n",
       "      <td>15735.0</td>\n",
       "    </tr>\n",
       "    <tr>\n",
       "      <th>CS009414000059</th>\n",
       "      <td>0.0</td>\n",
       "      <td>15492.0</td>\n",
       "    </tr>\n",
       "    <tr>\n",
       "      <th>CS030415000034</th>\n",
       "      <td>0.0</td>\n",
       "      <td>15468.0</td>\n",
       "    </tr>\n",
       "    <tr>\n",
       "      <th>CS015515000034</th>\n",
       "      <td>0.0</td>\n",
       "      <td>15300.0</td>\n",
       "    </tr>\n",
       "  </tbody>\n",
       "</table>\n",
       "</div>"
      ],
      "text/plain": [
       "                sales_ymd   amount\n",
       "customer_id                       \n",
       "CS040214000008       46.0      0.0\n",
       "CS015415000185       44.0  20153.0\n",
       "CS010214000010       44.0  18585.0\n",
       "CS010214000002       42.0      0.0\n",
       "CS028415000007       42.0  19127.0\n",
       "CS007515000107       40.0      0.0\n",
       "CS021514000045       40.0      0.0\n",
       "CS016415000141       40.0  18372.0\n",
       "CS017415000097       40.0  23086.0\n",
       "CS022515000226       38.0      0.0\n",
       "CS039414000052       38.0      0.0\n",
       "CS014214000023       38.0      0.0\n",
       "CS031414000073       38.0      0.0\n",
       "CS014415000077       38.0      0.0\n",
       "CS021515000172       38.0      0.0\n",
       "CS032415000209       38.0      0.0\n",
       "CS031414000051       38.0  19202.0\n",
       "CS021515000056       36.0      0.0\n",
       "CS021515000101       36.0      0.0\n",
       "CS021515000211       36.0      0.0\n",
       "CS001605000009        0.0  18925.0\n",
       "CS006515000023        0.0  18372.0\n",
       "CS011414000106        0.0  18338.0\n",
       "CS038415000104        0.0  17847.0\n",
       "CS035414000024        0.0  17615.0\n",
       "CS021515000089        0.0  17580.0\n",
       "CS032414000072        0.0  16563.0\n",
       "CS016415000101        0.0  16348.0\n",
       "CS011415000006        0.0  16094.0\n",
       "CS034415000047        0.0  16083.0\n",
       "CS007514000094        0.0  15735.0\n",
       "CS009414000059        0.0  15492.0\n",
       "CS030415000034        0.0  15468.0\n",
       "CS015515000034        0.0  15300.0"
      ]
     },
     "execution_count": 64,
     "metadata": {},
     "output_type": "execute_result"
    }
   ],
   "source": [
    "df39_merged = pd.merge(df39_day, df39_pay, on=\"customer_id\", how=\"outer\")\n",
    "df39_merged = df39_merged.fillna({\"amount\":0, \"sales_ymd\":0})\n",
    "df39_merged"
   ]
  },
  {
   "cell_type": "markdown",
   "metadata": {
    "id": "woxqd7Bw1UhP"
   },
   "source": [
    "## P040"
   ]
  },
  {
   "cell_type": "markdown",
   "metadata": {
    "id": "pcu3GCH9hhyz"
   },
   "source": [
    "---\n",
    "> P-040: 全ての店舗と全ての商品を組み合わせると何件のデータとなるか調査したい。店舗（df_store）と商品（df_product）を直積した件数を計算せよ。"
   ]
  },
  {
   "cell_type": "code",
   "execution_count": 65,
   "metadata": {
    "colab": {
     "base_uri": "https://localhost:8080/",
     "height": 35
    },
    "executionInfo": {
     "elapsed": 1019,
     "status": "ok",
     "timestamp": 1603004125595,
     "user": {
      "displayName": "Ohmura Kameko",
      "photoUrl": "https://lh3.googleusercontent.com/a-/AOh14GgExU0PVzY4tFSVHIVpSTmpKsEAjIZd7RIX--Mm5g=s64",
      "userId": "10791134844177295636"
     },
     "user_tz": -540
    },
    "id": "q44OHRp6eMxW",
    "outputId": "85517899-0d12-41ef-ac62-dbf10f6375a9"
   },
   "outputs": [
    {
     "data": {
      "text/plain": [
       "531590"
      ]
     },
     "execution_count": 65,
     "metadata": {},
     "output_type": "execute_result"
    }
   ],
   "source": [
    "len(df_product) * len(df_store)"
   ]
  },
  {
   "cell_type": "markdown",
   "metadata": {
    "id": "6zqnS1zW1aQH"
   },
   "source": [
    "## P041"
   ]
  },
  {
   "cell_type": "markdown",
   "metadata": {
    "id": "qbPipL0Hhhy1"
   },
   "source": [
    "---\n",
    "> P-041: レシート明細データフレーム（df_receipt）の売上金額（amount）を日付（sales_ymd）ごとに集計し、前日からの売上金額増減を計算せよ。なお、計算結果は10件表示すればよい。"
   ]
  },
  {
   "cell_type": "code",
   "execution_count": 66,
   "metadata": {
    "colab": {
     "base_uri": "https://localhost:8080/",
     "height": 382
    },
    "executionInfo": {
     "elapsed": 888,
     "status": "ok",
     "timestamp": 1603005544800,
     "user": {
      "displayName": "Ohmura Kameko",
      "photoUrl": "https://lh3.googleusercontent.com/a-/AOh14GgExU0PVzY4tFSVHIVpSTmpKsEAjIZd7RIX--Mm5g=s64",
      "userId": "10791134844177295636"
     },
     "user_tz": -540
    },
    "id": "SvVN53Kehhy2",
    "outputId": "414665bf-dd57-486b-9af1-3c0aab974928"
   },
   "outputs": [
    {
     "data": {
      "text/html": [
       "<div>\n",
       "<style scoped>\n",
       "    .dataframe tbody tr th:only-of-type {\n",
       "        vertical-align: middle;\n",
       "    }\n",
       "\n",
       "    .dataframe tbody tr th {\n",
       "        vertical-align: top;\n",
       "    }\n",
       "\n",
       "    .dataframe thead th {\n",
       "        text-align: right;\n",
       "    }\n",
       "</style>\n",
       "<table border=\"1\" class=\"dataframe\">\n",
       "  <thead>\n",
       "    <tr style=\"text-align: right;\">\n",
       "      <th></th>\n",
       "      <th>amount</th>\n",
       "    </tr>\n",
       "    <tr>\n",
       "      <th>sales_ymd</th>\n",
       "      <th></th>\n",
       "    </tr>\n",
       "  </thead>\n",
       "  <tbody>\n",
       "    <tr>\n",
       "      <th>20170101</th>\n",
       "      <td>NaN</td>\n",
       "    </tr>\n",
       "    <tr>\n",
       "      <th>20170102</th>\n",
       "      <td>-9558.0</td>\n",
       "    </tr>\n",
       "    <tr>\n",
       "      <th>20170103</th>\n",
       "      <td>3338.0</td>\n",
       "    </tr>\n",
       "    <tr>\n",
       "      <th>20170104</th>\n",
       "      <td>8662.0</td>\n",
       "    </tr>\n",
       "    <tr>\n",
       "      <th>20170105</th>\n",
       "      <td>1665.0</td>\n",
       "    </tr>\n",
       "    <tr>\n",
       "      <th>20170106</th>\n",
       "      <td>-5443.0</td>\n",
       "    </tr>\n",
       "    <tr>\n",
       "      <th>20170107</th>\n",
       "      <td>-8972.0</td>\n",
       "    </tr>\n",
       "    <tr>\n",
       "      <th>20170108</th>\n",
       "      <td>1322.0</td>\n",
       "    </tr>\n",
       "    <tr>\n",
       "      <th>20170109</th>\n",
       "      <td>1981.0</td>\n",
       "    </tr>\n",
       "    <tr>\n",
       "      <th>20170110</th>\n",
       "      <td>-6575.0</td>\n",
       "    </tr>\n",
       "  </tbody>\n",
       "</table>\n",
       "</div>"
      ],
      "text/plain": [
       "           amount\n",
       "sales_ymd        \n",
       "20170101      NaN\n",
       "20170102  -9558.0\n",
       "20170103   3338.0\n",
       "20170104   8662.0\n",
       "20170105   1665.0\n",
       "20170106  -5443.0\n",
       "20170107  -8972.0\n",
       "20170108   1322.0\n",
       "20170109   1981.0\n",
       "20170110  -6575.0"
      ]
     },
     "execution_count": 66,
     "metadata": {},
     "output_type": "execute_result"
    }
   ],
   "source": [
    "df41 = df_receipt.groupby(\"sales_ymd\")[[\"amount\"]].sum().diff()\n",
    "# df41 = df_receipt.groupby(\"sales_ymd\")[[\"amount\"]].sum()\n",
    "# df41 = df41.sort_index()\n",
    "# df41[\"yesterday\"] = df41[[\"amount\"]].shift(1)\n",
    "# df41[\"change_amount\"] = df41[\"amount\"] - df41[\"yesterday\"]\n",
    "df41.head(10)"
   ]
  },
  {
   "cell_type": "markdown",
   "metadata": {
    "id": "3ZH_8GxT1dxc"
   },
   "source": [
    "## P042"
   ]
  },
  {
   "cell_type": "markdown",
   "metadata": {
    "id": "PNUVk5Dmhhy3"
   },
   "source": [
    "---\n",
    "> P-042: レシート明細データフレーム（df_receipt）の売上金額（amount）を日付（sales_ymd）ごとに集計し、各日付のデータに対し、１日前、２日前、３日前のデータを結合せよ。結果は10件表示すればよい。"
   ]
  },
  {
   "cell_type": "code",
   "execution_count": 67,
   "metadata": {
    "colab": {
     "base_uri": "https://localhost:8080/",
     "height": 382
    },
    "executionInfo": {
     "elapsed": 1038,
     "status": "ok",
     "timestamp": 1603005600657,
     "user": {
      "displayName": "Ohmura Kameko",
      "photoUrl": "https://lh3.googleusercontent.com/a-/AOh14GgExU0PVzY4tFSVHIVpSTmpKsEAjIZd7RIX--Mm5g=s64",
      "userId": "10791134844177295636"
     },
     "user_tz": -540
    },
    "id": "LE_foOoUhhy4",
    "outputId": "dcc69867-c52d-41f7-98ef-dfaae5b6f419"
   },
   "outputs": [
    {
     "data": {
      "text/html": [
       "<div>\n",
       "<style scoped>\n",
       "    .dataframe tbody tr th:only-of-type {\n",
       "        vertical-align: middle;\n",
       "    }\n",
       "\n",
       "    .dataframe tbody tr th {\n",
       "        vertical-align: top;\n",
       "    }\n",
       "\n",
       "    .dataframe thead th {\n",
       "        text-align: right;\n",
       "    }\n",
       "</style>\n",
       "<table border=\"1\" class=\"dataframe\">\n",
       "  <thead>\n",
       "    <tr style=\"text-align: right;\">\n",
       "      <th></th>\n",
       "      <th>amount</th>\n",
       "      <th>ago_1</th>\n",
       "      <th>ago_2</th>\n",
       "      <th>ago_3</th>\n",
       "    </tr>\n",
       "    <tr>\n",
       "      <th>sales_ymd</th>\n",
       "      <th></th>\n",
       "      <th></th>\n",
       "      <th></th>\n",
       "      <th></th>\n",
       "    </tr>\n",
       "  </thead>\n",
       "  <tbody>\n",
       "    <tr>\n",
       "      <th>20170101</th>\n",
       "      <td>33723</td>\n",
       "      <td>NaN</td>\n",
       "      <td>NaN</td>\n",
       "      <td>NaN</td>\n",
       "    </tr>\n",
       "    <tr>\n",
       "      <th>20170102</th>\n",
       "      <td>24165</td>\n",
       "      <td>33723.0</td>\n",
       "      <td>NaN</td>\n",
       "      <td>NaN</td>\n",
       "    </tr>\n",
       "    <tr>\n",
       "      <th>20170103</th>\n",
       "      <td>27503</td>\n",
       "      <td>24165.0</td>\n",
       "      <td>33723.0</td>\n",
       "      <td>NaN</td>\n",
       "    </tr>\n",
       "    <tr>\n",
       "      <th>20170104</th>\n",
       "      <td>36165</td>\n",
       "      <td>27503.0</td>\n",
       "      <td>24165.0</td>\n",
       "      <td>33723.0</td>\n",
       "    </tr>\n",
       "    <tr>\n",
       "      <th>20170105</th>\n",
       "      <td>37830</td>\n",
       "      <td>36165.0</td>\n",
       "      <td>27503.0</td>\n",
       "      <td>24165.0</td>\n",
       "    </tr>\n",
       "    <tr>\n",
       "      <th>20170106</th>\n",
       "      <td>32387</td>\n",
       "      <td>37830.0</td>\n",
       "      <td>36165.0</td>\n",
       "      <td>27503.0</td>\n",
       "    </tr>\n",
       "    <tr>\n",
       "      <th>20170107</th>\n",
       "      <td>23415</td>\n",
       "      <td>32387.0</td>\n",
       "      <td>37830.0</td>\n",
       "      <td>36165.0</td>\n",
       "    </tr>\n",
       "    <tr>\n",
       "      <th>20170108</th>\n",
       "      <td>24737</td>\n",
       "      <td>23415.0</td>\n",
       "      <td>32387.0</td>\n",
       "      <td>37830.0</td>\n",
       "    </tr>\n",
       "    <tr>\n",
       "      <th>20170109</th>\n",
       "      <td>26718</td>\n",
       "      <td>24737.0</td>\n",
       "      <td>23415.0</td>\n",
       "      <td>32387.0</td>\n",
       "    </tr>\n",
       "    <tr>\n",
       "      <th>20170110</th>\n",
       "      <td>20143</td>\n",
       "      <td>26718.0</td>\n",
       "      <td>24737.0</td>\n",
       "      <td>23415.0</td>\n",
       "    </tr>\n",
       "  </tbody>\n",
       "</table>\n",
       "</div>"
      ],
      "text/plain": [
       "           amount    ago_1    ago_2    ago_3\n",
       "sales_ymd                                   \n",
       "20170101    33723      NaN      NaN      NaN\n",
       "20170102    24165  33723.0      NaN      NaN\n",
       "20170103    27503  24165.0  33723.0      NaN\n",
       "20170104    36165  27503.0  24165.0  33723.0\n",
       "20170105    37830  36165.0  27503.0  24165.0\n",
       "20170106    32387  37830.0  36165.0  27503.0\n",
       "20170107    23415  32387.0  37830.0  36165.0\n",
       "20170108    24737  23415.0  32387.0  37830.0\n",
       "20170109    26718  24737.0  23415.0  32387.0\n",
       "20170110    20143  26718.0  24737.0  23415.0"
      ]
     },
     "execution_count": 67,
     "metadata": {},
     "output_type": "execute_result"
    }
   ],
   "source": [
    "df42 = df_receipt.groupby(\"sales_ymd\")[[\"amount\"]].sum()\n",
    "df42 = df42.sort_index()\n",
    "df42[\"ago_1\"] = df42[[\"amount\"]].shift(1)\n",
    "df42[\"ago_2\"] = df42[[\"amount\"]].shift(2)\n",
    "df42[\"ago_3\"] = df42[[\"amount\"]].shift(3)\n",
    "df42.head(10)"
   ]
  },
  {
   "cell_type": "markdown",
   "metadata": {
    "id": "KoHgqkp4gNeN"
   },
   "source": []
  },
  {
   "cell_type": "markdown",
   "metadata": {
    "id": "gIsUIG2_1fTr"
   },
   "source": [
    "## P043"
   ]
  },
  {
   "cell_type": "markdown",
   "metadata": {
    "id": "uEnwKvWbhhy5"
   },
   "source": [
    "---\n",
    "> P-043： レシート明細データフレーム（df_receipt）と顧客データフレーム（df_customer）を結合し、性別（gender）と年代（ageから計算）ごとに売上金額（amount）を合計した売上サマリデータフレーム（df_sales_summary）を作成せよ。性別は0が男性、1が女性、9が不明を表すものとする。\n",
    ">\n",
    "> ただし、項目構成は年代、女性の売上金額、男性の売上金額、性別不明の売上金額の4項目とすること（縦に年代、横に性別のクロス集計）。また、年代は10歳ごとの階級とすること。"
   ]
  },
  {
   "cell_type": "code",
   "execution_count": 68,
   "metadata": {
    "colab": {
     "base_uri": "https://localhost:8080/",
     "height": 475
    },
    "executionInfo": {
     "elapsed": 1538,
     "status": "ok",
     "timestamp": 1603005983275,
     "user": {
      "displayName": "Ohmura Kameko",
      "photoUrl": "https://lh3.googleusercontent.com/a-/AOh14GgExU0PVzY4tFSVHIVpSTmpKsEAjIZd7RIX--Mm5g=s64",
      "userId": "10791134844177295636"
     },
     "user_tz": -540
    },
    "id": "a2wSKTmIhhy6",
    "outputId": "86710bae-52c2-43b4-d0c9-c5c3d2196349"
   },
   "outputs": [
    {
     "data": {
      "text/html": [
       "<div>\n",
       "<style scoped>\n",
       "    .dataframe tbody tr th:only-of-type {\n",
       "        vertical-align: middle;\n",
       "    }\n",
       "\n",
       "    .dataframe tbody tr th {\n",
       "        vertical-align: top;\n",
       "    }\n",
       "\n",
       "    .dataframe thead th {\n",
       "        text-align: right;\n",
       "    }\n",
       "</style>\n",
       "<table border=\"1\" class=\"dataframe\">\n",
       "  <thead>\n",
       "    <tr style=\"text-align: right;\">\n",
       "      <th></th>\n",
       "      <th>sales_ymd</th>\n",
       "      <th>sales_epoch</th>\n",
       "      <th>store_cd</th>\n",
       "      <th>receipt_no</th>\n",
       "      <th>receipt_sub_no</th>\n",
       "      <th>customer_id</th>\n",
       "      <th>product_cd</th>\n",
       "      <th>quantity</th>\n",
       "      <th>amount</th>\n",
       "      <th>customer_name</th>\n",
       "      <th>gender_cd</th>\n",
       "      <th>gender</th>\n",
       "      <th>birth_day</th>\n",
       "      <th>age</th>\n",
       "      <th>postal_cd</th>\n",
       "      <th>address</th>\n",
       "      <th>application_store_cd</th>\n",
       "      <th>application_date</th>\n",
       "      <th>status_cd</th>\n",
       "    </tr>\n",
       "  </thead>\n",
       "  <tbody>\n",
       "    <tr>\n",
       "      <th>0</th>\n",
       "      <td>20181103</td>\n",
       "      <td>1541203200</td>\n",
       "      <td>S14006</td>\n",
       "      <td>112</td>\n",
       "      <td>1</td>\n",
       "      <td>CS006214000001</td>\n",
       "      <td>P070305012</td>\n",
       "      <td>1</td>\n",
       "      <td>158</td>\n",
       "      <td>志水 佳乃</td>\n",
       "      <td>1</td>\n",
       "      <td>女性</td>\n",
       "      <td>1996-12-08</td>\n",
       "      <td>22</td>\n",
       "      <td>224-0057</td>\n",
       "      <td>神奈川県横浜市都筑区川和町**********</td>\n",
       "      <td>S14006</td>\n",
       "      <td>20150201</td>\n",
       "      <td>E-20100908-F</td>\n",
       "    </tr>\n",
       "    <tr>\n",
       "      <th>1</th>\n",
       "      <td>20170509</td>\n",
       "      <td>1494288000</td>\n",
       "      <td>S14006</td>\n",
       "      <td>112</td>\n",
       "      <td>1</td>\n",
       "      <td>CS006214000001</td>\n",
       "      <td>P071401004</td>\n",
       "      <td>1</td>\n",
       "      <td>1100</td>\n",
       "      <td>志水 佳乃</td>\n",
       "      <td>1</td>\n",
       "      <td>女性</td>\n",
       "      <td>1996-12-08</td>\n",
       "      <td>22</td>\n",
       "      <td>224-0057</td>\n",
       "      <td>神奈川県横浜市都筑区川和町**********</td>\n",
       "      <td>S14006</td>\n",
       "      <td>20150201</td>\n",
       "      <td>E-20100908-F</td>\n",
       "    </tr>\n",
       "    <tr>\n",
       "      <th>2</th>\n",
       "      <td>20170608</td>\n",
       "      <td>1496880000</td>\n",
       "      <td>S14006</td>\n",
       "      <td>112</td>\n",
       "      <td>1</td>\n",
       "      <td>CS006214000001</td>\n",
       "      <td>P060104021</td>\n",
       "      <td>1</td>\n",
       "      <td>120</td>\n",
       "      <td>志水 佳乃</td>\n",
       "      <td>1</td>\n",
       "      <td>女性</td>\n",
       "      <td>1996-12-08</td>\n",
       "      <td>22</td>\n",
       "      <td>224-0057</td>\n",
       "      <td>神奈川県横浜市都筑区川和町**********</td>\n",
       "      <td>S14006</td>\n",
       "      <td>20150201</td>\n",
       "      <td>E-20100908-F</td>\n",
       "    </tr>\n",
       "    <tr>\n",
       "      <th>3</th>\n",
       "      <td>20170608</td>\n",
       "      <td>1496880000</td>\n",
       "      <td>S14006</td>\n",
       "      <td>112</td>\n",
       "      <td>2</td>\n",
       "      <td>CS006214000001</td>\n",
       "      <td>P080403001</td>\n",
       "      <td>1</td>\n",
       "      <td>175</td>\n",
       "      <td>志水 佳乃</td>\n",
       "      <td>1</td>\n",
       "      <td>女性</td>\n",
       "      <td>1996-12-08</td>\n",
       "      <td>22</td>\n",
       "      <td>224-0057</td>\n",
       "      <td>神奈川県横浜市都筑区川和町**********</td>\n",
       "      <td>S14006</td>\n",
       "      <td>20150201</td>\n",
       "      <td>E-20100908-F</td>\n",
       "    </tr>\n",
       "    <tr>\n",
       "      <th>4</th>\n",
       "      <td>20181028</td>\n",
       "      <td>1540684800</td>\n",
       "      <td>S14006</td>\n",
       "      <td>112</td>\n",
       "      <td>2</td>\n",
       "      <td>CS006214000001</td>\n",
       "      <td>P050102004</td>\n",
       "      <td>1</td>\n",
       "      <td>188</td>\n",
       "      <td>志水 佳乃</td>\n",
       "      <td>1</td>\n",
       "      <td>女性</td>\n",
       "      <td>1996-12-08</td>\n",
       "      <td>22</td>\n",
       "      <td>224-0057</td>\n",
       "      <td>神奈川県横浜市都筑区川和町**********</td>\n",
       "      <td>S14006</td>\n",
       "      <td>20150201</td>\n",
       "      <td>E-20100908-F</td>\n",
       "    </tr>\n",
       "  </tbody>\n",
       "</table>\n",
       "</div>"
      ],
      "text/plain": [
       "   sales_ymd  sales_epoch store_cd  receipt_no  receipt_sub_no  \\\n",
       "0   20181103   1541203200   S14006         112               1   \n",
       "1   20170509   1494288000   S14006         112               1   \n",
       "2   20170608   1496880000   S14006         112               1   \n",
       "3   20170608   1496880000   S14006         112               2   \n",
       "4   20181028   1540684800   S14006         112               2   \n",
       "\n",
       "      customer_id  product_cd  quantity  amount customer_name  gender_cd  \\\n",
       "0  CS006214000001  P070305012         1     158         志水 佳乃          1   \n",
       "1  CS006214000001  P071401004         1    1100         志水 佳乃          1   \n",
       "2  CS006214000001  P060104021         1     120         志水 佳乃          1   \n",
       "3  CS006214000001  P080403001         1     175         志水 佳乃          1   \n",
       "4  CS006214000001  P050102004         1     188         志水 佳乃          1   \n",
       "\n",
       "  gender   birth_day  age postal_cd                  address  \\\n",
       "0     女性  1996-12-08   22  224-0057  神奈川県横浜市都筑区川和町**********   \n",
       "1     女性  1996-12-08   22  224-0057  神奈川県横浜市都筑区川和町**********   \n",
       "2     女性  1996-12-08   22  224-0057  神奈川県横浜市都筑区川和町**********   \n",
       "3     女性  1996-12-08   22  224-0057  神奈川県横浜市都筑区川和町**********   \n",
       "4     女性  1996-12-08   22  224-0057  神奈川県横浜市都筑区川和町**********   \n",
       "\n",
       "  application_store_cd  application_date     status_cd  \n",
       "0               S14006          20150201  E-20100908-F  \n",
       "1               S14006          20150201  E-20100908-F  \n",
       "2               S14006          20150201  E-20100908-F  \n",
       "3               S14006          20150201  E-20100908-F  \n",
       "4               S14006          20150201  E-20100908-F  "
      ]
     },
     "execution_count": 68,
     "metadata": {},
     "output_type": "execute_result"
    }
   ],
   "source": [
    "df43 = pd.merge(df_receipt, df_customer, on=\"customer_id\")\n",
    "df43.head()"
   ]
  },
  {
   "cell_type": "code",
   "execution_count": 69,
   "metadata": {
    "executionInfo": {
     "elapsed": 776,
     "status": "ok",
     "timestamp": 1603006171434,
     "user": {
      "displayName": "Ohmura Kameko",
      "photoUrl": "https://lh3.googleusercontent.com/a-/AOh14GgExU0PVzY4tFSVHIVpSTmpKsEAjIZd7RIX--Mm5g=s64",
      "userId": "10791134844177295636"
     },
     "user_tz": -540
    },
    "id": "O95gFTL-mYUZ"
   },
   "outputs": [],
   "source": [
    "def get_generation(age):\n",
    "  return int(age // 10) * 10"
   ]
  },
  {
   "cell_type": "code",
   "execution_count": 70,
   "metadata": {
    "colab": {
     "base_uri": "https://localhost:8080/",
     "height": 200
    },
    "executionInfo": {
     "elapsed": 924,
     "status": "ok",
     "timestamp": 1603007523177,
     "user": {
      "displayName": "Ohmura Kameko",
      "photoUrl": "https://lh3.googleusercontent.com/a-/AOh14GgExU0PVzY4tFSVHIVpSTmpKsEAjIZd7RIX--Mm5g=s64",
      "userId": "10791134844177295636"
     },
     "user_tz": -540
    },
    "id": "C8QMhnZ8nRuk",
    "outputId": "d97492e5-17da-48e8-c47d-f5641ef5c3d0"
   },
   "outputs": [
    {
     "data": {
      "text/html": [
       "<div>\n",
       "<style scoped>\n",
       "    .dataframe tbody tr th:only-of-type {\n",
       "        vertical-align: middle;\n",
       "    }\n",
       "\n",
       "    .dataframe tbody tr th {\n",
       "        vertical-align: top;\n",
       "    }\n",
       "\n",
       "    .dataframe thead th {\n",
       "        text-align: right;\n",
       "    }\n",
       "</style>\n",
       "<table border=\"1\" class=\"dataframe\">\n",
       "  <thead>\n",
       "    <tr style=\"text-align: right;\">\n",
       "      <th></th>\n",
       "      <th>gender</th>\n",
       "      <th>generation</th>\n",
       "      <th>amount</th>\n",
       "    </tr>\n",
       "  </thead>\n",
       "  <tbody>\n",
       "    <tr>\n",
       "      <th>20</th>\n",
       "      <td>男性</td>\n",
       "      <td>40</td>\n",
       "      <td>19355</td>\n",
       "    </tr>\n",
       "    <tr>\n",
       "      <th>21</th>\n",
       "      <td>男性</td>\n",
       "      <td>50</td>\n",
       "      <td>54320</td>\n",
       "    </tr>\n",
       "    <tr>\n",
       "      <th>22</th>\n",
       "      <td>男性</td>\n",
       "      <td>60</td>\n",
       "      <td>272469</td>\n",
       "    </tr>\n",
       "    <tr>\n",
       "      <th>23</th>\n",
       "      <td>男性</td>\n",
       "      <td>70</td>\n",
       "      <td>13435</td>\n",
       "    </tr>\n",
       "    <tr>\n",
       "      <th>24</th>\n",
       "      <td>男性</td>\n",
       "      <td>80</td>\n",
       "      <td>46360</td>\n",
       "    </tr>\n",
       "  </tbody>\n",
       "</table>\n",
       "</div>"
      ],
      "text/plain": [
       "   gender  generation  amount\n",
       "20     男性          40   19355\n",
       "21     男性          50   54320\n",
       "22     男性          60  272469\n",
       "23     男性          70   13435\n",
       "24     男性          80   46360"
      ]
     },
     "execution_count": 70,
     "metadata": {},
     "output_type": "execute_result"
    }
   ],
   "source": [
    "df43[\"generation\"] = df43[\"age\"].apply(get_generation)\n",
    "df_sales_summary = df43.groupby([\"gender\", \"generation\"])[[\"amount\"]].sum()\n",
    "df_sales_summary = df_sales_summary.reset_index()\n",
    "df_sales_summary.tail()"
   ]
  },
  {
   "cell_type": "code",
   "execution_count": 71,
   "metadata": {
    "colab": {
     "base_uri": "https://localhost:8080/",
     "height": 352
    },
    "executionInfo": {
     "elapsed": 869,
     "status": "ok",
     "timestamp": 1603007617351,
     "user": {
      "displayName": "Ohmura Kameko",
      "photoUrl": "https://lh3.googleusercontent.com/a-/AOh14GgExU0PVzY4tFSVHIVpSTmpKsEAjIZd7RIX--Mm5g=s64",
      "userId": "10791134844177295636"
     },
     "user_tz": -540
    },
    "id": "HXpFyZCbovMA",
    "outputId": "e93f3b97-3192-479a-db6d-92bc0d9c356e"
   },
   "outputs": [
    {
     "data": {
      "text/html": [
       "<div>\n",
       "<style scoped>\n",
       "    .dataframe tbody tr th:only-of-type {\n",
       "        vertical-align: middle;\n",
       "    }\n",
       "\n",
       "    .dataframe tbody tr th {\n",
       "        vertical-align: top;\n",
       "    }\n",
       "\n",
       "    .dataframe thead th {\n",
       "        text-align: right;\n",
       "    }\n",
       "</style>\n",
       "<table border=\"1\" class=\"dataframe\">\n",
       "  <thead>\n",
       "    <tr style=\"text-align: right;\">\n",
       "      <th>gender</th>\n",
       "      <th>不明</th>\n",
       "      <th>女性</th>\n",
       "      <th>男性</th>\n",
       "    </tr>\n",
       "    <tr>\n",
       "      <th>generation</th>\n",
       "      <th></th>\n",
       "      <th></th>\n",
       "      <th></th>\n",
       "    </tr>\n",
       "  </thead>\n",
       "  <tbody>\n",
       "    <tr>\n",
       "      <th>10</th>\n",
       "      <td>4317.0</td>\n",
       "      <td>149836.0</td>\n",
       "      <td>1591.0</td>\n",
       "    </tr>\n",
       "    <tr>\n",
       "      <th>20</th>\n",
       "      <td>44328.0</td>\n",
       "      <td>1363724.0</td>\n",
       "      <td>72940.0</td>\n",
       "    </tr>\n",
       "    <tr>\n",
       "      <th>30</th>\n",
       "      <td>50441.0</td>\n",
       "      <td>693047.0</td>\n",
       "      <td>177322.0</td>\n",
       "    </tr>\n",
       "    <tr>\n",
       "      <th>40</th>\n",
       "      <td>483512.0</td>\n",
       "      <td>9320791.0</td>\n",
       "      <td>19355.0</td>\n",
       "    </tr>\n",
       "    <tr>\n",
       "      <th>50</th>\n",
       "      <td>342923.0</td>\n",
       "      <td>6685192.0</td>\n",
       "      <td>54320.0</td>\n",
       "    </tr>\n",
       "    <tr>\n",
       "      <th>60</th>\n",
       "      <td>71418.0</td>\n",
       "      <td>987741.0</td>\n",
       "      <td>272469.0</td>\n",
       "    </tr>\n",
       "    <tr>\n",
       "      <th>70</th>\n",
       "      <td>2427.0</td>\n",
       "      <td>29764.0</td>\n",
       "      <td>13435.0</td>\n",
       "    </tr>\n",
       "    <tr>\n",
       "      <th>80</th>\n",
       "      <td>5111.0</td>\n",
       "      <td>262923.0</td>\n",
       "      <td>46360.0</td>\n",
       "    </tr>\n",
       "    <tr>\n",
       "      <th>90</th>\n",
       "      <td>NaN</td>\n",
       "      <td>6260.0</td>\n",
       "      <td>NaN</td>\n",
       "    </tr>\n",
       "  </tbody>\n",
       "</table>\n",
       "</div>"
      ],
      "text/plain": [
       "gender            不明         女性        男性\n",
       "generation                               \n",
       "10            4317.0   149836.0    1591.0\n",
       "20           44328.0  1363724.0   72940.0\n",
       "30           50441.0   693047.0  177322.0\n",
       "40          483512.0  9320791.0   19355.0\n",
       "50          342923.0  6685192.0   54320.0\n",
       "60           71418.0   987741.0  272469.0\n",
       "70            2427.0    29764.0   13435.0\n",
       "80            5111.0   262923.0   46360.0\n",
       "90               NaN     6260.0       NaN"
      ]
     },
     "execution_count": 71,
     "metadata": {},
     "output_type": "execute_result"
    }
   ],
   "source": [
    "df43_ans = pd.crosstab(df_sales_summary[\"generation\"], df_sales_summary[\"gender\"] ,df_sales_summary[\"amount\"], aggfunc=\"sum\")\n",
    "df43_ans\n"
   ]
  },
  {
   "cell_type": "code",
   "execution_count": 72,
   "metadata": {},
   "outputs": [
    {
     "data": {
      "text/html": [
       "<div>\n",
       "<style scoped>\n",
       "    .dataframe tbody tr th:only-of-type {\n",
       "        vertical-align: middle;\n",
       "    }\n",
       "\n",
       "    .dataframe tbody tr th {\n",
       "        vertical-align: top;\n",
       "    }\n",
       "\n",
       "    .dataframe thead th {\n",
       "        text-align: right;\n",
       "    }\n",
       "</style>\n",
       "<table border=\"1\" class=\"dataframe\">\n",
       "  <thead>\n",
       "    <tr style=\"text-align: right;\">\n",
       "      <th>gender_cd</th>\n",
       "      <th>0.0</th>\n",
       "      <th>1.0</th>\n",
       "      <th>9.0</th>\n",
       "    </tr>\n",
       "    <tr>\n",
       "      <th>age</th>\n",
       "      <th></th>\n",
       "      <th></th>\n",
       "      <th></th>\n",
       "    </tr>\n",
       "  </thead>\n",
       "  <tbody>\n",
       "    <tr>\n",
       "      <th>(9, 19]</th>\n",
       "      <td>1591.0</td>\n",
       "      <td>149836.0</td>\n",
       "      <td>4317.0</td>\n",
       "    </tr>\n",
       "    <tr>\n",
       "      <th>(19, 29]</th>\n",
       "      <td>72940.0</td>\n",
       "      <td>1363724.0</td>\n",
       "      <td>44328.0</td>\n",
       "    </tr>\n",
       "    <tr>\n",
       "      <th>(29, 39]</th>\n",
       "      <td>177322.0</td>\n",
       "      <td>693047.0</td>\n",
       "      <td>50441.0</td>\n",
       "    </tr>\n",
       "    <tr>\n",
       "      <th>(39, 49]</th>\n",
       "      <td>19355.0</td>\n",
       "      <td>9320791.0</td>\n",
       "      <td>483512.0</td>\n",
       "    </tr>\n",
       "    <tr>\n",
       "      <th>(49, 59]</th>\n",
       "      <td>54320.0</td>\n",
       "      <td>6685192.0</td>\n",
       "      <td>342923.0</td>\n",
       "    </tr>\n",
       "    <tr>\n",
       "      <th>(59, 69]</th>\n",
       "      <td>272469.0</td>\n",
       "      <td>987741.0</td>\n",
       "      <td>71418.0</td>\n",
       "    </tr>\n",
       "    <tr>\n",
       "      <th>(69, 79]</th>\n",
       "      <td>13435.0</td>\n",
       "      <td>29764.0</td>\n",
       "      <td>2427.0</td>\n",
       "    </tr>\n",
       "    <tr>\n",
       "      <th>(79, 89]</th>\n",
       "      <td>46360.0</td>\n",
       "      <td>262923.0</td>\n",
       "      <td>5111.0</td>\n",
       "    </tr>\n",
       "    <tr>\n",
       "      <th>(89, 99]</th>\n",
       "      <td>0.0</td>\n",
       "      <td>6260.0</td>\n",
       "      <td>NaN</td>\n",
       "    </tr>\n",
       "  </tbody>\n",
       "</table>\n",
       "</div>"
      ],
      "text/plain": [
       "gender_cd       0.0        1.0       9.0\n",
       "age                                     \n",
       "(9, 19]      1591.0   149836.0    4317.0\n",
       "(19, 29]    72940.0  1363724.0   44328.0\n",
       "(29, 39]   177322.0   693047.0   50441.0\n",
       "(39, 49]    19355.0  9320791.0  483512.0\n",
       "(49, 59]    54320.0  6685192.0  342923.0\n",
       "(59, 69]   272469.0   987741.0   71418.0\n",
       "(69, 79]    13435.0    29764.0    2427.0\n",
       "(79, 89]    46360.0   262923.0    5111.0\n",
       "(89, 99]        0.0     6260.0       NaN"
      ]
     },
     "execution_count": 72,
     "metadata": {},
     "output_type": "execute_result"
    }
   ],
   "source": [
    "#しんせいたろうさんの回答\n",
    "df_sales_summary = df_customer.merge(df_receipt, left_on=\"customer_id\", right_on=\"customer_id\", how=\"outer\")\n",
    "df_sales_summary = df_sales_summary.groupby(by=[pd.cut(df_sales_summary[\"age\"],range(-1,100,10)[1:]), \"gender_cd\"])[\"amount\"].sum()\n",
    "df_sales_summary.unstack()"
   ]
  },
  {
   "cell_type": "code",
   "execution_count": 73,
   "metadata": {},
   "outputs": [
    {
     "data": {
      "text/plain": [
       "0        37\n",
       "1        66\n",
       "2        42\n",
       "3        86\n",
       "4        24\n",
       "         ..\n",
       "21966    59\n",
       "21967    48\n",
       "21968    46\n",
       "21969    54\n",
       "21970    22\n",
       "Name: age, Length: 21971, dtype: int64"
      ]
     },
     "execution_count": 73,
     "metadata": {},
     "output_type": "execute_result"
    }
   ],
   "source": [
    "# lambdaの解説\n",
    "df_customer[\"age\"]"
   ]
  },
  {
   "cell_type": "code",
   "execution_count": 74,
   "metadata": {},
   "outputs": [
    {
     "data": {
      "text/plain": [
       "0        30\n",
       "1        60\n",
       "2        40\n",
       "3        80\n",
       "4        20\n",
       "         ..\n",
       "21966    50\n",
       "21967    40\n",
       "21968    40\n",
       "21969    50\n",
       "21970    20\n",
       "Name: age, Length: 21971, dtype: int64"
      ]
     },
     "execution_count": 74,
     "metadata": {},
     "output_type": "execute_result"
    }
   ],
   "source": [
    "df_customer[\"age\"].apply(lambda x: x//10*10)"
   ]
  },
  {
   "cell_type": "markdown",
   "metadata": {
    "id": "ayQubCwp1hAX"
   },
   "source": [
    "## P044"
   ]
  },
  {
   "cell_type": "markdown",
   "metadata": {
    "id": "PIC95tKMhhy8"
   },
   "source": [
    "---\n",
    "> P-044： 前設問で作成した売上サマリデータフレーム（df_sales_summary）は性別の売上を横持ちさせたものであった。このデータフレームから性別を縦持ちさせ、年代、性別コード、売上金額の3項目に変換せよ。ただし、性別コードは男性を'00'、女性を'01'、不明を'99'とする。"
   ]
  },
  {
   "cell_type": "code",
   "execution_count": 75,
   "metadata": {
    "id": "TMKQe8F5hhy8"
   },
   "outputs": [
    {
     "data": {
      "text/html": [
       "<div>\n",
       "<style scoped>\n",
       "    .dataframe tbody tr th:only-of-type {\n",
       "        vertical-align: middle;\n",
       "    }\n",
       "\n",
       "    .dataframe tbody tr th {\n",
       "        vertical-align: top;\n",
       "    }\n",
       "\n",
       "    .dataframe thead th {\n",
       "        text-align: right;\n",
       "    }\n",
       "</style>\n",
       "<table border=\"1\" class=\"dataframe\">\n",
       "  <thead>\n",
       "    <tr style=\"text-align: right;\">\n",
       "      <th></th>\n",
       "      <th>gender_cd</th>\n",
       "      <th>gender</th>\n",
       "      <th>generation</th>\n",
       "      <th>amount</th>\n",
       "    </tr>\n",
       "  </thead>\n",
       "  <tbody>\n",
       "    <tr>\n",
       "      <th>0</th>\n",
       "      <td>0</td>\n",
       "      <td>男性</td>\n",
       "      <td>10</td>\n",
       "      <td>1591</td>\n",
       "    </tr>\n",
       "    <tr>\n",
       "      <th>1</th>\n",
       "      <td>0</td>\n",
       "      <td>男性</td>\n",
       "      <td>20</td>\n",
       "      <td>72940</td>\n",
       "    </tr>\n",
       "    <tr>\n",
       "      <th>2</th>\n",
       "      <td>0</td>\n",
       "      <td>男性</td>\n",
       "      <td>30</td>\n",
       "      <td>177322</td>\n",
       "    </tr>\n",
       "    <tr>\n",
       "      <th>3</th>\n",
       "      <td>0</td>\n",
       "      <td>男性</td>\n",
       "      <td>40</td>\n",
       "      <td>19355</td>\n",
       "    </tr>\n",
       "    <tr>\n",
       "      <th>4</th>\n",
       "      <td>0</td>\n",
       "      <td>男性</td>\n",
       "      <td>50</td>\n",
       "      <td>54320</td>\n",
       "    </tr>\n",
       "  </tbody>\n",
       "</table>\n",
       "</div>"
      ],
      "text/plain": [
       "   gender_cd gender  generation  amount\n",
       "0          0     男性          10    1591\n",
       "1          0     男性          20   72940\n",
       "2          0     男性          30  177322\n",
       "3          0     男性          40   19355\n",
       "4          0     男性          50   54320"
      ]
     },
     "execution_count": 75,
     "metadata": {},
     "output_type": "execute_result"
    }
   ],
   "source": [
    "df44 = pd.merge(df_receipt, df_customer, on=\"customer_id\")\n",
    "df44[\"generation\"] = df44[\"age\"].apply(get_generation)\n",
    "#df44.head()\n",
    "df_sales_summary44 = df44.groupby([\"gender_cd\",\"gender\", \"generation\"])[[\"amount\"]].sum()\n",
    "df_sales_summary44 = df_sales_summary44.reset_index()\n",
    "df_sales_summary44.head()"
   ]
  },
  {
   "cell_type": "code",
   "execution_count": 76,
   "metadata": {},
   "outputs": [
    {
     "data": {
      "text/html": [
       "<div>\n",
       "<style scoped>\n",
       "    .dataframe tbody tr th:only-of-type {\n",
       "        vertical-align: middle;\n",
       "    }\n",
       "\n",
       "    .dataframe tbody tr th {\n",
       "        vertical-align: top;\n",
       "    }\n",
       "\n",
       "    .dataframe thead th {\n",
       "        text-align: right;\n",
       "    }\n",
       "</style>\n",
       "<table border=\"1\" class=\"dataframe\">\n",
       "  <thead>\n",
       "    <tr style=\"text-align: right;\">\n",
       "      <th>generation</th>\n",
       "      <th>10</th>\n",
       "      <th>20</th>\n",
       "      <th>30</th>\n",
       "      <th>40</th>\n",
       "      <th>50</th>\n",
       "      <th>60</th>\n",
       "      <th>70</th>\n",
       "      <th>80</th>\n",
       "      <th>90</th>\n",
       "    </tr>\n",
       "    <tr>\n",
       "      <th>gender</th>\n",
       "      <th></th>\n",
       "      <th></th>\n",
       "      <th></th>\n",
       "      <th></th>\n",
       "      <th></th>\n",
       "      <th></th>\n",
       "      <th></th>\n",
       "      <th></th>\n",
       "      <th></th>\n",
       "    </tr>\n",
       "  </thead>\n",
       "  <tbody>\n",
       "    <tr>\n",
       "      <th>不明</th>\n",
       "      <td>4317.0</td>\n",
       "      <td>44328.0</td>\n",
       "      <td>50441.0</td>\n",
       "      <td>483512.0</td>\n",
       "      <td>342923.0</td>\n",
       "      <td>71418.0</td>\n",
       "      <td>2427.0</td>\n",
       "      <td>5111.0</td>\n",
       "      <td>NaN</td>\n",
       "    </tr>\n",
       "    <tr>\n",
       "      <th>女性</th>\n",
       "      <td>149836.0</td>\n",
       "      <td>1363724.0</td>\n",
       "      <td>693047.0</td>\n",
       "      <td>9320791.0</td>\n",
       "      <td>6685192.0</td>\n",
       "      <td>987741.0</td>\n",
       "      <td>29764.0</td>\n",
       "      <td>262923.0</td>\n",
       "      <td>6260.0</td>\n",
       "    </tr>\n",
       "    <tr>\n",
       "      <th>男性</th>\n",
       "      <td>1591.0</td>\n",
       "      <td>72940.0</td>\n",
       "      <td>177322.0</td>\n",
       "      <td>19355.0</td>\n",
       "      <td>54320.0</td>\n",
       "      <td>272469.0</td>\n",
       "      <td>13435.0</td>\n",
       "      <td>46360.0</td>\n",
       "      <td>NaN</td>\n",
       "    </tr>\n",
       "  </tbody>\n",
       "</table>\n",
       "</div>"
      ],
      "text/plain": [
       "generation        10         20        30         40         50        60  \\\n",
       "gender                                                                      \n",
       "不明            4317.0    44328.0   50441.0   483512.0   342923.0   71418.0   \n",
       "女性          149836.0  1363724.0  693047.0  9320791.0  6685192.0  987741.0   \n",
       "男性            1591.0    72940.0  177322.0    19355.0    54320.0  272469.0   \n",
       "\n",
       "generation       70        80      90  \n",
       "gender                                 \n",
       "不明           2427.0    5111.0     NaN  \n",
       "女性          29764.0  262923.0  6260.0  \n",
       "男性          13435.0   46360.0     NaN  "
      ]
     },
     "execution_count": 76,
     "metadata": {},
     "output_type": "execute_result"
    }
   ],
   "source": [
    "#df44_ans = pd.crosstab(df_sales_summary44[\"gender\"], [df_sales_summary44[\"gender_cd\"], df_sales_summary44[\"generation\"]] ,df_sales_summary44[\"amount\"], aggfunc=\"sum\")\n",
    "df44_ans = pd.crosstab(df_sales_summary44[\"gender\"], df_sales_summary44[\"generation\"] ,df_sales_summary44[\"amount\"], aggfunc=\"sum\")\n",
    "df44_ans\n"
   ]
  },
  {
   "cell_type": "markdown",
   "metadata": {},
   "source": [
    "↑2020/11/29 ここまで"
   ]
  },
  {
   "cell_type": "markdown",
   "metadata": {
    "id": "maylE5821idZ"
   },
   "source": [
    "## P045"
   ]
  },
  {
   "cell_type": "markdown",
   "metadata": {
    "id": "L29i1r0Nhhy9"
   },
   "source": [
    "---\n",
    "> P-045: 顧客データフレーム（df_customer）の生年月日（birth_day）は日付型（Date）でデータを保有している。これをYYYYMMDD形式の文字列に変換し、顧客ID（customer_id）とともに抽出せよ。データは10件を抽出すれば良い。"
   ]
  },
  {
   "cell_type": "code",
   "execution_count": 77,
   "metadata": {
    "id": "t2t7rJCWhhy9"
   },
   "outputs": [
    {
     "data": {
      "text/html": [
       "<div>\n",
       "<style scoped>\n",
       "    .dataframe tbody tr th:only-of-type {\n",
       "        vertical-align: middle;\n",
       "    }\n",
       "\n",
       "    .dataframe tbody tr th {\n",
       "        vertical-align: top;\n",
       "    }\n",
       "\n",
       "    .dataframe thead th {\n",
       "        text-align: right;\n",
       "    }\n",
       "</style>\n",
       "<table border=\"1\" class=\"dataframe\">\n",
       "  <thead>\n",
       "    <tr style=\"text-align: right;\">\n",
       "      <th></th>\n",
       "      <th>customer_id</th>\n",
       "      <th>customer_name</th>\n",
       "      <th>gender_cd</th>\n",
       "      <th>gender</th>\n",
       "      <th>birth_day</th>\n",
       "      <th>age</th>\n",
       "      <th>postal_cd</th>\n",
       "      <th>address</th>\n",
       "      <th>application_store_cd</th>\n",
       "      <th>application_date</th>\n",
       "      <th>status_cd</th>\n",
       "    </tr>\n",
       "  </thead>\n",
       "  <tbody>\n",
       "    <tr>\n",
       "      <th>0</th>\n",
       "      <td>CS021313000114</td>\n",
       "      <td>大野 あや子</td>\n",
       "      <td>1</td>\n",
       "      <td>女性</td>\n",
       "      <td>1981-04-29</td>\n",
       "      <td>37</td>\n",
       "      <td>259-1113</td>\n",
       "      <td>神奈川県伊勢原市粟窪**********</td>\n",
       "      <td>S14021</td>\n",
       "      <td>20150905</td>\n",
       "      <td>0-00000000-0</td>\n",
       "    </tr>\n",
       "    <tr>\n",
       "      <th>1</th>\n",
       "      <td>CS037613000071</td>\n",
       "      <td>六角 雅彦</td>\n",
       "      <td>9</td>\n",
       "      <td>不明</td>\n",
       "      <td>1952-04-01</td>\n",
       "      <td>66</td>\n",
       "      <td>136-0076</td>\n",
       "      <td>東京都江東区南砂**********</td>\n",
       "      <td>S13037</td>\n",
       "      <td>20150414</td>\n",
       "      <td>0-00000000-0</td>\n",
       "    </tr>\n",
       "    <tr>\n",
       "      <th>2</th>\n",
       "      <td>CS031415000172</td>\n",
       "      <td>宇多田 貴美子</td>\n",
       "      <td>1</td>\n",
       "      <td>女性</td>\n",
       "      <td>1976-10-04</td>\n",
       "      <td>42</td>\n",
       "      <td>151-0053</td>\n",
       "      <td>東京都渋谷区代々木**********</td>\n",
       "      <td>S13031</td>\n",
       "      <td>20150529</td>\n",
       "      <td>D-20100325-C</td>\n",
       "    </tr>\n",
       "    <tr>\n",
       "      <th>3</th>\n",
       "      <td>CS028811000001</td>\n",
       "      <td>堀井 かおり</td>\n",
       "      <td>1</td>\n",
       "      <td>女性</td>\n",
       "      <td>1933-03-27</td>\n",
       "      <td>86</td>\n",
       "      <td>245-0016</td>\n",
       "      <td>神奈川県横浜市泉区和泉町**********</td>\n",
       "      <td>S14028</td>\n",
       "      <td>20160115</td>\n",
       "      <td>0-00000000-0</td>\n",
       "    </tr>\n",
       "    <tr>\n",
       "      <th>4</th>\n",
       "      <td>CS001215000145</td>\n",
       "      <td>田崎 美紀</td>\n",
       "      <td>1</td>\n",
       "      <td>女性</td>\n",
       "      <td>1995-03-29</td>\n",
       "      <td>24</td>\n",
       "      <td>144-0055</td>\n",
       "      <td>東京都大田区仲六郷**********</td>\n",
       "      <td>S13001</td>\n",
       "      <td>20170605</td>\n",
       "      <td>6-20090929-2</td>\n",
       "    </tr>\n",
       "  </tbody>\n",
       "</table>\n",
       "</div>"
      ],
      "text/plain": [
       "      customer_id customer_name  gender_cd gender   birth_day  age postal_cd  \\\n",
       "0  CS021313000114        大野 あや子          1     女性  1981-04-29   37  259-1113   \n",
       "1  CS037613000071         六角 雅彦          9     不明  1952-04-01   66  136-0076   \n",
       "2  CS031415000172       宇多田 貴美子          1     女性  1976-10-04   42  151-0053   \n",
       "3  CS028811000001        堀井 かおり          1     女性  1933-03-27   86  245-0016   \n",
       "4  CS001215000145         田崎 美紀          1     女性  1995-03-29   24  144-0055   \n",
       "\n",
       "                  address application_store_cd  application_date     status_cd  \n",
       "0    神奈川県伊勢原市粟窪**********               S14021          20150905  0-00000000-0  \n",
       "1      東京都江東区南砂**********               S13037          20150414  0-00000000-0  \n",
       "2     東京都渋谷区代々木**********               S13031          20150529  D-20100325-C  \n",
       "3  神奈川県横浜市泉区和泉町**********               S14028          20160115  0-00000000-0  \n",
       "4     東京都大田区仲六郷**********               S13001          20170605  6-20090929-2  "
      ]
     },
     "execution_count": 77,
     "metadata": {},
     "output_type": "execute_result"
    }
   ],
   "source": [
    "df_customer.head()"
   ]
  },
  {
   "cell_type": "code",
   "execution_count": 78,
   "metadata": {},
   "outputs": [
    {
     "data": {
      "text/html": [
       "<div>\n",
       "<style scoped>\n",
       "    .dataframe tbody tr th:only-of-type {\n",
       "        vertical-align: middle;\n",
       "    }\n",
       "\n",
       "    .dataframe tbody tr th {\n",
       "        vertical-align: top;\n",
       "    }\n",
       "\n",
       "    .dataframe thead th {\n",
       "        text-align: right;\n",
       "    }\n",
       "</style>\n",
       "<table border=\"1\" class=\"dataframe\">\n",
       "  <thead>\n",
       "    <tr style=\"text-align: right;\">\n",
       "      <th></th>\n",
       "      <th>customer_id</th>\n",
       "      <th>birth_day_ymd</th>\n",
       "    </tr>\n",
       "  </thead>\n",
       "  <tbody>\n",
       "    <tr>\n",
       "      <th>0</th>\n",
       "      <td>CS021313000114</td>\n",
       "      <td>19810429</td>\n",
       "    </tr>\n",
       "    <tr>\n",
       "      <th>1</th>\n",
       "      <td>CS037613000071</td>\n",
       "      <td>19520401</td>\n",
       "    </tr>\n",
       "    <tr>\n",
       "      <th>2</th>\n",
       "      <td>CS031415000172</td>\n",
       "      <td>19761004</td>\n",
       "    </tr>\n",
       "    <tr>\n",
       "      <th>3</th>\n",
       "      <td>CS028811000001</td>\n",
       "      <td>19330327</td>\n",
       "    </tr>\n",
       "    <tr>\n",
       "      <th>4</th>\n",
       "      <td>CS001215000145</td>\n",
       "      <td>19950329</td>\n",
       "    </tr>\n",
       "    <tr>\n",
       "      <th>5</th>\n",
       "      <td>CS020401000016</td>\n",
       "      <td>19740915</td>\n",
       "    </tr>\n",
       "    <tr>\n",
       "      <th>6</th>\n",
       "      <td>CS015414000103</td>\n",
       "      <td>19770809</td>\n",
       "    </tr>\n",
       "    <tr>\n",
       "      <th>7</th>\n",
       "      <td>CS029403000008</td>\n",
       "      <td>19730817</td>\n",
       "    </tr>\n",
       "    <tr>\n",
       "      <th>8</th>\n",
       "      <td>CS015804000004</td>\n",
       "      <td>19310502</td>\n",
       "    </tr>\n",
       "    <tr>\n",
       "      <th>9</th>\n",
       "      <td>CS033513000180</td>\n",
       "      <td>19620711</td>\n",
       "    </tr>\n",
       "  </tbody>\n",
       "</table>\n",
       "</div>"
      ],
      "text/plain": [
       "      customer_id birth_day_ymd\n",
       "0  CS021313000114      19810429\n",
       "1  CS037613000071      19520401\n",
       "2  CS031415000172      19761004\n",
       "3  CS028811000001      19330327\n",
       "4  CS001215000145      19950329\n",
       "5  CS020401000016      19740915\n",
       "6  CS015414000103      19770809\n",
       "7  CS029403000008      19730817\n",
       "8  CS015804000004      19310502\n",
       "9  CS033513000180      19620711"
      ]
     },
     "execution_count": 78,
     "metadata": {},
     "output_type": "execute_result"
    }
   ],
   "source": [
    "df45 = df_customer.copy()\n",
    "df45[\"birth_day\"] = pd.to_datetime(df45[\"birth_day\"], format=\"%Y-%m-%d\")\n",
    "df45[\"birth_day_ymd\"] = df45[\"birth_day\"].dt.strftime(\"%Y%m%d\")\n",
    "df45_ans = df45[[\"customer_id\", \"birth_day_ymd\"]]\n",
    "df45_ans.head(10)"
   ]
  },
  {
   "cell_type": "markdown",
   "metadata": {
    "id": "wH4AysWh1j_7"
   },
   "source": [
    "## P046"
   ]
  },
  {
   "cell_type": "markdown",
   "metadata": {
    "id": "umDmd8kohhzA"
   },
   "source": [
    "---\n",
    "> P-046: 顧客データフレーム（df_customer）の申し込み日（application_date）はYYYYMMD形式の文字列型でデータを保有している。これを日付型（dateやdatetime）に変換し、顧客ID（customer_id）とともに抽出せよ。データは10件を抽出すれば良い。"
   ]
  },
  {
   "cell_type": "code",
   "execution_count": 79,
   "metadata": {
    "id": "pVAxV-TWhhzA"
   },
   "outputs": [
    {
     "data": {
      "text/html": [
       "<div>\n",
       "<style scoped>\n",
       "    .dataframe tbody tr th:only-of-type {\n",
       "        vertical-align: middle;\n",
       "    }\n",
       "\n",
       "    .dataframe tbody tr th {\n",
       "        vertical-align: top;\n",
       "    }\n",
       "\n",
       "    .dataframe thead th {\n",
       "        text-align: right;\n",
       "    }\n",
       "</style>\n",
       "<table border=\"1\" class=\"dataframe\">\n",
       "  <thead>\n",
       "    <tr style=\"text-align: right;\">\n",
       "      <th></th>\n",
       "      <th>customer_id</th>\n",
       "      <th>application_date_to</th>\n",
       "    </tr>\n",
       "  </thead>\n",
       "  <tbody>\n",
       "    <tr>\n",
       "      <th>0</th>\n",
       "      <td>CS021313000114</td>\n",
       "      <td>2015-09-05</td>\n",
       "    </tr>\n",
       "    <tr>\n",
       "      <th>1</th>\n",
       "      <td>CS037613000071</td>\n",
       "      <td>2015-04-14</td>\n",
       "    </tr>\n",
       "    <tr>\n",
       "      <th>2</th>\n",
       "      <td>CS031415000172</td>\n",
       "      <td>2015-05-29</td>\n",
       "    </tr>\n",
       "    <tr>\n",
       "      <th>3</th>\n",
       "      <td>CS028811000001</td>\n",
       "      <td>2016-01-15</td>\n",
       "    </tr>\n",
       "    <tr>\n",
       "      <th>4</th>\n",
       "      <td>CS001215000145</td>\n",
       "      <td>2017-06-05</td>\n",
       "    </tr>\n",
       "    <tr>\n",
       "      <th>5</th>\n",
       "      <td>CS020401000016</td>\n",
       "      <td>2015-02-25</td>\n",
       "    </tr>\n",
       "    <tr>\n",
       "      <th>6</th>\n",
       "      <td>CS015414000103</td>\n",
       "      <td>2015-07-22</td>\n",
       "    </tr>\n",
       "    <tr>\n",
       "      <th>7</th>\n",
       "      <td>CS029403000008</td>\n",
       "      <td>2015-05-15</td>\n",
       "    </tr>\n",
       "    <tr>\n",
       "      <th>8</th>\n",
       "      <td>CS015804000004</td>\n",
       "      <td>2015-06-07</td>\n",
       "    </tr>\n",
       "    <tr>\n",
       "      <th>9</th>\n",
       "      <td>CS033513000180</td>\n",
       "      <td>2015-07-28</td>\n",
       "    </tr>\n",
       "  </tbody>\n",
       "</table>\n",
       "</div>"
      ],
      "text/plain": [
       "      customer_id application_date_to\n",
       "0  CS021313000114          2015-09-05\n",
       "1  CS037613000071          2015-04-14\n",
       "2  CS031415000172          2015-05-29\n",
       "3  CS028811000001          2016-01-15\n",
       "4  CS001215000145          2017-06-05\n",
       "5  CS020401000016          2015-02-25\n",
       "6  CS015414000103          2015-07-22\n",
       "7  CS029403000008          2015-05-15\n",
       "8  CS015804000004          2015-06-07\n",
       "9  CS033513000180          2015-07-28"
      ]
     },
     "execution_count": 79,
     "metadata": {},
     "output_type": "execute_result"
    }
   ],
   "source": [
    "df46 = df_customer.copy()\n",
    "df46[\"application_date_to\"] = pd.to_datetime(df46[\"application_date\"], format=\"%Y%m%d\")\n",
    "df46_ans = df46[[\"customer_id\", \"application_date_to\"]]\n",
    "df46_ans.head(10)"
   ]
  },
  {
   "cell_type": "markdown",
   "metadata": {
    "id": "szpT78Nk1mSJ"
   },
   "source": [
    "## P047"
   ]
  },
  {
   "cell_type": "markdown",
   "metadata": {
    "id": "lbc058iGhhzC"
   },
   "source": [
    "---\n",
    "> P-047: レシート明細データフレーム（df_receipt）の売上日（sales_ymd）はYYYYMMDD形式の数値型でデータを保有している。これを日付型（dateやdatetime）に変換し、レシート番号(receipt_no)、レシートサブ番号（receipt_sub_no）とともに抽出せよ。データは10件を抽出すれば良い。"
   ]
  },
  {
   "cell_type": "code",
   "execution_count": 80,
   "metadata": {
    "id": "-StgxCNyhhzC"
   },
   "outputs": [
    {
     "data": {
      "text/html": [
       "<div>\n",
       "<style scoped>\n",
       "    .dataframe tbody tr th:only-of-type {\n",
       "        vertical-align: middle;\n",
       "    }\n",
       "\n",
       "    .dataframe tbody tr th {\n",
       "        vertical-align: top;\n",
       "    }\n",
       "\n",
       "    .dataframe thead th {\n",
       "        text-align: right;\n",
       "    }\n",
       "</style>\n",
       "<table border=\"1\" class=\"dataframe\">\n",
       "  <thead>\n",
       "    <tr style=\"text-align: right;\">\n",
       "      <th></th>\n",
       "      <th>sales_ymd</th>\n",
       "      <th>sales_epoch</th>\n",
       "      <th>store_cd</th>\n",
       "      <th>receipt_no</th>\n",
       "      <th>receipt_sub_no</th>\n",
       "      <th>customer_id</th>\n",
       "      <th>product_cd</th>\n",
       "      <th>quantity</th>\n",
       "      <th>amount</th>\n",
       "    </tr>\n",
       "  </thead>\n",
       "  <tbody>\n",
       "    <tr>\n",
       "      <th>0</th>\n",
       "      <td>20181103</td>\n",
       "      <td>1541203200</td>\n",
       "      <td>S14006</td>\n",
       "      <td>112</td>\n",
       "      <td>1</td>\n",
       "      <td>CS006214000001</td>\n",
       "      <td>P070305012</td>\n",
       "      <td>1</td>\n",
       "      <td>158</td>\n",
       "    </tr>\n",
       "    <tr>\n",
       "      <th>1</th>\n",
       "      <td>20181118</td>\n",
       "      <td>1542499200</td>\n",
       "      <td>S13008</td>\n",
       "      <td>1132</td>\n",
       "      <td>2</td>\n",
       "      <td>CS008415000097</td>\n",
       "      <td>P070701017</td>\n",
       "      <td>1</td>\n",
       "      <td>81</td>\n",
       "    </tr>\n",
       "    <tr>\n",
       "      <th>2</th>\n",
       "      <td>20170712</td>\n",
       "      <td>1499817600</td>\n",
       "      <td>S14028</td>\n",
       "      <td>1102</td>\n",
       "      <td>1</td>\n",
       "      <td>CS028414000014</td>\n",
       "      <td>P060101005</td>\n",
       "      <td>1</td>\n",
       "      <td>170</td>\n",
       "    </tr>\n",
       "    <tr>\n",
       "      <th>3</th>\n",
       "      <td>20190205</td>\n",
       "      <td>1549324800</td>\n",
       "      <td>S14042</td>\n",
       "      <td>1132</td>\n",
       "      <td>1</td>\n",
       "      <td>ZZ000000000000</td>\n",
       "      <td>P050301001</td>\n",
       "      <td>1</td>\n",
       "      <td>25</td>\n",
       "    </tr>\n",
       "    <tr>\n",
       "      <th>4</th>\n",
       "      <td>20180821</td>\n",
       "      <td>1534809600</td>\n",
       "      <td>S14025</td>\n",
       "      <td>1102</td>\n",
       "      <td>2</td>\n",
       "      <td>CS025415000050</td>\n",
       "      <td>P060102007</td>\n",
       "      <td>1</td>\n",
       "      <td>90</td>\n",
       "    </tr>\n",
       "  </tbody>\n",
       "</table>\n",
       "</div>"
      ],
      "text/plain": [
       "   sales_ymd  sales_epoch store_cd  receipt_no  receipt_sub_no  \\\n",
       "0   20181103   1541203200   S14006         112               1   \n",
       "1   20181118   1542499200   S13008        1132               2   \n",
       "2   20170712   1499817600   S14028        1102               1   \n",
       "3   20190205   1549324800   S14042        1132               1   \n",
       "4   20180821   1534809600   S14025        1102               2   \n",
       "\n",
       "      customer_id  product_cd  quantity  amount  \n",
       "0  CS006214000001  P070305012         1     158  \n",
       "1  CS008415000097  P070701017         1      81  \n",
       "2  CS028414000014  P060101005         1     170  \n",
       "3  ZZ000000000000  P050301001         1      25  \n",
       "4  CS025415000050  P060102007         1      90  "
      ]
     },
     "execution_count": 80,
     "metadata": {},
     "output_type": "execute_result"
    }
   ],
   "source": [
    "df47 = df_receipt.copy()\n",
    "df47.head()"
   ]
  },
  {
   "cell_type": "code",
   "execution_count": 81,
   "metadata": {},
   "outputs": [
    {
     "data": {
      "text/html": [
       "<div>\n",
       "<style scoped>\n",
       "    .dataframe tbody tr th:only-of-type {\n",
       "        vertical-align: middle;\n",
       "    }\n",
       "\n",
       "    .dataframe tbody tr th {\n",
       "        vertical-align: top;\n",
       "    }\n",
       "\n",
       "    .dataframe thead th {\n",
       "        text-align: right;\n",
       "    }\n",
       "</style>\n",
       "<table border=\"1\" class=\"dataframe\">\n",
       "  <thead>\n",
       "    <tr style=\"text-align: right;\">\n",
       "      <th></th>\n",
       "      <th>sales_ymd_to</th>\n",
       "      <th>receipt_no</th>\n",
       "      <th>receipt_sub_no</th>\n",
       "    </tr>\n",
       "  </thead>\n",
       "  <tbody>\n",
       "    <tr>\n",
       "      <th>0</th>\n",
       "      <td>2018-11-03</td>\n",
       "      <td>112</td>\n",
       "      <td>1</td>\n",
       "    </tr>\n",
       "    <tr>\n",
       "      <th>1</th>\n",
       "      <td>2018-11-18</td>\n",
       "      <td>1132</td>\n",
       "      <td>2</td>\n",
       "    </tr>\n",
       "    <tr>\n",
       "      <th>2</th>\n",
       "      <td>2017-07-12</td>\n",
       "      <td>1102</td>\n",
       "      <td>1</td>\n",
       "    </tr>\n",
       "    <tr>\n",
       "      <th>3</th>\n",
       "      <td>2019-02-05</td>\n",
       "      <td>1132</td>\n",
       "      <td>1</td>\n",
       "    </tr>\n",
       "    <tr>\n",
       "      <th>4</th>\n",
       "      <td>2018-08-21</td>\n",
       "      <td>1102</td>\n",
       "      <td>2</td>\n",
       "    </tr>\n",
       "    <tr>\n",
       "      <th>5</th>\n",
       "      <td>2019-06-05</td>\n",
       "      <td>1112</td>\n",
       "      <td>1</td>\n",
       "    </tr>\n",
       "    <tr>\n",
       "      <th>6</th>\n",
       "      <td>2018-12-05</td>\n",
       "      <td>1102</td>\n",
       "      <td>2</td>\n",
       "    </tr>\n",
       "    <tr>\n",
       "      <th>7</th>\n",
       "      <td>2019-09-22</td>\n",
       "      <td>1102</td>\n",
       "      <td>1</td>\n",
       "    </tr>\n",
       "    <tr>\n",
       "      <th>8</th>\n",
       "      <td>2017-05-04</td>\n",
       "      <td>1112</td>\n",
       "      <td>2</td>\n",
       "    </tr>\n",
       "    <tr>\n",
       "      <th>9</th>\n",
       "      <td>2019-10-10</td>\n",
       "      <td>1102</td>\n",
       "      <td>1</td>\n",
       "    </tr>\n",
       "  </tbody>\n",
       "</table>\n",
       "</div>"
      ],
      "text/plain": [
       "  sales_ymd_to  receipt_no  receipt_sub_no\n",
       "0   2018-11-03         112               1\n",
       "1   2018-11-18        1132               2\n",
       "2   2017-07-12        1102               1\n",
       "3   2019-02-05        1132               1\n",
       "4   2018-08-21        1102               2\n",
       "5   2019-06-05        1112               1\n",
       "6   2018-12-05        1102               2\n",
       "7   2019-09-22        1102               1\n",
       "8   2017-05-04        1112               2\n",
       "9   2019-10-10        1102               1"
      ]
     },
     "execution_count": 81,
     "metadata": {},
     "output_type": "execute_result"
    }
   ],
   "source": [
    "df47[\"sales_ymd_to\"] = pd.to_datetime(df47[\"sales_ymd\"], format=\"%Y%m%d\")\n",
    "df47_ans = df47[[\"sales_ymd_to\", \"receipt_no\", \"receipt_sub_no\"]]\n",
    "df47_ans.head(10)"
   ]
  },
  {
   "cell_type": "markdown",
   "metadata": {
    "id": "iThYh_0I1n2P"
   },
   "source": [
    "## P048"
   ]
  },
  {
   "cell_type": "markdown",
   "metadata": {
    "id": "ohZn7QSihhzD"
   },
   "source": [
    "---\n",
    "> P-048: レシート明細データフレーム（df_receipt）の売上エポック秒（sales_epoch）は数値型のUNIX秒でデータを保有している。これを日付型（dateやdatetime）に変換し、レシート番号(receipt_no)、レシートサブ番号（receipt_sub_no）とともに抽出せよ。データは10件を抽出すれば良い。"
   ]
  },
  {
   "cell_type": "code",
   "execution_count": 82,
   "metadata": {
    "id": "Y-aq0twKhhzD"
   },
   "outputs": [
    {
     "data": {
      "text/html": [
       "<div>\n",
       "<style scoped>\n",
       "    .dataframe tbody tr th:only-of-type {\n",
       "        vertical-align: middle;\n",
       "    }\n",
       "\n",
       "    .dataframe tbody tr th {\n",
       "        vertical-align: top;\n",
       "    }\n",
       "\n",
       "    .dataframe thead th {\n",
       "        text-align: right;\n",
       "    }\n",
       "</style>\n",
       "<table border=\"1\" class=\"dataframe\">\n",
       "  <thead>\n",
       "    <tr style=\"text-align: right;\">\n",
       "      <th></th>\n",
       "      <th>sales_epoch_date</th>\n",
       "      <th>receipt_no</th>\n",
       "      <th>receipt_sub_no</th>\n",
       "    </tr>\n",
       "  </thead>\n",
       "  <tbody>\n",
       "    <tr>\n",
       "      <th>0</th>\n",
       "      <td>2018-11-03</td>\n",
       "      <td>112</td>\n",
       "      <td>1</td>\n",
       "    </tr>\n",
       "    <tr>\n",
       "      <th>1</th>\n",
       "      <td>2018-11-18</td>\n",
       "      <td>1132</td>\n",
       "      <td>2</td>\n",
       "    </tr>\n",
       "    <tr>\n",
       "      <th>2</th>\n",
       "      <td>2017-07-12</td>\n",
       "      <td>1102</td>\n",
       "      <td>1</td>\n",
       "    </tr>\n",
       "    <tr>\n",
       "      <th>3</th>\n",
       "      <td>2019-02-05</td>\n",
       "      <td>1132</td>\n",
       "      <td>1</td>\n",
       "    </tr>\n",
       "    <tr>\n",
       "      <th>4</th>\n",
       "      <td>2018-08-21</td>\n",
       "      <td>1102</td>\n",
       "      <td>2</td>\n",
       "    </tr>\n",
       "    <tr>\n",
       "      <th>5</th>\n",
       "      <td>2019-06-05</td>\n",
       "      <td>1112</td>\n",
       "      <td>1</td>\n",
       "    </tr>\n",
       "    <tr>\n",
       "      <th>6</th>\n",
       "      <td>2018-12-05</td>\n",
       "      <td>1102</td>\n",
       "      <td>2</td>\n",
       "    </tr>\n",
       "    <tr>\n",
       "      <th>7</th>\n",
       "      <td>2019-09-22</td>\n",
       "      <td>1102</td>\n",
       "      <td>1</td>\n",
       "    </tr>\n",
       "    <tr>\n",
       "      <th>8</th>\n",
       "      <td>2017-05-04</td>\n",
       "      <td>1112</td>\n",
       "      <td>2</td>\n",
       "    </tr>\n",
       "    <tr>\n",
       "      <th>9</th>\n",
       "      <td>2019-10-10</td>\n",
       "      <td>1102</td>\n",
       "      <td>1</td>\n",
       "    </tr>\n",
       "  </tbody>\n",
       "</table>\n",
       "</div>"
      ],
      "text/plain": [
       "  sales_epoch_date  receipt_no  receipt_sub_no\n",
       "0       2018-11-03         112               1\n",
       "1       2018-11-18        1132               2\n",
       "2       2017-07-12        1102               1\n",
       "3       2019-02-05        1132               1\n",
       "4       2018-08-21        1102               2\n",
       "5       2019-06-05        1112               1\n",
       "6       2018-12-05        1102               2\n",
       "7       2019-09-22        1102               1\n",
       "8       2017-05-04        1112               2\n",
       "9       2019-10-10        1102               1"
      ]
     },
     "execution_count": 82,
     "metadata": {},
     "output_type": "execute_result"
    }
   ],
   "source": [
    "df48 = df_receipt.copy()\n",
    "df48[\"sales_epoch_date\"] = pd.to_datetime(df48[\"sales_epoch\"].astype(int),unit=\"s\")\n",
    "df48_ans = df48[[\"sales_epoch_date\", \"receipt_no\", \"receipt_sub_no\"]]\n",
    "df48_ans.head(10)"
   ]
  },
  {
   "cell_type": "markdown",
   "metadata": {
    "id": "Z5vFtRhy1pz1"
   },
   "source": [
    "## P049"
   ]
  },
  {
   "cell_type": "markdown",
   "metadata": {
    "id": "GfUYeJaFhhzE"
   },
   "source": [
    "---\n",
    "> P-049: レシート明細データフレーム（df_receipt）の売上エポック秒（sales_epoch）を日付型（timestamp型）に変換し、\"年\"だけ取り出してレシート番号(receipt_no)、レシートサブ番号（receipt_sub_no）とともに抽出せよ。データは10件を抽出すれば良い。"
   ]
  },
  {
   "cell_type": "code",
   "execution_count": 83,
   "metadata": {
    "id": "C72RHYAThhzE"
   },
   "outputs": [
    {
     "data": {
      "text/html": [
       "<div>\n",
       "<style scoped>\n",
       "    .dataframe tbody tr th:only-of-type {\n",
       "        vertical-align: middle;\n",
       "    }\n",
       "\n",
       "    .dataframe tbody tr th {\n",
       "        vertical-align: top;\n",
       "    }\n",
       "\n",
       "    .dataframe thead th {\n",
       "        text-align: right;\n",
       "    }\n",
       "</style>\n",
       "<table border=\"1\" class=\"dataframe\">\n",
       "  <thead>\n",
       "    <tr style=\"text-align: right;\">\n",
       "      <th></th>\n",
       "      <th>sales_epoch_year</th>\n",
       "      <th>receipt_no</th>\n",
       "      <th>receipt_sub_no</th>\n",
       "    </tr>\n",
       "  </thead>\n",
       "  <tbody>\n",
       "    <tr>\n",
       "      <th>0</th>\n",
       "      <td>2018</td>\n",
       "      <td>112</td>\n",
       "      <td>1</td>\n",
       "    </tr>\n",
       "    <tr>\n",
       "      <th>1</th>\n",
       "      <td>2018</td>\n",
       "      <td>1132</td>\n",
       "      <td>2</td>\n",
       "    </tr>\n",
       "    <tr>\n",
       "      <th>2</th>\n",
       "      <td>2017</td>\n",
       "      <td>1102</td>\n",
       "      <td>1</td>\n",
       "    </tr>\n",
       "    <tr>\n",
       "      <th>3</th>\n",
       "      <td>2019</td>\n",
       "      <td>1132</td>\n",
       "      <td>1</td>\n",
       "    </tr>\n",
       "    <tr>\n",
       "      <th>4</th>\n",
       "      <td>2018</td>\n",
       "      <td>1102</td>\n",
       "      <td>2</td>\n",
       "    </tr>\n",
       "    <tr>\n",
       "      <th>5</th>\n",
       "      <td>2019</td>\n",
       "      <td>1112</td>\n",
       "      <td>1</td>\n",
       "    </tr>\n",
       "    <tr>\n",
       "      <th>6</th>\n",
       "      <td>2018</td>\n",
       "      <td>1102</td>\n",
       "      <td>2</td>\n",
       "    </tr>\n",
       "    <tr>\n",
       "      <th>7</th>\n",
       "      <td>2019</td>\n",
       "      <td>1102</td>\n",
       "      <td>1</td>\n",
       "    </tr>\n",
       "    <tr>\n",
       "      <th>8</th>\n",
       "      <td>2017</td>\n",
       "      <td>1112</td>\n",
       "      <td>2</td>\n",
       "    </tr>\n",
       "    <tr>\n",
       "      <th>9</th>\n",
       "      <td>2019</td>\n",
       "      <td>1102</td>\n",
       "      <td>1</td>\n",
       "    </tr>\n",
       "  </tbody>\n",
       "</table>\n",
       "</div>"
      ],
      "text/plain": [
       "   sales_epoch_year  receipt_no  receipt_sub_no\n",
       "0              2018         112               1\n",
       "1              2018        1132               2\n",
       "2              2017        1102               1\n",
       "3              2019        1132               1\n",
       "4              2018        1102               2\n",
       "5              2019        1112               1\n",
       "6              2018        1102               2\n",
       "7              2019        1102               1\n",
       "8              2017        1112               2\n",
       "9              2019        1102               1"
      ]
     },
     "execution_count": 83,
     "metadata": {},
     "output_type": "execute_result"
    }
   ],
   "source": [
    "df49 = df_receipt.copy()\n",
    "df49[\"sales_epoch_date\"] = pd.to_datetime(df49[\"sales_epoch\"].astype(int),unit=\"s\")\n",
    "df49[\"sales_epoch_year\"] = df49[\"sales_epoch_date\"].dt.year\n",
    "df49_ans = df49[[\"sales_epoch_year\", \"receipt_no\", \"receipt_sub_no\"]]\n",
    "df49_ans.head(10)"
   ]
  },
  {
   "cell_type": "markdown",
   "metadata": {
    "id": "jrYkdMDA1rPE"
   },
   "source": [
    "## P050"
   ]
  },
  {
   "cell_type": "markdown",
   "metadata": {
    "id": "wiogoJ-8hhzF"
   },
   "source": [
    "---\n",
    "> P-050: レシート明細データフレーム（df_receipt）の売上エポック秒（sales_epoch）を日付型（timestamp型）に変換し、\"月\"だけ取り出してレシート番号(receipt_no)、レシートサブ番号（receipt_sub_no）とともに抽出せよ。なお、\"月\"は0埋め2桁で取り出すこと。データは10件を抽出すれば良い。"
   ]
  },
  {
   "cell_type": "code",
   "execution_count": 84,
   "metadata": {
    "id": "Dx9OH1LNhhzG"
   },
   "outputs": [
    {
     "data": {
      "text/html": [
       "<div>\n",
       "<style scoped>\n",
       "    .dataframe tbody tr th:only-of-type {\n",
       "        vertical-align: middle;\n",
       "    }\n",
       "\n",
       "    .dataframe tbody tr th {\n",
       "        vertical-align: top;\n",
       "    }\n",
       "\n",
       "    .dataframe thead th {\n",
       "        text-align: right;\n",
       "    }\n",
       "</style>\n",
       "<table border=\"1\" class=\"dataframe\">\n",
       "  <thead>\n",
       "    <tr style=\"text-align: right;\">\n",
       "      <th></th>\n",
       "      <th>sales_epoch_month</th>\n",
       "      <th>receipt_no</th>\n",
       "      <th>receipt_sub_no</th>\n",
       "    </tr>\n",
       "  </thead>\n",
       "  <tbody>\n",
       "    <tr>\n",
       "      <th>0</th>\n",
       "      <td>11</td>\n",
       "      <td>112</td>\n",
       "      <td>1</td>\n",
       "    </tr>\n",
       "    <tr>\n",
       "      <th>1</th>\n",
       "      <td>11</td>\n",
       "      <td>1132</td>\n",
       "      <td>2</td>\n",
       "    </tr>\n",
       "    <tr>\n",
       "      <th>2</th>\n",
       "      <td>07</td>\n",
       "      <td>1102</td>\n",
       "      <td>1</td>\n",
       "    </tr>\n",
       "    <tr>\n",
       "      <th>3</th>\n",
       "      <td>02</td>\n",
       "      <td>1132</td>\n",
       "      <td>1</td>\n",
       "    </tr>\n",
       "    <tr>\n",
       "      <th>4</th>\n",
       "      <td>08</td>\n",
       "      <td>1102</td>\n",
       "      <td>2</td>\n",
       "    </tr>\n",
       "    <tr>\n",
       "      <th>5</th>\n",
       "      <td>06</td>\n",
       "      <td>1112</td>\n",
       "      <td>1</td>\n",
       "    </tr>\n",
       "    <tr>\n",
       "      <th>6</th>\n",
       "      <td>12</td>\n",
       "      <td>1102</td>\n",
       "      <td>2</td>\n",
       "    </tr>\n",
       "    <tr>\n",
       "      <th>7</th>\n",
       "      <td>09</td>\n",
       "      <td>1102</td>\n",
       "      <td>1</td>\n",
       "    </tr>\n",
       "    <tr>\n",
       "      <th>8</th>\n",
       "      <td>05</td>\n",
       "      <td>1112</td>\n",
       "      <td>2</td>\n",
       "    </tr>\n",
       "    <tr>\n",
       "      <th>9</th>\n",
       "      <td>10</td>\n",
       "      <td>1102</td>\n",
       "      <td>1</td>\n",
       "    </tr>\n",
       "  </tbody>\n",
       "</table>\n",
       "</div>"
      ],
      "text/plain": [
       "  sales_epoch_month  receipt_no  receipt_sub_no\n",
       "0                11         112               1\n",
       "1                11        1132               2\n",
       "2                07        1102               1\n",
       "3                02        1132               1\n",
       "4                08        1102               2\n",
       "5                06        1112               1\n",
       "6                12        1102               2\n",
       "7                09        1102               1\n",
       "8                05        1112               2\n",
       "9                10        1102               1"
      ]
     },
     "execution_count": 84,
     "metadata": {},
     "output_type": "execute_result"
    }
   ],
   "source": [
    "df50 = df_receipt.copy()\n",
    "df50[\"sales_epoch_date\"] = pd.to_datetime(df50[\"sales_epoch\"].astype(int),unit=\"s\")\n",
    "df50[\"sales_epoch_month\"] = df50[\"sales_epoch_date\"].dt.strftime('%m')\n",
    "df50_ans = df50[[\"sales_epoch_month\", \"receipt_no\", \"receipt_sub_no\"]]\n",
    "df50_ans.head(10)"
   ]
  },
  {
   "cell_type": "markdown",
   "metadata": {
    "id": "5e5ZD0Wi1tY_"
   },
   "source": [
    "## P051"
   ]
  },
  {
   "cell_type": "markdown",
   "metadata": {
    "id": "8JT6_Cu-hhzH"
   },
   "source": [
    "---\n",
    "> P-051: レシート明細データフレーム（df_receipt）の売上エポック秒（sales_epoch）を日付型（timestamp型）に変換し、\"日\"だけ取り出してレシート番号(receipt_no)、レシートサブ番号（receipt_sub_no）とともに抽出せよ。なお、\"日\"は0埋め2桁で取り出すこと。データは10件を抽出すれば良い。"
   ]
  },
  {
   "cell_type": "code",
   "execution_count": 85,
   "metadata": {
    "id": "6A7WIWLhhhzH"
   },
   "outputs": [
    {
     "data": {
      "text/html": [
       "<div>\n",
       "<style scoped>\n",
       "    .dataframe tbody tr th:only-of-type {\n",
       "        vertical-align: middle;\n",
       "    }\n",
       "\n",
       "    .dataframe tbody tr th {\n",
       "        vertical-align: top;\n",
       "    }\n",
       "\n",
       "    .dataframe thead th {\n",
       "        text-align: right;\n",
       "    }\n",
       "</style>\n",
       "<table border=\"1\" class=\"dataframe\">\n",
       "  <thead>\n",
       "    <tr style=\"text-align: right;\">\n",
       "      <th></th>\n",
       "      <th>sales_epoch_day</th>\n",
       "      <th>receipt_no</th>\n",
       "      <th>receipt_sub_no</th>\n",
       "    </tr>\n",
       "  </thead>\n",
       "  <tbody>\n",
       "    <tr>\n",
       "      <th>0</th>\n",
       "      <td>03</td>\n",
       "      <td>112</td>\n",
       "      <td>1</td>\n",
       "    </tr>\n",
       "    <tr>\n",
       "      <th>1</th>\n",
       "      <td>18</td>\n",
       "      <td>1132</td>\n",
       "      <td>2</td>\n",
       "    </tr>\n",
       "    <tr>\n",
       "      <th>2</th>\n",
       "      <td>12</td>\n",
       "      <td>1102</td>\n",
       "      <td>1</td>\n",
       "    </tr>\n",
       "    <tr>\n",
       "      <th>3</th>\n",
       "      <td>05</td>\n",
       "      <td>1132</td>\n",
       "      <td>1</td>\n",
       "    </tr>\n",
       "    <tr>\n",
       "      <th>4</th>\n",
       "      <td>21</td>\n",
       "      <td>1102</td>\n",
       "      <td>2</td>\n",
       "    </tr>\n",
       "    <tr>\n",
       "      <th>5</th>\n",
       "      <td>05</td>\n",
       "      <td>1112</td>\n",
       "      <td>1</td>\n",
       "    </tr>\n",
       "    <tr>\n",
       "      <th>6</th>\n",
       "      <td>05</td>\n",
       "      <td>1102</td>\n",
       "      <td>2</td>\n",
       "    </tr>\n",
       "    <tr>\n",
       "      <th>7</th>\n",
       "      <td>22</td>\n",
       "      <td>1102</td>\n",
       "      <td>1</td>\n",
       "    </tr>\n",
       "    <tr>\n",
       "      <th>8</th>\n",
       "      <td>04</td>\n",
       "      <td>1112</td>\n",
       "      <td>2</td>\n",
       "    </tr>\n",
       "    <tr>\n",
       "      <th>9</th>\n",
       "      <td>10</td>\n",
       "      <td>1102</td>\n",
       "      <td>1</td>\n",
       "    </tr>\n",
       "  </tbody>\n",
       "</table>\n",
       "</div>"
      ],
      "text/plain": [
       "  sales_epoch_day  receipt_no  receipt_sub_no\n",
       "0              03         112               1\n",
       "1              18        1132               2\n",
       "2              12        1102               1\n",
       "3              05        1132               1\n",
       "4              21        1102               2\n",
       "5              05        1112               1\n",
       "6              05        1102               2\n",
       "7              22        1102               1\n",
       "8              04        1112               2\n",
       "9              10        1102               1"
      ]
     },
     "execution_count": 85,
     "metadata": {},
     "output_type": "execute_result"
    }
   ],
   "source": [
    "df51 = df_receipt.copy()\n",
    "df51[\"sales_epoch_date\"] = pd.to_datetime(df51[\"sales_epoch\"].astype(int),unit=\"s\")\n",
    "df51[\"sales_epoch_day\"] = df51[\"sales_epoch_date\"].dt.strftime('%d')\n",
    "df51_ans = df51[[\"sales_epoch_day\", \"receipt_no\", \"receipt_sub_no\"]]\n",
    "df51_ans.head(10)"
   ]
  },
  {
   "cell_type": "markdown",
   "metadata": {
    "id": "lWk_2EZJ1vEd"
   },
   "source": [
    "## P052"
   ]
  },
  {
   "cell_type": "markdown",
   "metadata": {
    "id": "OGXY-uRrhhzI"
   },
   "source": [
    "---\n",
    "> P-052: レシート明細データフレーム（df_receipt）の売上金額（amount）を顧客ID（customer_id）ごとに合計の上、売上金額合計に対して2000円以下を0、2000円超を1に2値化し、顧客ID、売上金額合計とともに10件表示せよ。ただし、顧客IDが\"Z\"から始まるのものは非会員を表すため、除外して計算すること。"
   ]
  },
  {
   "cell_type": "code",
   "execution_count": 86,
   "metadata": {
    "id": "rQvmUUolhhzJ"
   },
   "outputs": [
    {
     "data": {
      "text/html": [
       "<div>\n",
       "<style scoped>\n",
       "    .dataframe tbody tr th:only-of-type {\n",
       "        vertical-align: middle;\n",
       "    }\n",
       "\n",
       "    .dataframe tbody tr th {\n",
       "        vertical-align: top;\n",
       "    }\n",
       "\n",
       "    .dataframe thead th {\n",
       "        text-align: right;\n",
       "    }\n",
       "</style>\n",
       "<table border=\"1\" class=\"dataframe\">\n",
       "  <thead>\n",
       "    <tr style=\"text-align: right;\">\n",
       "      <th></th>\n",
       "      <th>amount</th>\n",
       "      <th>amount_type</th>\n",
       "    </tr>\n",
       "    <tr>\n",
       "      <th>customer_id</th>\n",
       "      <th></th>\n",
       "      <th></th>\n",
       "    </tr>\n",
       "  </thead>\n",
       "  <tbody>\n",
       "    <tr>\n",
       "      <th>CS001113000004</th>\n",
       "      <td>1298</td>\n",
       "      <td>0.0</td>\n",
       "    </tr>\n",
       "    <tr>\n",
       "      <th>CS001114000005</th>\n",
       "      <td>626</td>\n",
       "      <td>0.0</td>\n",
       "    </tr>\n",
       "    <tr>\n",
       "      <th>CS001115000010</th>\n",
       "      <td>3044</td>\n",
       "      <td>1.0</td>\n",
       "    </tr>\n",
       "    <tr>\n",
       "      <th>CS001205000004</th>\n",
       "      <td>1988</td>\n",
       "      <td>0.0</td>\n",
       "    </tr>\n",
       "    <tr>\n",
       "      <th>CS001205000006</th>\n",
       "      <td>3337</td>\n",
       "      <td>1.0</td>\n",
       "    </tr>\n",
       "    <tr>\n",
       "      <th>CS001211000025</th>\n",
       "      <td>456</td>\n",
       "      <td>0.0</td>\n",
       "    </tr>\n",
       "    <tr>\n",
       "      <th>CS001212000027</th>\n",
       "      <td>448</td>\n",
       "      <td>0.0</td>\n",
       "    </tr>\n",
       "    <tr>\n",
       "      <th>CS001212000031</th>\n",
       "      <td>296</td>\n",
       "      <td>0.0</td>\n",
       "    </tr>\n",
       "    <tr>\n",
       "      <th>CS001212000046</th>\n",
       "      <td>228</td>\n",
       "      <td>0.0</td>\n",
       "    </tr>\n",
       "    <tr>\n",
       "      <th>CS001212000070</th>\n",
       "      <td>456</td>\n",
       "      <td>0.0</td>\n",
       "    </tr>\n",
       "  </tbody>\n",
       "</table>\n",
       "</div>"
      ],
      "text/plain": [
       "                amount  amount_type\n",
       "customer_id                        \n",
       "CS001113000004    1298          0.0\n",
       "CS001114000005     626          0.0\n",
       "CS001115000010    3044          1.0\n",
       "CS001205000004    1988          0.0\n",
       "CS001205000006    3337          1.0\n",
       "CS001211000025     456          0.0\n",
       "CS001212000027     448          0.0\n",
       "CS001212000031     296          0.0\n",
       "CS001212000046     228          0.0\n",
       "CS001212000070     456          0.0"
      ]
     },
     "execution_count": 86,
     "metadata": {},
     "output_type": "execute_result"
    }
   ],
   "source": [
    "df52 = df_receipt[~df_receipt[\"customer_id\"].str.startswith(\"Z\")]\n",
    "df52_ans = df52.groupby(\"customer_id\")[[\"amount\"]].sum()\n",
    "df52_ans.loc[df52_ans[\"amount\"] <= 2000 , \"amount_type\"] = 0\n",
    "df52_ans.loc[df52_ans[\"amount\"] > 2000 , \"amount_type\"] = 1\n",
    "df52_ans.head(10)"
   ]
  },
  {
   "cell_type": "code",
   "execution_count": 87,
   "metadata": {},
   "outputs": [
    {
     "data": {
      "text/html": [
       "<div>\n",
       "<style scoped>\n",
       "    .dataframe tbody tr th:only-of-type {\n",
       "        vertical-align: middle;\n",
       "    }\n",
       "\n",
       "    .dataframe tbody tr th {\n",
       "        vertical-align: top;\n",
       "    }\n",
       "\n",
       "    .dataframe thead th {\n",
       "        text-align: right;\n",
       "    }\n",
       "</style>\n",
       "<table border=\"1\" class=\"dataframe\">\n",
       "  <thead>\n",
       "    <tr style=\"text-align: right;\">\n",
       "      <th></th>\n",
       "      <th>amount</th>\n",
       "      <th>over2000</th>\n",
       "    </tr>\n",
       "    <tr>\n",
       "      <th>customer_id</th>\n",
       "      <th></th>\n",
       "      <th></th>\n",
       "    </tr>\n",
       "  </thead>\n",
       "  <tbody>\n",
       "    <tr>\n",
       "      <th>CS001113000004</th>\n",
       "      <td>1298</td>\n",
       "      <td>0</td>\n",
       "    </tr>\n",
       "    <tr>\n",
       "      <th>CS001114000005</th>\n",
       "      <td>626</td>\n",
       "      <td>0</td>\n",
       "    </tr>\n",
       "    <tr>\n",
       "      <th>CS001115000010</th>\n",
       "      <td>3044</td>\n",
       "      <td>1</td>\n",
       "    </tr>\n",
       "    <tr>\n",
       "      <th>CS001205000004</th>\n",
       "      <td>1988</td>\n",
       "      <td>0</td>\n",
       "    </tr>\n",
       "    <tr>\n",
       "      <th>CS001205000006</th>\n",
       "      <td>3337</td>\n",
       "      <td>1</td>\n",
       "    </tr>\n",
       "    <tr>\n",
       "      <th>CS001211000025</th>\n",
       "      <td>456</td>\n",
       "      <td>0</td>\n",
       "    </tr>\n",
       "    <tr>\n",
       "      <th>CS001212000027</th>\n",
       "      <td>448</td>\n",
       "      <td>0</td>\n",
       "    </tr>\n",
       "    <tr>\n",
       "      <th>CS001212000031</th>\n",
       "      <td>296</td>\n",
       "      <td>0</td>\n",
       "    </tr>\n",
       "    <tr>\n",
       "      <th>CS001212000046</th>\n",
       "      <td>228</td>\n",
       "      <td>0</td>\n",
       "    </tr>\n",
       "    <tr>\n",
       "      <th>CS001212000070</th>\n",
       "      <td>456</td>\n",
       "      <td>0</td>\n",
       "    </tr>\n",
       "  </tbody>\n",
       "</table>\n",
       "</div>"
      ],
      "text/plain": [
       "                amount  over2000\n",
       "customer_id                     \n",
       "CS001113000004    1298         0\n",
       "CS001114000005     626         0\n",
       "CS001115000010    3044         1\n",
       "CS001205000004    1988         0\n",
       "CS001205000006    3337         1\n",
       "CS001211000025     456         0\n",
       "CS001212000027     448         0\n",
       "CS001212000031     296         0\n",
       "CS001212000046     228         0\n",
       "CS001212000070     456         0"
      ]
     },
     "execution_count": 87,
     "metadata": {},
     "output_type": "execute_result"
    }
   ],
   "source": [
    "df52_2= df_receipt[~df_receipt[\"customer_id\"].str.startswith(\"Z\")]\n",
    "df52_ans_2 = df52_2.groupby(\"customer_id\")[[\"amount\"]].sum()\n",
    "df52_ans_2[\"over2000\"] = (df52_ans_2[\"amount\"] > 2000)*1\n",
    "df52_ans_2.head(10)"
   ]
  },
  {
   "cell_type": "markdown",
   "metadata": {
    "id": "MGsCACaH1w-q"
   },
   "source": [
    "## P053"
   ]
  },
  {
   "cell_type": "markdown",
   "metadata": {
    "id": "ZtGCQePGhhzK"
   },
   "source": [
    "---\n",
    "> P-053: 顧客データフレーム（df_customer）の郵便番号（postal_cd）に対し、東京（先頭3桁が100〜209のもの）を1、それ以外のものを0に２値化せよ。さらにレシート明細データフレーム（df_receipt）と結合し、全期間において買い物実績のある顧客数を、作成した2値ごとにカウントせよ。"
   ]
  },
  {
   "cell_type": "code",
   "execution_count": 88,
   "metadata": {
    "id": "8NZw1hv2hhzK"
   },
   "outputs": [
    {
     "data": {
      "text/html": [
       "<div>\n",
       "<style scoped>\n",
       "    .dataframe tbody tr th:only-of-type {\n",
       "        vertical-align: middle;\n",
       "    }\n",
       "\n",
       "    .dataframe tbody tr th {\n",
       "        vertical-align: top;\n",
       "    }\n",
       "\n",
       "    .dataframe thead th {\n",
       "        text-align: right;\n",
       "    }\n",
       "</style>\n",
       "<table border=\"1\" class=\"dataframe\">\n",
       "  <thead>\n",
       "    <tr style=\"text-align: right;\">\n",
       "      <th></th>\n",
       "      <th>customer_id</th>\n",
       "      <th>customer_name</th>\n",
       "      <th>gender_cd</th>\n",
       "      <th>gender</th>\n",
       "      <th>birth_day</th>\n",
       "      <th>age</th>\n",
       "      <th>postal_cd</th>\n",
       "      <th>address</th>\n",
       "      <th>application_store_cd</th>\n",
       "      <th>application_date</th>\n",
       "      <th>status_cd</th>\n",
       "    </tr>\n",
       "  </thead>\n",
       "  <tbody>\n",
       "    <tr>\n",
       "      <th>0</th>\n",
       "      <td>CS021313000114</td>\n",
       "      <td>大野 あや子</td>\n",
       "      <td>1</td>\n",
       "      <td>女性</td>\n",
       "      <td>1981-04-29</td>\n",
       "      <td>37</td>\n",
       "      <td>259-1113</td>\n",
       "      <td>神奈川県伊勢原市粟窪**********</td>\n",
       "      <td>S14021</td>\n",
       "      <td>20150905</td>\n",
       "      <td>0-00000000-0</td>\n",
       "    </tr>\n",
       "    <tr>\n",
       "      <th>1</th>\n",
       "      <td>CS037613000071</td>\n",
       "      <td>六角 雅彦</td>\n",
       "      <td>9</td>\n",
       "      <td>不明</td>\n",
       "      <td>1952-04-01</td>\n",
       "      <td>66</td>\n",
       "      <td>136-0076</td>\n",
       "      <td>東京都江東区南砂**********</td>\n",
       "      <td>S13037</td>\n",
       "      <td>20150414</td>\n",
       "      <td>0-00000000-0</td>\n",
       "    </tr>\n",
       "    <tr>\n",
       "      <th>2</th>\n",
       "      <td>CS031415000172</td>\n",
       "      <td>宇多田 貴美子</td>\n",
       "      <td>1</td>\n",
       "      <td>女性</td>\n",
       "      <td>1976-10-04</td>\n",
       "      <td>42</td>\n",
       "      <td>151-0053</td>\n",
       "      <td>東京都渋谷区代々木**********</td>\n",
       "      <td>S13031</td>\n",
       "      <td>20150529</td>\n",
       "      <td>D-20100325-C</td>\n",
       "    </tr>\n",
       "    <tr>\n",
       "      <th>3</th>\n",
       "      <td>CS028811000001</td>\n",
       "      <td>堀井 かおり</td>\n",
       "      <td>1</td>\n",
       "      <td>女性</td>\n",
       "      <td>1933-03-27</td>\n",
       "      <td>86</td>\n",
       "      <td>245-0016</td>\n",
       "      <td>神奈川県横浜市泉区和泉町**********</td>\n",
       "      <td>S14028</td>\n",
       "      <td>20160115</td>\n",
       "      <td>0-00000000-0</td>\n",
       "    </tr>\n",
       "    <tr>\n",
       "      <th>4</th>\n",
       "      <td>CS001215000145</td>\n",
       "      <td>田崎 美紀</td>\n",
       "      <td>1</td>\n",
       "      <td>女性</td>\n",
       "      <td>1995-03-29</td>\n",
       "      <td>24</td>\n",
       "      <td>144-0055</td>\n",
       "      <td>東京都大田区仲六郷**********</td>\n",
       "      <td>S13001</td>\n",
       "      <td>20170605</td>\n",
       "      <td>6-20090929-2</td>\n",
       "    </tr>\n",
       "  </tbody>\n",
       "</table>\n",
       "</div>"
      ],
      "text/plain": [
       "      customer_id customer_name  gender_cd gender   birth_day  age postal_cd  \\\n",
       "0  CS021313000114        大野 あや子          1     女性  1981-04-29   37  259-1113   \n",
       "1  CS037613000071         六角 雅彦          9     不明  1952-04-01   66  136-0076   \n",
       "2  CS031415000172       宇多田 貴美子          1     女性  1976-10-04   42  151-0053   \n",
       "3  CS028811000001        堀井 かおり          1     女性  1933-03-27   86  245-0016   \n",
       "4  CS001215000145         田崎 美紀          1     女性  1995-03-29   24  144-0055   \n",
       "\n",
       "                  address application_store_cd  application_date     status_cd  \n",
       "0    神奈川県伊勢原市粟窪**********               S14021          20150905  0-00000000-0  \n",
       "1      東京都江東区南砂**********               S13037          20150414  0-00000000-0  \n",
       "2     東京都渋谷区代々木**********               S13031          20150529  D-20100325-C  \n",
       "3  神奈川県横浜市泉区和泉町**********               S14028          20160115  0-00000000-0  \n",
       "4     東京都大田区仲六郷**********               S13001          20170605  6-20090929-2  "
      ]
     },
     "execution_count": 88,
     "metadata": {},
     "output_type": "execute_result"
    }
   ],
   "source": [
    "df53 = df_customer.copy()\n",
    "df53.head()"
   ]
  },
  {
   "cell_type": "code",
   "execution_count": 89,
   "metadata": {},
   "outputs": [],
   "source": [
    "def is_tokyo(postal_cd):\n",
    "    head3 = postal_cd[:3]\n",
    "    if head3.isdecimal():\n",
    "        if 100 <= int(head3) <= 209:\n",
    "            return 1\n",
    "    return 0"
   ]
  },
  {
   "cell_type": "code",
   "execution_count": 90,
   "metadata": {},
   "outputs": [
    {
     "data": {
      "text/html": [
       "<div>\n",
       "<style scoped>\n",
       "    .dataframe tbody tr th:only-of-type {\n",
       "        vertical-align: middle;\n",
       "    }\n",
       "\n",
       "    .dataframe tbody tr th {\n",
       "        vertical-align: top;\n",
       "    }\n",
       "\n",
       "    .dataframe thead th {\n",
       "        text-align: right;\n",
       "    }\n",
       "</style>\n",
       "<table border=\"1\" class=\"dataframe\">\n",
       "  <thead>\n",
       "    <tr style=\"text-align: right;\">\n",
       "      <th></th>\n",
       "      <th>customer_id</th>\n",
       "      <th>customer_name</th>\n",
       "      <th>gender_cd</th>\n",
       "      <th>gender</th>\n",
       "      <th>birth_day</th>\n",
       "      <th>age</th>\n",
       "      <th>postal_cd</th>\n",
       "      <th>address</th>\n",
       "      <th>application_store_cd</th>\n",
       "      <th>application_date</th>\n",
       "      <th>status_cd</th>\n",
       "      <th>is_tokyo</th>\n",
       "    </tr>\n",
       "  </thead>\n",
       "  <tbody>\n",
       "    <tr>\n",
       "      <th>0</th>\n",
       "      <td>CS021313000114</td>\n",
       "      <td>大野 あや子</td>\n",
       "      <td>1</td>\n",
       "      <td>女性</td>\n",
       "      <td>1981-04-29</td>\n",
       "      <td>37</td>\n",
       "      <td>259-1113</td>\n",
       "      <td>神奈川県伊勢原市粟窪**********</td>\n",
       "      <td>S14021</td>\n",
       "      <td>20150905</td>\n",
       "      <td>0-00000000-0</td>\n",
       "      <td>0</td>\n",
       "    </tr>\n",
       "    <tr>\n",
       "      <th>1</th>\n",
       "      <td>CS037613000071</td>\n",
       "      <td>六角 雅彦</td>\n",
       "      <td>9</td>\n",
       "      <td>不明</td>\n",
       "      <td>1952-04-01</td>\n",
       "      <td>66</td>\n",
       "      <td>136-0076</td>\n",
       "      <td>東京都江東区南砂**********</td>\n",
       "      <td>S13037</td>\n",
       "      <td>20150414</td>\n",
       "      <td>0-00000000-0</td>\n",
       "      <td>1</td>\n",
       "    </tr>\n",
       "  </tbody>\n",
       "</table>\n",
       "</div>"
      ],
      "text/plain": [
       "      customer_id customer_name  gender_cd gender   birth_day  age postal_cd  \\\n",
       "0  CS021313000114        大野 あや子          1     女性  1981-04-29   37  259-1113   \n",
       "1  CS037613000071         六角 雅彦          9     不明  1952-04-01   66  136-0076   \n",
       "\n",
       "                address application_store_cd  application_date     status_cd  \\\n",
       "0  神奈川県伊勢原市粟窪**********               S14021          20150905  0-00000000-0   \n",
       "1    東京都江東区南砂**********               S13037          20150414  0-00000000-0   \n",
       "\n",
       "   is_tokyo  \n",
       "0         0  \n",
       "1         1  "
      ]
     },
     "execution_count": 90,
     "metadata": {},
     "output_type": "execute_result"
    }
   ],
   "source": [
    "df53[\"is_tokyo\"] = df53[\"postal_cd\"].apply(is_tokyo)\n",
    "df53.head(2)"
   ]
  },
  {
   "cell_type": "code",
   "execution_count": 91,
   "metadata": {},
   "outputs": [
    {
     "data": {
      "text/html": [
       "<div>\n",
       "<style scoped>\n",
       "    .dataframe tbody tr th:only-of-type {\n",
       "        vertical-align: middle;\n",
       "    }\n",
       "\n",
       "    .dataframe tbody tr th {\n",
       "        vertical-align: top;\n",
       "    }\n",
       "\n",
       "    .dataframe thead th {\n",
       "        text-align: right;\n",
       "    }\n",
       "</style>\n",
       "<table border=\"1\" class=\"dataframe\">\n",
       "  <thead>\n",
       "    <tr style=\"text-align: right;\">\n",
       "      <th></th>\n",
       "      <th>amount</th>\n",
       "    </tr>\n",
       "    <tr>\n",
       "      <th>is_tokyo</th>\n",
       "      <th></th>\n",
       "    </tr>\n",
       "  </thead>\n",
       "  <tbody>\n",
       "    <tr>\n",
       "      <th>0</th>\n",
       "      <td>3906</td>\n",
       "    </tr>\n",
       "    <tr>\n",
       "      <th>1</th>\n",
       "      <td>4400</td>\n",
       "    </tr>\n",
       "  </tbody>\n",
       "</table>\n",
       "</div>"
      ],
      "text/plain": [
       "          amount\n",
       "is_tokyo        \n",
       "0           3906\n",
       "1           4400"
      ]
     },
     "execution_count": 91,
     "metadata": {},
     "output_type": "execute_result"
    }
   ],
   "source": [
    "df53_merge = pd.merge(df53, df_receipt, on=\"customer_id\")\n",
    "df53_merge = df53_merge[[\"customer_id\", \"amount\", \"is_tokyo\"]]\n",
    "df53_is_buy = df53_merge.groupby([\"customer_id\", \"is_tokyo\"])[[\"amount\"]].sum()\n",
    "df53_is_buy = df53_is_buy[df53_is_buy[\"amount\"] > 0]\n",
    "df53_is_buy.groupby(\"is_tokyo\").count()"
   ]
  },
  {
   "cell_type": "markdown",
   "metadata": {
    "id": "m1hE7NhN1yPB"
   },
   "source": [
    "## P054"
   ]
  },
  {
   "cell_type": "markdown",
   "metadata": {
    "id": "HHPGETlfhhzL"
   },
   "source": [
    "---\n",
    "> P-054: 顧客データデータフレーム（df_customer）の住所（address）は、埼玉県、千葉県、東京都、神奈川県のいずれかとなっている。都道府県毎にコード値を作成し、顧客ID、住所とともに抽出せよ。値は埼玉県を11、千葉県を12、東京都を13、神奈川県を14とすること。結果は10件表示させれば良い。"
   ]
  },
  {
   "cell_type": "code",
   "execution_count": 92,
   "metadata": {},
   "outputs": [],
   "source": [
    "def get_prefecture_code(address):\n",
    "    if address.startswith(\"埼玉県\"):\n",
    "        return 11\n",
    "    elif address.startswith(\"千葉県\"):\n",
    "        return 12\n",
    "    elif address.startswith(\"東京都\"):\n",
    "        return 13\n",
    "    elif address.startswith(\"神奈川県\"):\n",
    "        return 14\n",
    "    else:\n",
    "        return -1"
   ]
  },
  {
   "cell_type": "code",
   "execution_count": 93,
   "metadata": {
    "id": "r4hjSRMohhzL"
   },
   "outputs": [
    {
     "data": {
      "text/html": [
       "<div>\n",
       "<style scoped>\n",
       "    .dataframe tbody tr th:only-of-type {\n",
       "        vertical-align: middle;\n",
       "    }\n",
       "\n",
       "    .dataframe tbody tr th {\n",
       "        vertical-align: top;\n",
       "    }\n",
       "\n",
       "    .dataframe thead th {\n",
       "        text-align: right;\n",
       "    }\n",
       "</style>\n",
       "<table border=\"1\" class=\"dataframe\">\n",
       "  <thead>\n",
       "    <tr style=\"text-align: right;\">\n",
       "      <th></th>\n",
       "      <th>customer_id</th>\n",
       "      <th>address</th>\n",
       "      <th>prefecture_code</th>\n",
       "    </tr>\n",
       "  </thead>\n",
       "  <tbody>\n",
       "    <tr>\n",
       "      <th>0</th>\n",
       "      <td>CS021313000114</td>\n",
       "      <td>神奈川県伊勢原市粟窪**********</td>\n",
       "      <td>14</td>\n",
       "    </tr>\n",
       "    <tr>\n",
       "      <th>1</th>\n",
       "      <td>CS037613000071</td>\n",
       "      <td>東京都江東区南砂**********</td>\n",
       "      <td>13</td>\n",
       "    </tr>\n",
       "    <tr>\n",
       "      <th>2</th>\n",
       "      <td>CS031415000172</td>\n",
       "      <td>東京都渋谷区代々木**********</td>\n",
       "      <td>13</td>\n",
       "    </tr>\n",
       "    <tr>\n",
       "      <th>3</th>\n",
       "      <td>CS028811000001</td>\n",
       "      <td>神奈川県横浜市泉区和泉町**********</td>\n",
       "      <td>14</td>\n",
       "    </tr>\n",
       "    <tr>\n",
       "      <th>4</th>\n",
       "      <td>CS001215000145</td>\n",
       "      <td>東京都大田区仲六郷**********</td>\n",
       "      <td>13</td>\n",
       "    </tr>\n",
       "    <tr>\n",
       "      <th>5</th>\n",
       "      <td>CS020401000016</td>\n",
       "      <td>東京都板橋区若木**********</td>\n",
       "      <td>13</td>\n",
       "    </tr>\n",
       "    <tr>\n",
       "      <th>6</th>\n",
       "      <td>CS015414000103</td>\n",
       "      <td>東京都江東区北砂**********</td>\n",
       "      <td>13</td>\n",
       "    </tr>\n",
       "    <tr>\n",
       "      <th>7</th>\n",
       "      <td>CS029403000008</td>\n",
       "      <td>千葉県浦安市海楽**********</td>\n",
       "      <td>12</td>\n",
       "    </tr>\n",
       "    <tr>\n",
       "      <th>8</th>\n",
       "      <td>CS015804000004</td>\n",
       "      <td>東京都江東区北砂**********</td>\n",
       "      <td>13</td>\n",
       "    </tr>\n",
       "    <tr>\n",
       "      <th>9</th>\n",
       "      <td>CS033513000180</td>\n",
       "      <td>神奈川県横浜市旭区善部町**********</td>\n",
       "      <td>14</td>\n",
       "    </tr>\n",
       "  </tbody>\n",
       "</table>\n",
       "</div>"
      ],
      "text/plain": [
       "      customer_id                 address  prefecture_code\n",
       "0  CS021313000114    神奈川県伊勢原市粟窪**********               14\n",
       "1  CS037613000071      東京都江東区南砂**********               13\n",
       "2  CS031415000172     東京都渋谷区代々木**********               13\n",
       "3  CS028811000001  神奈川県横浜市泉区和泉町**********               14\n",
       "4  CS001215000145     東京都大田区仲六郷**********               13\n",
       "5  CS020401000016      東京都板橋区若木**********               13\n",
       "6  CS015414000103      東京都江東区北砂**********               13\n",
       "7  CS029403000008      千葉県浦安市海楽**********               12\n",
       "8  CS015804000004      東京都江東区北砂**********               13\n",
       "9  CS033513000180  神奈川県横浜市旭区善部町**********               14"
      ]
     },
     "execution_count": 93,
     "metadata": {},
     "output_type": "execute_result"
    }
   ],
   "source": [
    "df54 = df_customer.copy()\n",
    "df54[\"prefecture_code\"] = df54[\"address\"].apply(get_prefecture_code)\n",
    "df54[[\"customer_id\", \"address\", \"prefecture_code\"]].head(10)"
   ]
  },
  {
   "cell_type": "markdown",
   "metadata": {
    "id": "w3XLkt4o1zdw"
   },
   "source": [
    "## P055"
   ]
  },
  {
   "cell_type": "markdown",
   "metadata": {
    "id": "0Gr2RKrrhhzM"
   },
   "source": [
    "---\n",
    "> P-055: レシート明細データフレーム（df_receipt）の売上金額（amount）を顧客ID（customer_id）ごとに合計し、その合計金額の四分位点を求めよ。その上で、顧客ごとの売上金額合計に対して以下の基準でカテゴリ値を作成し、顧客ID、売上金額と合計ともに表示せよ。カテゴリ値は上から順に1〜4とする。結果は10件表示させれば良い。\n",
    ">\n",
    "> - 最小値以上第一四分位未満\n",
    "> - 第一四分位以上第二四分位未満\n",
    "> - 第二四分位以上第三四分位未満\n",
    "> - 第三四分位以上"
   ]
  },
  {
   "cell_type": "code",
   "execution_count": 94,
   "metadata": {
    "id": "g-o-bHSzhhzM"
   },
   "outputs": [
    {
     "data": {
      "text/plain": [
       "[70.0, 548.5, 1478.0, 3651.0, 12395003.0]"
      ]
     },
     "execution_count": 94,
     "metadata": {},
     "output_type": "execute_result"
    }
   ],
   "source": [
    "df55 = df_receipt.copy()\n",
    "df55_calc = df55.groupby(\"customer_id\")[[\"amount\"]].sum()\n",
    "quantile_list = list(df55_calc[\"amount\"].quantile([0.0, 0.25, 0.50, 0.75, 1.0]))\n",
    "quantile_list"
   ]
  },
  {
   "cell_type": "code",
   "execution_count": 95,
   "metadata": {},
   "outputs": [
    {
     "data": {
      "text/html": [
       "<div>\n",
       "<style scoped>\n",
       "    .dataframe tbody tr th:only-of-type {\n",
       "        vertical-align: middle;\n",
       "    }\n",
       "\n",
       "    .dataframe tbody tr th {\n",
       "        vertical-align: top;\n",
       "    }\n",
       "\n",
       "    .dataframe thead th {\n",
       "        text-align: right;\n",
       "    }\n",
       "</style>\n",
       "<table border=\"1\" class=\"dataframe\">\n",
       "  <thead>\n",
       "    <tr style=\"text-align: right;\">\n",
       "      <th></th>\n",
       "      <th>amount</th>\n",
       "      <th>quantile_type</th>\n",
       "    </tr>\n",
       "    <tr>\n",
       "      <th>customer_id</th>\n",
       "      <th></th>\n",
       "      <th></th>\n",
       "    </tr>\n",
       "  </thead>\n",
       "  <tbody>\n",
       "    <tr>\n",
       "      <th>CS001113000004</th>\n",
       "      <td>1298</td>\n",
       "      <td>2</td>\n",
       "    </tr>\n",
       "    <tr>\n",
       "      <th>CS001114000005</th>\n",
       "      <td>626</td>\n",
       "      <td>2</td>\n",
       "    </tr>\n",
       "    <tr>\n",
       "      <th>CS001115000010</th>\n",
       "      <td>3044</td>\n",
       "      <td>3</td>\n",
       "    </tr>\n",
       "    <tr>\n",
       "      <th>CS001205000004</th>\n",
       "      <td>1988</td>\n",
       "      <td>3</td>\n",
       "    </tr>\n",
       "    <tr>\n",
       "      <th>CS001205000006</th>\n",
       "      <td>3337</td>\n",
       "      <td>3</td>\n",
       "    </tr>\n",
       "    <tr>\n",
       "      <th>CS001211000025</th>\n",
       "      <td>456</td>\n",
       "      <td>1</td>\n",
       "    </tr>\n",
       "    <tr>\n",
       "      <th>CS001212000027</th>\n",
       "      <td>448</td>\n",
       "      <td>1</td>\n",
       "    </tr>\n",
       "    <tr>\n",
       "      <th>CS001212000031</th>\n",
       "      <td>296</td>\n",
       "      <td>1</td>\n",
       "    </tr>\n",
       "    <tr>\n",
       "      <th>CS001212000046</th>\n",
       "      <td>228</td>\n",
       "      <td>1</td>\n",
       "    </tr>\n",
       "    <tr>\n",
       "      <th>CS001212000070</th>\n",
       "      <td>456</td>\n",
       "      <td>1</td>\n",
       "    </tr>\n",
       "  </tbody>\n",
       "</table>\n",
       "</div>"
      ],
      "text/plain": [
       "                amount  quantile_type\n",
       "customer_id                          \n",
       "CS001113000004    1298              2\n",
       "CS001114000005     626              2\n",
       "CS001115000010    3044              3\n",
       "CS001205000004    1988              3\n",
       "CS001205000006    3337              3\n",
       "CS001211000025     456              1\n",
       "CS001212000027     448              1\n",
       "CS001212000031     296              1\n",
       "CS001212000046     228              1\n",
       "CS001212000070     456              1"
      ]
     },
     "execution_count": 95,
     "metadata": {},
     "output_type": "execute_result"
    }
   ],
   "source": [
    "df55_calc[\"quantile_type\"] = 4\n",
    "df55_calc.loc[df55_calc[\"amount\"] < quantile_list[3], \"quantile_type\"] = 3\n",
    "df55_calc.loc[df55_calc[\"amount\"] < quantile_list[2], \"quantile_type\"] = 2\n",
    "df55_calc.loc[df55_calc[\"amount\"] < quantile_list[1], \"quantile_type\"] = 1\n",
    "df55_calc.head(10)"
   ]
  },
  {
   "cell_type": "markdown",
   "metadata": {},
   "source": [
    "↑宿題ここまで"
   ]
  },
  {
   "cell_type": "markdown",
   "metadata": {
    "id": "z4SlmPdK10nx"
   },
   "source": [
    "## P056"
   ]
  },
  {
   "cell_type": "markdown",
   "metadata": {
    "id": "X3_-P1ahhhzN"
   },
   "source": [
    "---\n",
    "> P-056: 顧客データフレーム（df_customer）の年齢（age）をもとに10歳刻みで年代を算出し、顧客ID（customer_id）、生年月日（birth_day）とともに抽出せよ。ただし、60歳以上は全て60歳代とすること。年代を表すカテゴリ名は任意とする。先頭10件を表示させればよい。"
   ]
  },
  {
   "cell_type": "code",
   "execution_count": 96,
   "metadata": {
    "id": "p4xXkwzhhhzN"
   },
   "outputs": [
    {
     "data": {
      "text/html": [
       "<div>\n",
       "<style scoped>\n",
       "    .dataframe tbody tr th:only-of-type {\n",
       "        vertical-align: middle;\n",
       "    }\n",
       "\n",
       "    .dataframe tbody tr th {\n",
       "        vertical-align: top;\n",
       "    }\n",
       "\n",
       "    .dataframe thead th {\n",
       "        text-align: right;\n",
       "    }\n",
       "</style>\n",
       "<table border=\"1\" class=\"dataframe\">\n",
       "  <thead>\n",
       "    <tr style=\"text-align: right;\">\n",
       "      <th></th>\n",
       "      <th>customer_id</th>\n",
       "      <th>customer_name</th>\n",
       "      <th>gender_cd</th>\n",
       "      <th>gender</th>\n",
       "      <th>birth_day</th>\n",
       "      <th>age</th>\n",
       "      <th>postal_cd</th>\n",
       "      <th>address</th>\n",
       "      <th>application_store_cd</th>\n",
       "      <th>application_date</th>\n",
       "      <th>status_cd</th>\n",
       "    </tr>\n",
       "  </thead>\n",
       "  <tbody>\n",
       "    <tr>\n",
       "      <th>0</th>\n",
       "      <td>CS021313000114</td>\n",
       "      <td>大野 あや子</td>\n",
       "      <td>1</td>\n",
       "      <td>女性</td>\n",
       "      <td>1981-04-29</td>\n",
       "      <td>37</td>\n",
       "      <td>259-1113</td>\n",
       "      <td>神奈川県伊勢原市粟窪**********</td>\n",
       "      <td>S14021</td>\n",
       "      <td>20150905</td>\n",
       "      <td>0-00000000-0</td>\n",
       "    </tr>\n",
       "    <tr>\n",
       "      <th>1</th>\n",
       "      <td>CS037613000071</td>\n",
       "      <td>六角 雅彦</td>\n",
       "      <td>9</td>\n",
       "      <td>不明</td>\n",
       "      <td>1952-04-01</td>\n",
       "      <td>66</td>\n",
       "      <td>136-0076</td>\n",
       "      <td>東京都江東区南砂**********</td>\n",
       "      <td>S13037</td>\n",
       "      <td>20150414</td>\n",
       "      <td>0-00000000-0</td>\n",
       "    </tr>\n",
       "    <tr>\n",
       "      <th>2</th>\n",
       "      <td>CS031415000172</td>\n",
       "      <td>宇多田 貴美子</td>\n",
       "      <td>1</td>\n",
       "      <td>女性</td>\n",
       "      <td>1976-10-04</td>\n",
       "      <td>42</td>\n",
       "      <td>151-0053</td>\n",
       "      <td>東京都渋谷区代々木**********</td>\n",
       "      <td>S13031</td>\n",
       "      <td>20150529</td>\n",
       "      <td>D-20100325-C</td>\n",
       "    </tr>\n",
       "    <tr>\n",
       "      <th>3</th>\n",
       "      <td>CS028811000001</td>\n",
       "      <td>堀井 かおり</td>\n",
       "      <td>1</td>\n",
       "      <td>女性</td>\n",
       "      <td>1933-03-27</td>\n",
       "      <td>86</td>\n",
       "      <td>245-0016</td>\n",
       "      <td>神奈川県横浜市泉区和泉町**********</td>\n",
       "      <td>S14028</td>\n",
       "      <td>20160115</td>\n",
       "      <td>0-00000000-0</td>\n",
       "    </tr>\n",
       "    <tr>\n",
       "      <th>4</th>\n",
       "      <td>CS001215000145</td>\n",
       "      <td>田崎 美紀</td>\n",
       "      <td>1</td>\n",
       "      <td>女性</td>\n",
       "      <td>1995-03-29</td>\n",
       "      <td>24</td>\n",
       "      <td>144-0055</td>\n",
       "      <td>東京都大田区仲六郷**********</td>\n",
       "      <td>S13001</td>\n",
       "      <td>20170605</td>\n",
       "      <td>6-20090929-2</td>\n",
       "    </tr>\n",
       "  </tbody>\n",
       "</table>\n",
       "</div>"
      ],
      "text/plain": [
       "      customer_id customer_name  gender_cd gender   birth_day  age postal_cd  \\\n",
       "0  CS021313000114        大野 あや子          1     女性  1981-04-29   37  259-1113   \n",
       "1  CS037613000071         六角 雅彦          9     不明  1952-04-01   66  136-0076   \n",
       "2  CS031415000172       宇多田 貴美子          1     女性  1976-10-04   42  151-0053   \n",
       "3  CS028811000001        堀井 かおり          1     女性  1933-03-27   86  245-0016   \n",
       "4  CS001215000145         田崎 美紀          1     女性  1995-03-29   24  144-0055   \n",
       "\n",
       "                  address application_store_cd  application_date     status_cd  \n",
       "0    神奈川県伊勢原市粟窪**********               S14021          20150905  0-00000000-0  \n",
       "1      東京都江東区南砂**********               S13037          20150414  0-00000000-0  \n",
       "2     東京都渋谷区代々木**********               S13031          20150529  D-20100325-C  \n",
       "3  神奈川県横浜市泉区和泉町**********               S14028          20160115  0-00000000-0  \n",
       "4     東京都大田区仲六郷**********               S13001          20170605  6-20090929-2  "
      ]
     },
     "execution_count": 96,
     "metadata": {},
     "output_type": "execute_result"
    }
   ],
   "source": [
    "df56 = df_customer.copy()\n",
    "df56.head()"
   ]
  },
  {
   "cell_type": "code",
   "execution_count": 97,
   "metadata": {},
   "outputs": [],
   "source": [
    "def get_generation(age):\n",
    "    if age >= 60:\n",
    "        return 60\n",
    "    else:\n",
    "        return(age//10)*10"
   ]
  },
  {
   "cell_type": "code",
   "execution_count": 98,
   "metadata": {},
   "outputs": [
    {
     "data": {
      "text/html": [
       "<div>\n",
       "<style scoped>\n",
       "    .dataframe tbody tr th:only-of-type {\n",
       "        vertical-align: middle;\n",
       "    }\n",
       "\n",
       "    .dataframe tbody tr th {\n",
       "        vertical-align: top;\n",
       "    }\n",
       "\n",
       "    .dataframe thead th {\n",
       "        text-align: right;\n",
       "    }\n",
       "</style>\n",
       "<table border=\"1\" class=\"dataframe\">\n",
       "  <thead>\n",
       "    <tr style=\"text-align: right;\">\n",
       "      <th></th>\n",
       "      <th>customer_id</th>\n",
       "      <th>birth_day</th>\n",
       "      <th>generation</th>\n",
       "    </tr>\n",
       "  </thead>\n",
       "  <tbody>\n",
       "    <tr>\n",
       "      <th>0</th>\n",
       "      <td>CS021313000114</td>\n",
       "      <td>1981-04-29</td>\n",
       "      <td>30</td>\n",
       "    </tr>\n",
       "    <tr>\n",
       "      <th>1</th>\n",
       "      <td>CS037613000071</td>\n",
       "      <td>1952-04-01</td>\n",
       "      <td>60</td>\n",
       "    </tr>\n",
       "    <tr>\n",
       "      <th>2</th>\n",
       "      <td>CS031415000172</td>\n",
       "      <td>1976-10-04</td>\n",
       "      <td>40</td>\n",
       "    </tr>\n",
       "    <tr>\n",
       "      <th>3</th>\n",
       "      <td>CS028811000001</td>\n",
       "      <td>1933-03-27</td>\n",
       "      <td>60</td>\n",
       "    </tr>\n",
       "    <tr>\n",
       "      <th>4</th>\n",
       "      <td>CS001215000145</td>\n",
       "      <td>1995-03-29</td>\n",
       "      <td>20</td>\n",
       "    </tr>\n",
       "    <tr>\n",
       "      <th>5</th>\n",
       "      <td>CS020401000016</td>\n",
       "      <td>1974-09-15</td>\n",
       "      <td>40</td>\n",
       "    </tr>\n",
       "    <tr>\n",
       "      <th>6</th>\n",
       "      <td>CS015414000103</td>\n",
       "      <td>1977-08-09</td>\n",
       "      <td>40</td>\n",
       "    </tr>\n",
       "    <tr>\n",
       "      <th>7</th>\n",
       "      <td>CS029403000008</td>\n",
       "      <td>1973-08-17</td>\n",
       "      <td>40</td>\n",
       "    </tr>\n",
       "    <tr>\n",
       "      <th>8</th>\n",
       "      <td>CS015804000004</td>\n",
       "      <td>1931-05-02</td>\n",
       "      <td>60</td>\n",
       "    </tr>\n",
       "    <tr>\n",
       "      <th>9</th>\n",
       "      <td>CS033513000180</td>\n",
       "      <td>1962-07-11</td>\n",
       "      <td>50</td>\n",
       "    </tr>\n",
       "  </tbody>\n",
       "</table>\n",
       "</div>"
      ],
      "text/plain": [
       "      customer_id   birth_day  generation\n",
       "0  CS021313000114  1981-04-29          30\n",
       "1  CS037613000071  1952-04-01          60\n",
       "2  CS031415000172  1976-10-04          40\n",
       "3  CS028811000001  1933-03-27          60\n",
       "4  CS001215000145  1995-03-29          20\n",
       "5  CS020401000016  1974-09-15          40\n",
       "6  CS015414000103  1977-08-09          40\n",
       "7  CS029403000008  1973-08-17          40\n",
       "8  CS015804000004  1931-05-02          60\n",
       "9  CS033513000180  1962-07-11          50"
      ]
     },
     "execution_count": 98,
     "metadata": {},
     "output_type": "execute_result"
    }
   ],
   "source": [
    "df56[\"generation\"] = df56[\"age\"].apply(get_generation)\n",
    "df56_ans = df56[[\"customer_id\", \"birth_day\", \"generation\"]]\n",
    "df56_ans.head(10)"
   ]
  },
  {
   "cell_type": "markdown",
   "metadata": {
    "id": "k2FhZSLo18wX"
   },
   "source": [
    "## P057"
   ]
  },
  {
   "cell_type": "markdown",
   "metadata": {
    "id": "b_I_dEsdhhzP"
   },
   "source": [
    "---\n",
    "> P-057: 前問題の抽出結果と性別（gender）を組み合わせ、新たに性別×年代の組み合わせを表すカテゴリデータを作成せよ。組み合わせを表すカテゴリの値は任意とする。先頭10件を表示させればよい。"
   ]
  },
  {
   "cell_type": "code",
   "execution_count": 99,
   "metadata": {
    "id": "zz-TCEbChhzP"
   },
   "outputs": [
    {
     "data": {
      "text/html": [
       "<div>\n",
       "<style scoped>\n",
       "    .dataframe tbody tr th:only-of-type {\n",
       "        vertical-align: middle;\n",
       "    }\n",
       "\n",
       "    .dataframe tbody tr th {\n",
       "        vertical-align: top;\n",
       "    }\n",
       "\n",
       "    .dataframe thead th {\n",
       "        text-align: right;\n",
       "    }\n",
       "</style>\n",
       "<table border=\"1\" class=\"dataframe\">\n",
       "  <thead>\n",
       "    <tr style=\"text-align: right;\">\n",
       "      <th></th>\n",
       "      <th>customer_id</th>\n",
       "      <th>birth_day</th>\n",
       "      <th>generation</th>\n",
       "      <th>gender</th>\n",
       "      <th>gender_generation</th>\n",
       "    </tr>\n",
       "  </thead>\n",
       "  <tbody>\n",
       "    <tr>\n",
       "      <th>0</th>\n",
       "      <td>CS021313000114</td>\n",
       "      <td>1981-04-29</td>\n",
       "      <td>30</td>\n",
       "      <td>女性</td>\n",
       "      <td>女性30</td>\n",
       "    </tr>\n",
       "    <tr>\n",
       "      <th>1</th>\n",
       "      <td>CS037613000071</td>\n",
       "      <td>1952-04-01</td>\n",
       "      <td>60</td>\n",
       "      <td>不明</td>\n",
       "      <td>不明60</td>\n",
       "    </tr>\n",
       "    <tr>\n",
       "      <th>2</th>\n",
       "      <td>CS031415000172</td>\n",
       "      <td>1976-10-04</td>\n",
       "      <td>40</td>\n",
       "      <td>女性</td>\n",
       "      <td>女性40</td>\n",
       "    </tr>\n",
       "    <tr>\n",
       "      <th>3</th>\n",
       "      <td>CS028811000001</td>\n",
       "      <td>1933-03-27</td>\n",
       "      <td>60</td>\n",
       "      <td>女性</td>\n",
       "      <td>女性60</td>\n",
       "    </tr>\n",
       "    <tr>\n",
       "      <th>4</th>\n",
       "      <td>CS001215000145</td>\n",
       "      <td>1995-03-29</td>\n",
       "      <td>20</td>\n",
       "      <td>女性</td>\n",
       "      <td>女性20</td>\n",
       "    </tr>\n",
       "    <tr>\n",
       "      <th>5</th>\n",
       "      <td>CS020401000016</td>\n",
       "      <td>1974-09-15</td>\n",
       "      <td>40</td>\n",
       "      <td>男性</td>\n",
       "      <td>男性40</td>\n",
       "    </tr>\n",
       "    <tr>\n",
       "      <th>6</th>\n",
       "      <td>CS015414000103</td>\n",
       "      <td>1977-08-09</td>\n",
       "      <td>40</td>\n",
       "      <td>女性</td>\n",
       "      <td>女性40</td>\n",
       "    </tr>\n",
       "    <tr>\n",
       "      <th>7</th>\n",
       "      <td>CS029403000008</td>\n",
       "      <td>1973-08-17</td>\n",
       "      <td>40</td>\n",
       "      <td>男性</td>\n",
       "      <td>男性40</td>\n",
       "    </tr>\n",
       "    <tr>\n",
       "      <th>8</th>\n",
       "      <td>CS015804000004</td>\n",
       "      <td>1931-05-02</td>\n",
       "      <td>60</td>\n",
       "      <td>男性</td>\n",
       "      <td>男性60</td>\n",
       "    </tr>\n",
       "    <tr>\n",
       "      <th>9</th>\n",
       "      <td>CS033513000180</td>\n",
       "      <td>1962-07-11</td>\n",
       "      <td>50</td>\n",
       "      <td>女性</td>\n",
       "      <td>女性50</td>\n",
       "    </tr>\n",
       "  </tbody>\n",
       "</table>\n",
       "</div>"
      ],
      "text/plain": [
       "      customer_id   birth_day generation gender gender_generation\n",
       "0  CS021313000114  1981-04-29         30     女性              女性30\n",
       "1  CS037613000071  1952-04-01         60     不明              不明60\n",
       "2  CS031415000172  1976-10-04         40     女性              女性40\n",
       "3  CS028811000001  1933-03-27         60     女性              女性60\n",
       "4  CS001215000145  1995-03-29         20     女性              女性20\n",
       "5  CS020401000016  1974-09-15         40     男性              男性40\n",
       "6  CS015414000103  1977-08-09         40     女性              女性40\n",
       "7  CS029403000008  1973-08-17         40     男性              男性40\n",
       "8  CS015804000004  1931-05-02         60     男性              男性60\n",
       "9  CS033513000180  1962-07-11         50     女性              女性50"
      ]
     },
     "execution_count": 99,
     "metadata": {},
     "output_type": "execute_result"
    }
   ],
   "source": [
    "df57 = df_customer.copy()\n",
    "df57[\"generation\"] = df57[\"age\"].apply(get_generation)\n",
    "df57[\"generation\"] = df57[\"generation\"].apply(str)\n",
    "df57[\"gender_generation\"] = df57[\"gender\"].str.cat(df57[\"generation\"])\n",
    "df57_ans = df57[[\"customer_id\", \"birth_day\", \"generation\", \"gender\", \"gender_generation\"]]\n",
    "df57_ans.head(10)"
   ]
  },
  {
   "cell_type": "markdown",
   "metadata": {
    "id": "SW57OLoZ1-Db"
   },
   "source": [
    "## P058"
   ]
  },
  {
   "cell_type": "markdown",
   "metadata": {
    "id": "oJZe2WQ3hhzQ"
   },
   "source": [
    "---\n",
    "> P-058: 顧客データフレーム（df_customer）の性別コード（gender_cd）をダミー変数化し、顧客ID（customer_id）とともに抽出せよ。結果は10件表示させれば良い。"
   ]
  },
  {
   "cell_type": "code",
   "execution_count": 100,
   "metadata": {
    "id": "pm-akNNrhhzQ"
   },
   "outputs": [
    {
     "data": {
      "text/html": [
       "<div>\n",
       "<style scoped>\n",
       "    .dataframe tbody tr th:only-of-type {\n",
       "        vertical-align: middle;\n",
       "    }\n",
       "\n",
       "    .dataframe tbody tr th {\n",
       "        vertical-align: top;\n",
       "    }\n",
       "\n",
       "    .dataframe thead th {\n",
       "        text-align: right;\n",
       "    }\n",
       "</style>\n",
       "<table border=\"1\" class=\"dataframe\">\n",
       "  <thead>\n",
       "    <tr style=\"text-align: right;\">\n",
       "      <th></th>\n",
       "      <th>customer_id</th>\n",
       "      <th>gd-0</th>\n",
       "      <th>gd-1</th>\n",
       "      <th>gd-9</th>\n",
       "    </tr>\n",
       "  </thead>\n",
       "  <tbody>\n",
       "    <tr>\n",
       "      <th>0</th>\n",
       "      <td>CS021313000114</td>\n",
       "      <td>0</td>\n",
       "      <td>1</td>\n",
       "      <td>0</td>\n",
       "    </tr>\n",
       "    <tr>\n",
       "      <th>1</th>\n",
       "      <td>CS037613000071</td>\n",
       "      <td>0</td>\n",
       "      <td>0</td>\n",
       "      <td>1</td>\n",
       "    </tr>\n",
       "    <tr>\n",
       "      <th>2</th>\n",
       "      <td>CS031415000172</td>\n",
       "      <td>0</td>\n",
       "      <td>1</td>\n",
       "      <td>0</td>\n",
       "    </tr>\n",
       "    <tr>\n",
       "      <th>3</th>\n",
       "      <td>CS028811000001</td>\n",
       "      <td>0</td>\n",
       "      <td>1</td>\n",
       "      <td>0</td>\n",
       "    </tr>\n",
       "    <tr>\n",
       "      <th>4</th>\n",
       "      <td>CS001215000145</td>\n",
       "      <td>0</td>\n",
       "      <td>1</td>\n",
       "      <td>0</td>\n",
       "    </tr>\n",
       "    <tr>\n",
       "      <th>5</th>\n",
       "      <td>CS020401000016</td>\n",
       "      <td>1</td>\n",
       "      <td>0</td>\n",
       "      <td>0</td>\n",
       "    </tr>\n",
       "    <tr>\n",
       "      <th>6</th>\n",
       "      <td>CS015414000103</td>\n",
       "      <td>0</td>\n",
       "      <td>1</td>\n",
       "      <td>0</td>\n",
       "    </tr>\n",
       "    <tr>\n",
       "      <th>7</th>\n",
       "      <td>CS029403000008</td>\n",
       "      <td>1</td>\n",
       "      <td>0</td>\n",
       "      <td>0</td>\n",
       "    </tr>\n",
       "    <tr>\n",
       "      <th>8</th>\n",
       "      <td>CS015804000004</td>\n",
       "      <td>1</td>\n",
       "      <td>0</td>\n",
       "      <td>0</td>\n",
       "    </tr>\n",
       "    <tr>\n",
       "      <th>9</th>\n",
       "      <td>CS033513000180</td>\n",
       "      <td>0</td>\n",
       "      <td>1</td>\n",
       "      <td>0</td>\n",
       "    </tr>\n",
       "  </tbody>\n",
       "</table>\n",
       "</div>"
      ],
      "text/plain": [
       "      customer_id  gd-0  gd-1  gd-9\n",
       "0  CS021313000114     0     1     0\n",
       "1  CS037613000071     0     0     1\n",
       "2  CS031415000172     0     1     0\n",
       "3  CS028811000001     0     1     0\n",
       "4  CS001215000145     0     1     0\n",
       "5  CS020401000016     1     0     0\n",
       "6  CS015414000103     0     1     0\n",
       "7  CS029403000008     1     0     0\n",
       "8  CS015804000004     1     0     0\n",
       "9  CS033513000180     0     1     0"
      ]
     },
     "execution_count": 100,
     "metadata": {},
     "output_type": "execute_result"
    }
   ],
   "source": [
    "df58 = df_customer.copy()\n",
    "df58_dm = df58[[\"customer_id\", \"gender_cd\"]]\n",
    "df58_dm = pd.get_dummies(df58_dm, columns=[\"gender_cd\"], prefix={'gender_cd':\"gd\"}, prefix_sep='-')\n",
    "#df58_dm = pd.get_dummies(df58_dm, columns=[\"gender_cd\"], prefix={'gender_cd':\"\"}, prefix_sep='')\n",
    "#df58_dm = pd.get_dummies(df58_dm, columns=[\"gender_cd\"])\n",
    "df58_dm.head(10)"
   ]
  },
  {
   "cell_type": "markdown",
   "metadata": {
    "id": "zxIBl7Se1_bj"
   },
   "source": [
    "## P059"
   ]
  },
  {
   "cell_type": "markdown",
   "metadata": {
    "id": "_rIF1D4RhhzR"
   },
   "source": [
    "---\n",
    "> P-059: レシート明細データフレーム（df_receipt）の売上金額（amount）を顧客ID（customer_id）ごとに合計し、合計した売上金額を平均0、標準偏差1に標準化して顧客ID、売上金額合計とともに表示せよ。標準化に使用する標準偏差は、不偏標準偏差と標本標準偏差のどちらでも良いものとする。ただし、顧客IDが\"Z\"から始まるのものは非会員を表すため、除外して計算すること。結果は10件表示させれば良い。"
   ]
  },
  {
   "cell_type": "code",
   "execution_count": 101,
   "metadata": {
    "id": "hgU77tJWhhzR"
   },
   "outputs": [
    {
     "data": {
      "text/html": [
       "<div>\n",
       "<style scoped>\n",
       "    .dataframe tbody tr th:only-of-type {\n",
       "        vertical-align: middle;\n",
       "    }\n",
       "\n",
       "    .dataframe tbody tr th {\n",
       "        vertical-align: top;\n",
       "    }\n",
       "\n",
       "    .dataframe thead th {\n",
       "        text-align: right;\n",
       "    }\n",
       "</style>\n",
       "<table border=\"1\" class=\"dataframe\">\n",
       "  <thead>\n",
       "    <tr style=\"text-align: right;\">\n",
       "      <th></th>\n",
       "      <th>customer_id</th>\n",
       "      <th>amount</th>\n",
       "      <th>std</th>\n",
       "    </tr>\n",
       "  </thead>\n",
       "  <tbody>\n",
       "    <tr>\n",
       "      <th>0</th>\n",
       "      <td>CS001113000004</td>\n",
       "      <td>1298</td>\n",
       "      <td>-0.459350</td>\n",
       "    </tr>\n",
       "    <tr>\n",
       "      <th>1</th>\n",
       "      <td>CS001114000005</td>\n",
       "      <td>626</td>\n",
       "      <td>-0.706348</td>\n",
       "    </tr>\n",
       "    <tr>\n",
       "      <th>2</th>\n",
       "      <td>CS001115000010</td>\n",
       "      <td>3044</td>\n",
       "      <td>0.182403</td>\n",
       "    </tr>\n",
       "    <tr>\n",
       "      <th>3</th>\n",
       "      <td>CS001205000004</td>\n",
       "      <td>1988</td>\n",
       "      <td>-0.205737</td>\n",
       "    </tr>\n",
       "    <tr>\n",
       "      <th>4</th>\n",
       "      <td>CS001205000006</td>\n",
       "      <td>3337</td>\n",
       "      <td>0.290096</td>\n",
       "    </tr>\n",
       "    <tr>\n",
       "      <th>5</th>\n",
       "      <td>CS001211000025</td>\n",
       "      <td>456</td>\n",
       "      <td>-0.768832</td>\n",
       "    </tr>\n",
       "    <tr>\n",
       "      <th>6</th>\n",
       "      <td>CS001212000027</td>\n",
       "      <td>448</td>\n",
       "      <td>-0.771773</td>\n",
       "    </tr>\n",
       "    <tr>\n",
       "      <th>7</th>\n",
       "      <td>CS001212000031</td>\n",
       "      <td>296</td>\n",
       "      <td>-0.827641</td>\n",
       "    </tr>\n",
       "    <tr>\n",
       "      <th>8</th>\n",
       "      <td>CS001212000046</td>\n",
       "      <td>228</td>\n",
       "      <td>-0.852635</td>\n",
       "    </tr>\n",
       "    <tr>\n",
       "      <th>9</th>\n",
       "      <td>CS001212000070</td>\n",
       "      <td>456</td>\n",
       "      <td>-0.768832</td>\n",
       "    </tr>\n",
       "  </tbody>\n",
       "</table>\n",
       "</div>"
      ],
      "text/plain": [
       "      customer_id  amount       std\n",
       "0  CS001113000004    1298 -0.459350\n",
       "1  CS001114000005     626 -0.706348\n",
       "2  CS001115000010    3044  0.182403\n",
       "3  CS001205000004    1988 -0.205737\n",
       "4  CS001205000006    3337  0.290096\n",
       "5  CS001211000025     456 -0.768832\n",
       "6  CS001212000027     448 -0.771773\n",
       "7  CS001212000031     296 -0.827641\n",
       "8  CS001212000046     228 -0.852635\n",
       "9  CS001212000070     456 -0.768832"
      ]
     },
     "execution_count": 101,
     "metadata": {},
     "output_type": "execute_result"
    }
   ],
   "source": [
    "# 参照: https://gurutaka-log.com/python-pandas-sklearn-standardization\n",
    "# ベルカーブ、ファットテール\n",
    "df59 = df_receipt.copy()\n",
    "df59 = df59[~df_receipt[\"customer_id\"].str.startswith(\"Z\")]\n",
    "df59_sum = df59.groupby(\"customer_id\")[[\"amount\"]].sum().reset_index()\n",
    "df59_amount_mean = df59_sum[\"amount\"].mean()\n",
    "df59_sum[\"std\"] = (df59_sum[\"amount\"] - df59_amount_mean)/df59_sum[\"amount\"].std()\n",
    "df59_sum.head(10)"
   ]
  },
  {
   "cell_type": "code",
   "execution_count": 102,
   "metadata": {},
   "outputs": [
    {
     "data": {
      "text/plain": [
       "<AxesSubplot:ylabel='Frequency'>"
      ]
     },
     "execution_count": 102,
     "metadata": {},
     "output_type": "execute_result"
    },
    {
     "data": {
      "image/png": "[encoded data removed]",
      "text/plain": [
       "<Figure size 432x288 with 1 Axes>"
      ]
     },
     "metadata": {
      "needs_background": "light"
     },
     "output_type": "display_data"
    }
   ],
   "source": [
    "df59_sum[\"amount\"].plot.hist(bins=100)"
   ]
  },
  {
   "cell_type": "markdown",
   "metadata": {
    "id": "Q8jWMHn32AqI"
   },
   "source": [
    "## P060"
   ]
  },
  {
   "cell_type": "markdown",
   "metadata": {
    "id": "--LbbUHGhhzT"
   },
   "source": [
    "---\n",
    "> P-060: レシート明細データフレーム（df_receipt）の売上金額（amount）を顧客ID（customer_id）ごとに合計し、合計した売上金額を最小値0、最大値1に正規化して顧客ID、売上金額合計とともに表示せよ。ただし、顧客IDが\"Z\"から始まるのものは非会員を表すため、除外して計算すること。結果は10件表示させれば良い。"
   ]
  },
  {
   "cell_type": "code",
   "execution_count": 103,
   "metadata": {
    "id": "RIfNz58jhhzT"
   },
   "outputs": [
    {
     "data": {
      "text/html": [
       "<div>\n",
       "<style scoped>\n",
       "    .dataframe tbody tr th:only-of-type {\n",
       "        vertical-align: middle;\n",
       "    }\n",
       "\n",
       "    .dataframe tbody tr th {\n",
       "        vertical-align: top;\n",
       "    }\n",
       "\n",
       "    .dataframe thead th {\n",
       "        text-align: right;\n",
       "    }\n",
       "</style>\n",
       "<table border=\"1\" class=\"dataframe\">\n",
       "  <thead>\n",
       "    <tr style=\"text-align: right;\">\n",
       "      <th></th>\n",
       "      <th>customer_id</th>\n",
       "      <th>amount</th>\n",
       "      <th>mm</th>\n",
       "    </tr>\n",
       "  </thead>\n",
       "  <tbody>\n",
       "    <tr>\n",
       "      <th>0</th>\n",
       "      <td>CS001113000004</td>\n",
       "      <td>1298</td>\n",
       "      <td>0.053354</td>\n",
       "    </tr>\n",
       "    <tr>\n",
       "      <th>1</th>\n",
       "      <td>CS001114000005</td>\n",
       "      <td>626</td>\n",
       "      <td>0.024157</td>\n",
       "    </tr>\n",
       "    <tr>\n",
       "      <th>2</th>\n",
       "      <td>CS001115000010</td>\n",
       "      <td>3044</td>\n",
       "      <td>0.129214</td>\n",
       "    </tr>\n",
       "    <tr>\n",
       "      <th>3</th>\n",
       "      <td>CS001205000004</td>\n",
       "      <td>1988</td>\n",
       "      <td>0.083333</td>\n",
       "    </tr>\n",
       "    <tr>\n",
       "      <th>4</th>\n",
       "      <td>CS001205000006</td>\n",
       "      <td>3337</td>\n",
       "      <td>0.141945</td>\n",
       "    </tr>\n",
       "    <tr>\n",
       "      <th>5</th>\n",
       "      <td>CS001211000025</td>\n",
       "      <td>456</td>\n",
       "      <td>0.016771</td>\n",
       "    </tr>\n",
       "    <tr>\n",
       "      <th>6</th>\n",
       "      <td>CS001212000027</td>\n",
       "      <td>448</td>\n",
       "      <td>0.016423</td>\n",
       "    </tr>\n",
       "    <tr>\n",
       "      <th>7</th>\n",
       "      <td>CS001212000031</td>\n",
       "      <td>296</td>\n",
       "      <td>0.009819</td>\n",
       "    </tr>\n",
       "    <tr>\n",
       "      <th>8</th>\n",
       "      <td>CS001212000046</td>\n",
       "      <td>228</td>\n",
       "      <td>0.006865</td>\n",
       "    </tr>\n",
       "    <tr>\n",
       "      <th>9</th>\n",
       "      <td>CS001212000070</td>\n",
       "      <td>456</td>\n",
       "      <td>0.016771</td>\n",
       "    </tr>\n",
       "  </tbody>\n",
       "</table>\n",
       "</div>"
      ],
      "text/plain": [
       "      customer_id  amount        mm\n",
       "0  CS001113000004    1298  0.053354\n",
       "1  CS001114000005     626  0.024157\n",
       "2  CS001115000010    3044  0.129214\n",
       "3  CS001205000004    1988  0.083333\n",
       "4  CS001205000006    3337  0.141945\n",
       "5  CS001211000025     456  0.016771\n",
       "6  CS001212000027     448  0.016423\n",
       "7  CS001212000031     296  0.009819\n",
       "8  CS001212000046     228  0.006865\n",
       "9  CS001212000070     456  0.016771"
      ]
     },
     "execution_count": 103,
     "metadata": {},
     "output_type": "execute_result"
    }
   ],
   "source": [
    "# https://note.nkmk.me/python-list-ndarray-dataframe-normalize-standardize/\n",
    "from sklearn import preprocessing\n",
    "# mm = preprocessing.MinMaxScaler()\n",
    "\n",
    "df60 = df_receipt.copy()\n",
    "df60 = df60[~df_receipt[\"customer_id\"].str.startswith(\"Z\")]\n",
    "df60_sum = df60.groupby(\"customer_id\")[[\"amount\"]].sum().reset_index()\n",
    "df60_sum[\"mm\"] = preprocessing.minmax_scale(df60_sum[\"amount\"])\n",
    "df60_sum.head(10)"
   ]
  },
  {
   "cell_type": "markdown",
   "metadata": {
    "id": "vXd8D89n2Dfc"
   },
   "source": [
    "## P061"
   ]
  },
  {
   "cell_type": "markdown",
   "metadata": {
    "id": "9v_q6BLjhhzU"
   },
   "source": [
    "---\n",
    "> P-061: レシート明細データフレーム（df_receipt）の売上金額（amount）を顧客ID（customer_id）ごとに合計し、合計した売上金額を常用対数化（底=10）して顧客ID、売上金額合計とともに表示せよ。ただし、顧客IDが\"Z\"から始まるのものは非会員を表すため、除外して計算すること。結果は10件表示させれば良い。"
   ]
  },
  {
   "cell_type": "code",
   "execution_count": 104,
   "metadata": {
    "id": "d5_2HQ-2hhzU"
   },
   "outputs": [
    {
     "data": {
      "text/html": [
       "<div>\n",
       "<style scoped>\n",
       "    .dataframe tbody tr th:only-of-type {\n",
       "        vertical-align: middle;\n",
       "    }\n",
       "\n",
       "    .dataframe tbody tr th {\n",
       "        vertical-align: top;\n",
       "    }\n",
       "\n",
       "    .dataframe thead th {\n",
       "        text-align: right;\n",
       "    }\n",
       "</style>\n",
       "<table border=\"1\" class=\"dataframe\">\n",
       "  <thead>\n",
       "    <tr style=\"text-align: right;\">\n",
       "      <th></th>\n",
       "      <th>customer_id</th>\n",
       "      <th>amount</th>\n",
       "      <th>log10</th>\n",
       "    </tr>\n",
       "  </thead>\n",
       "  <tbody>\n",
       "    <tr>\n",
       "      <th>0</th>\n",
       "      <td>CS001113000004</td>\n",
       "      <td>1298</td>\n",
       "      <td>3.113275</td>\n",
       "    </tr>\n",
       "    <tr>\n",
       "      <th>1</th>\n",
       "      <td>CS001114000005</td>\n",
       "      <td>626</td>\n",
       "      <td>2.796574</td>\n",
       "    </tr>\n",
       "    <tr>\n",
       "      <th>2</th>\n",
       "      <td>CS001115000010</td>\n",
       "      <td>3044</td>\n",
       "      <td>3.483445</td>\n",
       "    </tr>\n",
       "    <tr>\n",
       "      <th>3</th>\n",
       "      <td>CS001205000004</td>\n",
       "      <td>1988</td>\n",
       "      <td>3.298416</td>\n",
       "    </tr>\n",
       "    <tr>\n",
       "      <th>4</th>\n",
       "      <td>CS001205000006</td>\n",
       "      <td>3337</td>\n",
       "      <td>3.523356</td>\n",
       "    </tr>\n",
       "    <tr>\n",
       "      <th>5</th>\n",
       "      <td>CS001211000025</td>\n",
       "      <td>456</td>\n",
       "      <td>2.658965</td>\n",
       "    </tr>\n",
       "    <tr>\n",
       "      <th>6</th>\n",
       "      <td>CS001212000027</td>\n",
       "      <td>448</td>\n",
       "      <td>2.651278</td>\n",
       "    </tr>\n",
       "    <tr>\n",
       "      <th>7</th>\n",
       "      <td>CS001212000031</td>\n",
       "      <td>296</td>\n",
       "      <td>2.471292</td>\n",
       "    </tr>\n",
       "    <tr>\n",
       "      <th>8</th>\n",
       "      <td>CS001212000046</td>\n",
       "      <td>228</td>\n",
       "      <td>2.357935</td>\n",
       "    </tr>\n",
       "    <tr>\n",
       "      <th>9</th>\n",
       "      <td>CS001212000070</td>\n",
       "      <td>456</td>\n",
       "      <td>2.658965</td>\n",
       "    </tr>\n",
       "  </tbody>\n",
       "</table>\n",
       "</div>"
      ],
      "text/plain": [
       "      customer_id  amount     log10\n",
       "0  CS001113000004    1298  3.113275\n",
       "1  CS001114000005     626  2.796574\n",
       "2  CS001115000010    3044  3.483445\n",
       "3  CS001205000004    1988  3.298416\n",
       "4  CS001205000006    3337  3.523356\n",
       "5  CS001211000025     456  2.658965\n",
       "6  CS001212000027     448  2.651278\n",
       "7  CS001212000031     296  2.471292\n",
       "8  CS001212000046     228  2.357935\n",
       "9  CS001212000070     456  2.658965"
      ]
     },
     "execution_count": 104,
     "metadata": {},
     "output_type": "execute_result"
    }
   ],
   "source": [
    "import numpy\n",
    "df61 = df_receipt.copy()\n",
    "df61 = df61[~df_receipt[\"customer_id\"].str.startswith(\"Z\")]\n",
    "df61_sum = df61.groupby(\"customer_id\")[[\"amount\"]].sum().reset_index()\n",
    "df61_sum[\"log10\"] = numpy.log10(df61_sum[\"amount\"])\n",
    "df61_sum.head(10)"
   ]
  },
  {
   "cell_type": "markdown",
   "metadata": {
    "id": "beNc-y7O2E0L"
   },
   "source": [
    "## P062"
   ]
  },
  {
   "cell_type": "markdown",
   "metadata": {
    "id": "uYepDUW5hhzV"
   },
   "source": [
    "---\n",
    "> P-062: レシート明細データフレーム（df_receipt）の売上金額（amount）を顧客ID（customer_id）ごとに合計し、合計した売上金額を自然対数化(底=e）して顧客ID、売上金額合計とともに表示せよ。ただし、顧客IDが\"Z\"から始まるのものは非会員を表すため、除外して計算すること。結果は10件表示させれば良い。"
   ]
  },
  {
   "cell_type": "code",
   "execution_count": 105,
   "metadata": {
    "id": "aqDDlXmEhhzV"
   },
   "outputs": [
    {
     "data": {
      "text/html": [
       "<div>\n",
       "<style scoped>\n",
       "    .dataframe tbody tr th:only-of-type {\n",
       "        vertical-align: middle;\n",
       "    }\n",
       "\n",
       "    .dataframe tbody tr th {\n",
       "        vertical-align: top;\n",
       "    }\n",
       "\n",
       "    .dataframe thead th {\n",
       "        text-align: right;\n",
       "    }\n",
       "</style>\n",
       "<table border=\"1\" class=\"dataframe\">\n",
       "  <thead>\n",
       "    <tr style=\"text-align: right;\">\n",
       "      <th></th>\n",
       "      <th>customer_id</th>\n",
       "      <th>amount</th>\n",
       "      <th>log</th>\n",
       "    </tr>\n",
       "  </thead>\n",
       "  <tbody>\n",
       "    <tr>\n",
       "      <th>0</th>\n",
       "      <td>CS001113000004</td>\n",
       "      <td>1298</td>\n",
       "      <td>7.169350</td>\n",
       "    </tr>\n",
       "    <tr>\n",
       "      <th>1</th>\n",
       "      <td>CS001114000005</td>\n",
       "      <td>626</td>\n",
       "      <td>6.440947</td>\n",
       "    </tr>\n",
       "    <tr>\n",
       "      <th>2</th>\n",
       "      <td>CS001115000010</td>\n",
       "      <td>3044</td>\n",
       "      <td>8.021256</td>\n",
       "    </tr>\n",
       "    <tr>\n",
       "      <th>3</th>\n",
       "      <td>CS001205000004</td>\n",
       "      <td>1988</td>\n",
       "      <td>7.595387</td>\n",
       "    </tr>\n",
       "    <tr>\n",
       "      <th>4</th>\n",
       "      <td>CS001205000006</td>\n",
       "      <td>3337</td>\n",
       "      <td>8.113127</td>\n",
       "    </tr>\n",
       "    <tr>\n",
       "      <th>5</th>\n",
       "      <td>CS001211000025</td>\n",
       "      <td>456</td>\n",
       "      <td>6.124683</td>\n",
       "    </tr>\n",
       "    <tr>\n",
       "      <th>6</th>\n",
       "      <td>CS001212000027</td>\n",
       "      <td>448</td>\n",
       "      <td>6.107023</td>\n",
       "    </tr>\n",
       "    <tr>\n",
       "      <th>7</th>\n",
       "      <td>CS001212000031</td>\n",
       "      <td>296</td>\n",
       "      <td>5.693732</td>\n",
       "    </tr>\n",
       "    <tr>\n",
       "      <th>8</th>\n",
       "      <td>CS001212000046</td>\n",
       "      <td>228</td>\n",
       "      <td>5.433722</td>\n",
       "    </tr>\n",
       "    <tr>\n",
       "      <th>9</th>\n",
       "      <td>CS001212000070</td>\n",
       "      <td>456</td>\n",
       "      <td>6.124683</td>\n",
       "    </tr>\n",
       "  </tbody>\n",
       "</table>\n",
       "</div>"
      ],
      "text/plain": [
       "      customer_id  amount       log\n",
       "0  CS001113000004    1298  7.169350\n",
       "1  CS001114000005     626  6.440947\n",
       "2  CS001115000010    3044  8.021256\n",
       "3  CS001205000004    1988  7.595387\n",
       "4  CS001205000006    3337  8.113127\n",
       "5  CS001211000025     456  6.124683\n",
       "6  CS001212000027     448  6.107023\n",
       "7  CS001212000031     296  5.693732\n",
       "8  CS001212000046     228  5.433722\n",
       "9  CS001212000070     456  6.124683"
      ]
     },
     "execution_count": 105,
     "metadata": {},
     "output_type": "execute_result"
    }
   ],
   "source": [
    "df62 = df_receipt.copy()\n",
    "df62 = df62[~df_receipt[\"customer_id\"].str.startswith(\"Z\")]\n",
    "df62_sum = df62.groupby(\"customer_id\")[[\"amount\"]].sum().reset_index()\n",
    "df62_sum[\"log\"]= np.log(df62_sum[\"amount\"] + 1)\n",
    "df62_sum.head(10)"
   ]
  },
  {
   "cell_type": "markdown",
   "metadata": {
    "id": "ZkpOu5Lj2GKv"
   },
   "source": [
    "## P063"
   ]
  },
  {
   "cell_type": "markdown",
   "metadata": {
    "id": "JrQz7vUxhhzW"
   },
   "source": [
    "---\n",
    "> P-063: 商品データフレーム（df_product）の単価（unit_price）と原価（unit_cost）から、各商品の利益額を算出せよ。結果は10件表示させれば良い。"
   ]
  },
  {
   "cell_type": "code",
   "execution_count": 106,
   "metadata": {
    "id": "AEzRXedrhhzX"
   },
   "outputs": [
    {
     "data": {
      "text/html": [
       "<div>\n",
       "<style scoped>\n",
       "    .dataframe tbody tr th:only-of-type {\n",
       "        vertical-align: middle;\n",
       "    }\n",
       "\n",
       "    .dataframe tbody tr th {\n",
       "        vertical-align: top;\n",
       "    }\n",
       "\n",
       "    .dataframe thead th {\n",
       "        text-align: right;\n",
       "    }\n",
       "</style>\n",
       "<table border=\"1\" class=\"dataframe\">\n",
       "  <thead>\n",
       "    <tr style=\"text-align: right;\">\n",
       "      <th></th>\n",
       "      <th>product_cd</th>\n",
       "      <th>category_major_cd</th>\n",
       "      <th>category_medium_cd</th>\n",
       "      <th>category_small_cd</th>\n",
       "      <th>unit_price</th>\n",
       "      <th>unit_cost</th>\n",
       "      <th>unit_profit</th>\n",
       "    </tr>\n",
       "  </thead>\n",
       "  <tbody>\n",
       "    <tr>\n",
       "      <th>0</th>\n",
       "      <td>P040101001</td>\n",
       "      <td>4</td>\n",
       "      <td>401</td>\n",
       "      <td>40101</td>\n",
       "      <td>198.0</td>\n",
       "      <td>149.0</td>\n",
       "      <td>49.0</td>\n",
       "    </tr>\n",
       "    <tr>\n",
       "      <th>1</th>\n",
       "      <td>P040101002</td>\n",
       "      <td>4</td>\n",
       "      <td>401</td>\n",
       "      <td>40101</td>\n",
       "      <td>218.0</td>\n",
       "      <td>164.0</td>\n",
       "      <td>54.0</td>\n",
       "    </tr>\n",
       "    <tr>\n",
       "      <th>2</th>\n",
       "      <td>P040101003</td>\n",
       "      <td>4</td>\n",
       "      <td>401</td>\n",
       "      <td>40101</td>\n",
       "      <td>230.0</td>\n",
       "      <td>173.0</td>\n",
       "      <td>57.0</td>\n",
       "    </tr>\n",
       "    <tr>\n",
       "      <th>3</th>\n",
       "      <td>P040101004</td>\n",
       "      <td>4</td>\n",
       "      <td>401</td>\n",
       "      <td>40101</td>\n",
       "      <td>248.0</td>\n",
       "      <td>186.0</td>\n",
       "      <td>62.0</td>\n",
       "    </tr>\n",
       "    <tr>\n",
       "      <th>4</th>\n",
       "      <td>P040101005</td>\n",
       "      <td>4</td>\n",
       "      <td>401</td>\n",
       "      <td>40101</td>\n",
       "      <td>268.0</td>\n",
       "      <td>201.0</td>\n",
       "      <td>67.0</td>\n",
       "    </tr>\n",
       "    <tr>\n",
       "      <th>5</th>\n",
       "      <td>P040101006</td>\n",
       "      <td>4</td>\n",
       "      <td>401</td>\n",
       "      <td>40101</td>\n",
       "      <td>298.0</td>\n",
       "      <td>224.0</td>\n",
       "      <td>74.0</td>\n",
       "    </tr>\n",
       "    <tr>\n",
       "      <th>6</th>\n",
       "      <td>P040101007</td>\n",
       "      <td>4</td>\n",
       "      <td>401</td>\n",
       "      <td>40101</td>\n",
       "      <td>338.0</td>\n",
       "      <td>254.0</td>\n",
       "      <td>84.0</td>\n",
       "    </tr>\n",
       "    <tr>\n",
       "      <th>7</th>\n",
       "      <td>P040101008</td>\n",
       "      <td>4</td>\n",
       "      <td>401</td>\n",
       "      <td>40101</td>\n",
       "      <td>420.0</td>\n",
       "      <td>315.0</td>\n",
       "      <td>105.0</td>\n",
       "    </tr>\n",
       "    <tr>\n",
       "      <th>8</th>\n",
       "      <td>P040101009</td>\n",
       "      <td>4</td>\n",
       "      <td>401</td>\n",
       "      <td>40101</td>\n",
       "      <td>498.0</td>\n",
       "      <td>374.0</td>\n",
       "      <td>124.0</td>\n",
       "    </tr>\n",
       "    <tr>\n",
       "      <th>9</th>\n",
       "      <td>P040101010</td>\n",
       "      <td>4</td>\n",
       "      <td>401</td>\n",
       "      <td>40101</td>\n",
       "      <td>580.0</td>\n",
       "      <td>435.0</td>\n",
       "      <td>145.0</td>\n",
       "    </tr>\n",
       "  </tbody>\n",
       "</table>\n",
       "</div>"
      ],
      "text/plain": [
       "   product_cd  category_major_cd  category_medium_cd  category_small_cd  \\\n",
       "0  P040101001                  4                 401              40101   \n",
       "1  P040101002                  4                 401              40101   \n",
       "2  P040101003                  4                 401              40101   \n",
       "3  P040101004                  4                 401              40101   \n",
       "4  P040101005                  4                 401              40101   \n",
       "5  P040101006                  4                 401              40101   \n",
       "6  P040101007                  4                 401              40101   \n",
       "7  P040101008                  4                 401              40101   \n",
       "8  P040101009                  4                 401              40101   \n",
       "9  P040101010                  4                 401              40101   \n",
       "\n",
       "   unit_price  unit_cost  unit_profit  \n",
       "0       198.0      149.0         49.0  \n",
       "1       218.0      164.0         54.0  \n",
       "2       230.0      173.0         57.0  \n",
       "3       248.0      186.0         62.0  \n",
       "4       268.0      201.0         67.0  \n",
       "5       298.0      224.0         74.0  \n",
       "6       338.0      254.0         84.0  \n",
       "7       420.0      315.0        105.0  \n",
       "8       498.0      374.0        124.0  \n",
       "9       580.0      435.0        145.0  "
      ]
     },
     "execution_count": 106,
     "metadata": {},
     "output_type": "execute_result"
    }
   ],
   "source": [
    "df63 = df_product.copy()\n",
    "df63.head()\n",
    "df63[\"unit_profit\"] = df63[\"unit_price\"] - df63[\"unit_cost\"]\n",
    "df63.head(10)"
   ]
  },
  {
   "cell_type": "markdown",
   "metadata": {
    "id": "aKoN346V2HGc"
   },
   "source": [
    "## P064"
   ]
  },
  {
   "cell_type": "markdown",
   "metadata": {
    "id": "dA3_mEIghhzY"
   },
   "source": [
    "---\n",
    "> P-064: 商品データフレーム（df_product）の単価（unit_price）と原価（unit_cost）から、各商品の利益率の全体平均を算出せよ。\n",
    "ただし、単価と原価にはNULLが存在することに注意せよ。"
   ]
  },
  {
   "cell_type": "code",
   "execution_count": 107,
   "metadata": {
    "id": "tVmogEBBhhzY"
   },
   "outputs": [
    {
     "data": {
      "text/plain": [
       "0.24911389885177"
      ]
     },
     "execution_count": 107,
     "metadata": {},
     "output_type": "execute_result"
    }
   ],
   "source": [
    "df64 = df_product.copy()\n",
    "df64[\"unit_profit_rate\"] = (df64[\"unit_price\"] - df64[\"unit_cost\"])/df64[\"unit_price\"]\n",
    "df64[\"unit_profit_rate\"].mean(skipna=True)"
   ]
  },
  {
   "cell_type": "markdown",
   "metadata": {
    "id": "1X5HG3Sw2IKO"
   },
   "source": [
    "## P065"
   ]
  },
  {
   "cell_type": "markdown",
   "metadata": {
    "id": "jQowqYLWhhzZ"
   },
   "source": [
    "---\n",
    "> P-065: 商品データフレーム（df_product）の各商品について、利益率が30%となる新たな単価を求めよ。ただし、1円未満は切り捨てること。そして結果を10件表示させ、利益率がおよそ30％付近であることを確認せよ。ただし、単価（unit_price）と原価（unit_cost）にはNULLが存在することに注意せよ。"
   ]
  },
  {
   "cell_type": "code",
   "execution_count": 108,
   "metadata": {
    "id": "fSPVlHxthhzZ"
   },
   "outputs": [
    {
     "data": {
      "text/html": [
       "<div>\n",
       "<style scoped>\n",
       "    .dataframe tbody tr th:only-of-type {\n",
       "        vertical-align: middle;\n",
       "    }\n",
       "\n",
       "    .dataframe tbody tr th {\n",
       "        vertical-align: top;\n",
       "    }\n",
       "\n",
       "    .dataframe thead th {\n",
       "        text-align: right;\n",
       "    }\n",
       "</style>\n",
       "<table border=\"1\" class=\"dataframe\">\n",
       "  <thead>\n",
       "    <tr style=\"text-align: right;\">\n",
       "      <th></th>\n",
       "      <th>product_cd</th>\n",
       "      <th>category_major_cd</th>\n",
       "      <th>category_medium_cd</th>\n",
       "      <th>category_small_cd</th>\n",
       "      <th>unit_price</th>\n",
       "      <th>unit_cost</th>\n",
       "      <th>new_unit_price</th>\n",
       "    </tr>\n",
       "  </thead>\n",
       "  <tbody>\n",
       "    <tr>\n",
       "      <th>0</th>\n",
       "      <td>P040101001</td>\n",
       "      <td>4</td>\n",
       "      <td>401</td>\n",
       "      <td>40101</td>\n",
       "      <td>198.0</td>\n",
       "      <td>149.0</td>\n",
       "      <td>212.0</td>\n",
       "    </tr>\n",
       "    <tr>\n",
       "      <th>1</th>\n",
       "      <td>P040101002</td>\n",
       "      <td>4</td>\n",
       "      <td>401</td>\n",
       "      <td>40101</td>\n",
       "      <td>218.0</td>\n",
       "      <td>164.0</td>\n",
       "      <td>234.0</td>\n",
       "    </tr>\n",
       "    <tr>\n",
       "      <th>2</th>\n",
       "      <td>P040101003</td>\n",
       "      <td>4</td>\n",
       "      <td>401</td>\n",
       "      <td>40101</td>\n",
       "      <td>230.0</td>\n",
       "      <td>173.0</td>\n",
       "      <td>247.0</td>\n",
       "    </tr>\n",
       "    <tr>\n",
       "      <th>3</th>\n",
       "      <td>P040101004</td>\n",
       "      <td>4</td>\n",
       "      <td>401</td>\n",
       "      <td>40101</td>\n",
       "      <td>248.0</td>\n",
       "      <td>186.0</td>\n",
       "      <td>265.0</td>\n",
       "    </tr>\n",
       "    <tr>\n",
       "      <th>4</th>\n",
       "      <td>P040101005</td>\n",
       "      <td>4</td>\n",
       "      <td>401</td>\n",
       "      <td>40101</td>\n",
       "      <td>268.0</td>\n",
       "      <td>201.0</td>\n",
       "      <td>287.0</td>\n",
       "    </tr>\n",
       "    <tr>\n",
       "      <th>5</th>\n",
       "      <td>P040101006</td>\n",
       "      <td>4</td>\n",
       "      <td>401</td>\n",
       "      <td>40101</td>\n",
       "      <td>298.0</td>\n",
       "      <td>224.0</td>\n",
       "      <td>320.0</td>\n",
       "    </tr>\n",
       "    <tr>\n",
       "      <th>6</th>\n",
       "      <td>P040101007</td>\n",
       "      <td>4</td>\n",
       "      <td>401</td>\n",
       "      <td>40101</td>\n",
       "      <td>338.0</td>\n",
       "      <td>254.0</td>\n",
       "      <td>362.0</td>\n",
       "    </tr>\n",
       "    <tr>\n",
       "      <th>7</th>\n",
       "      <td>P040101008</td>\n",
       "      <td>4</td>\n",
       "      <td>401</td>\n",
       "      <td>40101</td>\n",
       "      <td>420.0</td>\n",
       "      <td>315.0</td>\n",
       "      <td>450.0</td>\n",
       "    </tr>\n",
       "    <tr>\n",
       "      <th>8</th>\n",
       "      <td>P040101009</td>\n",
       "      <td>4</td>\n",
       "      <td>401</td>\n",
       "      <td>40101</td>\n",
       "      <td>498.0</td>\n",
       "      <td>374.0</td>\n",
       "      <td>534.0</td>\n",
       "    </tr>\n",
       "    <tr>\n",
       "      <th>9</th>\n",
       "      <td>P040101010</td>\n",
       "      <td>4</td>\n",
       "      <td>401</td>\n",
       "      <td>40101</td>\n",
       "      <td>580.0</td>\n",
       "      <td>435.0</td>\n",
       "      <td>621.0</td>\n",
       "    </tr>\n",
       "  </tbody>\n",
       "</table>\n",
       "</div>"
      ],
      "text/plain": [
       "   product_cd  category_major_cd  category_medium_cd  category_small_cd  \\\n",
       "0  P040101001                  4                 401              40101   \n",
       "1  P040101002                  4                 401              40101   \n",
       "2  P040101003                  4                 401              40101   \n",
       "3  P040101004                  4                 401              40101   \n",
       "4  P040101005                  4                 401              40101   \n",
       "5  P040101006                  4                 401              40101   \n",
       "6  P040101007                  4                 401              40101   \n",
       "7  P040101008                  4                 401              40101   \n",
       "8  P040101009                  4                 401              40101   \n",
       "9  P040101010                  4                 401              40101   \n",
       "\n",
       "   unit_price  unit_cost  new_unit_price  \n",
       "0       198.0      149.0           212.0  \n",
       "1       218.0      164.0           234.0  \n",
       "2       230.0      173.0           247.0  \n",
       "3       248.0      186.0           265.0  \n",
       "4       268.0      201.0           287.0  \n",
       "5       298.0      224.0           320.0  \n",
       "6       338.0      254.0           362.0  \n",
       "7       420.0      315.0           450.0  \n",
       "8       498.0      374.0           534.0  \n",
       "9       580.0      435.0           621.0  "
      ]
     },
     "execution_count": 108,
     "metadata": {},
     "output_type": "execute_result"
    }
   ],
   "source": [
    "df65 = df_product.copy()\n",
    "df65[\"new_unit_price\"] = df65[\"unit_cost\"]/0.7\n",
    "df65[\"new_unit_price\"] = df65[\"new_unit_price\"].dropna().astype(int)\n",
    "df65.head(10)"
   ]
  },
  {
   "cell_type": "code",
   "execution_count": 109,
   "metadata": {},
   "outputs": [
    {
     "data": {
      "text/plain": [
       "0.29867844972541435"
      ]
     },
     "execution_count": 109,
     "metadata": {},
     "output_type": "execute_result"
    }
   ],
   "source": [
    "df65[\"unit_profit_rate\"] = (df65[\"new_unit_price\"] - df65[\"unit_cost\"])/df65[\"new_unit_price\"]\n",
    "df65[\"unit_profit_rate\"].mean(skipna=True)"
   ]
  },
  {
   "cell_type": "markdown",
   "metadata": {
    "id": "PRBlx6dt2JFW"
   },
   "source": [
    "## P066"
   ]
  },
  {
   "cell_type": "markdown",
   "metadata": {
    "id": "Tj7mplJihhza"
   },
   "source": [
    "---\n",
    "> P-066: 商品データフレーム（df_product）の各商品について、利益率が30%となる新たな単価を求めよ。今回は、1円未満を四捨五入すること（0.5については偶数方向の丸めで良い）。そして結果を10件表示させ、利益率がおよそ30％付近であることを確認せよ。ただし、単価（unit_price）と原価（unit_cost）にはNULLが存在することに注意せよ。"
   ]
  },
  {
   "cell_type": "code",
   "execution_count": 110,
   "metadata": {
    "id": "gC81Fp6ehhza"
   },
   "outputs": [
    {
     "data": {
      "text/html": [
       "<div>\n",
       "<style scoped>\n",
       "    .dataframe tbody tr th:only-of-type {\n",
       "        vertical-align: middle;\n",
       "    }\n",
       "\n",
       "    .dataframe tbody tr th {\n",
       "        vertical-align: top;\n",
       "    }\n",
       "\n",
       "    .dataframe thead th {\n",
       "        text-align: right;\n",
       "    }\n",
       "</style>\n",
       "<table border=\"1\" class=\"dataframe\">\n",
       "  <thead>\n",
       "    <tr style=\"text-align: right;\">\n",
       "      <th></th>\n",
       "      <th>product_cd</th>\n",
       "      <th>category_major_cd</th>\n",
       "      <th>category_medium_cd</th>\n",
       "      <th>category_small_cd</th>\n",
       "      <th>unit_price</th>\n",
       "      <th>unit_cost</th>\n",
       "      <th>new_unit_price</th>\n",
       "    </tr>\n",
       "  </thead>\n",
       "  <tbody>\n",
       "    <tr>\n",
       "      <th>0</th>\n",
       "      <td>P040101001</td>\n",
       "      <td>4</td>\n",
       "      <td>401</td>\n",
       "      <td>40101</td>\n",
       "      <td>198.0</td>\n",
       "      <td>149.0</td>\n",
       "      <td>213.0</td>\n",
       "    </tr>\n",
       "    <tr>\n",
       "      <th>1</th>\n",
       "      <td>P040101002</td>\n",
       "      <td>4</td>\n",
       "      <td>401</td>\n",
       "      <td>40101</td>\n",
       "      <td>218.0</td>\n",
       "      <td>164.0</td>\n",
       "      <td>234.0</td>\n",
       "    </tr>\n",
       "    <tr>\n",
       "      <th>2</th>\n",
       "      <td>P040101003</td>\n",
       "      <td>4</td>\n",
       "      <td>401</td>\n",
       "      <td>40101</td>\n",
       "      <td>230.0</td>\n",
       "      <td>173.0</td>\n",
       "      <td>247.0</td>\n",
       "    </tr>\n",
       "    <tr>\n",
       "      <th>3</th>\n",
       "      <td>P040101004</td>\n",
       "      <td>4</td>\n",
       "      <td>401</td>\n",
       "      <td>40101</td>\n",
       "      <td>248.0</td>\n",
       "      <td>186.0</td>\n",
       "      <td>266.0</td>\n",
       "    </tr>\n",
       "    <tr>\n",
       "      <th>4</th>\n",
       "      <td>P040101005</td>\n",
       "      <td>4</td>\n",
       "      <td>401</td>\n",
       "      <td>40101</td>\n",
       "      <td>268.0</td>\n",
       "      <td>201.0</td>\n",
       "      <td>287.0</td>\n",
       "    </tr>\n",
       "    <tr>\n",
       "      <th>5</th>\n",
       "      <td>P040101006</td>\n",
       "      <td>4</td>\n",
       "      <td>401</td>\n",
       "      <td>40101</td>\n",
       "      <td>298.0</td>\n",
       "      <td>224.0</td>\n",
       "      <td>320.0</td>\n",
       "    </tr>\n",
       "    <tr>\n",
       "      <th>6</th>\n",
       "      <td>P040101007</td>\n",
       "      <td>4</td>\n",
       "      <td>401</td>\n",
       "      <td>40101</td>\n",
       "      <td>338.0</td>\n",
       "      <td>254.0</td>\n",
       "      <td>363.0</td>\n",
       "    </tr>\n",
       "    <tr>\n",
       "      <th>7</th>\n",
       "      <td>P040101008</td>\n",
       "      <td>4</td>\n",
       "      <td>401</td>\n",
       "      <td>40101</td>\n",
       "      <td>420.0</td>\n",
       "      <td>315.0</td>\n",
       "      <td>450.0</td>\n",
       "    </tr>\n",
       "    <tr>\n",
       "      <th>8</th>\n",
       "      <td>P040101009</td>\n",
       "      <td>4</td>\n",
       "      <td>401</td>\n",
       "      <td>40101</td>\n",
       "      <td>498.0</td>\n",
       "      <td>374.0</td>\n",
       "      <td>534.0</td>\n",
       "    </tr>\n",
       "    <tr>\n",
       "      <th>9</th>\n",
       "      <td>P040101010</td>\n",
       "      <td>4</td>\n",
       "      <td>401</td>\n",
       "      <td>40101</td>\n",
       "      <td>580.0</td>\n",
       "      <td>435.0</td>\n",
       "      <td>621.0</td>\n",
       "    </tr>\n",
       "  </tbody>\n",
       "</table>\n",
       "</div>"
      ],
      "text/plain": [
       "   product_cd  category_major_cd  category_medium_cd  category_small_cd  \\\n",
       "0  P040101001                  4                 401              40101   \n",
       "1  P040101002                  4                 401              40101   \n",
       "2  P040101003                  4                 401              40101   \n",
       "3  P040101004                  4                 401              40101   \n",
       "4  P040101005                  4                 401              40101   \n",
       "5  P040101006                  4                 401              40101   \n",
       "6  P040101007                  4                 401              40101   \n",
       "7  P040101008                  4                 401              40101   \n",
       "8  P040101009                  4                 401              40101   \n",
       "9  P040101010                  4                 401              40101   \n",
       "\n",
       "   unit_price  unit_cost  new_unit_price  \n",
       "0       198.0      149.0           213.0  \n",
       "1       218.0      164.0           234.0  \n",
       "2       230.0      173.0           247.0  \n",
       "3       248.0      186.0           266.0  \n",
       "4       268.0      201.0           287.0  \n",
       "5       298.0      224.0           320.0  \n",
       "6       338.0      254.0           363.0  \n",
       "7       420.0      315.0           450.0  \n",
       "8       498.0      374.0           534.0  \n",
       "9       580.0      435.0           621.0  "
      ]
     },
     "execution_count": 110,
     "metadata": {},
     "output_type": "execute_result"
    }
   ],
   "source": [
    "df66 = df_product.copy()\n",
    "df66[\"new_unit_price\"] = df66[\"unit_cost\"]/0.7\n",
    "df66[\"new_unit_price\"] = df66[\"new_unit_price\"].dropna().round().astype(int)\n",
    "df66.head(10)"
   ]
  },
  {
   "cell_type": "code",
   "execution_count": 111,
   "metadata": {},
   "outputs": [
    {
     "data": {
      "text/plain": [
       "0.2999568445636649"
      ]
     },
     "execution_count": 111,
     "metadata": {},
     "output_type": "execute_result"
    }
   ],
   "source": [
    "df66[\"unit_profit_rate\"] = (df66[\"new_unit_price\"] - df66[\"unit_cost\"])/df66[\"new_unit_price\"]\n",
    "df66[\"unit_profit_rate\"].mean(skipna=True)"
   ]
  },
  {
   "cell_type": "markdown",
   "metadata": {},
   "source": [
    "↑宿題ここまで2020-12-06"
   ]
  },
  {
   "cell_type": "markdown",
   "metadata": {
    "id": "xpJxXjsR2M07"
   },
   "source": [
    "## P067"
   ]
  },
  {
   "cell_type": "markdown",
   "metadata": {
    "id": "xxce_R6bhhzb"
   },
   "source": [
    "---\n",
    "> P-067: 商品データフレーム（df_product）の各商品について、利益率が30%となる新たな単価を求めよ。今回は、1円未満を切り上げること。そして結果を10件表示させ、利益率がおよそ30％付近であることを確認せよ。ただし、単価（unit_price）と原価（unit_cost）にはNULLが存在することに注意せよ。"
   ]
  },
  {
   "cell_type": "code",
   "execution_count": 112,
   "metadata": {},
   "outputs": [
    {
     "data": {
      "text/html": [
       "<div>\n",
       "<style scoped>\n",
       "    .dataframe tbody tr th:only-of-type {\n",
       "        vertical-align: middle;\n",
       "    }\n",
       "\n",
       "    .dataframe tbody tr th {\n",
       "        vertical-align: top;\n",
       "    }\n",
       "\n",
       "    .dataframe thead th {\n",
       "        text-align: right;\n",
       "    }\n",
       "</style>\n",
       "<table border=\"1\" class=\"dataframe\">\n",
       "  <thead>\n",
       "    <tr style=\"text-align: right;\">\n",
       "      <th></th>\n",
       "      <th>product_cd</th>\n",
       "      <th>category_major_cd</th>\n",
       "      <th>category_medium_cd</th>\n",
       "      <th>category_small_cd</th>\n",
       "      <th>unit_price</th>\n",
       "      <th>unit_cost</th>\n",
       "      <th>new_unit_price</th>\n",
       "    </tr>\n",
       "  </thead>\n",
       "  <tbody>\n",
       "    <tr>\n",
       "      <th>0</th>\n",
       "      <td>P040101001</td>\n",
       "      <td>4</td>\n",
       "      <td>401</td>\n",
       "      <td>40101</td>\n",
       "      <td>198.0</td>\n",
       "      <td>149.0</td>\n",
       "      <td>213.0</td>\n",
       "    </tr>\n",
       "    <tr>\n",
       "      <th>1</th>\n",
       "      <td>P040101002</td>\n",
       "      <td>4</td>\n",
       "      <td>401</td>\n",
       "      <td>40101</td>\n",
       "      <td>218.0</td>\n",
       "      <td>164.0</td>\n",
       "      <td>235.0</td>\n",
       "    </tr>\n",
       "    <tr>\n",
       "      <th>2</th>\n",
       "      <td>P040101003</td>\n",
       "      <td>4</td>\n",
       "      <td>401</td>\n",
       "      <td>40101</td>\n",
       "      <td>230.0</td>\n",
       "      <td>173.0</td>\n",
       "      <td>248.0</td>\n",
       "    </tr>\n",
       "    <tr>\n",
       "      <th>3</th>\n",
       "      <td>P040101004</td>\n",
       "      <td>4</td>\n",
       "      <td>401</td>\n",
       "      <td>40101</td>\n",
       "      <td>248.0</td>\n",
       "      <td>186.0</td>\n",
       "      <td>266.0</td>\n",
       "    </tr>\n",
       "    <tr>\n",
       "      <th>4</th>\n",
       "      <td>P040101005</td>\n",
       "      <td>4</td>\n",
       "      <td>401</td>\n",
       "      <td>40101</td>\n",
       "      <td>268.0</td>\n",
       "      <td>201.0</td>\n",
       "      <td>288.0</td>\n",
       "    </tr>\n",
       "    <tr>\n",
       "      <th>5</th>\n",
       "      <td>P040101006</td>\n",
       "      <td>4</td>\n",
       "      <td>401</td>\n",
       "      <td>40101</td>\n",
       "      <td>298.0</td>\n",
       "      <td>224.0</td>\n",
       "      <td>320.0</td>\n",
       "    </tr>\n",
       "    <tr>\n",
       "      <th>6</th>\n",
       "      <td>P040101007</td>\n",
       "      <td>4</td>\n",
       "      <td>401</td>\n",
       "      <td>40101</td>\n",
       "      <td>338.0</td>\n",
       "      <td>254.0</td>\n",
       "      <td>363.0</td>\n",
       "    </tr>\n",
       "    <tr>\n",
       "      <th>7</th>\n",
       "      <td>P040101008</td>\n",
       "      <td>4</td>\n",
       "      <td>401</td>\n",
       "      <td>40101</td>\n",
       "      <td>420.0</td>\n",
       "      <td>315.0</td>\n",
       "      <td>451.0</td>\n",
       "    </tr>\n",
       "    <tr>\n",
       "      <th>8</th>\n",
       "      <td>P040101009</td>\n",
       "      <td>4</td>\n",
       "      <td>401</td>\n",
       "      <td>40101</td>\n",
       "      <td>498.0</td>\n",
       "      <td>374.0</td>\n",
       "      <td>535.0</td>\n",
       "    </tr>\n",
       "    <tr>\n",
       "      <th>9</th>\n",
       "      <td>P040101010</td>\n",
       "      <td>4</td>\n",
       "      <td>401</td>\n",
       "      <td>40101</td>\n",
       "      <td>580.0</td>\n",
       "      <td>435.0</td>\n",
       "      <td>622.0</td>\n",
       "    </tr>\n",
       "  </tbody>\n",
       "</table>\n",
       "</div>"
      ],
      "text/plain": [
       "   product_cd  category_major_cd  category_medium_cd  category_small_cd  \\\n",
       "0  P040101001                  4                 401              40101   \n",
       "1  P040101002                  4                 401              40101   \n",
       "2  P040101003                  4                 401              40101   \n",
       "3  P040101004                  4                 401              40101   \n",
       "4  P040101005                  4                 401              40101   \n",
       "5  P040101006                  4                 401              40101   \n",
       "6  P040101007                  4                 401              40101   \n",
       "7  P040101008                  4                 401              40101   \n",
       "8  P040101009                  4                 401              40101   \n",
       "9  P040101010                  4                 401              40101   \n",
       "\n",
       "   unit_price  unit_cost  new_unit_price  \n",
       "0       198.0      149.0           213.0  \n",
       "1       218.0      164.0           235.0  \n",
       "2       230.0      173.0           248.0  \n",
       "3       248.0      186.0           266.0  \n",
       "4       268.0      201.0           288.0  \n",
       "5       298.0      224.0           320.0  \n",
       "6       338.0      254.0           363.0  \n",
       "7       420.0      315.0           451.0  \n",
       "8       498.0      374.0           535.0  \n",
       "9       580.0      435.0           622.0  "
      ]
     },
     "execution_count": 112,
     "metadata": {},
     "output_type": "execute_result"
    }
   ],
   "source": [
    "df67 = df_product.copy()\n",
    "df67[\"new_unit_price\"] = df67[\"unit_cost\"]/0.7\n",
    "df67[\"new_unit_price\"] = df67[\"new_unit_price\"].dropna().apply(math.ceil)\n",
    "# df67[\"new_unit_price\"] = df67[\"new_unit_price\"].dropna()\n",
    "# df67[\"new_unit_price\"] = numpy.ceil(df67[\"new_unit_price\"])\n",
    "df67.head(10)"
   ]
  },
  {
   "cell_type": "code",
   "execution_count": 113,
   "metadata": {},
   "outputs": [
    {
     "data": {
      "text/plain": [
       "0.30141640305784856"
      ]
     },
     "execution_count": 113,
     "metadata": {},
     "output_type": "execute_result"
    }
   ],
   "source": [
    "df67[\"unit_profit_rate\"] = (df67[\"new_unit_price\"] - df67[\"unit_cost\"])/df67[\"new_unit_price\"]\n",
    "df67[\"unit_profit_rate\"].mean(skipna=True)"
   ]
  },
  {
   "cell_type": "markdown",
   "metadata": {
    "id": "qG0K0OKV2OMY"
   },
   "source": [
    "## P068"
   ]
  },
  {
   "cell_type": "markdown",
   "metadata": {
    "id": "CnpgvfPThhzd"
   },
   "source": [
    "---\n",
    "> P-068: 商品データフレーム（df_product）の各商品について、消費税率10%の税込み金額を求めよ。 1円未満の端数は切り捨てとし、結果は10件表示すれば良い。ただし、単価（unit_price）にはNULLが存在することに注意せよ。"
   ]
  },
  {
   "cell_type": "code",
   "execution_count": 114,
   "metadata": {
    "id": "pAlTEkKHhhzd"
   },
   "outputs": [
    {
     "data": {
      "text/html": [
       "<div>\n",
       "<style scoped>\n",
       "    .dataframe tbody tr th:only-of-type {\n",
       "        vertical-align: middle;\n",
       "    }\n",
       "\n",
       "    .dataframe tbody tr th {\n",
       "        vertical-align: top;\n",
       "    }\n",
       "\n",
       "    .dataframe thead th {\n",
       "        text-align: right;\n",
       "    }\n",
       "</style>\n",
       "<table border=\"1\" class=\"dataframe\">\n",
       "  <thead>\n",
       "    <tr style=\"text-align: right;\">\n",
       "      <th></th>\n",
       "      <th>product_cd</th>\n",
       "      <th>category_major_cd</th>\n",
       "      <th>category_medium_cd</th>\n",
       "      <th>category_small_cd</th>\n",
       "      <th>unit_price</th>\n",
       "      <th>unit_cost</th>\n",
       "      <th>unit_price_tax</th>\n",
       "    </tr>\n",
       "  </thead>\n",
       "  <tbody>\n",
       "    <tr>\n",
       "      <th>0</th>\n",
       "      <td>P040101001</td>\n",
       "      <td>4</td>\n",
       "      <td>401</td>\n",
       "      <td>40101</td>\n",
       "      <td>198.0</td>\n",
       "      <td>149.0</td>\n",
       "      <td>217.0</td>\n",
       "    </tr>\n",
       "    <tr>\n",
       "      <th>1</th>\n",
       "      <td>P040101002</td>\n",
       "      <td>4</td>\n",
       "      <td>401</td>\n",
       "      <td>40101</td>\n",
       "      <td>218.0</td>\n",
       "      <td>164.0</td>\n",
       "      <td>239.0</td>\n",
       "    </tr>\n",
       "    <tr>\n",
       "      <th>2</th>\n",
       "      <td>P040101003</td>\n",
       "      <td>4</td>\n",
       "      <td>401</td>\n",
       "      <td>40101</td>\n",
       "      <td>230.0</td>\n",
       "      <td>173.0</td>\n",
       "      <td>253.0</td>\n",
       "    </tr>\n",
       "    <tr>\n",
       "      <th>3</th>\n",
       "      <td>P040101004</td>\n",
       "      <td>4</td>\n",
       "      <td>401</td>\n",
       "      <td>40101</td>\n",
       "      <td>248.0</td>\n",
       "      <td>186.0</td>\n",
       "      <td>272.0</td>\n",
       "    </tr>\n",
       "    <tr>\n",
       "      <th>4</th>\n",
       "      <td>P040101005</td>\n",
       "      <td>4</td>\n",
       "      <td>401</td>\n",
       "      <td>40101</td>\n",
       "      <td>268.0</td>\n",
       "      <td>201.0</td>\n",
       "      <td>294.0</td>\n",
       "    </tr>\n",
       "    <tr>\n",
       "      <th>5</th>\n",
       "      <td>P040101006</td>\n",
       "      <td>4</td>\n",
       "      <td>401</td>\n",
       "      <td>40101</td>\n",
       "      <td>298.0</td>\n",
       "      <td>224.0</td>\n",
       "      <td>327.0</td>\n",
       "    </tr>\n",
       "    <tr>\n",
       "      <th>6</th>\n",
       "      <td>P040101007</td>\n",
       "      <td>4</td>\n",
       "      <td>401</td>\n",
       "      <td>40101</td>\n",
       "      <td>338.0</td>\n",
       "      <td>254.0</td>\n",
       "      <td>371.0</td>\n",
       "    </tr>\n",
       "    <tr>\n",
       "      <th>7</th>\n",
       "      <td>P040101008</td>\n",
       "      <td>4</td>\n",
       "      <td>401</td>\n",
       "      <td>40101</td>\n",
       "      <td>420.0</td>\n",
       "      <td>315.0</td>\n",
       "      <td>462.0</td>\n",
       "    </tr>\n",
       "    <tr>\n",
       "      <th>8</th>\n",
       "      <td>P040101009</td>\n",
       "      <td>4</td>\n",
       "      <td>401</td>\n",
       "      <td>40101</td>\n",
       "      <td>498.0</td>\n",
       "      <td>374.0</td>\n",
       "      <td>547.0</td>\n",
       "    </tr>\n",
       "    <tr>\n",
       "      <th>9</th>\n",
       "      <td>P040101010</td>\n",
       "      <td>4</td>\n",
       "      <td>401</td>\n",
       "      <td>40101</td>\n",
       "      <td>580.0</td>\n",
       "      <td>435.0</td>\n",
       "      <td>638.0</td>\n",
       "    </tr>\n",
       "  </tbody>\n",
       "</table>\n",
       "</div>"
      ],
      "text/plain": [
       "   product_cd  category_major_cd  category_medium_cd  category_small_cd  \\\n",
       "0  P040101001                  4                 401              40101   \n",
       "1  P040101002                  4                 401              40101   \n",
       "2  P040101003                  4                 401              40101   \n",
       "3  P040101004                  4                 401              40101   \n",
       "4  P040101005                  4                 401              40101   \n",
       "5  P040101006                  4                 401              40101   \n",
       "6  P040101007                  4                 401              40101   \n",
       "7  P040101008                  4                 401              40101   \n",
       "8  P040101009                  4                 401              40101   \n",
       "9  P040101010                  4                 401              40101   \n",
       "\n",
       "   unit_price  unit_cost  unit_price_tax  \n",
       "0       198.0      149.0           217.0  \n",
       "1       218.0      164.0           239.0  \n",
       "2       230.0      173.0           253.0  \n",
       "3       248.0      186.0           272.0  \n",
       "4       268.0      201.0           294.0  \n",
       "5       298.0      224.0           327.0  \n",
       "6       338.0      254.0           371.0  \n",
       "7       420.0      315.0           462.0  \n",
       "8       498.0      374.0           547.0  \n",
       "9       580.0      435.0           638.0  "
      ]
     },
     "execution_count": 114,
     "metadata": {},
     "output_type": "execute_result"
    }
   ],
   "source": [
    "import numpy\n",
    "df68 = df_product.copy()\n",
    "df68[\"unit_price_tax\"] = df68[\"unit_price\"].dropna() * 1.1\n",
    "df68[\"unit_price_tax\"] = numpy.floor(df68[\"unit_price_tax\"])\n",
    "df68.head(10)"
   ]
  },
  {
   "cell_type": "markdown",
   "metadata": {
    "id": "Ij_flDXe2Ps2"
   },
   "source": [
    "## P069"
   ]
  },
  {
   "cell_type": "markdown",
   "metadata": {
    "id": "zEABVDKXhhze"
   },
   "source": [
    "---\n",
    "> P-069: レシート明細データフレーム（df_receipt）と商品データフレーム（df_product）を結合し、顧客毎に全商品の売上金額合計と、カテゴリ大区分（category_major_cd）が\"07\"（瓶詰缶詰）の売上金額合計を計算の上、両者の比率を求めよ。抽出対象はカテゴリ大区分\"07\"（瓶詰缶詰）の購入実績がある顧客のみとし、結果は10件表示させればよい。"
   ]
  },
  {
   "cell_type": "code",
   "execution_count": 115,
   "metadata": {
    "id": "FL33wGUMhhze"
   },
   "outputs": [
    {
     "data": {
      "text/html": [
       "<div>\n",
       "<style scoped>\n",
       "    .dataframe tbody tr th:only-of-type {\n",
       "        vertical-align: middle;\n",
       "    }\n",
       "\n",
       "    .dataframe tbody tr th {\n",
       "        vertical-align: top;\n",
       "    }\n",
       "\n",
       "    .dataframe thead th {\n",
       "        text-align: right;\n",
       "    }\n",
       "</style>\n",
       "<table border=\"1\" class=\"dataframe\">\n",
       "  <thead>\n",
       "    <tr style=\"text-align: right;\">\n",
       "      <th></th>\n",
       "      <th>amount_all</th>\n",
       "      <th>amount_70</th>\n",
       "      <th>rate</th>\n",
       "    </tr>\n",
       "    <tr>\n",
       "      <th>customer_id</th>\n",
       "      <th></th>\n",
       "      <th></th>\n",
       "      <th></th>\n",
       "    </tr>\n",
       "  </thead>\n",
       "  <tbody>\n",
       "    <tr>\n",
       "      <th>CS001113000004</th>\n",
       "      <td>1298</td>\n",
       "      <td>1298</td>\n",
       "      <td>1.000000</td>\n",
       "    </tr>\n",
       "    <tr>\n",
       "      <th>CS001114000005</th>\n",
       "      <td>626</td>\n",
       "      <td>486</td>\n",
       "      <td>0.776358</td>\n",
       "    </tr>\n",
       "    <tr>\n",
       "      <th>CS001115000010</th>\n",
       "      <td>3044</td>\n",
       "      <td>2694</td>\n",
       "      <td>0.885020</td>\n",
       "    </tr>\n",
       "    <tr>\n",
       "      <th>CS001205000004</th>\n",
       "      <td>1988</td>\n",
       "      <td>346</td>\n",
       "      <td>0.174044</td>\n",
       "    </tr>\n",
       "    <tr>\n",
       "      <th>CS001205000006</th>\n",
       "      <td>3337</td>\n",
       "      <td>2004</td>\n",
       "      <td>0.600539</td>\n",
       "    </tr>\n",
       "    <tr>\n",
       "      <th>CS001212000027</th>\n",
       "      <td>448</td>\n",
       "      <td>200</td>\n",
       "      <td>0.446429</td>\n",
       "    </tr>\n",
       "    <tr>\n",
       "      <th>CS001212000031</th>\n",
       "      <td>296</td>\n",
       "      <td>296</td>\n",
       "      <td>1.000000</td>\n",
       "    </tr>\n",
       "    <tr>\n",
       "      <th>CS001212000046</th>\n",
       "      <td>228</td>\n",
       "      <td>108</td>\n",
       "      <td>0.473684</td>\n",
       "    </tr>\n",
       "    <tr>\n",
       "      <th>CS001212000070</th>\n",
       "      <td>456</td>\n",
       "      <td>308</td>\n",
       "      <td>0.675439</td>\n",
       "    </tr>\n",
       "    <tr>\n",
       "      <th>CS001213000018</th>\n",
       "      <td>243</td>\n",
       "      <td>145</td>\n",
       "      <td>0.596708</td>\n",
       "    </tr>\n",
       "  </tbody>\n",
       "</table>\n",
       "</div>"
      ],
      "text/plain": [
       "                amount_all  amount_70      rate\n",
       "customer_id                                    \n",
       "CS001113000004        1298       1298  1.000000\n",
       "CS001114000005         626        486  0.776358\n",
       "CS001115000010        3044       2694  0.885020\n",
       "CS001205000004        1988        346  0.174044\n",
       "CS001205000006        3337       2004  0.600539\n",
       "CS001212000027         448        200  0.446429\n",
       "CS001212000031         296        296  1.000000\n",
       "CS001212000046         228        108  0.473684\n",
       "CS001212000070         456        308  0.675439\n",
       "CS001213000018         243        145  0.596708"
      ]
     },
     "execution_count": 115,
     "metadata": {},
     "output_type": "execute_result"
    }
   ],
   "source": [
    "df69 = pd.merge(df_receipt, df_product)\n",
    "df69_customer = df69.groupby(\"customer_id\")[\"amount\"].sum()\n",
    "df69_07 = df69[df69[\"category_major_cd\"] == 7]\n",
    "df69_07_customer = df69_07.groupby(\"customer_id\")[\"amount\"].sum()\n",
    "df69_ans = pd.merge(df69_customer, df69_07_customer, how=\"inner\", on=\"customer_id\")\n",
    "df69_ans = df69_ans.rename(columns={\"amount_x\": \"amount_all\", \"amount_y\": \"amount_70\"})\n",
    "df69_ans[\"rate\"] = df69_ans[\"amount_70\"]/df69_ans[\"amount_all\"]\n",
    "df69_ans.head(10)"
   ]
  },
  {
   "cell_type": "markdown",
   "metadata": {
    "id": "Ltb3__3p2RcJ"
   },
   "source": [
    "## P070"
   ]
  },
  {
   "cell_type": "markdown",
   "metadata": {
    "id": "ZEAiLMTShhzf"
   },
   "source": [
    "---\n",
    "> P-070: レシート明細データフレーム（df_receipt）の売上日（sales_ymd）に対し、顧客データフレーム（df_customer）の会員申込日（application_date）からの経過日数を計算し、顧客ID（customer_id）、売上日、会員申込日とともに表示せよ。結果は10件表示させれば良い（なお、sales_ymdは数値、application_dateは文字列でデータを保持している点に注意）。"
   ]
  },
  {
   "cell_type": "code",
   "execution_count": 116,
   "metadata": {
    "id": "kvzQzXuShhzf"
   },
   "outputs": [
    {
     "data": {
      "text/html": [
       "<div>\n",
       "<style scoped>\n",
       "    .dataframe tbody tr th:only-of-type {\n",
       "        vertical-align: middle;\n",
       "    }\n",
       "\n",
       "    .dataframe tbody tr th {\n",
       "        vertical-align: top;\n",
       "    }\n",
       "\n",
       "    .dataframe thead th {\n",
       "        text-align: right;\n",
       "    }\n",
       "</style>\n",
       "<table border=\"1\" class=\"dataframe\">\n",
       "  <thead>\n",
       "    <tr style=\"text-align: right;\">\n",
       "      <th></th>\n",
       "      <th>customer_id</th>\n",
       "      <th>sales_ymd</th>\n",
       "      <th>application_date</th>\n",
       "      <th>days</th>\n",
       "    </tr>\n",
       "  </thead>\n",
       "  <tbody>\n",
       "    <tr>\n",
       "      <th>0</th>\n",
       "      <td>CS006214000001</td>\n",
       "      <td>20181103</td>\n",
       "      <td>20150201</td>\n",
       "      <td>1371 days</td>\n",
       "    </tr>\n",
       "    <tr>\n",
       "      <th>1</th>\n",
       "      <td>CS006214000001</td>\n",
       "      <td>20170509</td>\n",
       "      <td>20150201</td>\n",
       "      <td>828 days</td>\n",
       "    </tr>\n",
       "    <tr>\n",
       "      <th>2</th>\n",
       "      <td>CS006214000001</td>\n",
       "      <td>20170608</td>\n",
       "      <td>20150201</td>\n",
       "      <td>858 days</td>\n",
       "    </tr>\n",
       "    <tr>\n",
       "      <th>3</th>\n",
       "      <td>CS006214000001</td>\n",
       "      <td>20170608</td>\n",
       "      <td>20150201</td>\n",
       "      <td>858 days</td>\n",
       "    </tr>\n",
       "    <tr>\n",
       "      <th>4</th>\n",
       "      <td>CS006214000001</td>\n",
       "      <td>20181028</td>\n",
       "      <td>20150201</td>\n",
       "      <td>1365 days</td>\n",
       "    </tr>\n",
       "    <tr>\n",
       "      <th>5</th>\n",
       "      <td>CS006214000001</td>\n",
       "      <td>20181028</td>\n",
       "      <td>20150201</td>\n",
       "      <td>1365 days</td>\n",
       "    </tr>\n",
       "    <tr>\n",
       "      <th>6</th>\n",
       "      <td>CS006214000001</td>\n",
       "      <td>20170509</td>\n",
       "      <td>20150201</td>\n",
       "      <td>828 days</td>\n",
       "    </tr>\n",
       "    <tr>\n",
       "      <th>7</th>\n",
       "      <td>CS006214000001</td>\n",
       "      <td>20190908</td>\n",
       "      <td>20150201</td>\n",
       "      <td>1680 days</td>\n",
       "    </tr>\n",
       "    <tr>\n",
       "      <th>8</th>\n",
       "      <td>CS006214000001</td>\n",
       "      <td>20180131</td>\n",
       "      <td>20150201</td>\n",
       "      <td>1095 days</td>\n",
       "    </tr>\n",
       "    <tr>\n",
       "      <th>9</th>\n",
       "      <td>CS006214000001</td>\n",
       "      <td>20170705</td>\n",
       "      <td>20150201</td>\n",
       "      <td>885 days</td>\n",
       "    </tr>\n",
       "  </tbody>\n",
       "</table>\n",
       "</div>"
      ],
      "text/plain": [
       "      customer_id  sales_ymd  application_date      days\n",
       "0  CS006214000001   20181103          20150201 1371 days\n",
       "1  CS006214000001   20170509          20150201  828 days\n",
       "2  CS006214000001   20170608          20150201  858 days\n",
       "3  CS006214000001   20170608          20150201  858 days\n",
       "4  CS006214000001   20181028          20150201 1365 days\n",
       "5  CS006214000001   20181028          20150201 1365 days\n",
       "6  CS006214000001   20170509          20150201  828 days\n",
       "7  CS006214000001   20190908          20150201 1680 days\n",
       "8  CS006214000001   20180131          20150201 1095 days\n",
       "9  CS006214000001   20170705          20150201  885 days"
      ]
     },
     "execution_count": 116,
     "metadata": {},
     "output_type": "execute_result"
    }
   ],
   "source": [
    "df70 = pd.merge(df_receipt,df_customer)[[\"customer_id\", \"sales_ymd\", \"application_date\"]]\n",
    "df70[\"x\"] = pd.to_datetime(df70[\"sales_ymd\"].astype(str))\n",
    "df70[\"y\"] = pd.to_datetime(df70[\"application_date\"].astype(str))\n",
    "df70[\"days\"] = df70[\"x\"] - df70[\"y\"]\n",
    "df70 = df70[[\"customer_id\", \"sales_ymd\", \"application_date\", \"days\"]]\n",
    "df70.head(10)"
   ]
  },
  {
   "cell_type": "markdown",
   "metadata": {
    "id": "YzJe3YX-2UT7"
   },
   "source": [
    "## P071"
   ]
  },
  {
   "cell_type": "markdown",
   "metadata": {
    "id": "HsMXQZXshhzg"
   },
   "source": [
    "---\n",
    "> P-071: レシート明細データフレーム（df_receipt）の売上日（sales_ymd）に対し、顧客データフレーム（df_customer）の会員申込日（application_date）からの経過月数を計算し、顧客ID（customer_id）、売上日、会員申込日とともに表示せよ。結果は10件表示させれば良い（なお、sales_ymdは数値、application_dateは文字列でデータを保持している点に注意）。1ヶ月未満は切り捨てること。"
   ]
  },
  {
   "cell_type": "code",
   "execution_count": 117,
   "metadata": {
    "id": "go_c1NKxhhzh"
   },
   "outputs": [
    {
     "data": {
      "text/html": [
       "<div>\n",
       "<style scoped>\n",
       "    .dataframe tbody tr th:only-of-type {\n",
       "        vertical-align: middle;\n",
       "    }\n",
       "\n",
       "    .dataframe tbody tr th {\n",
       "        vertical-align: top;\n",
       "    }\n",
       "\n",
       "    .dataframe thead th {\n",
       "        text-align: right;\n",
       "    }\n",
       "</style>\n",
       "<table border=\"1\" class=\"dataframe\">\n",
       "  <thead>\n",
       "    <tr style=\"text-align: right;\">\n",
       "      <th></th>\n",
       "      <th>customer_id</th>\n",
       "      <th>sales_ymd</th>\n",
       "      <th>application_date</th>\n",
       "      <th>months</th>\n",
       "    </tr>\n",
       "  </thead>\n",
       "  <tbody>\n",
       "    <tr>\n",
       "      <th>0</th>\n",
       "      <td>CS006214000001</td>\n",
       "      <td>20181103</td>\n",
       "      <td>20150201</td>\n",
       "      <td>45</td>\n",
       "    </tr>\n",
       "    <tr>\n",
       "      <th>1</th>\n",
       "      <td>CS006214000001</td>\n",
       "      <td>20170509</td>\n",
       "      <td>20150201</td>\n",
       "      <td>27</td>\n",
       "    </tr>\n",
       "    <tr>\n",
       "      <th>2</th>\n",
       "      <td>CS006214000001</td>\n",
       "      <td>20170608</td>\n",
       "      <td>20150201</td>\n",
       "      <td>28</td>\n",
       "    </tr>\n",
       "    <tr>\n",
       "      <th>3</th>\n",
       "      <td>CS006214000001</td>\n",
       "      <td>20170608</td>\n",
       "      <td>20150201</td>\n",
       "      <td>28</td>\n",
       "    </tr>\n",
       "    <tr>\n",
       "      <th>4</th>\n",
       "      <td>CS006214000001</td>\n",
       "      <td>20181028</td>\n",
       "      <td>20150201</td>\n",
       "      <td>44</td>\n",
       "    </tr>\n",
       "    <tr>\n",
       "      <th>5</th>\n",
       "      <td>CS006214000001</td>\n",
       "      <td>20181028</td>\n",
       "      <td>20150201</td>\n",
       "      <td>44</td>\n",
       "    </tr>\n",
       "    <tr>\n",
       "      <th>6</th>\n",
       "      <td>CS006214000001</td>\n",
       "      <td>20170509</td>\n",
       "      <td>20150201</td>\n",
       "      <td>27</td>\n",
       "    </tr>\n",
       "    <tr>\n",
       "      <th>7</th>\n",
       "      <td>CS006214000001</td>\n",
       "      <td>20190908</td>\n",
       "      <td>20150201</td>\n",
       "      <td>55</td>\n",
       "    </tr>\n",
       "    <tr>\n",
       "      <th>8</th>\n",
       "      <td>CS006214000001</td>\n",
       "      <td>20180131</td>\n",
       "      <td>20150201</td>\n",
       "      <td>35</td>\n",
       "    </tr>\n",
       "    <tr>\n",
       "      <th>9</th>\n",
       "      <td>CS006214000001</td>\n",
       "      <td>20170705</td>\n",
       "      <td>20150201</td>\n",
       "      <td>29</td>\n",
       "    </tr>\n",
       "  </tbody>\n",
       "</table>\n",
       "</div>"
      ],
      "text/plain": [
       "      customer_id  sales_ymd  application_date  months\n",
       "0  CS006214000001   20181103          20150201      45\n",
       "1  CS006214000001   20170509          20150201      27\n",
       "2  CS006214000001   20170608          20150201      28\n",
       "3  CS006214000001   20170608          20150201      28\n",
       "4  CS006214000001   20181028          20150201      44\n",
       "5  CS006214000001   20181028          20150201      44\n",
       "6  CS006214000001   20170509          20150201      27\n",
       "7  CS006214000001   20190908          20150201      55\n",
       "8  CS006214000001   20180131          20150201      35\n",
       "9  CS006214000001   20170705          20150201      29"
      ]
     },
     "execution_count": 117,
     "metadata": {},
     "output_type": "execute_result"
    }
   ],
   "source": [
    "df71 = pd.merge(df_receipt,df_customer)[[\"customer_id\", \"sales_ymd\", \"application_date\"]]\n",
    "df71[\"x\"] = pd.to_datetime(df71[\"sales_ymd\"].astype(str))\n",
    "df71[\"y\"] = pd.to_datetime(df71[\"application_date\"].astype(str))\n",
    "df71[\"days\"] = df71[\"x\"] - df71[\"y\"]\n",
    "df71[\"months\"] = df71[\"days\"] // np.timedelta64(1, 'M')\n",
    "df71 = df71[[\"customer_id\", \"sales_ymd\", \"application_date\", \"months\"]]\n",
    "df71.head(10)"
   ]
  },
  {
   "cell_type": "markdown",
   "metadata": {
    "id": "lxOvuYLJ2VcS"
   },
   "source": [
    "## P072"
   ]
  },
  {
   "cell_type": "markdown",
   "metadata": {
    "id": "uRcwkWA6hhzi"
   },
   "source": [
    "---\n",
    "> P-072: レシート明細データフレーム（df_receipt）の売上日（sales_ymd）に対し、顧客データフレーム（df_customer）の会員申込日（application_date）からの経過年数を計算し、顧客ID（customer_id）、売上日、会員申込日とともに表示せよ。結果は10件表示させれば良い。（なお、sales_ymdは数値、application_dateは文字列でデータを保持している点に注意）。1年未満は切り捨てること。"
   ]
  },
  {
   "cell_type": "code",
   "execution_count": 118,
   "metadata": {},
   "outputs": [
    {
     "data": {
      "text/html": [
       "<div>\n",
       "<style scoped>\n",
       "    .dataframe tbody tr th:only-of-type {\n",
       "        vertical-align: middle;\n",
       "    }\n",
       "\n",
       "    .dataframe tbody tr th {\n",
       "        vertical-align: top;\n",
       "    }\n",
       "\n",
       "    .dataframe thead th {\n",
       "        text-align: right;\n",
       "    }\n",
       "</style>\n",
       "<table border=\"1\" class=\"dataframe\">\n",
       "  <thead>\n",
       "    <tr style=\"text-align: right;\">\n",
       "      <th></th>\n",
       "      <th>customer_id</th>\n",
       "      <th>sales_ymd</th>\n",
       "      <th>application_date</th>\n",
       "      <th>years</th>\n",
       "    </tr>\n",
       "  </thead>\n",
       "  <tbody>\n",
       "    <tr>\n",
       "      <th>0</th>\n",
       "      <td>CS006214000001</td>\n",
       "      <td>20181103</td>\n",
       "      <td>20150201</td>\n",
       "      <td>3</td>\n",
       "    </tr>\n",
       "    <tr>\n",
       "      <th>1</th>\n",
       "      <td>CS006214000001</td>\n",
       "      <td>20170509</td>\n",
       "      <td>20150201</td>\n",
       "      <td>2</td>\n",
       "    </tr>\n",
       "    <tr>\n",
       "      <th>2</th>\n",
       "      <td>CS006214000001</td>\n",
       "      <td>20170608</td>\n",
       "      <td>20150201</td>\n",
       "      <td>2</td>\n",
       "    </tr>\n",
       "    <tr>\n",
       "      <th>3</th>\n",
       "      <td>CS006214000001</td>\n",
       "      <td>20170608</td>\n",
       "      <td>20150201</td>\n",
       "      <td>2</td>\n",
       "    </tr>\n",
       "    <tr>\n",
       "      <th>4</th>\n",
       "      <td>CS006214000001</td>\n",
       "      <td>20181028</td>\n",
       "      <td>20150201</td>\n",
       "      <td>3</td>\n",
       "    </tr>\n",
       "    <tr>\n",
       "      <th>5</th>\n",
       "      <td>CS006214000001</td>\n",
       "      <td>20181028</td>\n",
       "      <td>20150201</td>\n",
       "      <td>3</td>\n",
       "    </tr>\n",
       "    <tr>\n",
       "      <th>6</th>\n",
       "      <td>CS006214000001</td>\n",
       "      <td>20170509</td>\n",
       "      <td>20150201</td>\n",
       "      <td>2</td>\n",
       "    </tr>\n",
       "    <tr>\n",
       "      <th>7</th>\n",
       "      <td>CS006214000001</td>\n",
       "      <td>20190908</td>\n",
       "      <td>20150201</td>\n",
       "      <td>4</td>\n",
       "    </tr>\n",
       "    <tr>\n",
       "      <th>8</th>\n",
       "      <td>CS006214000001</td>\n",
       "      <td>20180131</td>\n",
       "      <td>20150201</td>\n",
       "      <td>2</td>\n",
       "    </tr>\n",
       "    <tr>\n",
       "      <th>9</th>\n",
       "      <td>CS006214000001</td>\n",
       "      <td>20170705</td>\n",
       "      <td>20150201</td>\n",
       "      <td>2</td>\n",
       "    </tr>\n",
       "  </tbody>\n",
       "</table>\n",
       "</div>"
      ],
      "text/plain": [
       "      customer_id  sales_ymd  application_date  years\n",
       "0  CS006214000001   20181103          20150201      3\n",
       "1  CS006214000001   20170509          20150201      2\n",
       "2  CS006214000001   20170608          20150201      2\n",
       "3  CS006214000001   20170608          20150201      2\n",
       "4  CS006214000001   20181028          20150201      3\n",
       "5  CS006214000001   20181028          20150201      3\n",
       "6  CS006214000001   20170509          20150201      2\n",
       "7  CS006214000001   20190908          20150201      4\n",
       "8  CS006214000001   20180131          20150201      2\n",
       "9  CS006214000001   20170705          20150201      2"
      ]
     },
     "execution_count": 118,
     "metadata": {},
     "output_type": "execute_result"
    }
   ],
   "source": [
    "df72 = pd.merge(df_receipt,df_customer)[[\"customer_id\", \"sales_ymd\", \"application_date\"]]\n",
    "df72[\"x\"] = pd.to_datetime(df72[\"sales_ymd\"].astype(str))\n",
    "df72[\"y\"] = pd.to_datetime(df72[\"application_date\"].astype(str))\n",
    "df72[\"days\"] = df72[\"x\"] - df72[\"y\"]\n",
    "df72[\"years\"] = df72[\"days\"] // np.timedelta64(1, 'Y')\n",
    "df72 = df72[[\"customer_id\", \"sales_ymd\", \"application_date\", \"years\"]]\n",
    "df72.head(10)"
   ]
  },
  {
   "cell_type": "markdown",
   "metadata": {
    "id": "Z5-u-KYhhhzi"
   },
   "source": [
    "## P073"
   ]
  },
  {
   "cell_type": "markdown",
   "metadata": {
    "id": "-PsOPZZBhhzj"
   },
   "source": [
    "---\n",
    "> P-073: レシート明細データフレーム（df_receipt）の売上日（sales_ymd）に対し、顧客データフレーム（df_customer）の会員申込日（application_date）からのエポック秒による経過時間を計算し、顧客ID（customer_id）、売上日、会員申込日とともに表示せよ。結果は10件表示させれば良い（なお、sales_ymdは数値、application_dateは文字列でデータを保持している点に注意）。なお、時間情報は保有していないため各日付は0時0分0秒を表すものとする。"
   ]
  },
  {
   "cell_type": "code",
   "execution_count": 119,
   "metadata": {
    "id": "vUrvuOBfhhzj"
   },
   "outputs": [
    {
     "data": {
      "text/html": [
       "<div>\n",
       "<style scoped>\n",
       "    .dataframe tbody tr th:only-of-type {\n",
       "        vertical-align: middle;\n",
       "    }\n",
       "\n",
       "    .dataframe tbody tr th {\n",
       "        vertical-align: top;\n",
       "    }\n",
       "\n",
       "    .dataframe thead th {\n",
       "        text-align: right;\n",
       "    }\n",
       "</style>\n",
       "<table border=\"1\" class=\"dataframe\">\n",
       "  <thead>\n",
       "    <tr style=\"text-align: right;\">\n",
       "      <th></th>\n",
       "      <th>customer_id</th>\n",
       "      <th>sales_ymd</th>\n",
       "      <th>application_date</th>\n",
       "      <th>milliseconds</th>\n",
       "    </tr>\n",
       "  </thead>\n",
       "  <tbody>\n",
       "    <tr>\n",
       "      <th>0</th>\n",
       "      <td>CS006214000001</td>\n",
       "      <td>20181103</td>\n",
       "      <td>20150201</td>\n",
       "      <td>118454400000</td>\n",
       "    </tr>\n",
       "    <tr>\n",
       "      <th>1</th>\n",
       "      <td>CS006214000001</td>\n",
       "      <td>20170509</td>\n",
       "      <td>20150201</td>\n",
       "      <td>71539200000</td>\n",
       "    </tr>\n",
       "    <tr>\n",
       "      <th>2</th>\n",
       "      <td>CS006214000001</td>\n",
       "      <td>20170608</td>\n",
       "      <td>20150201</td>\n",
       "      <td>74131200000</td>\n",
       "    </tr>\n",
       "    <tr>\n",
       "      <th>3</th>\n",
       "      <td>CS006214000001</td>\n",
       "      <td>20170608</td>\n",
       "      <td>20150201</td>\n",
       "      <td>74131200000</td>\n",
       "    </tr>\n",
       "    <tr>\n",
       "      <th>4</th>\n",
       "      <td>CS006214000001</td>\n",
       "      <td>20181028</td>\n",
       "      <td>20150201</td>\n",
       "      <td>117936000000</td>\n",
       "    </tr>\n",
       "    <tr>\n",
       "      <th>5</th>\n",
       "      <td>CS006214000001</td>\n",
       "      <td>20181028</td>\n",
       "      <td>20150201</td>\n",
       "      <td>117936000000</td>\n",
       "    </tr>\n",
       "    <tr>\n",
       "      <th>6</th>\n",
       "      <td>CS006214000001</td>\n",
       "      <td>20170509</td>\n",
       "      <td>20150201</td>\n",
       "      <td>71539200000</td>\n",
       "    </tr>\n",
       "    <tr>\n",
       "      <th>7</th>\n",
       "      <td>CS006214000001</td>\n",
       "      <td>20190908</td>\n",
       "      <td>20150201</td>\n",
       "      <td>145152000000</td>\n",
       "    </tr>\n",
       "    <tr>\n",
       "      <th>8</th>\n",
       "      <td>CS006214000001</td>\n",
       "      <td>20180131</td>\n",
       "      <td>20150201</td>\n",
       "      <td>94608000000</td>\n",
       "    </tr>\n",
       "    <tr>\n",
       "      <th>9</th>\n",
       "      <td>CS006214000001</td>\n",
       "      <td>20170705</td>\n",
       "      <td>20150201</td>\n",
       "      <td>76464000000</td>\n",
       "    </tr>\n",
       "  </tbody>\n",
       "</table>\n",
       "</div>"
      ],
      "text/plain": [
       "      customer_id  sales_ymd  application_date  milliseconds\n",
       "0  CS006214000001   20181103          20150201  118454400000\n",
       "1  CS006214000001   20170509          20150201   71539200000\n",
       "2  CS006214000001   20170608          20150201   74131200000\n",
       "3  CS006214000001   20170608          20150201   74131200000\n",
       "4  CS006214000001   20181028          20150201  117936000000\n",
       "5  CS006214000001   20181028          20150201  117936000000\n",
       "6  CS006214000001   20170509          20150201   71539200000\n",
       "7  CS006214000001   20190908          20150201  145152000000\n",
       "8  CS006214000001   20180131          20150201   94608000000\n",
       "9  CS006214000001   20170705          20150201   76464000000"
      ]
     },
     "execution_count": 119,
     "metadata": {},
     "output_type": "execute_result"
    }
   ],
   "source": [
    "df73 = pd.merge(df_receipt,df_customer)[[\"customer_id\", \"sales_ymd\", \"application_date\"]]\n",
    "df73[\"x\"] = pd.to_datetime(df73[\"sales_ymd\"].astype(str))\n",
    "df73[\"y\"] = pd.to_datetime(df73[\"application_date\"].astype(str))\n",
    "df73[\"days\"] = df73[\"x\"] - df73[\"y\"]\n",
    "df73[\"milliseconds\"] = df73[\"days\"] // pd.Timedelta(\"1ms\")\n",
    "df73 = df73[[\"customer_id\", \"sales_ymd\", \"application_date\", \"milliseconds\"]]\n",
    "df73.head(10)"
   ]
  },
  {
   "cell_type": "markdown",
   "metadata": {
    "id": "RLF86r2D2XgF"
   },
   "source": [
    "## P074"
   ]
  },
  {
   "cell_type": "markdown",
   "metadata": {
    "id": "u_8UNALZhhzk"
   },
   "source": [
    "---\n",
    "> P-074: レシート明細データフレーム（df_receipt）の売上日（sales_ymd）に対し、当該週の月曜日からの経過日数を計算し、売上日、当該週の月曜日付とともに表示せよ。結果は10件表示させれば良い（なお、sales_ymdは数値でデータを保持している点に注意）。"
   ]
  },
  {
   "cell_type": "code",
   "execution_count": 120,
   "metadata": {},
   "outputs": [],
   "source": [
    "from datetime import timedelta\n",
    "def get_monday(x):\n",
    "    w = x.weekday()\n",
    "    return x - timedelta(days=w)"
   ]
  },
  {
   "cell_type": "code",
   "execution_count": 121,
   "metadata": {
    "id": "mCtL5g4mhhzk"
   },
   "outputs": [
    {
     "data": {
      "text/html": [
       "<div>\n",
       "<style scoped>\n",
       "    .dataframe tbody tr th:only-of-type {\n",
       "        vertical-align: middle;\n",
       "    }\n",
       "\n",
       "    .dataframe tbody tr th {\n",
       "        vertical-align: top;\n",
       "    }\n",
       "\n",
       "    .dataframe thead th {\n",
       "        text-align: right;\n",
       "    }\n",
       "</style>\n",
       "<table border=\"1\" class=\"dataframe\">\n",
       "  <thead>\n",
       "    <tr style=\"text-align: right;\">\n",
       "      <th></th>\n",
       "      <th>sales_ymd</th>\n",
       "      <th>w</th>\n",
       "      <th>monday</th>\n",
       "    </tr>\n",
       "  </thead>\n",
       "  <tbody>\n",
       "    <tr>\n",
       "      <th>0</th>\n",
       "      <td>20181103</td>\n",
       "      <td>5</td>\n",
       "      <td>2018-10-29</td>\n",
       "    </tr>\n",
       "    <tr>\n",
       "      <th>1</th>\n",
       "      <td>20181118</td>\n",
       "      <td>6</td>\n",
       "      <td>2018-11-12</td>\n",
       "    </tr>\n",
       "    <tr>\n",
       "      <th>2</th>\n",
       "      <td>20170712</td>\n",
       "      <td>2</td>\n",
       "      <td>2017-07-10</td>\n",
       "    </tr>\n",
       "    <tr>\n",
       "      <th>3</th>\n",
       "      <td>20190205</td>\n",
       "      <td>1</td>\n",
       "      <td>2019-02-04</td>\n",
       "    </tr>\n",
       "    <tr>\n",
       "      <th>4</th>\n",
       "      <td>20180821</td>\n",
       "      <td>1</td>\n",
       "      <td>2018-08-20</td>\n",
       "    </tr>\n",
       "    <tr>\n",
       "      <th>5</th>\n",
       "      <td>20190605</td>\n",
       "      <td>2</td>\n",
       "      <td>2019-06-03</td>\n",
       "    </tr>\n",
       "    <tr>\n",
       "      <th>6</th>\n",
       "      <td>20181205</td>\n",
       "      <td>2</td>\n",
       "      <td>2018-12-03</td>\n",
       "    </tr>\n",
       "    <tr>\n",
       "      <th>7</th>\n",
       "      <td>20190922</td>\n",
       "      <td>6</td>\n",
       "      <td>2019-09-16</td>\n",
       "    </tr>\n",
       "    <tr>\n",
       "      <th>8</th>\n",
       "      <td>20170504</td>\n",
       "      <td>3</td>\n",
       "      <td>2017-05-01</td>\n",
       "    </tr>\n",
       "    <tr>\n",
       "      <th>9</th>\n",
       "      <td>20191010</td>\n",
       "      <td>3</td>\n",
       "      <td>2019-10-07</td>\n",
       "    </tr>\n",
       "  </tbody>\n",
       "</table>\n",
       "</div>"
      ],
      "text/plain": [
       "   sales_ymd  w     monday\n",
       "0   20181103  5 2018-10-29\n",
       "1   20181118  6 2018-11-12\n",
       "2   20170712  2 2017-07-10\n",
       "3   20190205  1 2019-02-04\n",
       "4   20180821  1 2018-08-20\n",
       "5   20190605  2 2019-06-03\n",
       "6   20181205  2 2018-12-03\n",
       "7   20190922  6 2019-09-16\n",
       "8   20170504  3 2017-05-01\n",
       "9   20191010  3 2019-10-07"
      ]
     },
     "execution_count": 121,
     "metadata": {},
     "output_type": "execute_result"
    }
   ],
   "source": [
    "df74 = df_receipt.copy()\n",
    "df74[\"sales_date\"] = pd.to_datetime(df74[\"sales_ymd\"].astype(str))\n",
    "df74[\"monday\"] = df74[\"sales_date\"].apply(get_monday)\n",
    "df74[\"w\"] = df74[\"sales_date\"].dt.weekday\n",
    "df74 = df74[[\"sales_ymd\",\"w\", \"monday\"]]\n",
    "df74.head(10)"
   ]
  },
  {
   "cell_type": "markdown",
   "metadata": {
    "id": "att5C2mk2Yhu"
   },
   "source": [
    "## P075"
   ]
  },
  {
   "cell_type": "markdown",
   "metadata": {
    "id": "2Jxo_7quhhzl"
   },
   "source": [
    "---\n",
    "> P-075: 顧客データフレーム（df_customer）からランダムに1%のデータを抽出し、先頭から10件データを抽出せよ。"
   ]
  },
  {
   "cell_type": "code",
   "execution_count": 122,
   "metadata": {
    "id": "IlLf0t38hhzl"
   },
   "outputs": [
    {
     "data": {
      "text/html": [
       "<div>\n",
       "<style scoped>\n",
       "    .dataframe tbody tr th:only-of-type {\n",
       "        vertical-align: middle;\n",
       "    }\n",
       "\n",
       "    .dataframe tbody tr th {\n",
       "        vertical-align: top;\n",
       "    }\n",
       "\n",
       "    .dataframe thead th {\n",
       "        text-align: right;\n",
       "    }\n",
       "</style>\n",
       "<table border=\"1\" class=\"dataframe\">\n",
       "  <thead>\n",
       "    <tr style=\"text-align: right;\">\n",
       "      <th></th>\n",
       "      <th>customer_id</th>\n",
       "      <th>customer_name</th>\n",
       "      <th>gender_cd</th>\n",
       "      <th>gender</th>\n",
       "      <th>birth_day</th>\n",
       "      <th>age</th>\n",
       "      <th>postal_cd</th>\n",
       "      <th>address</th>\n",
       "      <th>application_store_cd</th>\n",
       "      <th>application_date</th>\n",
       "      <th>status_cd</th>\n",
       "    </tr>\n",
       "  </thead>\n",
       "  <tbody>\n",
       "    <tr>\n",
       "      <th>20767</th>\n",
       "      <td>CS010305000005</td>\n",
       "      <td>沢田 ヒロ</td>\n",
       "      <td>0</td>\n",
       "      <td>男性</td>\n",
       "      <td>1979-03-10</td>\n",
       "      <td>40</td>\n",
       "      <td>222-0023</td>\n",
       "      <td>神奈川県横浜市港北区仲手原**********</td>\n",
       "      <td>S14010</td>\n",
       "      <td>20150725</td>\n",
       "      <td>6-20100226-8</td>\n",
       "    </tr>\n",
       "    <tr>\n",
       "      <th>2483</th>\n",
       "      <td>CS014514000116</td>\n",
       "      <td>中村 夏空</td>\n",
       "      <td>1</td>\n",
       "      <td>女性</td>\n",
       "      <td>1964-01-27</td>\n",
       "      <td>55</td>\n",
       "      <td>263-0011</td>\n",
       "      <td>千葉県千葉市稲毛区天台町**********</td>\n",
       "      <td>S12014</td>\n",
       "      <td>20160216</td>\n",
       "      <td>7-20100222-3</td>\n",
       "    </tr>\n",
       "    <tr>\n",
       "      <th>3916</th>\n",
       "      <td>CS006514000018</td>\n",
       "      <td>西谷 みゆき</td>\n",
       "      <td>1</td>\n",
       "      <td>女性</td>\n",
       "      <td>1962-09-02</td>\n",
       "      <td>56</td>\n",
       "      <td>224-0053</td>\n",
       "      <td>神奈川県横浜市都筑区池辺町**********</td>\n",
       "      <td>S14006</td>\n",
       "      <td>20150729</td>\n",
       "      <td>9-20081207-9</td>\n",
       "    </tr>\n",
       "    <tr>\n",
       "      <th>17395</th>\n",
       "      <td>CS007413000084</td>\n",
       "      <td>河野 菜摘</td>\n",
       "      <td>1</td>\n",
       "      <td>女性</td>\n",
       "      <td>1974-06-06</td>\n",
       "      <td>44</td>\n",
       "      <td>285-0855</td>\n",
       "      <td>千葉県佐倉市井野**********</td>\n",
       "      <td>S12007</td>\n",
       "      <td>20150523</td>\n",
       "      <td>0-00000000-0</td>\n",
       "    </tr>\n",
       "    <tr>\n",
       "      <th>2968</th>\n",
       "      <td>CS018504000014</td>\n",
       "      <td>塚田 克実</td>\n",
       "      <td>0</td>\n",
       "      <td>男性</td>\n",
       "      <td>1959-08-02</td>\n",
       "      <td>59</td>\n",
       "      <td>352-0032</td>\n",
       "      <td>埼玉県新座市新堀**********</td>\n",
       "      <td>S13018</td>\n",
       "      <td>20150615</td>\n",
       "      <td>0-00000000-0</td>\n",
       "    </tr>\n",
       "    <tr>\n",
       "      <th>21251</th>\n",
       "      <td>CS031615000147</td>\n",
       "      <td>野田 瞬</td>\n",
       "      <td>1</td>\n",
       "      <td>女性</td>\n",
       "      <td>1957-01-10</td>\n",
       "      <td>62</td>\n",
       "      <td>151-0062</td>\n",
       "      <td>東京都渋谷区元代々木町**********</td>\n",
       "      <td>S13031</td>\n",
       "      <td>20170706</td>\n",
       "      <td>0-00000000-0</td>\n",
       "    </tr>\n",
       "    <tr>\n",
       "      <th>7997</th>\n",
       "      <td>CS013215000045</td>\n",
       "      <td>三好 由宇</td>\n",
       "      <td>1</td>\n",
       "      <td>女性</td>\n",
       "      <td>1996-05-31</td>\n",
       "      <td>22</td>\n",
       "      <td>261-0026</td>\n",
       "      <td>千葉県千葉市美浜区幕張西**********</td>\n",
       "      <td>S12013</td>\n",
       "      <td>20150830</td>\n",
       "      <td>D-20101021-C</td>\n",
       "    </tr>\n",
       "    <tr>\n",
       "      <th>19386</th>\n",
       "      <td>CS025411000034</td>\n",
       "      <td>水上 朝陽</td>\n",
       "      <td>1</td>\n",
       "      <td>女性</td>\n",
       "      <td>1976-08-24</td>\n",
       "      <td>42</td>\n",
       "      <td>242-0011</td>\n",
       "      <td>神奈川県大和市深見**********</td>\n",
       "      <td>S14025</td>\n",
       "      <td>20150328</td>\n",
       "      <td>5-20091215-6</td>\n",
       "    </tr>\n",
       "    <tr>\n",
       "      <th>6678</th>\n",
       "      <td>CS009612000101</td>\n",
       "      <td>田辺 りえ</td>\n",
       "      <td>1</td>\n",
       "      <td>女性</td>\n",
       "      <td>1952-07-28</td>\n",
       "      <td>66</td>\n",
       "      <td>154-0003</td>\n",
       "      <td>東京都世田谷区野沢**********</td>\n",
       "      <td>S13009</td>\n",
       "      <td>20170120</td>\n",
       "      <td>0-00000000-0</td>\n",
       "    </tr>\n",
       "    <tr>\n",
       "      <th>17009</th>\n",
       "      <td>CS017515000133</td>\n",
       "      <td>稲田 みゆき</td>\n",
       "      <td>1</td>\n",
       "      <td>女性</td>\n",
       "      <td>1987-01-23</td>\n",
       "      <td>32</td>\n",
       "      <td>272-0022</td>\n",
       "      <td>千葉県市川市鬼越**********</td>\n",
       "      <td>S13017</td>\n",
       "      <td>20150508</td>\n",
       "      <td>F-20090702-D</td>\n",
       "    </tr>\n",
       "  </tbody>\n",
       "</table>\n",
       "</div>"
      ],
      "text/plain": [
       "          customer_id customer_name  gender_cd gender   birth_day  age  \\\n",
       "20767  CS010305000005         沢田 ヒロ          0     男性  1979-03-10   40   \n",
       "2483   CS014514000116         中村 夏空          1     女性  1964-01-27   55   \n",
       "3916   CS006514000018        西谷 みゆき          1     女性  1962-09-02   56   \n",
       "17395  CS007413000084         河野 菜摘          1     女性  1974-06-06   44   \n",
       "2968   CS018504000014         塚田 克実          0     男性  1959-08-02   59   \n",
       "21251  CS031615000147          野田 瞬          1     女性  1957-01-10   62   \n",
       "7997   CS013215000045         三好 由宇          1     女性  1996-05-31   22   \n",
       "19386  CS025411000034         水上 朝陽          1     女性  1976-08-24   42   \n",
       "6678   CS009612000101         田辺 りえ          1     女性  1952-07-28   66   \n",
       "17009  CS017515000133        稲田 みゆき          1     女性  1987-01-23   32   \n",
       "\n",
       "      postal_cd                  address application_store_cd  \\\n",
       "20767  222-0023  神奈川県横浜市港北区仲手原**********               S14010   \n",
       "2483   263-0011   千葉県千葉市稲毛区天台町**********               S12014   \n",
       "3916   224-0053  神奈川県横浜市都筑区池辺町**********               S14006   \n",
       "17395  285-0855       千葉県佐倉市井野**********               S12007   \n",
       "2968   352-0032       埼玉県新座市新堀**********               S13018   \n",
       "21251  151-0062    東京都渋谷区元代々木町**********               S13031   \n",
       "7997   261-0026   千葉県千葉市美浜区幕張西**********               S12013   \n",
       "19386  242-0011      神奈川県大和市深見**********               S14025   \n",
       "6678   154-0003      東京都世田谷区野沢**********               S13009   \n",
       "17009  272-0022       千葉県市川市鬼越**********               S13017   \n",
       "\n",
       "       application_date     status_cd  \n",
       "20767          20150725  6-20100226-8  \n",
       "2483           20160216  7-20100222-3  \n",
       "3916           20150729  9-20081207-9  \n",
       "17395          20150523  0-00000000-0  \n",
       "2968           20150615  0-00000000-0  \n",
       "21251          20170706  0-00000000-0  \n",
       "7997           20150830  D-20101021-C  \n",
       "19386          20150328  5-20091215-6  \n",
       "6678           20170120  0-00000000-0  \n",
       "17009          20150508  F-20090702-D  "
      ]
     },
     "execution_count": 122,
     "metadata": {},
     "output_type": "execute_result"
    }
   ],
   "source": [
    "# https://note.nkmk.me/python-pandas-sample/\n",
    "df75 = df_customer.copy()\n",
    "df75.sample(frac=0.01).head(10)"
   ]
  },
  {
   "cell_type": "markdown",
   "metadata": {
    "id": "GyvpO_HK2Zg-"
   },
   "source": [
    "## P076"
   ]
  },
  {
   "cell_type": "markdown",
   "metadata": {
    "id": "aln1Xt5ghhzm"
   },
   "source": [
    "---\n",
    "> P-076: 顧客データフレーム（df_customer）から性別（gender_cd）の割合に基づきランダムに10%のデータを層化抽出データし、性別ごとに件数を集計せよ。"
   ]
  },
  {
   "cell_type": "code",
   "execution_count": 123,
   "metadata": {
    "id": "RbrjkGllhhzm"
   },
   "outputs": [
    {
     "data": {
      "text/html": [
       "<div>\n",
       "<style scoped>\n",
       "    .dataframe tbody tr th:only-of-type {\n",
       "        vertical-align: middle;\n",
       "    }\n",
       "\n",
       "    .dataframe tbody tr th {\n",
       "        vertical-align: top;\n",
       "    }\n",
       "\n",
       "    .dataframe thead th {\n",
       "        text-align: right;\n",
       "    }\n",
       "</style>\n",
       "<table border=\"1\" class=\"dataframe\">\n",
       "  <thead>\n",
       "    <tr style=\"text-align: right;\">\n",
       "      <th></th>\n",
       "      <th>customer_id</th>\n",
       "    </tr>\n",
       "    <tr>\n",
       "      <th>gender_cd</th>\n",
       "      <th></th>\n",
       "    </tr>\n",
       "  </thead>\n",
       "  <tbody>\n",
       "    <tr>\n",
       "      <th>0</th>\n",
       "      <td>295</td>\n",
       "    </tr>\n",
       "    <tr>\n",
       "      <th>1</th>\n",
       "      <td>1794</td>\n",
       "    </tr>\n",
       "    <tr>\n",
       "      <th>9</th>\n",
       "      <td>108</td>\n",
       "    </tr>\n",
       "  </tbody>\n",
       "</table>\n",
       "</div>"
      ],
      "text/plain": [
       "           customer_id\n",
       "gender_cd             \n",
       "0                  295\n",
       "1                 1794\n",
       "9                  108"
      ]
     },
     "execution_count": 123,
     "metadata": {},
     "output_type": "execute_result"
    }
   ],
   "source": [
    "df76 = df_customer.copy()\n",
    "df76_10 = df76.sample(frac=0.1)\n",
    "df76_10_ans = df76_10.groupby(\"gender_cd\")[[\"customer_id\"]].count()\n",
    "df76_10_ans"
   ]
  },
  {
   "cell_type": "code",
   "execution_count": 124,
   "metadata": {},
   "outputs": [
    {
     "name": "stdout",
     "output_type": "stream",
     "text": [
      "0.8155295616949615 0.13567884939238087 0.04879158891265759\n"
     ]
    }
   ],
   "source": [
    "df76 = df_customer.copy()\n",
    "# all_count = df76[\"customer_id\"].count()\n",
    "count_1,count_0,count_9 = df76[\"gender_cd\"].value_counts(normalize=True)\n",
    "print(count_1,count_0,count_9)"
   ]
  },
  {
   "cell_type": "markdown",
   "metadata": {
    "id": "oGIm_IEU2by3"
   },
   "source": [
    "## P077"
   ]
  },
  {
   "cell_type": "markdown",
   "metadata": {
    "id": "VPRFv68Jhhzn"
   },
   "source": [
    "---\n",
    "> P-077: レシート明細データフレーム（df_receipt）の売上金額（amount）を顧客単位に合計し、合計した売上金額の外れ値を抽出せよ。ただし、顧客IDが\"Z\"から始まるのものは非会員を表すため、除外して計算すること。なお、ここでは外れ値を平均から3σ以上離れたものとする。結果は10件表示させれば良い。"
   ]
  },
  {
   "cell_type": "code",
   "execution_count": 125,
   "metadata": {
    "id": "7_EgePw6hhzn"
   },
   "outputs": [
    {
     "data": {
      "text/html": [
       "<div>\n",
       "<style scoped>\n",
       "    .dataframe tbody tr th:only-of-type {\n",
       "        vertical-align: middle;\n",
       "    }\n",
       "\n",
       "    .dataframe tbody tr th {\n",
       "        vertical-align: top;\n",
       "    }\n",
       "\n",
       "    .dataframe thead th {\n",
       "        text-align: right;\n",
       "    }\n",
       "</style>\n",
       "<table border=\"1\" class=\"dataframe\">\n",
       "  <thead>\n",
       "    <tr style=\"text-align: right;\">\n",
       "      <th></th>\n",
       "      <th>amount</th>\n",
       "    </tr>\n",
       "    <tr>\n",
       "      <th>customer_id</th>\n",
       "      <th></th>\n",
       "    </tr>\n",
       "  </thead>\n",
       "  <tbody>\n",
       "    <tr>\n",
       "      <th>CS001605000009</th>\n",
       "      <td>18925</td>\n",
       "    </tr>\n",
       "    <tr>\n",
       "      <th>CS006415000147</th>\n",
       "      <td>12723</td>\n",
       "    </tr>\n",
       "    <tr>\n",
       "      <th>CS006515000023</th>\n",
       "      <td>18372</td>\n",
       "    </tr>\n",
       "    <tr>\n",
       "      <th>CS006515000125</th>\n",
       "      <td>12575</td>\n",
       "    </tr>\n",
       "    <tr>\n",
       "      <th>CS006515000209</th>\n",
       "      <td>11373</td>\n",
       "    </tr>\n",
       "    <tr>\n",
       "      <th>CS007115000006</th>\n",
       "      <td>11528</td>\n",
       "    </tr>\n",
       "    <tr>\n",
       "      <th>CS007514000056</th>\n",
       "      <td>13293</td>\n",
       "    </tr>\n",
       "    <tr>\n",
       "      <th>CS007514000094</th>\n",
       "      <td>15735</td>\n",
       "    </tr>\n",
       "    <tr>\n",
       "      <th>CS007515000107</th>\n",
       "      <td>11188</td>\n",
       "    </tr>\n",
       "    <tr>\n",
       "      <th>CS007615000026</th>\n",
       "      <td>11959</td>\n",
       "    </tr>\n",
       "  </tbody>\n",
       "</table>\n",
       "</div>"
      ],
      "text/plain": [
       "                amount\n",
       "customer_id           \n",
       "CS001605000009   18925\n",
       "CS006415000147   12723\n",
       "CS006515000023   18372\n",
       "CS006515000125   12575\n",
       "CS006515000209   11373\n",
       "CS007115000006   11528\n",
       "CS007514000056   13293\n",
       "CS007514000094   15735\n",
       "CS007515000107   11188\n",
       "CS007615000026   11959"
      ]
     },
     "execution_count": 125,
     "metadata": {},
     "output_type": "execute_result"
    }
   ],
   "source": [
    "# https://mathwords.net/sigumakukan\n",
    "df77 = df_receipt.copy()\n",
    "df77 = df77[~df77[\"customer_id\"].str.startswith(\"Z\")]\n",
    "df77_sum = df77.groupby(\"customer_id\")[[\"amount\"]].sum()\n",
    "\n",
    "df77_average = np.mean(df77_sum[\"amount\"])\n",
    "df77_sd = np.std(df77_sum[\"amount\"])\n",
    "\n",
    "# 外れ値の基準点\n",
    "outlier_min = df77_average - (df77_sd) * 3\n",
    "outlier_max = df77_average + (df77_sd) * 3\n",
    "\n",
    "df77_sum[(df77_sum[\"amount\"] <= outlier_min) | (df77_sum[\"amount\"] >= outlier_max)].head(10)"
   ]
  },
  {
   "cell_type": "code",
   "execution_count": 126,
   "metadata": {},
   "outputs": [
    {
     "data": {
      "text/plain": [
       "<AxesSubplot:ylabel='Frequency'>"
      ]
     },
     "execution_count": 126,
     "metadata": {},
     "output_type": "execute_result"
    },
    {
     "data": {
      "image/png": "[encoded data removed]",
      "text/plain": [
       "<Figure size 432x288 with 1 Axes>"
      ]
     },
     "metadata": {
      "needs_background": "light"
     },
     "output_type": "display_data"
    }
   ],
   "source": [
    "(df77_sum - df77_average).plot(kind=\"hist\", bins=100)"
   ]
  },
  {
   "cell_type": "markdown",
   "metadata": {},
   "source": [
    "↑宿題ここまで2020-12-20"
   ]
  },
  {
   "cell_type": "markdown",
   "metadata": {
    "id": "EFUaCN222dvW"
   },
   "source": [
    "## P078"
   ]
  },
  {
   "cell_type": "markdown",
   "metadata": {
    "id": "BatcRBrehhzp"
   },
   "source": [
    "---\n",
    "> P-078: レシート明細データフレーム（df_receipt）の売上金額（amount）を顧客単位に合計し、合計した売上金額の外れ値を抽出せよ。ただし、顧客IDが\"Z\"から始まるのものは非会員を表すため、除外して計算すること。なお、ここでは外れ値を第一四分位と第三四分位の差であるIQRを用いて、「第一四分位数-1.5×IQR」よりも下回るもの、または「第三四分位数+1.5×IQR」を超えるものとする。結果は10件表示させれば良い。"
   ]
  },
  {
   "cell_type": "code",
   "execution_count": 127,
   "metadata": {
    "id": "4RvDfhvChhzp"
   },
   "outputs": [
    {
     "data": {
      "text/html": [
       "<div>\n",
       "<style scoped>\n",
       "    .dataframe tbody tr th:only-of-type {\n",
       "        vertical-align: middle;\n",
       "    }\n",
       "\n",
       "    .dataframe tbody tr th {\n",
       "        vertical-align: top;\n",
       "    }\n",
       "\n",
       "    .dataframe thead th {\n",
       "        text-align: right;\n",
       "    }\n",
       "</style>\n",
       "<table border=\"1\" class=\"dataframe\">\n",
       "  <thead>\n",
       "    <tr style=\"text-align: right;\">\n",
       "      <th></th>\n",
       "      <th>sales_ymd</th>\n",
       "      <th>sales_epoch</th>\n",
       "      <th>receipt_no</th>\n",
       "      <th>receipt_sub_no</th>\n",
       "      <th>quantity</th>\n",
       "      <th>amount</th>\n",
       "    </tr>\n",
       "  </thead>\n",
       "  <tbody>\n",
       "    <tr>\n",
       "      <th>0.00</th>\n",
       "      <td>20170101.0</td>\n",
       "      <td>1.483229e+09</td>\n",
       "      <td>112.0</td>\n",
       "      <td>1.0</td>\n",
       "      <td>1.0</td>\n",
       "      <td>10.0</td>\n",
       "    </tr>\n",
       "    <tr>\n",
       "      <th>0.25</th>\n",
       "      <td>20170919.0</td>\n",
       "      <td>1.505779e+09</td>\n",
       "      <td>1112.0</td>\n",
       "      <td>1.0</td>\n",
       "      <td>1.0</td>\n",
       "      <td>102.0</td>\n",
       "    </tr>\n",
       "    <tr>\n",
       "      <th>0.50</th>\n",
       "      <td>20180611.0</td>\n",
       "      <td>1.528675e+09</td>\n",
       "      <td>1142.0</td>\n",
       "      <td>1.5</td>\n",
       "      <td>1.0</td>\n",
       "      <td>170.0</td>\n",
       "    </tr>\n",
       "    <tr>\n",
       "      <th>0.75</th>\n",
       "      <td>20190224.0</td>\n",
       "      <td>1.550966e+09</td>\n",
       "      <td>1172.0</td>\n",
       "      <td>2.0</td>\n",
       "      <td>1.0</td>\n",
       "      <td>288.0</td>\n",
       "    </tr>\n",
       "    <tr>\n",
       "      <th>1.00</th>\n",
       "      <td>20191031.0</td>\n",
       "      <td>1.572480e+09</td>\n",
       "      <td>1640.0</td>\n",
       "      <td>2.0</td>\n",
       "      <td>8.0</td>\n",
       "      <td>10925.0</td>\n",
       "    </tr>\n",
       "  </tbody>\n",
       "</table>\n",
       "</div>"
      ],
      "text/plain": [
       "       sales_ymd   sales_epoch  receipt_no  receipt_sub_no  quantity   amount\n",
       "0.00  20170101.0  1.483229e+09       112.0             1.0       1.0     10.0\n",
       "0.25  20170919.0  1.505779e+09      1112.0             1.0       1.0    102.0\n",
       "0.50  20180611.0  1.528675e+09      1142.0             1.5       1.0    170.0\n",
       "0.75  20190224.0  1.550966e+09      1172.0             2.0       1.0    288.0\n",
       "1.00  20191031.0  1.572480e+09      1640.0             2.0       8.0  10925.0"
      ]
     },
     "execution_count": 127,
     "metadata": {},
     "output_type": "execute_result"
    }
   ],
   "source": [
    "df78 = df_receipt.copy()\n",
    "df78 = df78[~df78[\"customer_id\"].str.startswith(\"Z\")]\n",
    "df78_sum = df78.groupby(\"customer_id\")[[\"amount\"]].sum()\n",
    "\n",
    "# 四分位\n",
    "qt = df78.quantile([0, 0.25, 0.5, 0.75, 1.0])\n",
    "qt"
   ]
  },
  {
   "cell_type": "code",
   "execution_count": 128,
   "metadata": {},
   "outputs": [
    {
     "data": {
      "text/plain": [
       "186.0"
      ]
     },
     "execution_count": 128,
     "metadata": {},
     "output_type": "execute_result"
    }
   ],
   "source": [
    "iqr = qt[\"amount\"][0.75] - qt[\"amount\"][0.25]\n",
    "iqr"
   ]
  },
  {
   "cell_type": "code",
   "execution_count": 129,
   "metadata": {},
   "outputs": [
    {
     "data": {
      "text/html": [
       "<div>\n",
       "<style scoped>\n",
       "    .dataframe tbody tr th:only-of-type {\n",
       "        vertical-align: middle;\n",
       "    }\n",
       "\n",
       "    .dataframe tbody tr th {\n",
       "        vertical-align: top;\n",
       "    }\n",
       "\n",
       "    .dataframe thead th {\n",
       "        text-align: right;\n",
       "    }\n",
       "</style>\n",
       "<table border=\"1\" class=\"dataframe\">\n",
       "  <thead>\n",
       "    <tr style=\"text-align: right;\">\n",
       "      <th></th>\n",
       "      <th>amount</th>\n",
       "    </tr>\n",
       "    <tr>\n",
       "      <th>customer_id</th>\n",
       "      <th></th>\n",
       "    </tr>\n",
       "  </thead>\n",
       "  <tbody>\n",
       "    <tr>\n",
       "      <th>CS001113000004</th>\n",
       "      <td>1298</td>\n",
       "    </tr>\n",
       "    <tr>\n",
       "      <th>CS001114000005</th>\n",
       "      <td>626</td>\n",
       "    </tr>\n",
       "    <tr>\n",
       "      <th>CS001115000010</th>\n",
       "      <td>3044</td>\n",
       "    </tr>\n",
       "    <tr>\n",
       "      <th>CS001205000004</th>\n",
       "      <td>1988</td>\n",
       "    </tr>\n",
       "    <tr>\n",
       "      <th>CS001205000006</th>\n",
       "      <td>3337</td>\n",
       "    </tr>\n",
       "    <tr>\n",
       "      <th>CS001214000009</th>\n",
       "      <td>4685</td>\n",
       "    </tr>\n",
       "    <tr>\n",
       "      <th>CS001214000017</th>\n",
       "      <td>4132</td>\n",
       "    </tr>\n",
       "    <tr>\n",
       "      <th>CS001214000048</th>\n",
       "      <td>2374</td>\n",
       "    </tr>\n",
       "    <tr>\n",
       "      <th>CS001214000052</th>\n",
       "      <td>5639</td>\n",
       "    </tr>\n",
       "    <tr>\n",
       "      <th>CS001215000005</th>\n",
       "      <td>735</td>\n",
       "    </tr>\n",
       "  </tbody>\n",
       "</table>\n",
       "</div>"
      ],
      "text/plain": [
       "                amount\n",
       "customer_id           \n",
       "CS001113000004    1298\n",
       "CS001114000005     626\n",
       "CS001115000010    3044\n",
       "CS001205000004    1988\n",
       "CS001205000006    3337\n",
       "CS001214000009    4685\n",
       "CS001214000017    4132\n",
       "CS001214000048    2374\n",
       "CS001214000052    5639\n",
       "CS001215000005     735"
      ]
     },
     "execution_count": 129,
     "metadata": {},
     "output_type": "execute_result"
    }
   ],
   "source": [
    "q1 = qt[\"amount\"][0.25] - 1.5*iqr\n",
    "q3 = qt[\"amount\"][0.75] + 1.5*iqr\n",
    "\n",
    "df78_sum[(df78_sum[\"amount\"] < q1) | (df78_sum[\"amount\"] > q3)].head(10)"
   ]
  },
  {
   "cell_type": "markdown",
   "metadata": {
    "id": "L5frkkpL2fA0"
   },
   "source": [
    "## P079"
   ]
  },
  {
   "cell_type": "markdown",
   "metadata": {
    "id": "boe923CMhhzq"
   },
   "source": [
    "---\n",
    "> P-079: 商品データフレーム（df_product）の各項目に対し、欠損数を確認せよ。"
   ]
  },
  {
   "cell_type": "code",
   "execution_count": 130,
   "metadata": {
    "id": "bxl__vC5hhzq"
   },
   "outputs": [
    {
     "data": {
      "text/plain": [
       "product_cd            0\n",
       "category_major_cd     0\n",
       "category_medium_cd    0\n",
       "category_small_cd     0\n",
       "unit_price            7\n",
       "unit_cost             7\n",
       "dtype: int64"
      ]
     },
     "execution_count": 130,
     "metadata": {},
     "output_type": "execute_result"
    }
   ],
   "source": [
    "df79 = df_product.copy()\n",
    "df79.isnull().sum()"
   ]
  },
  {
   "cell_type": "code",
   "execution_count": 131,
   "metadata": {},
   "outputs": [
    {
     "data": {
      "text/plain": [
       "product_cd  category_major_cd  category_medium_cd  category_small_cd  unit_price  unit_cost\n",
       "False       False              False               False              False       False        10023\n",
       "                                                                      True        True             7\n",
       "dtype: int64"
      ]
     },
     "execution_count": 131,
     "metadata": {},
     "output_type": "execute_result"
    }
   ],
   "source": [
    "df79.isnull().value_counts()"
   ]
  },
  {
   "cell_type": "markdown",
   "metadata": {
    "id": "qbty3Toh2ht5"
   },
   "source": [
    "## P080"
   ]
  },
  {
   "cell_type": "markdown",
   "metadata": {
    "id": "afprSqIvhhzs"
   },
   "source": [
    "---\n",
    "> P-080: 商品データフレーム（df_product）のいずれかの項目に欠損が発生しているレコードを全て削除した新たなdf_product_1を作成せよ。なお、削除前後の件数を表示させ、前設問で確認した件数だけ減少していることも確認すること。"
   ]
  },
  {
   "cell_type": "code",
   "execution_count": 132,
   "metadata": {
    "id": "q3_9sLdHhhzt"
   },
   "outputs": [
    {
     "data": {
      "text/plain": [
       "product_cd            10030\n",
       "category_major_cd     10030\n",
       "category_medium_cd    10030\n",
       "category_small_cd     10030\n",
       "unit_price            10023\n",
       "unit_cost             10023\n",
       "dtype: int64"
      ]
     },
     "execution_count": 132,
     "metadata": {},
     "output_type": "execute_result"
    }
   ],
   "source": [
    "df80 = df_product.copy()\n",
    "df80.count()"
   ]
  },
  {
   "cell_type": "code",
   "execution_count": 133,
   "metadata": {},
   "outputs": [
    {
     "data": {
      "text/plain": [
       "product_cd            10023\n",
       "category_major_cd     10023\n",
       "category_medium_cd    10023\n",
       "category_small_cd     10023\n",
       "unit_price            10023\n",
       "unit_cost             10023\n",
       "dtype: int64"
      ]
     },
     "execution_count": 133,
     "metadata": {},
     "output_type": "execute_result"
    }
   ],
   "source": [
    "df_product_1 = df80.dropna()\n",
    "df_product_1.count()"
   ]
  },
  {
   "cell_type": "markdown",
   "metadata": {
    "id": "5DFWtPc72rLn"
   },
   "source": [
    "## P081"
   ]
  },
  {
   "cell_type": "markdown",
   "metadata": {
    "id": "GtiO20ZKhhzu"
   },
   "source": [
    "---\n",
    "> P-081: 単価（unit_price）と原価（unit_cost）の欠損値について、それぞれの平均値で補完した新たなdf_product_2を作成せよ。なお、平均値について1円未満は四捨五入とし、0.5については偶数寄せでかまわない。補完実施後、各項目について欠損が生じていないことも確認すること。"
   ]
  },
  {
   "cell_type": "code",
   "execution_count": 134,
   "metadata": {
    "id": "puFf-7Ewhhzu"
   },
   "outputs": [
    {
     "data": {
      "text/html": [
       "<div>\n",
       "<style scoped>\n",
       "    .dataframe tbody tr th:only-of-type {\n",
       "        vertical-align: middle;\n",
       "    }\n",
       "\n",
       "    .dataframe tbody tr th {\n",
       "        vertical-align: top;\n",
       "    }\n",
       "\n",
       "    .dataframe thead th {\n",
       "        text-align: right;\n",
       "    }\n",
       "</style>\n",
       "<table border=\"1\" class=\"dataframe\">\n",
       "  <thead>\n",
       "    <tr style=\"text-align: right;\">\n",
       "      <th></th>\n",
       "      <th>product_cd</th>\n",
       "      <th>category_major_cd</th>\n",
       "      <th>category_medium_cd</th>\n",
       "      <th>category_small_cd</th>\n",
       "      <th>unit_price</th>\n",
       "      <th>unit_cost</th>\n",
       "    </tr>\n",
       "  </thead>\n",
       "  <tbody>\n",
       "    <tr>\n",
       "      <th>0</th>\n",
       "      <td>P040101001</td>\n",
       "      <td>4</td>\n",
       "      <td>401</td>\n",
       "      <td>40101</td>\n",
       "      <td>198.0</td>\n",
       "      <td>149.0</td>\n",
       "    </tr>\n",
       "    <tr>\n",
       "      <th>1</th>\n",
       "      <td>P040101002</td>\n",
       "      <td>4</td>\n",
       "      <td>401</td>\n",
       "      <td>40101</td>\n",
       "      <td>218.0</td>\n",
       "      <td>164.0</td>\n",
       "    </tr>\n",
       "    <tr>\n",
       "      <th>2</th>\n",
       "      <td>P040101003</td>\n",
       "      <td>4</td>\n",
       "      <td>401</td>\n",
       "      <td>40101</td>\n",
       "      <td>230.0</td>\n",
       "      <td>173.0</td>\n",
       "    </tr>\n",
       "    <tr>\n",
       "      <th>3</th>\n",
       "      <td>P040101004</td>\n",
       "      <td>4</td>\n",
       "      <td>401</td>\n",
       "      <td>40101</td>\n",
       "      <td>248.0</td>\n",
       "      <td>186.0</td>\n",
       "    </tr>\n",
       "    <tr>\n",
       "      <th>4</th>\n",
       "      <td>P040101005</td>\n",
       "      <td>4</td>\n",
       "      <td>401</td>\n",
       "      <td>40101</td>\n",
       "      <td>268.0</td>\n",
       "      <td>201.0</td>\n",
       "    </tr>\n",
       "  </tbody>\n",
       "</table>\n",
       "</div>"
      ],
      "text/plain": [
       "   product_cd  category_major_cd  category_medium_cd  category_small_cd  \\\n",
       "0  P040101001                  4                 401              40101   \n",
       "1  P040101002                  4                 401              40101   \n",
       "2  P040101003                  4                 401              40101   \n",
       "3  P040101004                  4                 401              40101   \n",
       "4  P040101005                  4                 401              40101   \n",
       "\n",
       "   unit_price  unit_cost  \n",
       "0       198.0      149.0  \n",
       "1       218.0      164.0  \n",
       "2       230.0      173.0  \n",
       "3       248.0      186.0  \n",
       "4       268.0      201.0  "
      ]
     },
     "execution_count": 134,
     "metadata": {},
     "output_type": "execute_result"
    }
   ],
   "source": [
    "df81 = df_product.copy()\n",
    "up = df81[\"unit_price\"].dropna().mean().round().astype(int)\n",
    "uc = df81[\"unit_cost\"].dropna().mean().round().astype(int)\n",
    "\n",
    "df_product_2 = df81.fillna({\"unit_price\": up, \"unit_cost\": uc})\n",
    "df_product_2.head()"
   ]
  },
  {
   "cell_type": "code",
   "execution_count": 135,
   "metadata": {},
   "outputs": [
    {
     "data": {
      "text/plain": [
       "product_cd            10030\n",
       "category_major_cd     10030\n",
       "category_medium_cd    10030\n",
       "category_small_cd     10030\n",
       "unit_price            10030\n",
       "unit_cost             10030\n",
       "dtype: int64"
      ]
     },
     "execution_count": 135,
     "metadata": {},
     "output_type": "execute_result"
    }
   ],
   "source": [
    "df_product_2.count()"
   ]
  },
  {
   "cell_type": "code",
   "execution_count": 136,
   "metadata": {},
   "outputs": [
    {
     "name": "stdout",
     "output_type": "stream",
     "text": [
      "403 302\n"
     ]
    }
   ],
   "source": [
    "up = df81[\"unit_price\"].mean(skipna=True).round().astype(int)\n",
    "uc = df81[\"unit_cost\"].mean(skipna=True).round().astype(int)\n",
    "print(up,uc)"
   ]
  },
  {
   "cell_type": "code",
   "execution_count": 137,
   "metadata": {},
   "outputs": [
    {
     "data": {
      "text/plain": [
       "403.0"
      ]
     },
     "execution_count": 137,
     "metadata": {},
     "output_type": "execute_result"
    }
   ],
   "source": [
    "df81_2 = df_product.copy()\n",
    "df81_2[\"unit_price\"].mean(skipna=True).round()\n",
    "#df81_2.info()"
   ]
  },
  {
   "cell_type": "code",
   "execution_count": 138,
   "metadata": {},
   "outputs": [
    {
     "data": {
      "text/plain": [
       "'1.1.4'"
      ]
     },
     "execution_count": 138,
     "metadata": {},
     "output_type": "execute_result"
    }
   ],
   "source": [
    "pd.__version__"
   ]
  },
  {
   "cell_type": "code",
   "execution_count": 139,
   "metadata": {},
   "outputs": [
    {
     "name": "stdout",
     "output_type": "stream",
     "text": [
      "\n",
      "INSTALLED VERSIONS\n",
      "------------------\n",
      "commit           : 67a3d4241ab84419856b84fc3ebc9abcbe66c6b3\n",
      "python           : 3.8.0.final.0\n",
      "python-bits      : 64\n",
      "OS               : Linux\n",
      "OS-release       : 4.4.0-19041-Microsoft\n",
      "Version          : #488-Microsoft Mon Sep 01 13:43:00 PST 2020\n",
      "machine          : x86_64\n",
      "processor        : x86_64\n",
      "byteorder        : little\n",
      "LC_ALL           : None\n",
      "LANG             : C.UTF-8\n",
      "LOCALE           : en_US.UTF-8\n",
      "\n",
      "pandas           : 1.1.4\n",
      "numpy            : 1.19.4\n",
      "pytz             : 2020.4\n",
      "dateutil         : 2.8.1\n",
      "pip              : 21.0.1\n",
      "setuptools       : 39.0.1\n",
      "Cython           : None\n",
      "pytest           : None\n",
      "hypothesis       : None\n",
      "sphinx           : None\n",
      "blosc            : None\n",
      "feather          : None\n",
      "xlsxwriter       : None\n",
      "lxml.etree       : None\n",
      "html5lib         : None\n",
      "pymysql          : None\n",
      "psycopg2         : None\n",
      "jinja2           : 2.11.2\n",
      "IPython          : 7.19.0\n",
      "pandas_datareader: None\n",
      "bs4              : None\n",
      "bottleneck       : None\n",
      "fsspec           : None\n",
      "fastparquet      : None\n",
      "gcsfs            : None\n",
      "matplotlib       : 3.3.3\n",
      "numexpr          : None\n",
      "odfpy            : None\n",
      "openpyxl         : None\n",
      "pandas_gbq       : None\n",
      "pyarrow          : None\n",
      "pytables         : None\n",
      "pyxlsb           : None\n",
      "s3fs             : None\n",
      "scipy            : 1.5.4\n",
      "sqlalchemy       : None\n",
      "tables           : None\n",
      "tabulate         : None\n",
      "xarray           : None\n",
      "xlrd             : None\n",
      "xlwt             : None\n",
      "numba            : None\n"
     ]
    }
   ],
   "source": [
    "pd.show_versions()"
   ]
  },
  {
   "cell_type": "markdown",
   "metadata": {
    "id": "MPblP9nc2sU1"
   },
   "source": [
    "## P082"
   ]
  },
  {
   "cell_type": "markdown",
   "metadata": {
    "id": "i7x6WAJ2hhzv"
   },
   "source": [
    "---\n",
    "> P-082: 単価（unit_price）と原価（unit_cost）の欠損値について、それぞれの中央値で補完した新たなdf_product_3を作成せよ。なお、中央値について1円未満は四捨五入とし、0.5については偶数寄せでかまわない。補完実施後、各項目について欠損が生じていないことも確認すること。"
   ]
  },
  {
   "cell_type": "code",
   "execution_count": 140,
   "metadata": {
    "id": "Meng_cTIhhzv"
   },
   "outputs": [
    {
     "data": {
      "text/html": [
       "<div>\n",
       "<style scoped>\n",
       "    .dataframe tbody tr th:only-of-type {\n",
       "        vertical-align: middle;\n",
       "    }\n",
       "\n",
       "    .dataframe tbody tr th {\n",
       "        vertical-align: top;\n",
       "    }\n",
       "\n",
       "    .dataframe thead th {\n",
       "        text-align: right;\n",
       "    }\n",
       "</style>\n",
       "<table border=\"1\" class=\"dataframe\">\n",
       "  <thead>\n",
       "    <tr style=\"text-align: right;\">\n",
       "      <th></th>\n",
       "      <th>product_cd</th>\n",
       "      <th>category_major_cd</th>\n",
       "      <th>category_medium_cd</th>\n",
       "      <th>category_small_cd</th>\n",
       "      <th>unit_price</th>\n",
       "      <th>unit_cost</th>\n",
       "    </tr>\n",
       "  </thead>\n",
       "  <tbody>\n",
       "    <tr>\n",
       "      <th>0</th>\n",
       "      <td>P040101001</td>\n",
       "      <td>4</td>\n",
       "      <td>401</td>\n",
       "      <td>40101</td>\n",
       "      <td>198.0</td>\n",
       "      <td>149.0</td>\n",
       "    </tr>\n",
       "    <tr>\n",
       "      <th>1</th>\n",
       "      <td>P040101002</td>\n",
       "      <td>4</td>\n",
       "      <td>401</td>\n",
       "      <td>40101</td>\n",
       "      <td>218.0</td>\n",
       "      <td>164.0</td>\n",
       "    </tr>\n",
       "    <tr>\n",
       "      <th>2</th>\n",
       "      <td>P040101003</td>\n",
       "      <td>4</td>\n",
       "      <td>401</td>\n",
       "      <td>40101</td>\n",
       "      <td>230.0</td>\n",
       "      <td>173.0</td>\n",
       "    </tr>\n",
       "    <tr>\n",
       "      <th>3</th>\n",
       "      <td>P040101004</td>\n",
       "      <td>4</td>\n",
       "      <td>401</td>\n",
       "      <td>40101</td>\n",
       "      <td>248.0</td>\n",
       "      <td>186.0</td>\n",
       "    </tr>\n",
       "    <tr>\n",
       "      <th>4</th>\n",
       "      <td>P040101005</td>\n",
       "      <td>4</td>\n",
       "      <td>401</td>\n",
       "      <td>40101</td>\n",
       "      <td>268.0</td>\n",
       "      <td>201.0</td>\n",
       "    </tr>\n",
       "  </tbody>\n",
       "</table>\n",
       "</div>"
      ],
      "text/plain": [
       "   product_cd  category_major_cd  category_medium_cd  category_small_cd  \\\n",
       "0  P040101001                  4                 401              40101   \n",
       "1  P040101002                  4                 401              40101   \n",
       "2  P040101003                  4                 401              40101   \n",
       "3  P040101004                  4                 401              40101   \n",
       "4  P040101005                  4                 401              40101   \n",
       "\n",
       "   unit_price  unit_cost  \n",
       "0       198.0      149.0  \n",
       "1       218.0      164.0  \n",
       "2       230.0      173.0  \n",
       "3       248.0      186.0  \n",
       "4       268.0      201.0  "
      ]
     },
     "execution_count": 140,
     "metadata": {},
     "output_type": "execute_result"
    }
   ],
   "source": [
    "df82 = df_product.copy()\n",
    "up = df82[\"unit_price\"].dropna().median().round().astype(int)\n",
    "uc = df82[\"unit_cost\"].dropna().median().round().astype(int)\n",
    "\n",
    "df_product_3 = df82.fillna({\"unit_price\": up, \"unit_cost\": uc})\n",
    "df_product_3.head()"
   ]
  },
  {
   "cell_type": "code",
   "execution_count": 141,
   "metadata": {},
   "outputs": [
    {
     "data": {
      "text/plain": [
       "product_cd            10030\n",
       "category_major_cd     10030\n",
       "category_medium_cd    10030\n",
       "category_small_cd     10030\n",
       "unit_price            10030\n",
       "unit_cost             10030\n",
       "dtype: int64"
      ]
     },
     "execution_count": 141,
     "metadata": {},
     "output_type": "execute_result"
    }
   ],
   "source": [
    "df_product_3.count()"
   ]
  },
  {
   "cell_type": "markdown",
   "metadata": {
    "id": "pHbSs7LA2uNo"
   },
   "source": [
    "## P083"
   ]
  },
  {
   "cell_type": "markdown",
   "metadata": {
    "id": "kXCIpqm4hhzw"
   },
   "source": [
    "---\n",
    "> P-083: 単価（unit_price）と原価（unit_cost）の欠損値について、各商品の小区分（category_small_cd）ごとに算出した中央値で補完した新たなdf_product_4を作成せよ。なお、中央値について1円未満は四捨五入とし、0.5については偶数寄せでかまわない。補完実施後、各項目について欠損が生じていないことも確認すること。"
   ]
  },
  {
   "cell_type": "code",
   "execution_count": 142,
   "metadata": {
    "id": "Qeq1bChyhhzw"
   },
   "outputs": [
    {
     "data": {
      "text/html": [
       "<div>\n",
       "<style scoped>\n",
       "    .dataframe tbody tr th:only-of-type {\n",
       "        vertical-align: middle;\n",
       "    }\n",
       "\n",
       "    .dataframe tbody tr th {\n",
       "        vertical-align: top;\n",
       "    }\n",
       "\n",
       "    .dataframe thead th {\n",
       "        text-align: right;\n",
       "    }\n",
       "</style>\n",
       "<table border=\"1\" class=\"dataframe\">\n",
       "  <thead>\n",
       "    <tr style=\"text-align: right;\">\n",
       "      <th></th>\n",
       "      <th>category_small_cd</th>\n",
       "      <th>unit_price</th>\n",
       "      <th>unit_cost</th>\n",
       "    </tr>\n",
       "  </thead>\n",
       "  <tbody>\n",
       "    <tr>\n",
       "      <th>0</th>\n",
       "      <td>40101</td>\n",
       "      <td>283</td>\n",
       "      <td>212</td>\n",
       "    </tr>\n",
       "    <tr>\n",
       "      <th>1</th>\n",
       "      <td>40102</td>\n",
       "      <td>378</td>\n",
       "      <td>284</td>\n",
       "    </tr>\n",
       "    <tr>\n",
       "      <th>2</th>\n",
       "      <td>40201</td>\n",
       "      <td>223</td>\n",
       "      <td>168</td>\n",
       "    </tr>\n",
       "    <tr>\n",
       "      <th>3</th>\n",
       "      <td>40202</td>\n",
       "      <td>178</td>\n",
       "      <td>134</td>\n",
       "    </tr>\n",
       "    <tr>\n",
       "      <th>4</th>\n",
       "      <td>40203</td>\n",
       "      <td>308</td>\n",
       "      <td>231</td>\n",
       "    </tr>\n",
       "  </tbody>\n",
       "</table>\n",
       "</div>"
      ],
      "text/plain": [
       "   category_small_cd  unit_price  unit_cost\n",
       "0              40101         283        212\n",
       "1              40102         378        284\n",
       "2              40201         223        168\n",
       "3              40202         178        134\n",
       "4              40203         308        231"
      ]
     },
     "execution_count": 142,
     "metadata": {},
     "output_type": "execute_result"
    }
   ],
   "source": [
    "df83 = df_product.copy()\n",
    "df83_2 = df83.groupby(\"category_small_cd\")[[\"unit_price\", \"unit_cost\"]].median().round().astype(int).reset_index()\n",
    "df83_2.head()"
   ]
  },
  {
   "cell_type": "code",
   "execution_count": 143,
   "metadata": {},
   "outputs": [
    {
     "data": {
      "text/html": [
       "<div>\n",
       "<style scoped>\n",
       "    .dataframe tbody tr th:only-of-type {\n",
       "        vertical-align: middle;\n",
       "    }\n",
       "\n",
       "    .dataframe tbody tr th {\n",
       "        vertical-align: top;\n",
       "    }\n",
       "\n",
       "    .dataframe thead th {\n",
       "        text-align: right;\n",
       "    }\n",
       "</style>\n",
       "<table border=\"1\" class=\"dataframe\">\n",
       "  <thead>\n",
       "    <tr style=\"text-align: right;\">\n",
       "      <th></th>\n",
       "      <th>product_cd</th>\n",
       "      <th>category_major_cd</th>\n",
       "      <th>category_medium_cd</th>\n",
       "      <th>category_small_cd</th>\n",
       "      <th>unit_price_x</th>\n",
       "      <th>unit_cost_x</th>\n",
       "      <th>unit_price_y</th>\n",
       "      <th>unit_cost_y</th>\n",
       "    </tr>\n",
       "  </thead>\n",
       "  <tbody>\n",
       "    <tr>\n",
       "      <th>0</th>\n",
       "      <td>P040101001</td>\n",
       "      <td>4</td>\n",
       "      <td>401</td>\n",
       "      <td>40101</td>\n",
       "      <td>198.0</td>\n",
       "      <td>149.0</td>\n",
       "      <td>283</td>\n",
       "      <td>212</td>\n",
       "    </tr>\n",
       "    <tr>\n",
       "      <th>1</th>\n",
       "      <td>P040101002</td>\n",
       "      <td>4</td>\n",
       "      <td>401</td>\n",
       "      <td>40101</td>\n",
       "      <td>218.0</td>\n",
       "      <td>164.0</td>\n",
       "      <td>283</td>\n",
       "      <td>212</td>\n",
       "    </tr>\n",
       "    <tr>\n",
       "      <th>2</th>\n",
       "      <td>P040101003</td>\n",
       "      <td>4</td>\n",
       "      <td>401</td>\n",
       "      <td>40101</td>\n",
       "      <td>230.0</td>\n",
       "      <td>173.0</td>\n",
       "      <td>283</td>\n",
       "      <td>212</td>\n",
       "    </tr>\n",
       "    <tr>\n",
       "      <th>3</th>\n",
       "      <td>P040101004</td>\n",
       "      <td>4</td>\n",
       "      <td>401</td>\n",
       "      <td>40101</td>\n",
       "      <td>248.0</td>\n",
       "      <td>186.0</td>\n",
       "      <td>283</td>\n",
       "      <td>212</td>\n",
       "    </tr>\n",
       "    <tr>\n",
       "      <th>4</th>\n",
       "      <td>P040101005</td>\n",
       "      <td>4</td>\n",
       "      <td>401</td>\n",
       "      <td>40101</td>\n",
       "      <td>268.0</td>\n",
       "      <td>201.0</td>\n",
       "      <td>283</td>\n",
       "      <td>212</td>\n",
       "    </tr>\n",
       "  </tbody>\n",
       "</table>\n",
       "</div>"
      ],
      "text/plain": [
       "   product_cd  category_major_cd  category_medium_cd  category_small_cd  \\\n",
       "0  P040101001                  4                 401              40101   \n",
       "1  P040101002                  4                 401              40101   \n",
       "2  P040101003                  4                 401              40101   \n",
       "3  P040101004                  4                 401              40101   \n",
       "4  P040101005                  4                 401              40101   \n",
       "\n",
       "   unit_price_x  unit_cost_x  unit_price_y  unit_cost_y  \n",
       "0         198.0        149.0           283          212  \n",
       "1         218.0        164.0           283          212  \n",
       "2         230.0        173.0           283          212  \n",
       "3         248.0        186.0           283          212  \n",
       "4         268.0        201.0           283          212  "
      ]
     },
     "execution_count": 143,
     "metadata": {},
     "output_type": "execute_result"
    }
   ],
   "source": [
    "df83_merge = pd.merge(df83, df83_2,on=\"category_small_cd\")\n",
    "df83_merge.head()"
   ]
  },
  {
   "cell_type": "code",
   "execution_count": 144,
   "metadata": {},
   "outputs": [
    {
     "data": {
      "text/plain": [
       "0         198.0\n",
       "1         218.0\n",
       "2         230.0\n",
       "3         248.0\n",
       "4         268.0\n",
       "          ...  \n",
       "10025     280.0\n",
       "10026     680.0\n",
       "10027    1080.0\n",
       "10028    1130.0\n",
       "10029    1280.0\n",
       "Name: unit_price, Length: 10030, dtype: float64"
      ]
     },
     "execution_count": 144,
     "metadata": {},
     "output_type": "execute_result"
    }
   ],
   "source": [
    "df83_merge[\"unit_price\"] = df83_merge[\"unit_price_x\"].mask(df83_merge[\"unit_price_x\"].isnull(), df83_merge[\"unit_price_y\"])\n",
    "df83_merge[\"unit_price\"]"
   ]
  },
  {
   "cell_type": "code",
   "execution_count": 145,
   "metadata": {},
   "outputs": [
    {
     "data": {
      "text/html": [
       "<div>\n",
       "<style scoped>\n",
       "    .dataframe tbody tr th:only-of-type {\n",
       "        vertical-align: middle;\n",
       "    }\n",
       "\n",
       "    .dataframe tbody tr th {\n",
       "        vertical-align: top;\n",
       "    }\n",
       "\n",
       "    .dataframe thead th {\n",
       "        text-align: right;\n",
       "    }\n",
       "</style>\n",
       "<table border=\"1\" class=\"dataframe\">\n",
       "  <thead>\n",
       "    <tr style=\"text-align: right;\">\n",
       "      <th></th>\n",
       "      <th>product_cd</th>\n",
       "      <th>category_major_cd</th>\n",
       "      <th>category_medium_cd</th>\n",
       "      <th>category_small_cd</th>\n",
       "      <th>unit_price_x</th>\n",
       "      <th>unit_cost_x</th>\n",
       "      <th>unit_price_y</th>\n",
       "      <th>unit_cost_y</th>\n",
       "      <th>unit_price</th>\n",
       "      <th>unit_cost</th>\n",
       "    </tr>\n",
       "  </thead>\n",
       "  <tbody>\n",
       "    <tr>\n",
       "      <th>0</th>\n",
       "      <td>P040101001</td>\n",
       "      <td>4</td>\n",
       "      <td>401</td>\n",
       "      <td>40101</td>\n",
       "      <td>198.0</td>\n",
       "      <td>149.0</td>\n",
       "      <td>283</td>\n",
       "      <td>212</td>\n",
       "      <td>198.0</td>\n",
       "      <td>149.0</td>\n",
       "    </tr>\n",
       "    <tr>\n",
       "      <th>1</th>\n",
       "      <td>P040101002</td>\n",
       "      <td>4</td>\n",
       "      <td>401</td>\n",
       "      <td>40101</td>\n",
       "      <td>218.0</td>\n",
       "      <td>164.0</td>\n",
       "      <td>283</td>\n",
       "      <td>212</td>\n",
       "      <td>218.0</td>\n",
       "      <td>164.0</td>\n",
       "    </tr>\n",
       "    <tr>\n",
       "      <th>2</th>\n",
       "      <td>P040101003</td>\n",
       "      <td>4</td>\n",
       "      <td>401</td>\n",
       "      <td>40101</td>\n",
       "      <td>230.0</td>\n",
       "      <td>173.0</td>\n",
       "      <td>283</td>\n",
       "      <td>212</td>\n",
       "      <td>230.0</td>\n",
       "      <td>173.0</td>\n",
       "    </tr>\n",
       "    <tr>\n",
       "      <th>3</th>\n",
       "      <td>P040101004</td>\n",
       "      <td>4</td>\n",
       "      <td>401</td>\n",
       "      <td>40101</td>\n",
       "      <td>248.0</td>\n",
       "      <td>186.0</td>\n",
       "      <td>283</td>\n",
       "      <td>212</td>\n",
       "      <td>248.0</td>\n",
       "      <td>186.0</td>\n",
       "    </tr>\n",
       "    <tr>\n",
       "      <th>4</th>\n",
       "      <td>P040101005</td>\n",
       "      <td>4</td>\n",
       "      <td>401</td>\n",
       "      <td>40101</td>\n",
       "      <td>268.0</td>\n",
       "      <td>201.0</td>\n",
       "      <td>283</td>\n",
       "      <td>212</td>\n",
       "      <td>268.0</td>\n",
       "      <td>201.0</td>\n",
       "    </tr>\n",
       "  </tbody>\n",
       "</table>\n",
       "</div>"
      ],
      "text/plain": [
       "   product_cd  category_major_cd  category_medium_cd  category_small_cd  \\\n",
       "0  P040101001                  4                 401              40101   \n",
       "1  P040101002                  4                 401              40101   \n",
       "2  P040101003                  4                 401              40101   \n",
       "3  P040101004                  4                 401              40101   \n",
       "4  P040101005                  4                 401              40101   \n",
       "\n",
       "   unit_price_x  unit_cost_x  unit_price_y  unit_cost_y  unit_price  unit_cost  \n",
       "0         198.0        149.0           283          212       198.0      149.0  \n",
       "1         218.0        164.0           283          212       218.0      164.0  \n",
       "2         230.0        173.0           283          212       230.0      173.0  \n",
       "3         248.0        186.0           283          212       248.0      186.0  \n",
       "4         268.0        201.0           283          212       268.0      201.0  "
      ]
     },
     "execution_count": 145,
     "metadata": {},
     "output_type": "execute_result"
    }
   ],
   "source": [
    "df83_merge[\"unit_cost\"] = df83_merge[\"unit_cost_x\"].mask(df83_merge[\"unit_cost_x\"].isnull(), df83_merge[\"unit_cost_y\"])\n",
    "df83_merge[\"unit_cost\"]\n",
    "df83_merge.head()"
   ]
  },
  {
   "cell_type": "code",
   "execution_count": 146,
   "metadata": {},
   "outputs": [
    {
     "data": {
      "text/plain": [
       "product_cd            10030\n",
       "category_major_cd     10030\n",
       "category_medium_cd    10030\n",
       "category_small_cd     10030\n",
       "unit_price            10030\n",
       "unit_cost             10030\n",
       "dtype: int64"
      ]
     },
     "execution_count": 146,
     "metadata": {},
     "output_type": "execute_result"
    }
   ],
   "source": [
    "df_product_4 = df83_merge[[\"product_cd\", \"category_major_cd\", \"category_medium_cd\", \"category_small_cd\",\n",
    "                          \"unit_price\", \"unit_cost\"]]\n",
    "df_product_4.count()"
   ]
  },
  {
   "cell_type": "markdown",
   "metadata": {
    "id": "tl81gIgN2wZA"
   },
   "source": [
    "## P084"
   ]
  },
  {
   "cell_type": "markdown",
   "metadata": {
    "id": "kKqZ8U_ihhzx"
   },
   "source": [
    "---\n",
    "> P-084: 顧客データフレーム（df_customer）の全顧客に対し、全期間の売上金額に占める2019年売上金額の割合を計算せよ。ただし、販売実績のない場合は0として扱うこと。そして計算した割合が0超のものを抽出せよ。 結果は10件表示させれば良い。また、作成したデータにNAやNANが存在しないことを確認せよ。"
   ]
  },
  {
   "cell_type": "code",
   "execution_count": 147,
   "metadata": {
    "id": "Rtq3Y8Gxhhzx"
   },
   "outputs": [
    {
     "data": {
      "text/html": [
       "<div>\n",
       "<style scoped>\n",
       "    .dataframe tbody tr th:only-of-type {\n",
       "        vertical-align: middle;\n",
       "    }\n",
       "\n",
       "    .dataframe tbody tr th {\n",
       "        vertical-align: top;\n",
       "    }\n",
       "\n",
       "    .dataframe thead th {\n",
       "        text-align: right;\n",
       "    }\n",
       "</style>\n",
       "<table border=\"1\" class=\"dataframe\">\n",
       "  <thead>\n",
       "    <tr style=\"text-align: right;\">\n",
       "      <th></th>\n",
       "      <th>customer_id</th>\n",
       "      <th>amount</th>\n",
       "    </tr>\n",
       "  </thead>\n",
       "  <tbody>\n",
       "    <tr>\n",
       "      <th>0</th>\n",
       "      <td>CS001113000004</td>\n",
       "      <td>1298</td>\n",
       "    </tr>\n",
       "    <tr>\n",
       "      <th>1</th>\n",
       "      <td>CS001114000005</td>\n",
       "      <td>626</td>\n",
       "    </tr>\n",
       "    <tr>\n",
       "      <th>2</th>\n",
       "      <td>CS001115000010</td>\n",
       "      <td>3044</td>\n",
       "    </tr>\n",
       "    <tr>\n",
       "      <th>3</th>\n",
       "      <td>CS001205000004</td>\n",
       "      <td>1988</td>\n",
       "    </tr>\n",
       "    <tr>\n",
       "      <th>4</th>\n",
       "      <td>CS001205000006</td>\n",
       "      <td>3337</td>\n",
       "    </tr>\n",
       "  </tbody>\n",
       "</table>\n",
       "</div>"
      ],
      "text/plain": [
       "      customer_id  amount\n",
       "0  CS001113000004    1298\n",
       "1  CS001114000005     626\n",
       "2  CS001115000010    3044\n",
       "3  CS001205000004    1988\n",
       "4  CS001205000006    3337"
      ]
     },
     "execution_count": 147,
     "metadata": {},
     "output_type": "execute_result"
    }
   ],
   "source": [
    "df84_r = df_receipt.copy()\n",
    "df84_r_sum = df84_r.groupby(\"customer_id\")[[\"amount\"]].sum().reset_index()\n",
    "df84_r_sum.head()"
   ]
  },
  {
   "cell_type": "code",
   "execution_count": 148,
   "metadata": {},
   "outputs": [
    {
     "data": {
      "text/html": [
       "<div>\n",
       "<style scoped>\n",
       "    .dataframe tbody tr th:only-of-type {\n",
       "        vertical-align: middle;\n",
       "    }\n",
       "\n",
       "    .dataframe tbody tr th {\n",
       "        vertical-align: top;\n",
       "    }\n",
       "\n",
       "    .dataframe thead th {\n",
       "        text-align: right;\n",
       "    }\n",
       "</style>\n",
       "<table border=\"1\" class=\"dataframe\">\n",
       "  <thead>\n",
       "    <tr style=\"text-align: right;\">\n",
       "      <th></th>\n",
       "      <th>customer_id</th>\n",
       "      <th>amount_2019</th>\n",
       "    </tr>\n",
       "  </thead>\n",
       "  <tbody>\n",
       "    <tr>\n",
       "      <th>0</th>\n",
       "      <td>CS001113000004</td>\n",
       "      <td>1298</td>\n",
       "    </tr>\n",
       "    <tr>\n",
       "      <th>1</th>\n",
       "      <td>CS001114000005</td>\n",
       "      <td>188</td>\n",
       "    </tr>\n",
       "    <tr>\n",
       "      <th>2</th>\n",
       "      <td>CS001115000010</td>\n",
       "      <td>578</td>\n",
       "    </tr>\n",
       "    <tr>\n",
       "      <th>3</th>\n",
       "      <td>CS001205000004</td>\n",
       "      <td>702</td>\n",
       "    </tr>\n",
       "    <tr>\n",
       "      <th>4</th>\n",
       "      <td>CS001205000006</td>\n",
       "      <td>486</td>\n",
       "    </tr>\n",
       "  </tbody>\n",
       "</table>\n",
       "</div>"
      ],
      "text/plain": [
       "      customer_id  amount_2019\n",
       "0  CS001113000004         1298\n",
       "1  CS001114000005          188\n",
       "2  CS001115000010          578\n",
       "3  CS001205000004          702\n",
       "4  CS001205000006          486"
      ]
     },
     "execution_count": 148,
     "metadata": {},
     "output_type": "execute_result"
    }
   ],
   "source": [
    "df84_r_2019 = df_receipt[(df_receipt[\"sales_ymd\"] >= 20190101) & (df_receipt[\"sales_ymd\"] <= 20191231)]\n",
    "df84_r_2019_sum = df84_r_2019.groupby(\"customer_id\")[[\"amount\"]].sum().reset_index()\n",
    "df84_r_2019_sum.columns = [\"customer_id\", \"amount_2019\"]\n",
    "df84_r_2019_sum.head()"
   ]
  },
  {
   "cell_type": "code",
   "execution_count": 149,
   "metadata": {},
   "outputs": [
    {
     "data": {
      "text/html": [
       "<div>\n",
       "<style scoped>\n",
       "    .dataframe tbody tr th:only-of-type {\n",
       "        vertical-align: middle;\n",
       "    }\n",
       "\n",
       "    .dataframe tbody tr th {\n",
       "        vertical-align: top;\n",
       "    }\n",
       "\n",
       "    .dataframe thead th {\n",
       "        text-align: right;\n",
       "    }\n",
       "</style>\n",
       "<table border=\"1\" class=\"dataframe\">\n",
       "  <thead>\n",
       "    <tr style=\"text-align: right;\">\n",
       "      <th></th>\n",
       "      <th>customer_id</th>\n",
       "      <th>amount</th>\n",
       "      <th>amount_2019</th>\n",
       "      <th>rate_2019</th>\n",
       "    </tr>\n",
       "  </thead>\n",
       "  <tbody>\n",
       "    <tr>\n",
       "      <th>0</th>\n",
       "      <td>CS021313000114</td>\n",
       "      <td>0.0</td>\n",
       "      <td>0.0</td>\n",
       "      <td>0.000000</td>\n",
       "    </tr>\n",
       "    <tr>\n",
       "      <th>1</th>\n",
       "      <td>CS037613000071</td>\n",
       "      <td>0.0</td>\n",
       "      <td>0.0</td>\n",
       "      <td>0.000000</td>\n",
       "    </tr>\n",
       "    <tr>\n",
       "      <th>2</th>\n",
       "      <td>CS031415000172</td>\n",
       "      <td>5088.0</td>\n",
       "      <td>2971.0</td>\n",
       "      <td>0.583923</td>\n",
       "    </tr>\n",
       "    <tr>\n",
       "      <th>3</th>\n",
       "      <td>CS028811000001</td>\n",
       "      <td>0.0</td>\n",
       "      <td>0.0</td>\n",
       "      <td>0.000000</td>\n",
       "    </tr>\n",
       "    <tr>\n",
       "      <th>4</th>\n",
       "      <td>CS001215000145</td>\n",
       "      <td>875.0</td>\n",
       "      <td>0.0</td>\n",
       "      <td>0.000000</td>\n",
       "    </tr>\n",
       "  </tbody>\n",
       "</table>\n",
       "</div>"
      ],
      "text/plain": [
       "      customer_id  amount  amount_2019  rate_2019\n",
       "0  CS021313000114     0.0          0.0   0.000000\n",
       "1  CS037613000071     0.0          0.0   0.000000\n",
       "2  CS031415000172  5088.0       2971.0   0.583923\n",
       "3  CS028811000001     0.0          0.0   0.000000\n",
       "4  CS001215000145   875.0          0.0   0.000000"
      ]
     },
     "execution_count": 149,
     "metadata": {},
     "output_type": "execute_result"
    }
   ],
   "source": [
    "df84 = pd.merge(df_customer[[\"customer_id\"]], df84_r_sum, how=\"left\")\n",
    "df84 = pd.merge(df84, df84_r_2019_sum, how=\"left\")\n",
    "df84[\"rate_2019\"] = df84[\"amount_2019\"] / df84[\"amount\"]\n",
    "df84 = df84.fillna(0)\n",
    "df84.head()"
   ]
  },
  {
   "cell_type": "code",
   "execution_count": 150,
   "metadata": {},
   "outputs": [
    {
     "data": {
      "text/html": [
       "<div>\n",
       "<style scoped>\n",
       "    .dataframe tbody tr th:only-of-type {\n",
       "        vertical-align: middle;\n",
       "    }\n",
       "\n",
       "    .dataframe tbody tr th {\n",
       "        vertical-align: top;\n",
       "    }\n",
       "\n",
       "    .dataframe thead th {\n",
       "        text-align: right;\n",
       "    }\n",
       "</style>\n",
       "<table border=\"1\" class=\"dataframe\">\n",
       "  <thead>\n",
       "    <tr style=\"text-align: right;\">\n",
       "      <th></th>\n",
       "      <th>customer_id</th>\n",
       "      <th>amount</th>\n",
       "      <th>amount_2019</th>\n",
       "      <th>rate_2019</th>\n",
       "    </tr>\n",
       "  </thead>\n",
       "  <tbody>\n",
       "    <tr>\n",
       "      <th>2</th>\n",
       "      <td>CS031415000172</td>\n",
       "      <td>5088.0</td>\n",
       "      <td>2971.0</td>\n",
       "      <td>0.583923</td>\n",
       "    </tr>\n",
       "    <tr>\n",
       "      <th>6</th>\n",
       "      <td>CS015414000103</td>\n",
       "      <td>3122.0</td>\n",
       "      <td>874.0</td>\n",
       "      <td>0.279949</td>\n",
       "    </tr>\n",
       "    <tr>\n",
       "      <th>12</th>\n",
       "      <td>CS011215000048</td>\n",
       "      <td>3444.0</td>\n",
       "      <td>248.0</td>\n",
       "      <td>0.072009</td>\n",
       "    </tr>\n",
       "    <tr>\n",
       "      <th>15</th>\n",
       "      <td>CS029415000023</td>\n",
       "      <td>5167.0</td>\n",
       "      <td>3767.0</td>\n",
       "      <td>0.729050</td>\n",
       "    </tr>\n",
       "    <tr>\n",
       "      <th>21</th>\n",
       "      <td>CS035415000029</td>\n",
       "      <td>7504.0</td>\n",
       "      <td>5823.0</td>\n",
       "      <td>0.775986</td>\n",
       "    </tr>\n",
       "    <tr>\n",
       "      <th>23</th>\n",
       "      <td>CS023513000066</td>\n",
       "      <td>771.0</td>\n",
       "      <td>208.0</td>\n",
       "      <td>0.269780</td>\n",
       "    </tr>\n",
       "    <tr>\n",
       "      <th>24</th>\n",
       "      <td>CS035513000134</td>\n",
       "      <td>1565.0</td>\n",
       "      <td>463.0</td>\n",
       "      <td>0.295847</td>\n",
       "    </tr>\n",
       "    <tr>\n",
       "      <th>27</th>\n",
       "      <td>CS001515000263</td>\n",
       "      <td>216.0</td>\n",
       "      <td>216.0</td>\n",
       "      <td>1.000000</td>\n",
       "    </tr>\n",
       "    <tr>\n",
       "      <th>30</th>\n",
       "      <td>CS006415000279</td>\n",
       "      <td>229.0</td>\n",
       "      <td>229.0</td>\n",
       "      <td>1.000000</td>\n",
       "    </tr>\n",
       "    <tr>\n",
       "      <th>32</th>\n",
       "      <td>CS031415000106</td>\n",
       "      <td>7741.0</td>\n",
       "      <td>215.0</td>\n",
       "      <td>0.027774</td>\n",
       "    </tr>\n",
       "  </tbody>\n",
       "</table>\n",
       "</div>"
      ],
      "text/plain": [
       "       customer_id  amount  amount_2019  rate_2019\n",
       "2   CS031415000172  5088.0       2971.0   0.583923\n",
       "6   CS015414000103  3122.0        874.0   0.279949\n",
       "12  CS011215000048  3444.0        248.0   0.072009\n",
       "15  CS029415000023  5167.0       3767.0   0.729050\n",
       "21  CS035415000029  7504.0       5823.0   0.775986\n",
       "23  CS023513000066   771.0        208.0   0.269780\n",
       "24  CS035513000134  1565.0        463.0   0.295847\n",
       "27  CS001515000263   216.0        216.0   1.000000\n",
       "30  CS006415000279   229.0        229.0   1.000000\n",
       "32  CS031415000106  7741.0        215.0   0.027774"
      ]
     },
     "execution_count": 150,
     "metadata": {},
     "output_type": "execute_result"
    }
   ],
   "source": [
    "df84[df84[\"rate_2019\"] > 0].head(10)"
   ]
  },
  {
   "cell_type": "code",
   "execution_count": 151,
   "metadata": {},
   "outputs": [
    {
     "data": {
      "text/plain": [
       "customer_id    0\n",
       "amount         0\n",
       "amount_2019    0\n",
       "rate_2019      0\n",
       "dtype: int64"
      ]
     },
     "execution_count": 151,
     "metadata": {},
     "output_type": "execute_result"
    }
   ],
   "source": [
    "df84.isnull().sum()"
   ]
  },
  {
   "cell_type": "markdown",
   "metadata": {
    "id": "Ev8YRHQd2yGX"
   },
   "source": [
    "## P085"
   ]
  },
  {
   "cell_type": "markdown",
   "metadata": {
    "id": "UEPE0K-rhhzy"
   },
   "source": [
    "---\n",
    "> P-085: 顧客データフレーム（df_customer）の全顧客に対し、郵便番号（postal_cd）を用いて経度緯度変換用データフレーム（df_geocode）を紐付け、新たなdf_customer_1を作成せよ。ただし、複数紐づく場合は経度（longitude）、緯度（latitude）それぞれ平均を算出すること。\n"
   ]
  },
  {
   "cell_type": "code",
   "execution_count": 152,
   "metadata": {},
   "outputs": [
    {
     "data": {
      "text/html": [
       "<div>\n",
       "<style scoped>\n",
       "    .dataframe tbody tr th:only-of-type {\n",
       "        vertical-align: middle;\n",
       "    }\n",
       "\n",
       "    .dataframe tbody tr th {\n",
       "        vertical-align: top;\n",
       "    }\n",
       "\n",
       "    .dataframe thead th {\n",
       "        text-align: right;\n",
       "    }\n",
       "</style>\n",
       "<table border=\"1\" class=\"dataframe\">\n",
       "  <thead>\n",
       "    <tr style=\"text-align: right;\">\n",
       "      <th></th>\n",
       "      <th>postal_cd</th>\n",
       "      <th>longitude</th>\n",
       "      <th>latitude</th>\n",
       "    </tr>\n",
       "  </thead>\n",
       "  <tbody>\n",
       "    <tr>\n",
       "      <th>0</th>\n",
       "      <td>001-0000</td>\n",
       "      <td>141.340380</td>\n",
       "      <td>43.090540</td>\n",
       "    </tr>\n",
       "    <tr>\n",
       "      <th>1</th>\n",
       "      <td>001-0010</td>\n",
       "      <td>141.350532</td>\n",
       "      <td>43.073257</td>\n",
       "    </tr>\n",
       "    <tr>\n",
       "      <th>2</th>\n",
       "      <td>001-0011</td>\n",
       "      <td>141.350248</td>\n",
       "      <td>43.074407</td>\n",
       "    </tr>\n",
       "    <tr>\n",
       "      <th>3</th>\n",
       "      <td>001-0012</td>\n",
       "      <td>141.349950</td>\n",
       "      <td>43.075545</td>\n",
       "    </tr>\n",
       "    <tr>\n",
       "      <th>4</th>\n",
       "      <td>001-0013</td>\n",
       "      <td>141.349655</td>\n",
       "      <td>43.076695</td>\n",
       "    </tr>\n",
       "  </tbody>\n",
       "</table>\n",
       "</div>"
      ],
      "text/plain": [
       "  postal_cd   longitude   latitude\n",
       "0  001-0000  141.340380  43.090540\n",
       "1  001-0010  141.350532  43.073257\n",
       "2  001-0011  141.350248  43.074407\n",
       "3  001-0012  141.349950  43.075545\n",
       "4  001-0013  141.349655  43.076695"
      ]
     },
     "execution_count": 152,
     "metadata": {},
     "output_type": "execute_result"
    }
   ],
   "source": [
    "df85_g = df_geocode.groupby(\"postal_cd\").mean().reset_index()\n",
    "df85_g.head()"
   ]
  },
  {
   "cell_type": "code",
   "execution_count": 153,
   "metadata": {
    "id": "P_paWqODhhzy"
   },
   "outputs": [
    {
     "data": {
      "text/html": [
       "<div>\n",
       "<style scoped>\n",
       "    .dataframe tbody tr th:only-of-type {\n",
       "        vertical-align: middle;\n",
       "    }\n",
       "\n",
       "    .dataframe tbody tr th {\n",
       "        vertical-align: top;\n",
       "    }\n",
       "\n",
       "    .dataframe thead th {\n",
       "        text-align: right;\n",
       "    }\n",
       "</style>\n",
       "<table border=\"1\" class=\"dataframe\">\n",
       "  <thead>\n",
       "    <tr style=\"text-align: right;\">\n",
       "      <th></th>\n",
       "      <th>customer_id</th>\n",
       "      <th>customer_name</th>\n",
       "      <th>gender_cd</th>\n",
       "      <th>gender</th>\n",
       "      <th>birth_day</th>\n",
       "      <th>age</th>\n",
       "      <th>postal_cd</th>\n",
       "      <th>address</th>\n",
       "      <th>application_store_cd</th>\n",
       "      <th>application_date</th>\n",
       "      <th>status_cd</th>\n",
       "      <th>longitude</th>\n",
       "      <th>latitude</th>\n",
       "    </tr>\n",
       "  </thead>\n",
       "  <tbody>\n",
       "    <tr>\n",
       "      <th>0</th>\n",
       "      <td>CS021313000114</td>\n",
       "      <td>大野 あや子</td>\n",
       "      <td>1</td>\n",
       "      <td>女性</td>\n",
       "      <td>1981-04-29</td>\n",
       "      <td>37</td>\n",
       "      <td>259-1113</td>\n",
       "      <td>神奈川県伊勢原市粟窪**********</td>\n",
       "      <td>S14021</td>\n",
       "      <td>20150905</td>\n",
       "      <td>0-00000000-0</td>\n",
       "      <td>139.31779</td>\n",
       "      <td>35.41358</td>\n",
       "    </tr>\n",
       "    <tr>\n",
       "      <th>1</th>\n",
       "      <td>CS037613000071</td>\n",
       "      <td>六角 雅彦</td>\n",
       "      <td>9</td>\n",
       "      <td>不明</td>\n",
       "      <td>1952-04-01</td>\n",
       "      <td>66</td>\n",
       "      <td>136-0076</td>\n",
       "      <td>東京都江東区南砂**********</td>\n",
       "      <td>S13037</td>\n",
       "      <td>20150414</td>\n",
       "      <td>0-00000000-0</td>\n",
       "      <td>139.83502</td>\n",
       "      <td>35.67193</td>\n",
       "    </tr>\n",
       "    <tr>\n",
       "      <th>2</th>\n",
       "      <td>CS031415000172</td>\n",
       "      <td>宇多田 貴美子</td>\n",
       "      <td>1</td>\n",
       "      <td>女性</td>\n",
       "      <td>1976-10-04</td>\n",
       "      <td>42</td>\n",
       "      <td>151-0053</td>\n",
       "      <td>東京都渋谷区代々木**********</td>\n",
       "      <td>S13031</td>\n",
       "      <td>20150529</td>\n",
       "      <td>D-20100325-C</td>\n",
       "      <td>139.68965</td>\n",
       "      <td>35.67374</td>\n",
       "    </tr>\n",
       "    <tr>\n",
       "      <th>3</th>\n",
       "      <td>CS028811000001</td>\n",
       "      <td>堀井 かおり</td>\n",
       "      <td>1</td>\n",
       "      <td>女性</td>\n",
       "      <td>1933-03-27</td>\n",
       "      <td>86</td>\n",
       "      <td>245-0016</td>\n",
       "      <td>神奈川県横浜市泉区和泉町**********</td>\n",
       "      <td>S14028</td>\n",
       "      <td>20160115</td>\n",
       "      <td>0-00000000-0</td>\n",
       "      <td>139.48360</td>\n",
       "      <td>35.39125</td>\n",
       "    </tr>\n",
       "    <tr>\n",
       "      <th>4</th>\n",
       "      <td>CS001215000145</td>\n",
       "      <td>田崎 美紀</td>\n",
       "      <td>1</td>\n",
       "      <td>女性</td>\n",
       "      <td>1995-03-29</td>\n",
       "      <td>24</td>\n",
       "      <td>144-0055</td>\n",
       "      <td>東京都大田区仲六郷**********</td>\n",
       "      <td>S13001</td>\n",
       "      <td>20170605</td>\n",
       "      <td>6-20090929-2</td>\n",
       "      <td>139.70775</td>\n",
       "      <td>35.54084</td>\n",
       "    </tr>\n",
       "  </tbody>\n",
       "</table>\n",
       "</div>"
      ],
      "text/plain": [
       "      customer_id customer_name  gender_cd gender   birth_day  age postal_cd  \\\n",
       "0  CS021313000114        大野 あや子          1     女性  1981-04-29   37  259-1113   \n",
       "1  CS037613000071         六角 雅彦          9     不明  1952-04-01   66  136-0076   \n",
       "2  CS031415000172       宇多田 貴美子          1     女性  1976-10-04   42  151-0053   \n",
       "3  CS028811000001        堀井 かおり          1     女性  1933-03-27   86  245-0016   \n",
       "4  CS001215000145         田崎 美紀          1     女性  1995-03-29   24  144-0055   \n",
       "\n",
       "                  address application_store_cd  application_date  \\\n",
       "0    神奈川県伊勢原市粟窪**********               S14021          20150905   \n",
       "1      東京都江東区南砂**********               S13037          20150414   \n",
       "2     東京都渋谷区代々木**********               S13031          20150529   \n",
       "3  神奈川県横浜市泉区和泉町**********               S14028          20160115   \n",
       "4     東京都大田区仲六郷**********               S13001          20170605   \n",
       "\n",
       "      status_cd  longitude  latitude  \n",
       "0  0-00000000-0  139.31779  35.41358  \n",
       "1  0-00000000-0  139.83502  35.67193  \n",
       "2  D-20100325-C  139.68965  35.67374  \n",
       "3  0-00000000-0  139.48360  35.39125  \n",
       "4  6-20090929-2  139.70775  35.54084  "
      ]
     },
     "execution_count": 153,
     "metadata": {},
     "output_type": "execute_result"
    }
   ],
   "source": [
    "df_customer_1 = pd.merge(df_customer,df85_g,on=\"postal_cd\", how=\"left\")\n",
    "df_customer_1.head()"
   ]
  },
  {
   "cell_type": "markdown",
   "metadata": {
    "id": "2NRZADQ42zr8"
   },
   "source": [
    "## P086"
   ]
  },
  {
   "cell_type": "markdown",
   "metadata": {
    "id": "dJ8IvUgNhhzz"
   },
   "source": [
    "---\n",
    "> P-086: 前設問で作成した緯度経度つき顧客データフレーム（df_customer_1）に対し、申込み店舗コード（application_store_cd）をキーに店舗データフレーム（df_store）と結合せよ。そして申込み店舗の緯度（latitude）・経度情報（longitude)と顧客の緯度・経度を用いて距離（km）を求め、顧客ID（customer_id）、顧客住所（address）、店舗住所（address）とともに表示せよ。計算式は簡易式で良いものとするが、その他精度の高い方式を利用したライブラリを利用してもかまわない。結果は10件表示すれば良い。"
   ]
  },
  {
   "cell_type": "markdown",
   "metadata": {
    "id": "kFydo3tChhzz"
   },
   "source": [
    "$$\n",
    "緯度（ラジアン）：\\phi \\\\\n",
    "経度（ラジアン）：\\lambda \\\\\n",
    "距離L = 6371 * arccos(sin \\phi_1 * sin \\phi_2\n",
    "+ cos \\phi_1 * cos \\phi_2 * cos(\\lambda_1 − \\lambda_2))\n",
    "$$"
   ]
  },
  {
   "cell_type": "code",
   "execution_count": 154,
   "metadata": {},
   "outputs": [],
   "source": [
    "#df_store.head()"
   ]
  },
  {
   "cell_type": "code",
   "execution_count": 155,
   "metadata": {
    "id": "YOhgdXTphhz0"
   },
   "outputs": [
    {
     "name": "stderr",
     "output_type": "stream",
     "text": [
      "<ipython-input-155-e6c40d821eaa>:9: SettingWithCopyWarning: \n",
      "A value is trying to be set on a copy of a slice from a DataFrame.\n",
      "Try using .loc[row_indexer,col_indexer] = value instead\n",
      "\n",
      "See the caveats in the documentation: https://pandas.pydata.org/pandas-docs/stable/user_guide/indexing.html#returning-a-view-versus-a-copy\n",
      "  df86_ans[\"distance\"] = 6371*np.arccos(np.sin(latitude_x) * np.sin(latitude_y)\n"
     ]
    },
    {
     "data": {
      "text/html": [
       "<div>\n",
       "<style scoped>\n",
       "    .dataframe tbody tr th:only-of-type {\n",
       "        vertical-align: middle;\n",
       "    }\n",
       "\n",
       "    .dataframe tbody tr th {\n",
       "        vertical-align: top;\n",
       "    }\n",
       "\n",
       "    .dataframe thead th {\n",
       "        text-align: right;\n",
       "    }\n",
       "</style>\n",
       "<table border=\"1\" class=\"dataframe\">\n",
       "  <thead>\n",
       "    <tr style=\"text-align: right;\">\n",
       "      <th></th>\n",
       "      <th>customer_id</th>\n",
       "      <th>address_x</th>\n",
       "      <th>longitude_x</th>\n",
       "      <th>latitude_x</th>\n",
       "      <th>address_y</th>\n",
       "      <th>longitude_y</th>\n",
       "      <th>latitude_y</th>\n",
       "      <th>distance</th>\n",
       "    </tr>\n",
       "  </thead>\n",
       "  <tbody>\n",
       "    <tr>\n",
       "      <th>0</th>\n",
       "      <td>CS021313000114</td>\n",
       "      <td>神奈川県伊勢原市粟窪**********</td>\n",
       "      <td>139.31779</td>\n",
       "      <td>35.41358</td>\n",
       "      <td>神奈川県伊勢原市伊勢原四丁目</td>\n",
       "      <td>139.3129</td>\n",
       "      <td>35.40169</td>\n",
       "      <td>1.394409</td>\n",
       "    </tr>\n",
       "    <tr>\n",
       "      <th>1</th>\n",
       "      <td>CS037613000071</td>\n",
       "      <td>東京都江東区南砂**********</td>\n",
       "      <td>139.83502</td>\n",
       "      <td>35.67193</td>\n",
       "      <td>東京都江東区南砂一丁目</td>\n",
       "      <td>139.8215</td>\n",
       "      <td>35.67898</td>\n",
       "      <td>1.451182</td>\n",
       "    </tr>\n",
       "    <tr>\n",
       "      <th>2</th>\n",
       "      <td>CS031415000172</td>\n",
       "      <td>東京都渋谷区代々木**********</td>\n",
       "      <td>139.68965</td>\n",
       "      <td>35.67374</td>\n",
       "      <td>東京都渋谷区初台二丁目</td>\n",
       "      <td>139.6862</td>\n",
       "      <td>35.67616</td>\n",
       "      <td>0.411733</td>\n",
       "    </tr>\n",
       "    <tr>\n",
       "      <th>3</th>\n",
       "      <td>CS028811000001</td>\n",
       "      <td>神奈川県横浜市泉区和泉町**********</td>\n",
       "      <td>139.48360</td>\n",
       "      <td>35.39125</td>\n",
       "      <td>神奈川県横浜市瀬谷区二ツ橋町</td>\n",
       "      <td>139.4963</td>\n",
       "      <td>35.46304</td>\n",
       "      <td>8.065196</td>\n",
       "    </tr>\n",
       "    <tr>\n",
       "      <th>4</th>\n",
       "      <td>CS001215000145</td>\n",
       "      <td>東京都大田区仲六郷**********</td>\n",
       "      <td>139.70775</td>\n",
       "      <td>35.54084</td>\n",
       "      <td>東京都大田区仲六郷二丁目</td>\n",
       "      <td>139.7132</td>\n",
       "      <td>35.55135</td>\n",
       "      <td>1.268421</td>\n",
       "    </tr>\n",
       "    <tr>\n",
       "      <th>5</th>\n",
       "      <td>CS020401000016</td>\n",
       "      <td>東京都板橋区若木**********</td>\n",
       "      <td>139.67245</td>\n",
       "      <td>35.77073</td>\n",
       "      <td>東京都北区十条仲原三丁目</td>\n",
       "      <td>139.7186</td>\n",
       "      <td>35.76686</td>\n",
       "      <td>4.185905</td>\n",
       "    </tr>\n",
       "    <tr>\n",
       "      <th>6</th>\n",
       "      <td>CS015414000103</td>\n",
       "      <td>東京都江東区北砂**********</td>\n",
       "      <td>139.83601</td>\n",
       "      <td>35.67818</td>\n",
       "      <td>東京都江東区南砂二丁目</td>\n",
       "      <td>139.8229</td>\n",
       "      <td>35.67066</td>\n",
       "      <td>1.449673</td>\n",
       "    </tr>\n",
       "    <tr>\n",
       "      <th>7</th>\n",
       "      <td>CS029403000008</td>\n",
       "      <td>千葉県浦安市海楽**********</td>\n",
       "      <td>139.90469</td>\n",
       "      <td>35.65422</td>\n",
       "      <td>千葉県浦安市東野一丁目</td>\n",
       "      <td>139.8968</td>\n",
       "      <td>35.65086</td>\n",
       "      <td>0.804858</td>\n",
       "    </tr>\n",
       "    <tr>\n",
       "      <th>8</th>\n",
       "      <td>CS015804000004</td>\n",
       "      <td>東京都江東区北砂**********</td>\n",
       "      <td>139.83601</td>\n",
       "      <td>35.67818</td>\n",
       "      <td>東京都江東区南砂二丁目</td>\n",
       "      <td>139.8229</td>\n",
       "      <td>35.67066</td>\n",
       "      <td>1.449673</td>\n",
       "    </tr>\n",
       "    <tr>\n",
       "      <th>9</th>\n",
       "      <td>CS033513000180</td>\n",
       "      <td>神奈川県横浜市旭区善部町**********</td>\n",
       "      <td>139.51463</td>\n",
       "      <td>35.45013</td>\n",
       "      <td>神奈川県横浜市瀬谷区阿久和西一丁目</td>\n",
       "      <td>139.4961</td>\n",
       "      <td>35.45918</td>\n",
       "      <td>1.956947</td>\n",
       "    </tr>\n",
       "  </tbody>\n",
       "</table>\n",
       "</div>"
      ],
      "text/plain": [
       "      customer_id               address_x  longitude_x  latitude_x  \\\n",
       "0  CS021313000114    神奈川県伊勢原市粟窪**********    139.31779    35.41358   \n",
       "1  CS037613000071      東京都江東区南砂**********    139.83502    35.67193   \n",
       "2  CS031415000172     東京都渋谷区代々木**********    139.68965    35.67374   \n",
       "3  CS028811000001  神奈川県横浜市泉区和泉町**********    139.48360    35.39125   \n",
       "4  CS001215000145     東京都大田区仲六郷**********    139.70775    35.54084   \n",
       "5  CS020401000016      東京都板橋区若木**********    139.67245    35.77073   \n",
       "6  CS015414000103      東京都江東区北砂**********    139.83601    35.67818   \n",
       "7  CS029403000008      千葉県浦安市海楽**********    139.90469    35.65422   \n",
       "8  CS015804000004      東京都江東区北砂**********    139.83601    35.67818   \n",
       "9  CS033513000180  神奈川県横浜市旭区善部町**********    139.51463    35.45013   \n",
       "\n",
       "           address_y  longitude_y  latitude_y  distance  \n",
       "0     神奈川県伊勢原市伊勢原四丁目     139.3129    35.40169  1.394409  \n",
       "1        東京都江東区南砂一丁目     139.8215    35.67898  1.451182  \n",
       "2        東京都渋谷区初台二丁目     139.6862    35.67616  0.411733  \n",
       "3     神奈川県横浜市瀬谷区二ツ橋町     139.4963    35.46304  8.065196  \n",
       "4       東京都大田区仲六郷二丁目     139.7132    35.55135  1.268421  \n",
       "5       東京都北区十条仲原三丁目     139.7186    35.76686  4.185905  \n",
       "6        東京都江東区南砂二丁目     139.8229    35.67066  1.449673  \n",
       "7        千葉県浦安市東野一丁目     139.8968    35.65086  0.804858  \n",
       "8        東京都江東区南砂二丁目     139.8229    35.67066  1.449673  \n",
       "9  神奈川県横浜市瀬谷区阿久和西一丁目     139.4961    35.45918  1.956947  "
      ]
     },
     "execution_count": 155,
     "metadata": {},
     "output_type": "execute_result"
    }
   ],
   "source": [
    "df86 = pd.merge(df_customer_1, df_store, left_on=\"application_store_cd\",right_on=\"store_cd\", how=\"left\")\n",
    "df86_ans = df86[[\"customer_id\", \"address_x\",\"longitude_x\", \"latitude_x\", \"address_y\",\"longitude_y\", \"latitude_y\"]]\n",
    "# https://note.nkmk.me/python-numpy-sin-con-tan/\n",
    "latitude_x = np.radians(df86_ans[\"latitude_x\"])\n",
    "latitude_y = np.radians(df86_ans[\"latitude_y\"])\n",
    "longitude_x = np.radians(df86_ans[\"longitude_x\"])\n",
    "longitude_y = np.radians(df86_ans[\"longitude_y\"])\n",
    "# https://note.nkmk.me/python-pandas-setting-with-copy-warning/\n",
    "df86_ans[\"distance\"] = 6371*np.arccos(np.sin(latitude_x) * np.sin(latitude_y) \n",
    "                                      + np.cos(latitude_x)* np.cos(latitude_y) * np.cos(longitude_x - longitude_y))\n",
    "df86_ans.head(10)"
   ]
  },
  {
   "cell_type": "markdown",
   "metadata": {
    "id": "HyhiJWWH21uq"
   },
   "source": [
    "## P087"
   ]
  },
  {
   "cell_type": "markdown",
   "metadata": {
    "id": "-7BBzLWphhz0"
   },
   "source": [
    "---\n",
    "> P-087:  顧客データフレーム（df_customer）では、異なる店舗での申込みなどにより同一顧客が複数登録されている。名前（customer_name）と郵便番号（postal_cd）が同じ顧客は同一顧客とみなし、1顧客1レコードとなるように名寄せした名寄顧客データフレーム（df_customer_u）を作成せよ。ただし、同一顧客に対しては売上金額合計が最も高いものを残すものとし、売上金額合計が同一もしくは売上実績の無い顧客については顧客ID（customer_id）の番号が小さいものを残すこととする。"
   ]
  },
  {
   "cell_type": "code",
   "execution_count": 156,
   "metadata": {
    "id": "hJhzgvxuhhz0"
   },
   "outputs": [
    {
     "data": {
      "text/html": [
       "<div>\n",
       "<style scoped>\n",
       "    .dataframe tbody tr th:only-of-type {\n",
       "        vertical-align: middle;\n",
       "    }\n",
       "\n",
       "    .dataframe tbody tr th {\n",
       "        vertical-align: top;\n",
       "    }\n",
       "\n",
       "    .dataframe thead th {\n",
       "        text-align: right;\n",
       "    }\n",
       "</style>\n",
       "<table border=\"1\" class=\"dataframe\">\n",
       "  <thead>\n",
       "    <tr style=\"text-align: right;\">\n",
       "      <th></th>\n",
       "      <th>customer_id</th>\n",
       "      <th>amount</th>\n",
       "    </tr>\n",
       "  </thead>\n",
       "  <tbody>\n",
       "    <tr>\n",
       "      <th>0</th>\n",
       "      <td>CS001113000004</td>\n",
       "      <td>1298</td>\n",
       "    </tr>\n",
       "    <tr>\n",
       "      <th>1</th>\n",
       "      <td>CS001114000005</td>\n",
       "      <td>626</td>\n",
       "    </tr>\n",
       "    <tr>\n",
       "      <th>2</th>\n",
       "      <td>CS001115000010</td>\n",
       "      <td>3044</td>\n",
       "    </tr>\n",
       "    <tr>\n",
       "      <th>3</th>\n",
       "      <td>CS001205000004</td>\n",
       "      <td>1988</td>\n",
       "    </tr>\n",
       "    <tr>\n",
       "      <th>4</th>\n",
       "      <td>CS001205000006</td>\n",
       "      <td>3337</td>\n",
       "    </tr>\n",
       "  </tbody>\n",
       "</table>\n",
       "</div>"
      ],
      "text/plain": [
       "      customer_id  amount\n",
       "0  CS001113000004    1298\n",
       "1  CS001114000005     626\n",
       "2  CS001115000010    3044\n",
       "3  CS001205000004    1988\n",
       "4  CS001205000006    3337"
      ]
     },
     "execution_count": 156,
     "metadata": {},
     "output_type": "execute_result"
    }
   ],
   "source": [
    "df87 = df_customer.copy()\n",
    "df87_r = df_receipt.groupby(\"customer_id\")[[\"amount\"]].sum().reset_index()\n",
    "df87_r.head()"
   ]
  },
  {
   "cell_type": "code",
   "execution_count": 157,
   "metadata": {},
   "outputs": [
    {
     "data": {
      "text/html": [
       "<div>\n",
       "<style scoped>\n",
       "    .dataframe tbody tr th:only-of-type {\n",
       "        vertical-align: middle;\n",
       "    }\n",
       "\n",
       "    .dataframe tbody tr th {\n",
       "        vertical-align: top;\n",
       "    }\n",
       "\n",
       "    .dataframe thead th {\n",
       "        text-align: right;\n",
       "    }\n",
       "</style>\n",
       "<table border=\"1\" class=\"dataframe\">\n",
       "  <thead>\n",
       "    <tr style=\"text-align: right;\">\n",
       "      <th></th>\n",
       "      <th>customer_id</th>\n",
       "      <th>customer_name</th>\n",
       "      <th>gender_cd</th>\n",
       "      <th>gender</th>\n",
       "      <th>birth_day</th>\n",
       "      <th>age</th>\n",
       "      <th>postal_cd</th>\n",
       "      <th>address</th>\n",
       "      <th>application_store_cd</th>\n",
       "      <th>application_date</th>\n",
       "      <th>status_cd</th>\n",
       "      <th>amount</th>\n",
       "    </tr>\n",
       "  </thead>\n",
       "  <tbody>\n",
       "    <tr>\n",
       "      <th>16905</th>\n",
       "      <td>CS017415000097</td>\n",
       "      <td>福士 千夏</td>\n",
       "      <td>1</td>\n",
       "      <td>女性</td>\n",
       "      <td>1973-04-03</td>\n",
       "      <td>45</td>\n",
       "      <td>166-0014</td>\n",
       "      <td>東京都杉並区松ノ木**********</td>\n",
       "      <td>S13017</td>\n",
       "      <td>20151209</td>\n",
       "      <td>F-20101006-F</td>\n",
       "      <td>23086.0</td>\n",
       "    </tr>\n",
       "    <tr>\n",
       "      <th>12692</th>\n",
       "      <td>CS015415000185</td>\n",
       "      <td>岩淵 はるみ</td>\n",
       "      <td>1</td>\n",
       "      <td>女性</td>\n",
       "      <td>1973-09-19</td>\n",
       "      <td>45</td>\n",
       "      <td>135-0043</td>\n",
       "      <td>東京都江東区塩浜**********</td>\n",
       "      <td>S13015</td>\n",
       "      <td>20150322</td>\n",
       "      <td>F-20101014-F</td>\n",
       "      <td>20153.0</td>\n",
       "    </tr>\n",
       "    <tr>\n",
       "      <th>13550</th>\n",
       "      <td>CS031414000051</td>\n",
       "      <td>長澤 沙知絵</td>\n",
       "      <td>1</td>\n",
       "      <td>女性</td>\n",
       "      <td>1973-04-25</td>\n",
       "      <td>45</td>\n",
       "      <td>151-0064</td>\n",
       "      <td>東京都渋谷区上原**********</td>\n",
       "      <td>S13031</td>\n",
       "      <td>20150823</td>\n",
       "      <td>F-20101009-F</td>\n",
       "      <td>19202.0</td>\n",
       "    </tr>\n",
       "    <tr>\n",
       "      <th>4808</th>\n",
       "      <td>CS028415000007</td>\n",
       "      <td>紺野 あい</td>\n",
       "      <td>1</td>\n",
       "      <td>女性</td>\n",
       "      <td>1969-07-28</td>\n",
       "      <td>49</td>\n",
       "      <td>246-0023</td>\n",
       "      <td>神奈川県横浜市瀬谷区阿久和東**********</td>\n",
       "      <td>S14028</td>\n",
       "      <td>20151212</td>\n",
       "      <td>F-20100922-F</td>\n",
       "      <td>19127.0</td>\n",
       "    </tr>\n",
       "    <tr>\n",
       "      <th>14205</th>\n",
       "      <td>CS001605000009</td>\n",
       "      <td>安部 耕司</td>\n",
       "      <td>0</td>\n",
       "      <td>男性</td>\n",
       "      <td>1952-10-22</td>\n",
       "      <td>66</td>\n",
       "      <td>144-0035</td>\n",
       "      <td>東京都大田区南蒲田**********</td>\n",
       "      <td>S13001</td>\n",
       "      <td>20160203</td>\n",
       "      <td>F-20101019-E</td>\n",
       "      <td>18925.0</td>\n",
       "    </tr>\n",
       "  </tbody>\n",
       "</table>\n",
       "</div>"
      ],
      "text/plain": [
       "          customer_id customer_name  gender_cd gender   birth_day  age  \\\n",
       "16905  CS017415000097         福士 千夏          1     女性  1973-04-03   45   \n",
       "12692  CS015415000185        岩淵 はるみ          1     女性  1973-09-19   45   \n",
       "13550  CS031414000051        長澤 沙知絵          1     女性  1973-04-25   45   \n",
       "4808   CS028415000007         紺野 あい          1     女性  1969-07-28   49   \n",
       "14205  CS001605000009         安部 耕司          0     男性  1952-10-22   66   \n",
       "\n",
       "      postal_cd                   address application_store_cd  \\\n",
       "16905  166-0014       東京都杉並区松ノ木**********               S13017   \n",
       "12692  135-0043        東京都江東区塩浜**********               S13015   \n",
       "13550  151-0064        東京都渋谷区上原**********               S13031   \n",
       "4808   246-0023  神奈川県横浜市瀬谷区阿久和東**********               S14028   \n",
       "14205  144-0035       東京都大田区南蒲田**********               S13001   \n",
       "\n",
       "       application_date     status_cd   amount  \n",
       "16905          20151209  F-20101006-F  23086.0  \n",
       "12692          20150322  F-20101014-F  20153.0  \n",
       "13550          20150823  F-20101009-F  19202.0  \n",
       "4808           20151212  F-20100922-F  19127.0  \n",
       "14205          20160203  F-20101019-E  18925.0  "
      ]
     },
     "execution_count": 157,
     "metadata": {},
     "output_type": "execute_result"
    }
   ],
   "source": [
    "# https://note.nkmk.me/python-pandas-sort-values-sort-index/\n",
    "df_customer_u = pd.merge(df_customer, df87_r, on=\"customer_id\",how=\"left\").fillna(0).sort_values([\"amount\", \"customer_id\"],ascending=[False, True])\n",
    "# https://note.nkmk.me/python-pandas-duplicated-drop-duplicates/\n",
    "df_customer_u = df_customer_u.drop_duplicates(subset=[\"customer_name\", \"postal_cd\"], keep=\"first\")\n",
    "df_customer_u.head()"
   ]
  },
  {
   "cell_type": "markdown",
   "metadata": {
    "id": "vcCP_OLk23VU"
   },
   "source": [
    "## P088"
   ]
  },
  {
   "cell_type": "markdown",
   "metadata": {
    "id": "U4ojNt4shhz1"
   },
   "source": [
    "---\n",
    "> P-088: 前設問で作成したデータを元に、顧客データフレームに統合名寄IDを付与したデータフレーム（df_customer_n）を作成せよ。ただし、統合名寄IDは以下の仕様で付与するものとする。\n",
    ">\n",
    "> - 重複していない顧客：顧客ID（customer_id）を設定\n",
    "> - 重複している顧客：前設問で抽出したレコードの顧客IDを設定"
   ]
  },
  {
   "cell_type": "code",
   "execution_count": 158,
   "metadata": {
    "id": "G8xkmVEnhhz2"
   },
   "outputs": [
    {
     "data": {
      "text/html": [
       "<div>\n",
       "<style scoped>\n",
       "    .dataframe tbody tr th:only-of-type {\n",
       "        vertical-align: middle;\n",
       "    }\n",
       "\n",
       "    .dataframe tbody tr th {\n",
       "        vertical-align: top;\n",
       "    }\n",
       "\n",
       "    .dataframe thead th {\n",
       "        text-align: right;\n",
       "    }\n",
       "</style>\n",
       "<table border=\"1\" class=\"dataframe\">\n",
       "  <thead>\n",
       "    <tr style=\"text-align: right;\">\n",
       "      <th></th>\n",
       "      <th>customer_id_x</th>\n",
       "      <th>customer_id_y</th>\n",
       "      <th>customer_name</th>\n",
       "      <th>postal_cd</th>\n",
       "    </tr>\n",
       "  </thead>\n",
       "  <tbody>\n",
       "    <tr>\n",
       "      <th>0</th>\n",
       "      <td>CS021313000114</td>\n",
       "      <td>CS021313000114</td>\n",
       "      <td>大野 あや子</td>\n",
       "      <td>259-1113</td>\n",
       "    </tr>\n",
       "    <tr>\n",
       "      <th>1</th>\n",
       "      <td>CS037613000071</td>\n",
       "      <td>CS037613000071</td>\n",
       "      <td>六角 雅彦</td>\n",
       "      <td>136-0076</td>\n",
       "    </tr>\n",
       "    <tr>\n",
       "      <th>2</th>\n",
       "      <td>CS031415000172</td>\n",
       "      <td>CS031415000172</td>\n",
       "      <td>宇多田 貴美子</td>\n",
       "      <td>151-0053</td>\n",
       "    </tr>\n",
       "    <tr>\n",
       "      <th>3</th>\n",
       "      <td>CS028811000001</td>\n",
       "      <td>CS028811000001</td>\n",
       "      <td>堀井 かおり</td>\n",
       "      <td>245-0016</td>\n",
       "    </tr>\n",
       "    <tr>\n",
       "      <th>4</th>\n",
       "      <td>CS001215000145</td>\n",
       "      <td>CS001215000145</td>\n",
       "      <td>田崎 美紀</td>\n",
       "      <td>144-0055</td>\n",
       "    </tr>\n",
       "    <tr>\n",
       "      <th>5</th>\n",
       "      <td>CS020401000016</td>\n",
       "      <td>CS020401000016</td>\n",
       "      <td>宮下 達士</td>\n",
       "      <td>174-0065</td>\n",
       "    </tr>\n",
       "    <tr>\n",
       "      <th>6</th>\n",
       "      <td>CS015414000103</td>\n",
       "      <td>CS015414000103</td>\n",
       "      <td>奥野 陽子</td>\n",
       "      <td>136-0073</td>\n",
       "    </tr>\n",
       "    <tr>\n",
       "      <th>7</th>\n",
       "      <td>CS029403000008</td>\n",
       "      <td>CS029403000008</td>\n",
       "      <td>釈 人志</td>\n",
       "      <td>279-0003</td>\n",
       "    </tr>\n",
       "    <tr>\n",
       "      <th>8</th>\n",
       "      <td>CS015804000004</td>\n",
       "      <td>CS015804000004</td>\n",
       "      <td>松谷 米蔵</td>\n",
       "      <td>136-0073</td>\n",
       "    </tr>\n",
       "    <tr>\n",
       "      <th>9</th>\n",
       "      <td>CS033513000180</td>\n",
       "      <td>CS033513000180</td>\n",
       "      <td>安斎 遥</td>\n",
       "      <td>241-0823</td>\n",
       "    </tr>\n",
       "  </tbody>\n",
       "</table>\n",
       "</div>"
      ],
      "text/plain": [
       "    customer_id_x   customer_id_y customer_name postal_cd\n",
       "0  CS021313000114  CS021313000114        大野 あや子  259-1113\n",
       "1  CS037613000071  CS037613000071         六角 雅彦  136-0076\n",
       "2  CS031415000172  CS031415000172       宇多田 貴美子  151-0053\n",
       "3  CS028811000001  CS028811000001        堀井 かおり  245-0016\n",
       "4  CS001215000145  CS001215000145         田崎 美紀  144-0055\n",
       "5  CS020401000016  CS020401000016         宮下 達士  174-0065\n",
       "6  CS015414000103  CS015414000103         奥野 陽子  136-0073\n",
       "7  CS029403000008  CS029403000008          釈 人志  279-0003\n",
       "8  CS015804000004  CS015804000004         松谷 米蔵  136-0073\n",
       "9  CS033513000180  CS033513000180          安斎 遥  241-0823"
      ]
     },
     "execution_count": 158,
     "metadata": {},
     "output_type": "execute_result"
    }
   ],
   "source": [
    "df_customer_n_tmp = pd.merge(df_customer, df_customer_u, how=\"left\", on=[\"customer_name\", \"postal_cd\"])\n",
    "df_customer_n = df_customer_n_tmp[[\"customer_id_x\",\"customer_id_y\", \"customer_name\", \"postal_cd\"]]\n",
    "df_customer_n.head(10)"
   ]
  },
  {
   "cell_type": "markdown",
   "metadata": {
    "id": "ijOu7Ekfhhz3"
   },
   "source": [
    "---\n",
    "> P-閑話: df_customer_1, df_customer_nは使わないので削除する。"
   ]
  },
  {
   "cell_type": "code",
   "execution_count": null,
   "metadata": {
    "id": "0rMxTZIGhhz3"
   },
   "outputs": [],
   "source": []
  },
  {
   "cell_type": "markdown",
   "metadata": {
    "id": "yPyZOaCx24gh"
   },
   "source": [
    "## P089"
   ]
  },
  {
   "cell_type": "markdown",
   "metadata": {
    "id": "jGzIjQvfhhz4"
   },
   "source": [
    "---\n",
    "> P-089: 売上実績のある顧客に対し、予測モデル構築のため学習用データとテスト用データに分割したい。それぞれ8:2の割合でランダムにデータを分割せよ。"
   ]
  },
  {
   "cell_type": "code",
   "execution_count": 159,
   "metadata": {
    "id": "tQfblHJFhhz4"
   },
   "outputs": [
    {
     "name": "stdout",
     "output_type": "stream",
     "text": [
      "52545 13137\n"
     ]
    }
   ],
   "source": [
    "from sklearn.model_selection import train_test_split\n",
    "\n",
    "df89 = pd.merge(df_customer, df_receipt['customer_id'], how='inner', on='customer_id')\n",
    "df89_train, df89_test = train_test_split(df89, test_size=0.2, random_state=71)\n",
    "print(len(df89_train), len(df89_test))"
   ]
  },
  {
   "cell_type": "code",
   "execution_count": 160,
   "metadata": {},
   "outputs": [
    {
     "name": "stdout",
     "output_type": "stream",
     "text": [
      "52545 13137\n"
     ]
    }
   ],
   "source": [
    "df_train, df_test = train_test_split(df_customer_u.query(\"amount>0\"), test_size=0.2)\n",
    "print(len(df89_train), len(df89_test))"
   ]
  },
  {
   "cell_type": "markdown",
   "metadata": {},
   "source": [
    "↑宿題ここまで"
   ]
  },
  {
   "cell_type": "markdown",
   "metadata": {
    "id": "FEbo1Tul28Nj"
   },
   "source": [
    "## P090"
   ]
  },
  {
   "cell_type": "markdown",
   "metadata": {
    "id": "lnuxS-40hhz5"
   },
   "source": [
    "---\n",
    "> P-090: レシート明細データフレーム（df_receipt）は2017年1月1日〜2019年10月31日までのデータを有している。売上金額（amount）を月次で集計し、学習用に12ヶ月、テスト用に6ヶ月のモデル構築用データを3セット作成せよ。"
   ]
  },
  {
   "cell_type": "code",
   "execution_count": 161,
   "metadata": {
    "id": "54N1nBI3hhz5"
   },
   "outputs": [
    {
     "data": {
      "text/html": [
       "<div>\n",
       "<style scoped>\n",
       "    .dataframe tbody tr th:only-of-type {\n",
       "        vertical-align: middle;\n",
       "    }\n",
       "\n",
       "    .dataframe tbody tr th {\n",
       "        vertical-align: top;\n",
       "    }\n",
       "\n",
       "    .dataframe thead th {\n",
       "        text-align: right;\n",
       "    }\n",
       "</style>\n",
       "<table border=\"1\" class=\"dataframe\">\n",
       "  <thead>\n",
       "    <tr style=\"text-align: right;\">\n",
       "      <th></th>\n",
       "      <th>sales_ym</th>\n",
       "      <th>amount</th>\n",
       "    </tr>\n",
       "  </thead>\n",
       "  <tbody>\n",
       "    <tr>\n",
       "      <th>0</th>\n",
       "      <td>201701</td>\n",
       "      <td>902056</td>\n",
       "    </tr>\n",
       "    <tr>\n",
       "      <th>1</th>\n",
       "      <td>201702</td>\n",
       "      <td>764413</td>\n",
       "    </tr>\n",
       "    <tr>\n",
       "      <th>2</th>\n",
       "      <td>201703</td>\n",
       "      <td>962945</td>\n",
       "    </tr>\n",
       "    <tr>\n",
       "      <th>3</th>\n",
       "      <td>201704</td>\n",
       "      <td>847566</td>\n",
       "    </tr>\n",
       "    <tr>\n",
       "      <th>4</th>\n",
       "      <td>201705</td>\n",
       "      <td>884010</td>\n",
       "    </tr>\n",
       "  </tbody>\n",
       "</table>\n",
       "</div>"
      ],
      "text/plain": [
       "  sales_ym  amount\n",
       "0   201701  902056\n",
       "1   201702  764413\n",
       "2   201703  962945\n",
       "3   201704  847566\n",
       "4   201705  884010"
      ]
     },
     "execution_count": 161,
     "metadata": {},
     "output_type": "execute_result"
    }
   ],
   "source": [
    "df90 = df_receipt.copy()\n",
    "df90[\"sales_ymd_to\"] = pd.to_datetime(df90[\"sales_ymd\"], format=\"%Y%m%d\")\n",
    "df90[\"sales_ym\"] = df90[\"sales_ymd_to\"].dt.strftime(\"%Y%m\")\n",
    "df90_m = df90.groupby(\"sales_ym\")[[\"amount\"]].sum().reset_index()\n",
    "df90_m.head()"
   ]
  },
  {
   "cell_type": "code",
   "execution_count": 181,
   "metadata": {},
   "outputs": [
    {
     "data": {
      "text/plain": [
       "34"
      ]
     },
     "execution_count": 181,
     "metadata": {},
     "output_type": "execute_result"
    }
   ],
   "source": [
    "len(df90_m)"
   ]
  },
  {
   "cell_type": "code",
   "execution_count": 186,
   "metadata": {},
   "outputs": [],
   "source": [
    "# 問題の意味が分からない\n",
    "# どう分けたらいいの？\n",
    "df90_train1, df90_test1 = df90_m[:12], df90_m[:6]\n",
    "df90_train2, df90_test2 = df90_m[12:24], df90_m[12:18]\n",
    "df90_train3, df90_test3 = df90_m[-12:], df90_m[-6:]"
   ]
  },
  {
   "cell_type": "code",
   "execution_count": 190,
   "metadata": {},
   "outputs": [
    {
     "name": "stdout",
     "output_type": "stream",
     "text": [
      "12 6\n",
      "12 6\n",
      "12 6\n"
     ]
    }
   ],
   "source": [
    "print(len(df90_train1), len(df90_test1))\n",
    "print(len(df90_train2), len(df90_test2))\n",
    "print(len(df90_train3), len(df90_test3))"
   ]
  },
  {
   "cell_type": "markdown",
   "metadata": {
    "id": "cX_0D88k2-0j"
   },
   "source": [
    "## P091"
   ]
  },
  {
   "cell_type": "markdown",
   "metadata": {
    "id": "NIl5LRhbhhz6"
   },
   "source": [
    "---\n",
    "> P-091: 顧客データフレーム（df_customer）の各顧客に対し、売上実績のある顧客数と売上実績のない顧客数が1:1となるようにアンダーサンプリングで抽出せよ。"
   ]
  },
  {
   "cell_type": "code",
   "execution_count": 163,
   "metadata": {
    "id": "Snlnbkm-hhz6"
   },
   "outputs": [],
   "source": [
    "# アンダーサンプリングとは？\n",
    "# アンダーサンプリングとは、少数派のデータ件数に合うように多数派データからランダムに抽出する方法です。\n",
    "# https://qiita.com/ryouta0506/items/619d9ac0d80f8c0aed92#%E3%82%A2%E3%83%B3%E3%83%80%E3%83%BC%E3%82%B5%E3%83%B3%E3%83%97%E3%83%AA%E3%83%B3%E3%82%B0"
   ]
  },
  {
   "cell_type": "code",
   "execution_count": 164,
   "metadata": {},
   "outputs": [
    {
     "data": {
      "text/html": [
       "<div>\n",
       "<style scoped>\n",
       "    .dataframe tbody tr th:only-of-type {\n",
       "        vertical-align: middle;\n",
       "    }\n",
       "\n",
       "    .dataframe tbody tr th {\n",
       "        vertical-align: top;\n",
       "    }\n",
       "\n",
       "    .dataframe thead th {\n",
       "        text-align: right;\n",
       "    }\n",
       "</style>\n",
       "<table border=\"1\" class=\"dataframe\">\n",
       "  <thead>\n",
       "    <tr style=\"text-align: right;\">\n",
       "      <th></th>\n",
       "      <th>customer_id</th>\n",
       "      <th>customer_name</th>\n",
       "      <th>gender_cd</th>\n",
       "      <th>gender</th>\n",
       "      <th>birth_day</th>\n",
       "      <th>age</th>\n",
       "      <th>postal_cd</th>\n",
       "      <th>address</th>\n",
       "      <th>application_store_cd</th>\n",
       "      <th>application_date</th>\n",
       "      <th>status_cd</th>\n",
       "      <th>amount</th>\n",
       "      <th>sales_flg</th>\n",
       "    </tr>\n",
       "  </thead>\n",
       "  <tbody>\n",
       "    <tr>\n",
       "      <th>0</th>\n",
       "      <td>CS021313000114</td>\n",
       "      <td>大野 あや子</td>\n",
       "      <td>1</td>\n",
       "      <td>女性</td>\n",
       "      <td>1981-04-29</td>\n",
       "      <td>37</td>\n",
       "      <td>259-1113</td>\n",
       "      <td>神奈川県伊勢原市粟窪**********</td>\n",
       "      <td>S14021</td>\n",
       "      <td>20150905</td>\n",
       "      <td>0-00000000-0</td>\n",
       "      <td>0.0</td>\n",
       "      <td>0</td>\n",
       "    </tr>\n",
       "    <tr>\n",
       "      <th>1</th>\n",
       "      <td>CS037613000071</td>\n",
       "      <td>六角 雅彦</td>\n",
       "      <td>9</td>\n",
       "      <td>不明</td>\n",
       "      <td>1952-04-01</td>\n",
       "      <td>66</td>\n",
       "      <td>136-0076</td>\n",
       "      <td>東京都江東区南砂**********</td>\n",
       "      <td>S13037</td>\n",
       "      <td>20150414</td>\n",
       "      <td>0-00000000-0</td>\n",
       "      <td>0.0</td>\n",
       "      <td>0</td>\n",
       "    </tr>\n",
       "    <tr>\n",
       "      <th>2</th>\n",
       "      <td>CS031415000172</td>\n",
       "      <td>宇多田 貴美子</td>\n",
       "      <td>1</td>\n",
       "      <td>女性</td>\n",
       "      <td>1976-10-04</td>\n",
       "      <td>42</td>\n",
       "      <td>151-0053</td>\n",
       "      <td>東京都渋谷区代々木**********</td>\n",
       "      <td>S13031</td>\n",
       "      <td>20150529</td>\n",
       "      <td>D-20100325-C</td>\n",
       "      <td>5088.0</td>\n",
       "      <td>1</td>\n",
       "    </tr>\n",
       "    <tr>\n",
       "      <th>3</th>\n",
       "      <td>CS028811000001</td>\n",
       "      <td>堀井 かおり</td>\n",
       "      <td>1</td>\n",
       "      <td>女性</td>\n",
       "      <td>1933-03-27</td>\n",
       "      <td>86</td>\n",
       "      <td>245-0016</td>\n",
       "      <td>神奈川県横浜市泉区和泉町**********</td>\n",
       "      <td>S14028</td>\n",
       "      <td>20160115</td>\n",
       "      <td>0-00000000-0</td>\n",
       "      <td>0.0</td>\n",
       "      <td>0</td>\n",
       "    </tr>\n",
       "    <tr>\n",
       "      <th>4</th>\n",
       "      <td>CS001215000145</td>\n",
       "      <td>田崎 美紀</td>\n",
       "      <td>1</td>\n",
       "      <td>女性</td>\n",
       "      <td>1995-03-29</td>\n",
       "      <td>24</td>\n",
       "      <td>144-0055</td>\n",
       "      <td>東京都大田区仲六郷**********</td>\n",
       "      <td>S13001</td>\n",
       "      <td>20170605</td>\n",
       "      <td>6-20090929-2</td>\n",
       "      <td>875.0</td>\n",
       "      <td>1</td>\n",
       "    </tr>\n",
       "  </tbody>\n",
       "</table>\n",
       "</div>"
      ],
      "text/plain": [
       "      customer_id customer_name  gender_cd gender   birth_day  age postal_cd  \\\n",
       "0  CS021313000114        大野 あや子          1     女性  1981-04-29   37  259-1113   \n",
       "1  CS037613000071         六角 雅彦          9     不明  1952-04-01   66  136-0076   \n",
       "2  CS031415000172       宇多田 貴美子          1     女性  1976-10-04   42  151-0053   \n",
       "3  CS028811000001        堀井 かおり          1     女性  1933-03-27   86  245-0016   \n",
       "4  CS001215000145         田崎 美紀          1     女性  1995-03-29   24  144-0055   \n",
       "\n",
       "                  address application_store_cd  application_date  \\\n",
       "0    神奈川県伊勢原市粟窪**********               S14021          20150905   \n",
       "1      東京都江東区南砂**********               S13037          20150414   \n",
       "2     東京都渋谷区代々木**********               S13031          20150529   \n",
       "3  神奈川県横浜市泉区和泉町**********               S14028          20160115   \n",
       "4     東京都大田区仲六郷**********               S13001          20170605   \n",
       "\n",
       "      status_cd  amount  sales_flg  \n",
       "0  0-00000000-0     0.0          0  \n",
       "1  0-00000000-0     0.0          0  \n",
       "2  D-20100325-C  5088.0          1  \n",
       "3  0-00000000-0     0.0          0  \n",
       "4  6-20090929-2   875.0          1  "
      ]
     },
     "execution_count": 164,
     "metadata": {},
     "output_type": "execute_result"
    }
   ],
   "source": [
    "df91_r = df_receipt.groupby(\"customer_id\")[[\"amount\"]].sum().reset_index()\n",
    "df91 = pd.merge(df_customer , df91_r, on=\"customer_id\", how=\"left\").fillna(0)\n",
    "df91[\"sales_flg\"] = df91[\"amount\"].apply(lambda x: 0 if x == 0 else 1) \n",
    "df91.head()"
   ]
  },
  {
   "cell_type": "code",
   "execution_count": 165,
   "metadata": {},
   "outputs": [
    {
     "name": "stdout",
     "output_type": "stream",
     "text": [
      "8306 13665\n"
     ]
    }
   ],
   "source": [
    "x = df91[df91[\"sales_flg\"] == 1]\n",
    "y = df91[df91[\"sales_flg\"] == 0]\n",
    "print(len(x), len(y))"
   ]
  },
  {
   "cell_type": "code",
   "execution_count": 192,
   "metadata": {},
   "outputs": [
    {
     "name": "stdout",
     "output_type": "stream",
     "text": [
      "16612 16612\n"
     ]
    }
   ],
   "source": [
    "# https://pypi.org/project/imbalanced-learn/\n",
    "from imblearn.under_sampling import RandomUnderSampler\n",
    "rus = RandomUnderSampler()\n",
    "x_res, y_res = rus.fit_resample(df91, df91.sales_flg)\n",
    "print(len(x_res), len(y_res))"
   ]
  },
  {
   "cell_type": "code",
   "execution_count": 193,
   "metadata": {},
   "outputs": [
    {
     "name": "stdout",
     "output_type": "stream",
     "text": [
      "8306 8306\n"
     ]
    }
   ],
   "source": [
    "x2 = x_res[x_res[\"sales_flg\"] == 1]\n",
    "y2 = x_res[x_res[\"sales_flg\"] == 0]\n",
    "print(len(x2), len(y2))"
   ]
  },
  {
   "cell_type": "markdown",
   "metadata": {
    "id": "yMGRUhVH2_8W"
   },
   "source": [
    "## P092"
   ]
  },
  {
   "cell_type": "markdown",
   "metadata": {
    "id": "LAzWjKmHhhz9"
   },
   "source": [
    "---\n",
    "> P-092: 顧客データフレーム（df_customer）では、性別に関する情報が非正規化の状態で保持されている。これを第三正規化せよ。"
   ]
  },
  {
   "cell_type": "code",
   "execution_count": 194,
   "metadata": {},
   "outputs": [
    {
     "data": {
      "text/html": [
       "<div>\n",
       "<style scoped>\n",
       "    .dataframe tbody tr th:only-of-type {\n",
       "        vertical-align: middle;\n",
       "    }\n",
       "\n",
       "    .dataframe tbody tr th {\n",
       "        vertical-align: top;\n",
       "    }\n",
       "\n",
       "    .dataframe thead th {\n",
       "        text-align: right;\n",
       "    }\n",
       "</style>\n",
       "<table border=\"1\" class=\"dataframe\">\n",
       "  <thead>\n",
       "    <tr style=\"text-align: right;\">\n",
       "      <th></th>\n",
       "      <th>customer_id</th>\n",
       "      <th>customer_name</th>\n",
       "      <th>gender_cd</th>\n",
       "      <th>gender</th>\n",
       "      <th>birth_day</th>\n",
       "      <th>age</th>\n",
       "      <th>postal_cd</th>\n",
       "      <th>address</th>\n",
       "      <th>application_store_cd</th>\n",
       "      <th>application_date</th>\n",
       "      <th>status_cd</th>\n",
       "    </tr>\n",
       "  </thead>\n",
       "  <tbody>\n",
       "    <tr>\n",
       "      <th>0</th>\n",
       "      <td>CS021313000114</td>\n",
       "      <td>大野 あや子</td>\n",
       "      <td>1</td>\n",
       "      <td>女性</td>\n",
       "      <td>1981-04-29</td>\n",
       "      <td>37</td>\n",
       "      <td>259-1113</td>\n",
       "      <td>神奈川県伊勢原市粟窪**********</td>\n",
       "      <td>S14021</td>\n",
       "      <td>20150905</td>\n",
       "      <td>0-00000000-0</td>\n",
       "    </tr>\n",
       "    <tr>\n",
       "      <th>1</th>\n",
       "      <td>CS037613000071</td>\n",
       "      <td>六角 雅彦</td>\n",
       "      <td>9</td>\n",
       "      <td>不明</td>\n",
       "      <td>1952-04-01</td>\n",
       "      <td>66</td>\n",
       "      <td>136-0076</td>\n",
       "      <td>東京都江東区南砂**********</td>\n",
       "      <td>S13037</td>\n",
       "      <td>20150414</td>\n",
       "      <td>0-00000000-0</td>\n",
       "    </tr>\n",
       "    <tr>\n",
       "      <th>2</th>\n",
       "      <td>CS031415000172</td>\n",
       "      <td>宇多田 貴美子</td>\n",
       "      <td>1</td>\n",
       "      <td>女性</td>\n",
       "      <td>1976-10-04</td>\n",
       "      <td>42</td>\n",
       "      <td>151-0053</td>\n",
       "      <td>東京都渋谷区代々木**********</td>\n",
       "      <td>S13031</td>\n",
       "      <td>20150529</td>\n",
       "      <td>D-20100325-C</td>\n",
       "    </tr>\n",
       "    <tr>\n",
       "      <th>3</th>\n",
       "      <td>CS028811000001</td>\n",
       "      <td>堀井 かおり</td>\n",
       "      <td>1</td>\n",
       "      <td>女性</td>\n",
       "      <td>1933-03-27</td>\n",
       "      <td>86</td>\n",
       "      <td>245-0016</td>\n",
       "      <td>神奈川県横浜市泉区和泉町**********</td>\n",
       "      <td>S14028</td>\n",
       "      <td>20160115</td>\n",
       "      <td>0-00000000-0</td>\n",
       "    </tr>\n",
       "    <tr>\n",
       "      <th>4</th>\n",
       "      <td>CS001215000145</td>\n",
       "      <td>田崎 美紀</td>\n",
       "      <td>1</td>\n",
       "      <td>女性</td>\n",
       "      <td>1995-03-29</td>\n",
       "      <td>24</td>\n",
       "      <td>144-0055</td>\n",
       "      <td>東京都大田区仲六郷**********</td>\n",
       "      <td>S13001</td>\n",
       "      <td>20170605</td>\n",
       "      <td>6-20090929-2</td>\n",
       "    </tr>\n",
       "  </tbody>\n",
       "</table>\n",
       "</div>"
      ],
      "text/plain": [
       "      customer_id customer_name  gender_cd gender   birth_day  age postal_cd  \\\n",
       "0  CS021313000114        大野 あや子          1     女性  1981-04-29   37  259-1113   \n",
       "1  CS037613000071         六角 雅彦          9     不明  1952-04-01   66  136-0076   \n",
       "2  CS031415000172       宇多田 貴美子          1     女性  1976-10-04   42  151-0053   \n",
       "3  CS028811000001        堀井 かおり          1     女性  1933-03-27   86  245-0016   \n",
       "4  CS001215000145         田崎 美紀          1     女性  1995-03-29   24  144-0055   \n",
       "\n",
       "                  address application_store_cd  application_date     status_cd  \n",
       "0    神奈川県伊勢原市粟窪**********               S14021          20150905  0-00000000-0  \n",
       "1      東京都江東区南砂**********               S13037          20150414  0-00000000-0  \n",
       "2     東京都渋谷区代々木**********               S13031          20150529  D-20100325-C  \n",
       "3  神奈川県横浜市泉区和泉町**********               S14028          20160115  0-00000000-0  \n",
       "4     東京都大田区仲六郷**********               S13001          20170605  6-20090929-2  "
      ]
     },
     "execution_count": 194,
     "metadata": {},
     "output_type": "execute_result"
    }
   ],
   "source": [
    "df_customer.head()"
   ]
  },
  {
   "cell_type": "code",
   "execution_count": 167,
   "metadata": {
    "id": "BUEhEPR8hhz9"
   },
   "outputs": [
    {
     "data": {
      "text/html": [
       "<div>\n",
       "<style scoped>\n",
       "    .dataframe tbody tr th:only-of-type {\n",
       "        vertical-align: middle;\n",
       "    }\n",
       "\n",
       "    .dataframe tbody tr th {\n",
       "        vertical-align: top;\n",
       "    }\n",
       "\n",
       "    .dataframe thead th {\n",
       "        text-align: right;\n",
       "    }\n",
       "</style>\n",
       "<table border=\"1\" class=\"dataframe\">\n",
       "  <thead>\n",
       "    <tr style=\"text-align: right;\">\n",
       "      <th></th>\n",
       "      <th>gender_cd</th>\n",
       "      <th>gender</th>\n",
       "    </tr>\n",
       "  </thead>\n",
       "  <tbody>\n",
       "    <tr>\n",
       "      <th>0</th>\n",
       "      <td>1</td>\n",
       "      <td>女性</td>\n",
       "    </tr>\n",
       "    <tr>\n",
       "      <th>1</th>\n",
       "      <td>9</td>\n",
       "      <td>不明</td>\n",
       "    </tr>\n",
       "    <tr>\n",
       "      <th>5</th>\n",
       "      <td>0</td>\n",
       "      <td>男性</td>\n",
       "    </tr>\n",
       "  </tbody>\n",
       "</table>\n",
       "</div>"
      ],
      "text/plain": [
       "   gender_cd gender\n",
       "0          1     女性\n",
       "1          9     不明\n",
       "5          0     男性"
      ]
     },
     "execution_count": 167,
     "metadata": {},
     "output_type": "execute_result"
    }
   ],
   "source": [
    "df92 = df_customer.copy()\n",
    "df92_gender = df92[[\"gender_cd\", \"gender\"]].drop_duplicates()\n",
    "df92_gender"
   ]
  },
  {
   "cell_type": "code",
   "execution_count": 168,
   "metadata": {},
   "outputs": [
    {
     "data": {
      "text/html": [
       "<div>\n",
       "<style scoped>\n",
       "    .dataframe tbody tr th:only-of-type {\n",
       "        vertical-align: middle;\n",
       "    }\n",
       "\n",
       "    .dataframe tbody tr th {\n",
       "        vertical-align: top;\n",
       "    }\n",
       "\n",
       "    .dataframe thead th {\n",
       "        text-align: right;\n",
       "    }\n",
       "</style>\n",
       "<table border=\"1\" class=\"dataframe\">\n",
       "  <thead>\n",
       "    <tr style=\"text-align: right;\">\n",
       "      <th></th>\n",
       "      <th>customer_id</th>\n",
       "      <th>customer_name</th>\n",
       "      <th>gender_cd</th>\n",
       "      <th>birth_day</th>\n",
       "      <th>age</th>\n",
       "      <th>postal_cd</th>\n",
       "      <th>address</th>\n",
       "      <th>application_store_cd</th>\n",
       "      <th>application_date</th>\n",
       "      <th>status_cd</th>\n",
       "    </tr>\n",
       "  </thead>\n",
       "  <tbody>\n",
       "    <tr>\n",
       "      <th>0</th>\n",
       "      <td>CS021313000114</td>\n",
       "      <td>大野 あや子</td>\n",
       "      <td>1</td>\n",
       "      <td>1981-04-29</td>\n",
       "      <td>37</td>\n",
       "      <td>259-1113</td>\n",
       "      <td>神奈川県伊勢原市粟窪**********</td>\n",
       "      <td>S14021</td>\n",
       "      <td>20150905</td>\n",
       "      <td>0-00000000-0</td>\n",
       "    </tr>\n",
       "    <tr>\n",
       "      <th>1</th>\n",
       "      <td>CS037613000071</td>\n",
       "      <td>六角 雅彦</td>\n",
       "      <td>9</td>\n",
       "      <td>1952-04-01</td>\n",
       "      <td>66</td>\n",
       "      <td>136-0076</td>\n",
       "      <td>東京都江東区南砂**********</td>\n",
       "      <td>S13037</td>\n",
       "      <td>20150414</td>\n",
       "      <td>0-00000000-0</td>\n",
       "    </tr>\n",
       "    <tr>\n",
       "      <th>2</th>\n",
       "      <td>CS031415000172</td>\n",
       "      <td>宇多田 貴美子</td>\n",
       "      <td>1</td>\n",
       "      <td>1976-10-04</td>\n",
       "      <td>42</td>\n",
       "      <td>151-0053</td>\n",
       "      <td>東京都渋谷区代々木**********</td>\n",
       "      <td>S13031</td>\n",
       "      <td>20150529</td>\n",
       "      <td>D-20100325-C</td>\n",
       "    </tr>\n",
       "    <tr>\n",
       "      <th>3</th>\n",
       "      <td>CS028811000001</td>\n",
       "      <td>堀井 かおり</td>\n",
       "      <td>1</td>\n",
       "      <td>1933-03-27</td>\n",
       "      <td>86</td>\n",
       "      <td>245-0016</td>\n",
       "      <td>神奈川県横浜市泉区和泉町**********</td>\n",
       "      <td>S14028</td>\n",
       "      <td>20160115</td>\n",
       "      <td>0-00000000-0</td>\n",
       "    </tr>\n",
       "    <tr>\n",
       "      <th>4</th>\n",
       "      <td>CS001215000145</td>\n",
       "      <td>田崎 美紀</td>\n",
       "      <td>1</td>\n",
       "      <td>1995-03-29</td>\n",
       "      <td>24</td>\n",
       "      <td>144-0055</td>\n",
       "      <td>東京都大田区仲六郷**********</td>\n",
       "      <td>S13001</td>\n",
       "      <td>20170605</td>\n",
       "      <td>6-20090929-2</td>\n",
       "    </tr>\n",
       "  </tbody>\n",
       "</table>\n",
       "</div>"
      ],
      "text/plain": [
       "      customer_id customer_name  gender_cd   birth_day  age postal_cd  \\\n",
       "0  CS021313000114        大野 あや子          1  1981-04-29   37  259-1113   \n",
       "1  CS037613000071         六角 雅彦          9  1952-04-01   66  136-0076   \n",
       "2  CS031415000172       宇多田 貴美子          1  1976-10-04   42  151-0053   \n",
       "3  CS028811000001        堀井 かおり          1  1933-03-27   86  245-0016   \n",
       "4  CS001215000145         田崎 美紀          1  1995-03-29   24  144-0055   \n",
       "\n",
       "                  address application_store_cd  application_date     status_cd  \n",
       "0    神奈川県伊勢原市粟窪**********               S14021          20150905  0-00000000-0  \n",
       "1      東京都江東区南砂**********               S13037          20150414  0-00000000-0  \n",
       "2     東京都渋谷区代々木**********               S13031          20150529  D-20100325-C  \n",
       "3  神奈川県横浜市泉区和泉町**********               S14028          20160115  0-00000000-0  \n",
       "4     東京都大田区仲六郷**********               S13001          20170605  6-20090929-2  "
      ]
     },
     "execution_count": 168,
     "metadata": {},
     "output_type": "execute_result"
    }
   ],
   "source": [
    "df92_2 = df92.drop(columns=\"gender\")\n",
    "df92_2.head()"
   ]
  },
  {
   "cell_type": "markdown",
   "metadata": {
    "id": "vgcUIWGm3CPe"
   },
   "source": [
    "## P093"
   ]
  },
  {
   "cell_type": "markdown",
   "metadata": {
    "id": "u8OEQQikhhz-"
   },
   "source": [
    "---\n",
    "> P-093: 商品データフレーム（df_product）では各カテゴリのコード値だけを保有し、カテゴリ名は保有していない。カテゴリデータフレーム（df_category）と組み合わせて非正規化し、カテゴリ名を保有した新たな商品データフレームを作成せよ。"
   ]
  },
  {
   "cell_type": "code",
   "execution_count": 169,
   "metadata": {},
   "outputs": [
    {
     "data": {
      "text/html": [
       "<div>\n",
       "<style scoped>\n",
       "    .dataframe tbody tr th:only-of-type {\n",
       "        vertical-align: middle;\n",
       "    }\n",
       "\n",
       "    .dataframe tbody tr th {\n",
       "        vertical-align: top;\n",
       "    }\n",
       "\n",
       "    .dataframe thead th {\n",
       "        text-align: right;\n",
       "    }\n",
       "</style>\n",
       "<table border=\"1\" class=\"dataframe\">\n",
       "  <thead>\n",
       "    <tr style=\"text-align: right;\">\n",
       "      <th></th>\n",
       "      <th>product_cd</th>\n",
       "      <th>category_major_cd</th>\n",
       "      <th>category_medium_cd</th>\n",
       "      <th>category_small_cd</th>\n",
       "      <th>unit_price</th>\n",
       "      <th>unit_cost</th>\n",
       "    </tr>\n",
       "  </thead>\n",
       "  <tbody>\n",
       "    <tr>\n",
       "      <th>0</th>\n",
       "      <td>P040101001</td>\n",
       "      <td>4</td>\n",
       "      <td>401</td>\n",
       "      <td>40101</td>\n",
       "      <td>198.0</td>\n",
       "      <td>149.0</td>\n",
       "    </tr>\n",
       "    <tr>\n",
       "      <th>1</th>\n",
       "      <td>P040101002</td>\n",
       "      <td>4</td>\n",
       "      <td>401</td>\n",
       "      <td>40101</td>\n",
       "      <td>218.0</td>\n",
       "      <td>164.0</td>\n",
       "    </tr>\n",
       "    <tr>\n",
       "      <th>2</th>\n",
       "      <td>P040101003</td>\n",
       "      <td>4</td>\n",
       "      <td>401</td>\n",
       "      <td>40101</td>\n",
       "      <td>230.0</td>\n",
       "      <td>173.0</td>\n",
       "    </tr>\n",
       "    <tr>\n",
       "      <th>3</th>\n",
       "      <td>P040101004</td>\n",
       "      <td>4</td>\n",
       "      <td>401</td>\n",
       "      <td>40101</td>\n",
       "      <td>248.0</td>\n",
       "      <td>186.0</td>\n",
       "    </tr>\n",
       "    <tr>\n",
       "      <th>4</th>\n",
       "      <td>P040101005</td>\n",
       "      <td>4</td>\n",
       "      <td>401</td>\n",
       "      <td>40101</td>\n",
       "      <td>268.0</td>\n",
       "      <td>201.0</td>\n",
       "    </tr>\n",
       "  </tbody>\n",
       "</table>\n",
       "</div>"
      ],
      "text/plain": [
       "   product_cd  category_major_cd  category_medium_cd  category_small_cd  \\\n",
       "0  P040101001                  4                 401              40101   \n",
       "1  P040101002                  4                 401              40101   \n",
       "2  P040101003                  4                 401              40101   \n",
       "3  P040101004                  4                 401              40101   \n",
       "4  P040101005                  4                 401              40101   \n",
       "\n",
       "   unit_price  unit_cost  \n",
       "0       198.0      149.0  \n",
       "1       218.0      164.0  \n",
       "2       230.0      173.0  \n",
       "3       248.0      186.0  \n",
       "4       268.0      201.0  "
      ]
     },
     "execution_count": 169,
     "metadata": {},
     "output_type": "execute_result"
    }
   ],
   "source": [
    "df_product.head()"
   ]
  },
  {
   "cell_type": "code",
   "execution_count": 170,
   "metadata": {},
   "outputs": [
    {
     "data": {
      "text/html": [
       "<div>\n",
       "<style scoped>\n",
       "    .dataframe tbody tr th:only-of-type {\n",
       "        vertical-align: middle;\n",
       "    }\n",
       "\n",
       "    .dataframe tbody tr th {\n",
       "        vertical-align: top;\n",
       "    }\n",
       "\n",
       "    .dataframe thead th {\n",
       "        text-align: right;\n",
       "    }\n",
       "</style>\n",
       "<table border=\"1\" class=\"dataframe\">\n",
       "  <thead>\n",
       "    <tr style=\"text-align: right;\">\n",
       "      <th></th>\n",
       "      <th>category_major_cd</th>\n",
       "      <th>category_major_name</th>\n",
       "      <th>category_medium_cd</th>\n",
       "      <th>category_medium_name</th>\n",
       "      <th>category_small_cd</th>\n",
       "      <th>category_small_name</th>\n",
       "    </tr>\n",
       "  </thead>\n",
       "  <tbody>\n",
       "    <tr>\n",
       "      <th>0</th>\n",
       "      <td>4</td>\n",
       "      <td>惣菜</td>\n",
       "      <td>401</td>\n",
       "      <td>御飯類</td>\n",
       "      <td>40101</td>\n",
       "      <td>弁当類</td>\n",
       "    </tr>\n",
       "    <tr>\n",
       "      <th>1</th>\n",
       "      <td>4</td>\n",
       "      <td>惣菜</td>\n",
       "      <td>401</td>\n",
       "      <td>御飯類</td>\n",
       "      <td>40102</td>\n",
       "      <td>寿司類</td>\n",
       "    </tr>\n",
       "    <tr>\n",
       "      <th>2</th>\n",
       "      <td>4</td>\n",
       "      <td>惣菜</td>\n",
       "      <td>402</td>\n",
       "      <td>佃煮類</td>\n",
       "      <td>40201</td>\n",
       "      <td>魚介佃煮類</td>\n",
       "    </tr>\n",
       "    <tr>\n",
       "      <th>3</th>\n",
       "      <td>4</td>\n",
       "      <td>惣菜</td>\n",
       "      <td>402</td>\n",
       "      <td>佃煮類</td>\n",
       "      <td>40202</td>\n",
       "      <td>海草佃煮類</td>\n",
       "    </tr>\n",
       "    <tr>\n",
       "      <th>4</th>\n",
       "      <td>4</td>\n",
       "      <td>惣菜</td>\n",
       "      <td>402</td>\n",
       "      <td>佃煮類</td>\n",
       "      <td>40203</td>\n",
       "      <td>野菜佃煮類</td>\n",
       "    </tr>\n",
       "  </tbody>\n",
       "</table>\n",
       "</div>"
      ],
      "text/plain": [
       "   category_major_cd category_major_name  category_medium_cd  \\\n",
       "0                  4                  惣菜                 401   \n",
       "1                  4                  惣菜                 401   \n",
       "2                  4                  惣菜                 402   \n",
       "3                  4                  惣菜                 402   \n",
       "4                  4                  惣菜                 402   \n",
       "\n",
       "  category_medium_name  category_small_cd category_small_name  \n",
       "0                  御飯類              40101                 弁当類  \n",
       "1                  御飯類              40102                 寿司類  \n",
       "2                  佃煮類              40201               魚介佃煮類  \n",
       "3                  佃煮類              40202               海草佃煮類  \n",
       "4                  佃煮類              40203               野菜佃煮類  "
      ]
     },
     "execution_count": 170,
     "metadata": {},
     "output_type": "execute_result"
    }
   ],
   "source": [
    "df_category.head()"
   ]
  },
  {
   "cell_type": "code",
   "execution_count": 171,
   "metadata": {
    "id": "mbOy7QIQhhz-"
   },
   "outputs": [
    {
     "data": {
      "text/html": [
       "<div>\n",
       "<style scoped>\n",
       "    .dataframe tbody tr th:only-of-type {\n",
       "        vertical-align: middle;\n",
       "    }\n",
       "\n",
       "    .dataframe tbody tr th {\n",
       "        vertical-align: top;\n",
       "    }\n",
       "\n",
       "    .dataframe thead th {\n",
       "        text-align: right;\n",
       "    }\n",
       "</style>\n",
       "<table border=\"1\" class=\"dataframe\">\n",
       "  <thead>\n",
       "    <tr style=\"text-align: right;\">\n",
       "      <th></th>\n",
       "      <th>product_cd</th>\n",
       "      <th>category_major_cd</th>\n",
       "      <th>category_medium_cd</th>\n",
       "      <th>category_small_cd</th>\n",
       "      <th>unit_price</th>\n",
       "      <th>unit_cost</th>\n",
       "      <th>category_major_name</th>\n",
       "      <th>category_medium_name</th>\n",
       "      <th>category_small_name</th>\n",
       "    </tr>\n",
       "  </thead>\n",
       "  <tbody>\n",
       "    <tr>\n",
       "      <th>0</th>\n",
       "      <td>P040101001</td>\n",
       "      <td>4</td>\n",
       "      <td>401</td>\n",
       "      <td>40101</td>\n",
       "      <td>198.0</td>\n",
       "      <td>149.0</td>\n",
       "      <td>惣菜</td>\n",
       "      <td>御飯類</td>\n",
       "      <td>弁当類</td>\n",
       "    </tr>\n",
       "    <tr>\n",
       "      <th>1</th>\n",
       "      <td>P040101002</td>\n",
       "      <td>4</td>\n",
       "      <td>401</td>\n",
       "      <td>40101</td>\n",
       "      <td>218.0</td>\n",
       "      <td>164.0</td>\n",
       "      <td>惣菜</td>\n",
       "      <td>御飯類</td>\n",
       "      <td>弁当類</td>\n",
       "    </tr>\n",
       "    <tr>\n",
       "      <th>2</th>\n",
       "      <td>P040101003</td>\n",
       "      <td>4</td>\n",
       "      <td>401</td>\n",
       "      <td>40101</td>\n",
       "      <td>230.0</td>\n",
       "      <td>173.0</td>\n",
       "      <td>惣菜</td>\n",
       "      <td>御飯類</td>\n",
       "      <td>弁当類</td>\n",
       "    </tr>\n",
       "    <tr>\n",
       "      <th>3</th>\n",
       "      <td>P040101004</td>\n",
       "      <td>4</td>\n",
       "      <td>401</td>\n",
       "      <td>40101</td>\n",
       "      <td>248.0</td>\n",
       "      <td>186.0</td>\n",
       "      <td>惣菜</td>\n",
       "      <td>御飯類</td>\n",
       "      <td>弁当類</td>\n",
       "    </tr>\n",
       "    <tr>\n",
       "      <th>4</th>\n",
       "      <td>P040101005</td>\n",
       "      <td>4</td>\n",
       "      <td>401</td>\n",
       "      <td>40101</td>\n",
       "      <td>268.0</td>\n",
       "      <td>201.0</td>\n",
       "      <td>惣菜</td>\n",
       "      <td>御飯類</td>\n",
       "      <td>弁当類</td>\n",
       "    </tr>\n",
       "  </tbody>\n",
       "</table>\n",
       "</div>"
      ],
      "text/plain": [
       "   product_cd  category_major_cd  category_medium_cd  category_small_cd  \\\n",
       "0  P040101001                  4                 401              40101   \n",
       "1  P040101002                  4                 401              40101   \n",
       "2  P040101003                  4                 401              40101   \n",
       "3  P040101004                  4                 401              40101   \n",
       "4  P040101005                  4                 401              40101   \n",
       "\n",
       "   unit_price  unit_cost category_major_name category_medium_name  \\\n",
       "0       198.0      149.0                  惣菜                  御飯類   \n",
       "1       218.0      164.0                  惣菜                  御飯類   \n",
       "2       230.0      173.0                  惣菜                  御飯類   \n",
       "3       248.0      186.0                  惣菜                  御飯類   \n",
       "4       268.0      201.0                  惣菜                  御飯類   \n",
       "\n",
       "  category_small_name  \n",
       "0                 弁当類  \n",
       "1                 弁当類  \n",
       "2                 弁当類  \n",
       "3                 弁当類  \n",
       "4                 弁当類  "
      ]
     },
     "execution_count": 171,
     "metadata": {},
     "output_type": "execute_result"
    }
   ],
   "source": [
    "df93 = pd.merge(df_product, df_category, how=\"left\", \n",
    "                on=[\"category_major_cd\", \"category_medium_cd\", \"category_small_cd\"])\n",
    "df93.head()"
   ]
  },
  {
   "cell_type": "markdown",
   "metadata": {
    "id": "x5IB_S0u3Dln"
   },
   "source": [
    "## P094"
   ]
  },
  {
   "cell_type": "markdown",
   "metadata": {
    "id": "WBQfMWaThhz_"
   },
   "source": [
    "---\n",
    "> P-094: 先に作成したカテゴリ名付き商品データを以下の仕様でファイル出力せよ。なお、出力先のパスはdata配下とする。\n",
    ">\n",
    "> - ファイル形式はCSV（カンマ区切り）\n",
    "> - ヘッダ有り\n",
    "> - 文字コードはUTF-8"
   ]
  },
  {
   "cell_type": "code",
   "execution_count": 172,
   "metadata": {
    "id": "NdSruP0nhhz_"
   },
   "outputs": [],
   "source": [
    "df93.to_csv(\"./data/df94.csv\", encoding=\"utf-8\", header=True)"
   ]
  },
  {
   "cell_type": "markdown",
   "metadata": {
    "id": "dV9tVfRM3FWJ"
   },
   "source": [
    "## P095"
   ]
  },
  {
   "cell_type": "markdown",
   "metadata": {
    "id": "OwHfilB2hh0B"
   },
   "source": [
    "---\n",
    "> P-095: 先に作成したカテゴリ名付き商品データを以下の仕様でファイル出力せよ。なお、出力先のパスはdata配下とする。\n",
    ">\n",
    "> - ファイル形式はCSV（カンマ区切り）\n",
    "> - ヘッダ有り\n",
    "> - 文字コードはCP932"
   ]
  },
  {
   "cell_type": "code",
   "execution_count": 173,
   "metadata": {},
   "outputs": [
    {
     "data": {
      "text/plain": [
       "Index(['product_cd', 'category_major_cd', 'category_medium_cd',\n",
       "       'category_small_cd', 'unit_price', 'unit_cost', 'category_major_name',\n",
       "       'category_medium_name', 'category_small_name'],\n",
       "      dtype='object')"
      ]
     },
     "execution_count": 173,
     "metadata": {},
     "output_type": "execute_result"
    }
   ],
   "source": [
    "df93.columns"
   ]
  },
  {
   "cell_type": "code",
   "execution_count": 196,
   "metadata": {
    "id": "R_A_MhTYhh0C"
   },
   "outputs": [],
   "source": [
    "# できず\n",
    "# df93.to_csv(\"./data/df95.csv\", encoding=\"cp932\")"
   ]
  },
  {
   "cell_type": "markdown",
   "metadata": {
    "id": "ayxEWcKI3HKP"
   },
   "source": [
    "## P096"
   ]
  },
  {
   "cell_type": "markdown",
   "metadata": {
    "id": "ijN5gi_Nhh0C"
   },
   "source": [
    "---\n",
    "> P-096: 先に作成したカテゴリ名付き商品データを以下の仕様でファイル出力せよ。なお、出力先のパスはdata配下とする。\n",
    ">\n",
    "> - ファイル形式はCSV（カンマ区切り）\n",
    "> - ヘッダ無し\n",
    "> - 文字コードはUTF-8"
   ]
  },
  {
   "cell_type": "code",
   "execution_count": 175,
   "metadata": {
    "id": "HRMFIbjNhh0C"
   },
   "outputs": [],
   "source": [
    "df93.to_csv(\"./data/df96.csv\", encoding=\"utf-8\", header=False)"
   ]
  },
  {
   "cell_type": "markdown",
   "metadata": {
    "id": "-YYSwXmM3JkW"
   },
   "source": [
    "## P097"
   ]
  },
  {
   "cell_type": "markdown",
   "metadata": {
    "id": "EGEj2Gfohh0D"
   },
   "source": [
    "---\n",
    "> P-097: 先に作成した以下形式のファイルを読み込み、データフレームを作成せよ。また、先頭10件を表示させ、正しくとりまれていることを確認せよ。\n",
    ">\n",
    "> - ファイル形式はCSV（カンマ区切り）\n",
    "> - ヘッダ有り\n",
    "> - 文字コードはUTF-8"
   ]
  },
  {
   "cell_type": "code",
   "execution_count": 176,
   "metadata": {
    "id": "elyUH6_2hh0D"
   },
   "outputs": [
    {
     "data": {
      "text/html": [
       "<div>\n",
       "<style scoped>\n",
       "    .dataframe tbody tr th:only-of-type {\n",
       "        vertical-align: middle;\n",
       "    }\n",
       "\n",
       "    .dataframe tbody tr th {\n",
       "        vertical-align: top;\n",
       "    }\n",
       "\n",
       "    .dataframe thead th {\n",
       "        text-align: right;\n",
       "    }\n",
       "</style>\n",
       "<table border=\"1\" class=\"dataframe\">\n",
       "  <thead>\n",
       "    <tr style=\"text-align: right;\">\n",
       "      <th></th>\n",
       "      <th>product_cd</th>\n",
       "      <th>category_major_cd</th>\n",
       "      <th>category_medium_cd</th>\n",
       "      <th>category_small_cd</th>\n",
       "      <th>unit_price</th>\n",
       "      <th>unit_cost</th>\n",
       "      <th>category_major_name</th>\n",
       "      <th>category_medium_name</th>\n",
       "      <th>category_small_name</th>\n",
       "    </tr>\n",
       "  </thead>\n",
       "  <tbody>\n",
       "    <tr>\n",
       "      <th>0</th>\n",
       "      <td>P040101001</td>\n",
       "      <td>4</td>\n",
       "      <td>401</td>\n",
       "      <td>40101</td>\n",
       "      <td>198.0</td>\n",
       "      <td>149.0</td>\n",
       "      <td>惣菜</td>\n",
       "      <td>御飯類</td>\n",
       "      <td>弁当類</td>\n",
       "    </tr>\n",
       "    <tr>\n",
       "      <th>1</th>\n",
       "      <td>P040101002</td>\n",
       "      <td>4</td>\n",
       "      <td>401</td>\n",
       "      <td>40101</td>\n",
       "      <td>218.0</td>\n",
       "      <td>164.0</td>\n",
       "      <td>惣菜</td>\n",
       "      <td>御飯類</td>\n",
       "      <td>弁当類</td>\n",
       "    </tr>\n",
       "    <tr>\n",
       "      <th>2</th>\n",
       "      <td>P040101003</td>\n",
       "      <td>4</td>\n",
       "      <td>401</td>\n",
       "      <td>40101</td>\n",
       "      <td>230.0</td>\n",
       "      <td>173.0</td>\n",
       "      <td>惣菜</td>\n",
       "      <td>御飯類</td>\n",
       "      <td>弁当類</td>\n",
       "    </tr>\n",
       "    <tr>\n",
       "      <th>3</th>\n",
       "      <td>P040101004</td>\n",
       "      <td>4</td>\n",
       "      <td>401</td>\n",
       "      <td>40101</td>\n",
       "      <td>248.0</td>\n",
       "      <td>186.0</td>\n",
       "      <td>惣菜</td>\n",
       "      <td>御飯類</td>\n",
       "      <td>弁当類</td>\n",
       "    </tr>\n",
       "    <tr>\n",
       "      <th>4</th>\n",
       "      <td>P040101005</td>\n",
       "      <td>4</td>\n",
       "      <td>401</td>\n",
       "      <td>40101</td>\n",
       "      <td>268.0</td>\n",
       "      <td>201.0</td>\n",
       "      <td>惣菜</td>\n",
       "      <td>御飯類</td>\n",
       "      <td>弁当類</td>\n",
       "    </tr>\n",
       "    <tr>\n",
       "      <th>5</th>\n",
       "      <td>P040101006</td>\n",
       "      <td>4</td>\n",
       "      <td>401</td>\n",
       "      <td>40101</td>\n",
       "      <td>298.0</td>\n",
       "      <td>224.0</td>\n",
       "      <td>惣菜</td>\n",
       "      <td>御飯類</td>\n",
       "      <td>弁当類</td>\n",
       "    </tr>\n",
       "    <tr>\n",
       "      <th>6</th>\n",
       "      <td>P040101007</td>\n",
       "      <td>4</td>\n",
       "      <td>401</td>\n",
       "      <td>40101</td>\n",
       "      <td>338.0</td>\n",
       "      <td>254.0</td>\n",
       "      <td>惣菜</td>\n",
       "      <td>御飯類</td>\n",
       "      <td>弁当類</td>\n",
       "    </tr>\n",
       "    <tr>\n",
       "      <th>7</th>\n",
       "      <td>P040101008</td>\n",
       "      <td>4</td>\n",
       "      <td>401</td>\n",
       "      <td>40101</td>\n",
       "      <td>420.0</td>\n",
       "      <td>315.0</td>\n",
       "      <td>惣菜</td>\n",
       "      <td>御飯類</td>\n",
       "      <td>弁当類</td>\n",
       "    </tr>\n",
       "    <tr>\n",
       "      <th>8</th>\n",
       "      <td>P040101009</td>\n",
       "      <td>4</td>\n",
       "      <td>401</td>\n",
       "      <td>40101</td>\n",
       "      <td>498.0</td>\n",
       "      <td>374.0</td>\n",
       "      <td>惣菜</td>\n",
       "      <td>御飯類</td>\n",
       "      <td>弁当類</td>\n",
       "    </tr>\n",
       "    <tr>\n",
       "      <th>9</th>\n",
       "      <td>P040101010</td>\n",
       "      <td>4</td>\n",
       "      <td>401</td>\n",
       "      <td>40101</td>\n",
       "      <td>580.0</td>\n",
       "      <td>435.0</td>\n",
       "      <td>惣菜</td>\n",
       "      <td>御飯類</td>\n",
       "      <td>弁当類</td>\n",
       "    </tr>\n",
       "  </tbody>\n",
       "</table>\n",
       "</div>"
      ],
      "text/plain": [
       "   product_cd  category_major_cd  category_medium_cd  category_small_cd  \\\n",
       "0  P040101001                  4                 401              40101   \n",
       "1  P040101002                  4                 401              40101   \n",
       "2  P040101003                  4                 401              40101   \n",
       "3  P040101004                  4                 401              40101   \n",
       "4  P040101005                  4                 401              40101   \n",
       "5  P040101006                  4                 401              40101   \n",
       "6  P040101007                  4                 401              40101   \n",
       "7  P040101008                  4                 401              40101   \n",
       "8  P040101009                  4                 401              40101   \n",
       "9  P040101010                  4                 401              40101   \n",
       "\n",
       "   unit_price  unit_cost category_major_name category_medium_name  \\\n",
       "0       198.0      149.0                  惣菜                  御飯類   \n",
       "1       218.0      164.0                  惣菜                  御飯類   \n",
       "2       230.0      173.0                  惣菜                  御飯類   \n",
       "3       248.0      186.0                  惣菜                  御飯類   \n",
       "4       268.0      201.0                  惣菜                  御飯類   \n",
       "5       298.0      224.0                  惣菜                  御飯類   \n",
       "6       338.0      254.0                  惣菜                  御飯類   \n",
       "7       420.0      315.0                  惣菜                  御飯類   \n",
       "8       498.0      374.0                  惣菜                  御飯類   \n",
       "9       580.0      435.0                  惣菜                  御飯類   \n",
       "\n",
       "  category_small_name  \n",
       "0                 弁当類  \n",
       "1                 弁当類  \n",
       "2                 弁当類  \n",
       "3                 弁当類  \n",
       "4                 弁当類  \n",
       "5                 弁当類  \n",
       "6                 弁当類  \n",
       "7                 弁当類  \n",
       "8                 弁当類  \n",
       "9                 弁当類  "
      ]
     },
     "execution_count": 176,
     "metadata": {},
     "output_type": "execute_result"
    }
   ],
   "source": [
    "df93.to_csv(\"./data/df97.csv\", encoding=\"utf-8\", header=True, index=False)\n",
    "df97 = pd.read_csv(\"./data/df97.csv\", encoding=\"utf-8\")\n",
    "df97.head(10)"
   ]
  },
  {
   "cell_type": "markdown",
   "metadata": {
    "id": "GEim4gnM3M0c"
   },
   "source": [
    "## P098"
   ]
  },
  {
   "cell_type": "markdown",
   "metadata": {
    "id": "v51_UZ-Ahh0E"
   },
   "source": [
    "---\n",
    "> P-098: 先に作成した以下形式のファイルを読み込み、データフレームを作成せよ。また、先頭10件を表示させ、正しくとりまれていることを確認せよ。\n",
    ">\n",
    "> - ファイル形式はCSV（カンマ区切り）\n",
    "> - ヘッダ無し\n",
    "> - 文字コードはUTF-8"
   ]
  },
  {
   "cell_type": "code",
   "execution_count": 177,
   "metadata": {
    "id": "4YBgcGjuhh0E"
   },
   "outputs": [
    {
     "data": {
      "text/html": [
       "<div>\n",
       "<style scoped>\n",
       "    .dataframe tbody tr th:only-of-type {\n",
       "        vertical-align: middle;\n",
       "    }\n",
       "\n",
       "    .dataframe tbody tr th {\n",
       "        vertical-align: top;\n",
       "    }\n",
       "\n",
       "    .dataframe thead th {\n",
       "        text-align: right;\n",
       "    }\n",
       "</style>\n",
       "<table border=\"1\" class=\"dataframe\">\n",
       "  <thead>\n",
       "    <tr style=\"text-align: right;\">\n",
       "      <th></th>\n",
       "      <th>product_cd</th>\n",
       "      <th>category_major_cd</th>\n",
       "      <th>category_medium_cd</th>\n",
       "      <th>category_small_cd</th>\n",
       "      <th>unit_price</th>\n",
       "      <th>unit_cost</th>\n",
       "      <th>category_major_name</th>\n",
       "      <th>category_medium_name</th>\n",
       "      <th>category_small_name</th>\n",
       "    </tr>\n",
       "  </thead>\n",
       "  <tbody>\n",
       "    <tr>\n",
       "      <th>0</th>\n",
       "      <td>P040101001</td>\n",
       "      <td>4</td>\n",
       "      <td>401</td>\n",
       "      <td>40101</td>\n",
       "      <td>198.0</td>\n",
       "      <td>149.0</td>\n",
       "      <td>惣菜</td>\n",
       "      <td>御飯類</td>\n",
       "      <td>弁当類</td>\n",
       "    </tr>\n",
       "    <tr>\n",
       "      <th>1</th>\n",
       "      <td>P040101002</td>\n",
       "      <td>4</td>\n",
       "      <td>401</td>\n",
       "      <td>40101</td>\n",
       "      <td>218.0</td>\n",
       "      <td>164.0</td>\n",
       "      <td>惣菜</td>\n",
       "      <td>御飯類</td>\n",
       "      <td>弁当類</td>\n",
       "    </tr>\n",
       "    <tr>\n",
       "      <th>2</th>\n",
       "      <td>P040101003</td>\n",
       "      <td>4</td>\n",
       "      <td>401</td>\n",
       "      <td>40101</td>\n",
       "      <td>230.0</td>\n",
       "      <td>173.0</td>\n",
       "      <td>惣菜</td>\n",
       "      <td>御飯類</td>\n",
       "      <td>弁当類</td>\n",
       "    </tr>\n",
       "    <tr>\n",
       "      <th>3</th>\n",
       "      <td>P040101004</td>\n",
       "      <td>4</td>\n",
       "      <td>401</td>\n",
       "      <td>40101</td>\n",
       "      <td>248.0</td>\n",
       "      <td>186.0</td>\n",
       "      <td>惣菜</td>\n",
       "      <td>御飯類</td>\n",
       "      <td>弁当類</td>\n",
       "    </tr>\n",
       "    <tr>\n",
       "      <th>4</th>\n",
       "      <td>P040101005</td>\n",
       "      <td>4</td>\n",
       "      <td>401</td>\n",
       "      <td>40101</td>\n",
       "      <td>268.0</td>\n",
       "      <td>201.0</td>\n",
       "      <td>惣菜</td>\n",
       "      <td>御飯類</td>\n",
       "      <td>弁当類</td>\n",
       "    </tr>\n",
       "    <tr>\n",
       "      <th>5</th>\n",
       "      <td>P040101006</td>\n",
       "      <td>4</td>\n",
       "      <td>401</td>\n",
       "      <td>40101</td>\n",
       "      <td>298.0</td>\n",
       "      <td>224.0</td>\n",
       "      <td>惣菜</td>\n",
       "      <td>御飯類</td>\n",
       "      <td>弁当類</td>\n",
       "    </tr>\n",
       "    <tr>\n",
       "      <th>6</th>\n",
       "      <td>P040101007</td>\n",
       "      <td>4</td>\n",
       "      <td>401</td>\n",
       "      <td>40101</td>\n",
       "      <td>338.0</td>\n",
       "      <td>254.0</td>\n",
       "      <td>惣菜</td>\n",
       "      <td>御飯類</td>\n",
       "      <td>弁当類</td>\n",
       "    </tr>\n",
       "    <tr>\n",
       "      <th>7</th>\n",
       "      <td>P040101008</td>\n",
       "      <td>4</td>\n",
       "      <td>401</td>\n",
       "      <td>40101</td>\n",
       "      <td>420.0</td>\n",
       "      <td>315.0</td>\n",
       "      <td>惣菜</td>\n",
       "      <td>御飯類</td>\n",
       "      <td>弁当類</td>\n",
       "    </tr>\n",
       "    <tr>\n",
       "      <th>8</th>\n",
       "      <td>P040101009</td>\n",
       "      <td>4</td>\n",
       "      <td>401</td>\n",
       "      <td>40101</td>\n",
       "      <td>498.0</td>\n",
       "      <td>374.0</td>\n",
       "      <td>惣菜</td>\n",
       "      <td>御飯類</td>\n",
       "      <td>弁当類</td>\n",
       "    </tr>\n",
       "    <tr>\n",
       "      <th>9</th>\n",
       "      <td>P040101010</td>\n",
       "      <td>4</td>\n",
       "      <td>401</td>\n",
       "      <td>40101</td>\n",
       "      <td>580.0</td>\n",
       "      <td>435.0</td>\n",
       "      <td>惣菜</td>\n",
       "      <td>御飯類</td>\n",
       "      <td>弁当類</td>\n",
       "    </tr>\n",
       "  </tbody>\n",
       "</table>\n",
       "</div>"
      ],
      "text/plain": [
       "   product_cd  category_major_cd  category_medium_cd  category_small_cd  \\\n",
       "0  P040101001                  4                 401              40101   \n",
       "1  P040101002                  4                 401              40101   \n",
       "2  P040101003                  4                 401              40101   \n",
       "3  P040101004                  4                 401              40101   \n",
       "4  P040101005                  4                 401              40101   \n",
       "5  P040101006                  4                 401              40101   \n",
       "6  P040101007                  4                 401              40101   \n",
       "7  P040101008                  4                 401              40101   \n",
       "8  P040101009                  4                 401              40101   \n",
       "9  P040101010                  4                 401              40101   \n",
       "\n",
       "   unit_price  unit_cost category_major_name category_medium_name  \\\n",
       "0       198.0      149.0                  惣菜                  御飯類   \n",
       "1       218.0      164.0                  惣菜                  御飯類   \n",
       "2       230.0      173.0                  惣菜                  御飯類   \n",
       "3       248.0      186.0                  惣菜                  御飯類   \n",
       "4       268.0      201.0                  惣菜                  御飯類   \n",
       "5       298.0      224.0                  惣菜                  御飯類   \n",
       "6       338.0      254.0                  惣菜                  御飯類   \n",
       "7       420.0      315.0                  惣菜                  御飯類   \n",
       "8       498.0      374.0                  惣菜                  御飯類   \n",
       "9       580.0      435.0                  惣菜                  御飯類   \n",
       "\n",
       "  category_small_name  \n",
       "0                 弁当類  \n",
       "1                 弁当類  \n",
       "2                 弁当類  \n",
       "3                 弁当類  \n",
       "4                 弁当類  \n",
       "5                 弁当類  \n",
       "6                 弁当類  \n",
       "7                 弁当類  \n",
       "8                 弁当類  \n",
       "9                 弁当類  "
      ]
     },
     "execution_count": 177,
     "metadata": {},
     "output_type": "execute_result"
    }
   ],
   "source": [
    "df93.to_csv(\"./data/df98.csv\", encoding=\"utf-8\", header=False, index=False)\n",
    "df98 = pd.read_csv(\"./data/df98.csv\", encoding=\"utf-8\",names=(\"product_cd\",\n",
    "                                                              \"category_major_cd\",\"category_medium_cd\",\n",
    "                                                              \"category_small_cd\",\"unit_price\",\n",
    "                                                              \"unit_cost\",\"category_major_name\",\n",
    "                                                              \"category_medium_name\",\"category_small_name\"))\n",
    "df98.head(10)"
   ]
  },
  {
   "cell_type": "markdown",
   "metadata": {
    "id": "O6KfQ01J3Ova"
   },
   "source": [
    "## P099"
   ]
  },
  {
   "cell_type": "markdown",
   "metadata": {
    "id": "PgrSkEmuhh0F"
   },
   "source": [
    "---\n",
    "> P-099: 先に作成したカテゴリ名付き商品データを以下の仕様でファイル出力せよ。なお、出力先のパスはdata配下とする。\n",
    ">\n",
    "> - ファイル形式はTSV（タブ区切り）\n",
    "> - ヘッダ有り\n",
    "> - 文字コードはUTF-8"
   ]
  },
  {
   "cell_type": "code",
   "execution_count": 178,
   "metadata": {
    "id": "WrdmX0mihh0F"
   },
   "outputs": [],
   "source": [
    "df93.to_csv(\"./data/df99.csv\", encoding=\"utf-8\", header=True, index=False, sep=\"\\t\")"
   ]
  },
  {
   "cell_type": "markdown",
   "metadata": {
    "id": "l0ZPOxbq3RBx"
   },
   "source": [
    "## P100"
   ]
  },
  {
   "cell_type": "markdown",
   "metadata": {
    "id": "fRhhcyMuhh0G"
   },
   "source": [
    "---\n",
    "> P-100: 先に作成した以下形式のファイルを読み込み、データフレームを作成せよ。また、先頭10件を表示させ、正しくとりまれていることを確認せよ。\n",
    ">\n",
    "> - ファイル形式はTSV（タブ区切り）\n",
    "> - ヘッダ有り\n",
    "> - 文字コードはUTF-8"
   ]
  },
  {
   "cell_type": "code",
   "execution_count": 179,
   "metadata": {
    "id": "PrE1Dn_7hh0G"
   },
   "outputs": [
    {
     "data": {
      "text/html": [
       "<div>\n",
       "<style scoped>\n",
       "    .dataframe tbody tr th:only-of-type {\n",
       "        vertical-align: middle;\n",
       "    }\n",
       "\n",
       "    .dataframe tbody tr th {\n",
       "        vertical-align: top;\n",
       "    }\n",
       "\n",
       "    .dataframe thead th {\n",
       "        text-align: right;\n",
       "    }\n",
       "</style>\n",
       "<table border=\"1\" class=\"dataframe\">\n",
       "  <thead>\n",
       "    <tr style=\"text-align: right;\">\n",
       "      <th></th>\n",
       "      <th>product_cd</th>\n",
       "      <th>category_major_cd</th>\n",
       "      <th>category_medium_cd</th>\n",
       "      <th>category_small_cd</th>\n",
       "      <th>unit_price</th>\n",
       "      <th>unit_cost</th>\n",
       "      <th>category_major_name</th>\n",
       "      <th>category_medium_name</th>\n",
       "      <th>category_small_name</th>\n",
       "    </tr>\n",
       "  </thead>\n",
       "  <tbody>\n",
       "    <tr>\n",
       "      <th>0</th>\n",
       "      <td>P040101001</td>\n",
       "      <td>4</td>\n",
       "      <td>401</td>\n",
       "      <td>40101</td>\n",
       "      <td>198.0</td>\n",
       "      <td>149.0</td>\n",
       "      <td>惣菜</td>\n",
       "      <td>御飯類</td>\n",
       "      <td>弁当類</td>\n",
       "    </tr>\n",
       "    <tr>\n",
       "      <th>1</th>\n",
       "      <td>P040101002</td>\n",
       "      <td>4</td>\n",
       "      <td>401</td>\n",
       "      <td>40101</td>\n",
       "      <td>218.0</td>\n",
       "      <td>164.0</td>\n",
       "      <td>惣菜</td>\n",
       "      <td>御飯類</td>\n",
       "      <td>弁当類</td>\n",
       "    </tr>\n",
       "    <tr>\n",
       "      <th>2</th>\n",
       "      <td>P040101003</td>\n",
       "      <td>4</td>\n",
       "      <td>401</td>\n",
       "      <td>40101</td>\n",
       "      <td>230.0</td>\n",
       "      <td>173.0</td>\n",
       "      <td>惣菜</td>\n",
       "      <td>御飯類</td>\n",
       "      <td>弁当類</td>\n",
       "    </tr>\n",
       "    <tr>\n",
       "      <th>3</th>\n",
       "      <td>P040101004</td>\n",
       "      <td>4</td>\n",
       "      <td>401</td>\n",
       "      <td>40101</td>\n",
       "      <td>248.0</td>\n",
       "      <td>186.0</td>\n",
       "      <td>惣菜</td>\n",
       "      <td>御飯類</td>\n",
       "      <td>弁当類</td>\n",
       "    </tr>\n",
       "    <tr>\n",
       "      <th>4</th>\n",
       "      <td>P040101005</td>\n",
       "      <td>4</td>\n",
       "      <td>401</td>\n",
       "      <td>40101</td>\n",
       "      <td>268.0</td>\n",
       "      <td>201.0</td>\n",
       "      <td>惣菜</td>\n",
       "      <td>御飯類</td>\n",
       "      <td>弁当類</td>\n",
       "    </tr>\n",
       "    <tr>\n",
       "      <th>5</th>\n",
       "      <td>P040101006</td>\n",
       "      <td>4</td>\n",
       "      <td>401</td>\n",
       "      <td>40101</td>\n",
       "      <td>298.0</td>\n",
       "      <td>224.0</td>\n",
       "      <td>惣菜</td>\n",
       "      <td>御飯類</td>\n",
       "      <td>弁当類</td>\n",
       "    </tr>\n",
       "    <tr>\n",
       "      <th>6</th>\n",
       "      <td>P040101007</td>\n",
       "      <td>4</td>\n",
       "      <td>401</td>\n",
       "      <td>40101</td>\n",
       "      <td>338.0</td>\n",
       "      <td>254.0</td>\n",
       "      <td>惣菜</td>\n",
       "      <td>御飯類</td>\n",
       "      <td>弁当類</td>\n",
       "    </tr>\n",
       "    <tr>\n",
       "      <th>7</th>\n",
       "      <td>P040101008</td>\n",
       "      <td>4</td>\n",
       "      <td>401</td>\n",
       "      <td>40101</td>\n",
       "      <td>420.0</td>\n",
       "      <td>315.0</td>\n",
       "      <td>惣菜</td>\n",
       "      <td>御飯類</td>\n",
       "      <td>弁当類</td>\n",
       "    </tr>\n",
       "    <tr>\n",
       "      <th>8</th>\n",
       "      <td>P040101009</td>\n",
       "      <td>4</td>\n",
       "      <td>401</td>\n",
       "      <td>40101</td>\n",
       "      <td>498.0</td>\n",
       "      <td>374.0</td>\n",
       "      <td>惣菜</td>\n",
       "      <td>御飯類</td>\n",
       "      <td>弁当類</td>\n",
       "    </tr>\n",
       "    <tr>\n",
       "      <th>9</th>\n",
       "      <td>P040101010</td>\n",
       "      <td>4</td>\n",
       "      <td>401</td>\n",
       "      <td>40101</td>\n",
       "      <td>580.0</td>\n",
       "      <td>435.0</td>\n",
       "      <td>惣菜</td>\n",
       "      <td>御飯類</td>\n",
       "      <td>弁当類</td>\n",
       "    </tr>\n",
       "  </tbody>\n",
       "</table>\n",
       "</div>"
      ],
      "text/plain": [
       "   product_cd  category_major_cd  category_medium_cd  category_small_cd  \\\n",
       "0  P040101001                  4                 401              40101   \n",
       "1  P040101002                  4                 401              40101   \n",
       "2  P040101003                  4                 401              40101   \n",
       "3  P040101004                  4                 401              40101   \n",
       "4  P040101005                  4                 401              40101   \n",
       "5  P040101006                  4                 401              40101   \n",
       "6  P040101007                  4                 401              40101   \n",
       "7  P040101008                  4                 401              40101   \n",
       "8  P040101009                  4                 401              40101   \n",
       "9  P040101010                  4                 401              40101   \n",
       "\n",
       "   unit_price  unit_cost category_major_name category_medium_name  \\\n",
       "0       198.0      149.0                  惣菜                  御飯類   \n",
       "1       218.0      164.0                  惣菜                  御飯類   \n",
       "2       230.0      173.0                  惣菜                  御飯類   \n",
       "3       248.0      186.0                  惣菜                  御飯類   \n",
       "4       268.0      201.0                  惣菜                  御飯類   \n",
       "5       298.0      224.0                  惣菜                  御飯類   \n",
       "6       338.0      254.0                  惣菜                  御飯類   \n",
       "7       420.0      315.0                  惣菜                  御飯類   \n",
       "8       498.0      374.0                  惣菜                  御飯類   \n",
       "9       580.0      435.0                  惣菜                  御飯類   \n",
       "\n",
       "  category_small_name  \n",
       "0                 弁当類  \n",
       "1                 弁当類  \n",
       "2                 弁当類  \n",
       "3                 弁当類  \n",
       "4                 弁当類  \n",
       "5                 弁当類  \n",
       "6                 弁当類  \n",
       "7                 弁当類  \n",
       "8                 弁当類  \n",
       "9                 弁当類  "
      ]
     },
     "execution_count": 179,
     "metadata": {},
     "output_type": "execute_result"
    }
   ],
   "source": [
    "df93.to_csv(\"./data/df100.csv\", encoding=\"utf-8\", header=True, index=False, sep=\"\\t\")\n",
    "df100 = pd.read_csv(\"./data/df100.csv\", encoding=\"utf-8\", sep=\"\\t\")\n",
    "df100.head(10)"
   ]
  },
  {
   "cell_type": "markdown",
   "metadata": {
    "id": "WGSLC2Szhh0H"
   },
   "source": [
    "# これで１００本終わりです。おつかれさまでした！"
   ]
  }
 ],
 "metadata": {
  "colab": {
   "collapsed_sections": [
    "wbvQn19ghhxe",
    "NQa-fBN60PK1",
    "xHM1FR2l0sJA",
    "W0GbSYqJ0twj",
    "50LDsDRQ0vLF",
    "ke7tKnOy0xaD",
    "B14ImkKi0zNo",
    "acCywXNV00xw",
    "Sn_dxBQW03Z4",
    "maylE5821idZ",
    "wH4AysWh1j_7",
    "szpT78Nk1mSJ",
    "iThYh_0I1n2P",
    "Z5vFtRhy1pz1",
    "jrYkdMDA1rPE",
    "5e5ZD0Wi1tY_",
    "lWk_2EZJ1vEd",
    "MGsCACaH1w-q",
    "m1hE7NhN1yPB",
    "w3XLkt4o1zdw",
    "z4SlmPdK10nx",
    "k2FhZSLo18wX",
    "zxIBl7Se1_bj",
    "Q8jWMHn32AqI",
    "vXd8D89n2Dfc",
    "beNc-y7O2E0L",
    "ZkpOu5Lj2GKv",
    "aKoN346V2HGc",
    "1X5HG3Sw2IKO",
    "PRBlx6dt2JFW",
    "xpJxXjsR2M07",
    "qG0K0OKV2OMY",
    "Ij_flDXe2Ps2",
    "Ltb3__3p2RcJ",
    "YzJe3YX-2UT7",
    "lxOvuYLJ2VcS",
    "RLF86r2D2XgF",
    "att5C2mk2Yhu",
    "GyvpO_HK2Zg-",
    "oGIm_IEU2by3",
    "EFUaCN222dvW",
    "WGSLC2Szhh0H"
   ],
   "name": "100_knock_Python(kame-chan).ipynb",
   "provenance": [
    {
     "file_id": "https://github.com/noguhiro2002/100knocks-preprocess_ForColab-AzureNotebook/blob/master/preprocess_knock_Python_Colab.ipynb",
     "timestamp": 1596882673541
    }
   ],
   "toc_visible": true
  },
  "kernelspec": {
   "display_name": "Python 3",
   "language": "python",
   "name": "python3"
  },
  "language_info": {
   "codemirror_mode": {
    "name": "ipython",
    "version": 3
   },
   "file_extension": ".py",
   "mimetype": "text/x-python",
   "name": "python",
   "nbconvert_exporter": "python",
   "pygments_lexer": "ipython3",
   "version": "3.8.0"
  }
 },
 "nbformat": 4,
 "nbformat_minor": 1
}
